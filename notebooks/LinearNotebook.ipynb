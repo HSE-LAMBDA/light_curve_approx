{
 "cells": [
  {
   "cell_type": "code",
   "execution_count": 1,
   "metadata": {},
   "outputs": [
    {
     "ename": "ModuleNotFoundError",
     "evalue": "No module named 'pandas.core.config_init'",
     "output_type": "error",
     "traceback": [
      "\u001b[1;31m---------------------------------------------------------------------------\u001b[0m",
      "\u001b[1;31mModuleNotFoundError\u001b[0m                       Traceback (most recent call last)",
      "\u001b[1;32m<ipython-input-1-17ae9b02961c>\u001b[0m in \u001b[0;36m<module>\u001b[1;34m\u001b[0m\n\u001b[0;32m      2\u001b[0m \u001b[1;32mimport\u001b[0m \u001b[0mmatplotlib\u001b[0m\u001b[1;33m.\u001b[0m\u001b[0mpyplot\u001b[0m \u001b[1;32mas\u001b[0m \u001b[0mplt\u001b[0m\u001b[1;33m\u001b[0m\u001b[1;33m\u001b[0m\u001b[0m\n\u001b[0;32m      3\u001b[0m \u001b[1;32mimport\u001b[0m \u001b[0mnumpy\u001b[0m \u001b[1;32mas\u001b[0m \u001b[0mnp\u001b[0m\u001b[1;33m\u001b[0m\u001b[1;33m\u001b[0m\u001b[0m\n\u001b[1;32m----> 4\u001b[1;33m \u001b[1;32mimport\u001b[0m \u001b[0mpandas\u001b[0m \u001b[1;32mas\u001b[0m \u001b[0mpd\u001b[0m\u001b[1;33m\u001b[0m\u001b[1;33m\u001b[0m\u001b[0m\n\u001b[0m\u001b[0;32m      5\u001b[0m \u001b[1;32mimport\u001b[0m \u001b[0mh5py\u001b[0m\u001b[1;33m\u001b[0m\u001b[1;33m\u001b[0m\u001b[0m\n\u001b[0;32m      6\u001b[0m \u001b[1;32mimport\u001b[0m \u001b[0mtime\u001b[0m\u001b[1;33m\u001b[0m\u001b[1;33m\u001b[0m\u001b[0m\n",
      "\u001b[1;32m~\\anaconda3\\lib\\site-packages\\pandas\\__init__.py\u001b[0m in \u001b[0;36m<module>\u001b[1;34m\u001b[0m\n\u001b[0;32m     47\u001b[0m \u001b[1;33m\u001b[0m\u001b[0m\n\u001b[0;32m     48\u001b[0m \u001b[1;31m# let init-time option registration happen\u001b[0m\u001b[1;33m\u001b[0m\u001b[1;33m\u001b[0m\u001b[1;33m\u001b[0m\u001b[0m\n\u001b[1;32m---> 49\u001b[1;33m \u001b[1;32mimport\u001b[0m \u001b[0mpandas\u001b[0m\u001b[1;33m.\u001b[0m\u001b[0mcore\u001b[0m\u001b[1;33m.\u001b[0m\u001b[0mconfig_init\u001b[0m\u001b[1;33m\u001b[0m\u001b[1;33m\u001b[0m\u001b[0m\n\u001b[0m\u001b[0;32m     50\u001b[0m \u001b[1;33m\u001b[0m\u001b[0m\n\u001b[0;32m     51\u001b[0m from pandas.core.api import (\n",
      "\u001b[1;31mModuleNotFoundError\u001b[0m: No module named 'pandas.core.config_init'"
     ]
    }
   ],
   "source": [
    "%matplotlib inline\n",
    "import matplotlib.pyplot as plt\n",
    "import numpy as np\n",
    "import pandas as pd\n",
    "import h5py\n",
    "import time\n",
    "from sklearn.preprocessing import StandardScaler"
   ]
  },
  {
   "cell_type": "code",
   "execution_count": null,
   "metadata": {},
   "outputs": [],
   "source": [
    "import utils"
   ]
  },
  {
   "cell_type": "markdown",
   "metadata": {},
   "source": [
    "# Read data"
   ]
  },
  {
   "cell_type": "code",
   "execution_count": null,
   "metadata": {},
   "outputs": [],
   "source": [
    "metadata = pd.read_csv('../data/plasticc/plasticc_train_metadata.csv.gz')\n",
    "data = pd.read_csv('../data/plasticc/plasticc_train_lightcurves.csv.gz')"
   ]
  },
  {
   "cell_type": "code",
   "execution_count": null,
   "metadata": {},
   "outputs": [],
   "source": [
    "data = data[data['detected_bool'] == 1]\n",
    "metadata = metadata[metadata['ddf_bool'] == 1]"
   ]
  },
  {
   "cell_type": "code",
   "execution_count": null,
   "metadata": {},
   "outputs": [],
   "source": [
    "metadata.head()"
   ]
  },
  {
   "cell_type": "code",
   "execution_count": null,
   "metadata": {},
   "outputs": [],
   "source": [
    "data.head()"
   ]
  },
  {
   "cell_type": "code",
   "execution_count": null,
   "metadata": {},
   "outputs": [],
   "source": [
    "object_ids = np.unique(data.object_id)"
   ]
  },
  {
   "cell_type": "code",
   "execution_count": null,
   "metadata": {},
   "outputs": [],
   "source": []
  },
  {
   "cell_type": "code",
   "execution_count": null,
   "metadata": {},
   "outputs": [],
   "source": [
    "passband2name = {0: 'u', 1: 'g', 2: 'r', 3: 'i', 4: 'z', 5: 'y'}\n",
    "passband2lam  = {0: np.log10(3751.36), 1: np.log10(4741.64), 2: np.log10(6173.23), \n",
    "                 3: np.log10(7501.62), 4: np.log10(8679.19), 5: np.log10(9711.53)}"
   ]
  },
  {
   "cell_type": "code",
   "execution_count": null,
   "metadata": {},
   "outputs": [],
   "source": [
    "ss = StandardScaler()"
   ]
  },
  {
   "cell_type": "markdown",
   "metadata": {},
   "source": [
    "# Visual analysis"
   ]
  },
  {
   "cell_type": "code",
   "execution_count": null,
   "metadata": {},
   "outputs": [],
   "source": [
    "def get_object(data, object_id):\n",
    "    anobject = data[data.object_id == object_id]\n",
    "    return anobject"
   ]
  },
  {
   "cell_type": "code",
   "execution_count": null,
   "metadata": {},
   "outputs": [],
   "source": [
    "def approximate_model(reg, anobject):\n",
    "    \n",
    "    anobject = flux_not_negativ(anobject)\n",
    "    reg.fit(anobject['mjd'].values, anobject['flux'].values, \n",
    "            anobject['flux_err'].values, anobject['passband'].values)\n",
    "\n",
    "    approx_object = create_approx_object(anobject)\n",
    "    approx_object['flux'], approx_object['flux_err'] = reg.predict(approx_object['mjd'].values, approx_object['passband'].values)\n",
    "    \n",
    "    return approx_object"
   ]
  },
  {
   "cell_type": "code",
   "execution_count": null,
   "metadata": {},
   "outputs": [],
   "source": [
    "def plot_light_curves_compare(orig_object, approx_objects, titles=None):\n",
    "    if titles is None:\n",
    "        titles = [\"\"] * (1 + len(approx_objects))\n",
    "    plot_light_curves(orig_object, titles[0])\n",
    "        \n",
    "    plt.figure(figsize=(20, 4))\n",
    "    n_obj = len(approx_objects)\n",
    "    for idx, anobject in enumerate(approx_objects, 1):\n",
    "        plt.subplot(1, n_obj, idx)\n",
    "        anobject = anobject.sort_values('mjd')\n",
    "        for passband in range(6):\n",
    "            light_curve = get_passband(anobject, passband)\n",
    "            plt.plot(light_curve['mjd'].values, light_curve['flux'].values, linewidth=0.5)\n",
    "            plt.scatter(light_curve['mjd'].values, light_curve['flux'].values, label=passband2name[passband], linewidth=1)\n",
    "        plt.xlabel('Modified Julian Date', size=14)\n",
    "        plt.xticks(size=14, rotation=45)\n",
    "        plt.ylabel('Flux', size=14)\n",
    "        plt.yticks(size=14)\n",
    "        plt.legend(loc='best', ncol=3, fontsize=14)\n",
    "        plt.title(titles[idx], size=14)\n",
    "    plt.show()\n",
    "\n",
    "    "
   ]
  },
  {
   "cell_type": "code",
   "execution_count": null,
   "metadata": {},
   "outputs": [],
   "source": [
    "def get_passband(anobject, passband):\n",
    "    light_curve = anobject[anobject.passband == passband]\n",
    "    return light_curve"
   ]
  },
  {
   "cell_type": "code",
   "execution_count": null,
   "metadata": {},
   "outputs": [],
   "source": [
    "def add_log_lam(anobject):\n",
    "    passbands = anobject.passband.values\n",
    "    log_lam = [passband2lam[i] for i in passbands]\n",
    "    anobject_new = anobject.copy()\n",
    "    anobject_new.loc[:, 'log_lam'] = np.array(log_lam)\n",
    "    return anobject_new"
   ]
  },
  {
   "cell_type": "code",
   "execution_count": null,
   "metadata": {},
   "outputs": [],
   "source": [
    "def create_approx_object(anobject, n=1000):\n",
    "    mjd = anobject['mjd'].values\n",
    "    dfs = []\n",
    "    for passband in range(6):\n",
    "        df = pd.DataFrame()\n",
    "        df['mjd'] = np.linspace(mjd.min(), mjd.max(), n)\n",
    "        df['object_id'] = 0\n",
    "        df['passband'] = passband\n",
    "        df['flux'] = 0\n",
    "        df['flux_err'] = 0\n",
    "        df['detected_bool'] = 1\n",
    "        dfs.append(df)\n",
    "    new_object = pd.concat(dfs, axis=0)\n",
    "    new_object = add_log_lam(new_object)\n",
    "    return new_object"
   ]
  },
  {
   "cell_type": "code",
   "execution_count": null,
   "metadata": {},
   "outputs": [],
   "source": [
    "def is_good(anobject):\n",
    "    good = 1\n",
    "    \n",
    "    # remove all objects with negative flux values\n",
    "    if anobject['flux'].values.min() < 0:\n",
    "        good = 0\n",
    "    \n",
    "    # keep only objects with at least 10 observations in at least 3 passbands\n",
    "    count = 0\n",
    "    for passband in range(6):\n",
    "        if len(get_passband(anobject, passband)) < 10:\n",
    "            count += 1\n",
    "    if count > 3:\n",
    "        good = 0\n",
    "        \n",
    "    # keep only objects without large breaks in observations\n",
    "    anobject = anobject.sort_values('mjd')\n",
    "    mjd = anobject['mjd'].values\n",
    "    if np.diff(mjd, 1).max() > 50:\n",
    "        good = 0\n",
    "    \n",
    "    return good"
   ]
  },
  {
   "cell_type": "code",
   "execution_count": null,
   "metadata": {},
   "outputs": [],
   "source": [
    "def plot_light_curves(anobject, title=\"\", size=(9, 4)):\n",
    "    anobject = anobject.sort_values('mjd')\n",
    "    plt.figure(figsize=size)\n",
    "    for passband in range(6):\n",
    "        light_curve = get_passband(anobject, passband)\n",
    "        plt.plot(light_curve['mjd'].values, light_curve['flux'].values, linewidth=0.5)\n",
    "        plt.scatter(light_curve['mjd'].values, light_curve['flux'].values, label=passband2name[passband], linewidth=1)\n",
    "    plt.xlabel('Modified Julian Date', size=14)\n",
    "    plt.xticks(size=14)\n",
    "    plt.ylabel('Flux', size=14)\n",
    "    plt.yticks(size=14)\n",
    "    plt.legend(loc='best', ncol=3, fontsize=14)\n",
    "    plt.title(title, size=14)\n",
    "    plt.show()"
   ]
  },
  {
   "cell_type": "code",
   "execution_count": null,
   "metadata": {},
   "outputs": [],
   "source": [
    "def scaler_transform(anobject):\n",
    "    X = ss.fit_transform(anobject[['mjd', 'log_lam']].values)\n",
    "    y = anobject['flux'].values\n",
    "    return X, y"
   ]
  },
  {
   "cell_type": "code",
   "execution_count": null,
   "metadata": {},
   "outputs": [],
   "source": [
    "def compile_obj(t, flux, flux_err, passband):\n",
    "    obj = pd.DataFrame()\n",
    "    obj['mjd']      = t\n",
    "    obj['flux']     = flux\n",
    "    obj['flux_err'] = flux\n",
    "    obj['passband'] = passband\n",
    "    return obj"
   ]
  },
  {
   "cell_type": "code",
   "execution_count": null,
   "metadata": {},
   "outputs": [],
   "source": [
    "def flux_not_negativ(anobject):\n",
    "    anobject_new = anobject.copy()\n",
    "    anobject_new['flux'] = np.where(anobject_new['flux'] < 0, 0, anobject_new['flux'])\n",
    "    return anobject_new"
   ]
  },
  {
   "cell_type": "code",
   "execution_count": null,
   "metadata": {},
   "outputs": [],
   "source": [
    "for i in object_ids[::50]:\n",
    "    anobject = get_object(data, i)\n",
    "    \n",
    "    if not is_good(anobject): continue\n",
    "    print(i)\n",
    "    \n",
    "    plot_light_curves(anobject)\n",
    "    plt.show()"
   ]
  },
  {
   "cell_type": "markdown",
   "metadata": {},
   "source": [
    "# One object test Test"
   ]
  },
  {
   "cell_type": "code",
   "execution_count": null,
   "metadata": {},
   "outputs": [],
   "source": [
    "anobject = get_object(data, 745)#43812 34299\n",
    "anobject = add_log_lam(anobject)\n",
    "\n",
    "plot_light_curves(anobject)"
   ]
  },
  {
   "cell_type": "code",
   "execution_count": null,
   "metadata": {},
   "outputs": [],
   "source": [
    "from sklearn.model_selection import train_test_split"
   ]
  },
  {
   "cell_type": "code",
   "execution_count": null,
   "metadata": {},
   "outputs": [],
   "source": [
    "anobject_train, anobject_test = train_test_split(anobject, test_size=0.5, random_state=11)"
   ]
  },
  {
   "cell_type": "code",
   "execution_count": null,
   "metadata": {},
   "outputs": [],
   "source": [
    "kernel = 'LR'"
   ]
  },
  {
   "cell_type": "code",
   "execution_count": null,
   "metadata": {},
   "outputs": [],
   "source": [
    "import LR_aug\n",
    "\n",
    "timer = time.time()\n",
    "anobject_train = flux_not_negativ(anobject_train)\n",
    "model = LR_aug.LinearRegressionAugmentation(passband2lam, mod=kernel)\n",
    "model.fit(anobject_train['mjd'].values, anobject_train['flux'].values, \n",
    "          anobject_train['flux_err'].values, anobject_train['passband'].values)\n",
    "\n",
    "flux_pred, flux_err_pred = model.predict(anobject_test['mjd'].values, anobject_test['passband'].values, copy=True)\n",
    "\n",
    "t_aug, flux_aug, flux_err_aug, passband_aug = model.augmentation(anobject['mjd'].min(), \n",
    "                                                                 anobject['mjd'].max(), n_obs=1000)"
   ]
  },
  {
   "cell_type": "code",
   "execution_count": null,
   "metadata": {},
   "outputs": [],
   "source": [
    "model.score(anobject_train['mjd'].values, anobject_train['flux'].values, \n",
    "            anobject_train['flux_err'].values, anobject_train['passband'].values)"
   ]
  },
  {
   "cell_type": "code",
   "execution_count": null,
   "metadata": {},
   "outputs": [],
   "source": [
    "anobject_test_pred = compile_obj(anobject_test['mjd'].values, flux_pred, \n",
    "                                 flux_err_pred, anobject_test['passband'].values)\n",
    "anobject_aug = compile_obj(t_aug, flux_aug, flux_err_aug, passband_aug)"
   ]
  },
  {
   "cell_type": "code",
   "execution_count": null,
   "metadata": {},
   "outputs": [],
   "source": [
    "plot_light_curves(anobject_test, \"Test observations\")"
   ]
  },
  {
   "cell_type": "code",
   "execution_count": null,
   "metadata": {},
   "outputs": [],
   "source": [
    "plot_light_curves(anobject_test_pred, \"Predictions on test\")\n",
    "plot_light_curves(anobject_aug, \"Approximation\")"
   ]
  },
  {
   "cell_type": "code",
   "execution_count": null,
   "metadata": {},
   "outputs": [],
   "source": [
    "[rmse, mae, rse, rae, mape] = utils.regression_quality_metrics_report(anobject_test['flux'].values, \n",
    "                                                                      anobject_test_pred['flux'].values)\n",
    "print(\"RMSE: \", rmse)\n",
    "print(\"MAE: \", mae)\n",
    "print(\"RSE: \", rse)\n",
    "print(\"RAE: \", rae)\n",
    "print(\"MAPE: \", mape)\n",
    "print(\"Work sec: %f\" % (time.time() - timer))"
   ]
  },
  {
   "cell_type": "markdown",
   "metadata": {},
   "source": [
    "# Test on many objects"
   ]
  },
  {
   "cell_type": "code",
   "execution_count": null,
   "metadata": {
    "scrolled": true
   },
   "outputs": [],
   "source": [
    "report = pd.DataFrame(columns=[\"ID\", 'RMSE', 'MAE', 'RSE', 'RAE', 'MAPE'])\n",
    "\n",
    "for i in object_ids: \n",
    "    # get an object\n",
    "    anobject_i = get_object(data, i)\n",
    "    anobject_i = add_log_lam(anobject_i)\n",
    "\n",
    "    if not is_good(anobject_i): continue\n",
    "\n",
    "    print(\"Object \", i, \" with \", len(anobject_i), \" observations\")\n",
    "\n",
    "    # train / test split\n",
    "    anobject_train, anobject_test = train_test_split(anobject_i, test_size=0.5, random_state=11)\n",
    "\n",
    "    anobject_train = flux_not_negativ(anobject_train)\n",
    "    model = LR_aug.LinearRegressionAugmentation(passband2lam, mod=kernel)\n",
    "    model.fit(anobject_train['mjd'].values, anobject_train['flux'].values, \n",
    "              anobject_train['flux_err'].values, anobject_train['passband'].values)\n",
    "\n",
    "    flux_pred, flux_err_pred = model.predict(anobject_test['mjd'].values, anobject_test['passband'].values, copy=True)\n",
    "    \n",
    "    anobject_test_pred = compile_obj(anobject_test['mjd'].values, flux_pred, flux_err_pred, anobject_test['passband'].values)\n",
    "    \n",
    "    metric = utils.regression_quality_metrics_report(anobject_test['flux'].values, anobject_test_pred['flux'].values)\n",
    "    report.loc[len(report), :] = [i] + metric\n"
   ]
  },
  {
   "cell_type": "code",
   "execution_count": null,
   "metadata": {},
   "outputs": [],
   "source": [
    "np.round(report.mean(), 2)"
   ]
  },
  {
   "cell_type": "code",
   "execution_count": null,
   "metadata": {},
   "outputs": [],
   "source": [
    "report"
   ]
  },
  {
   "cell_type": "markdown",
   "metadata": {},
   "source": [
    "# Comparison of models"
   ]
  },
  {
   "cell_type": "code",
   "execution_count": null,
   "metadata": {},
   "outputs": [],
   "source": [
    "mape_line = pd.DataFrame(columns=[\"ID\", 'model', 'MAPE'])\n",
    "for i in object_ids: \n",
    "    # get an object\n",
    "    anobject_i = get_object(data, i)\n",
    "    anobject_i = add_log_lam(anobject_i)\n",
    "\n",
    "    if not is_good(anobject_i): continue\n",
    "    key = [\"Ridge\", \"Lasso\", \"LR\", \"ElasticNet\"]\n",
    "    for name in key:\n",
    "        # train / test split\n",
    "        anobject_train, anobject_test = train_test_split(anobject_i, test_size=0.5, random_state=11)\n",
    "\n",
    "        anobject_train = flux_not_negativ(anobject_train)\n",
    "        model = LR_aug.LinearRegressionAugmentation(passband2lam, mod=name)\n",
    "        model.fit(anobject_train['mjd'].values, anobject_train['flux'].values, \n",
    "                  anobject_train['flux_err'].values, anobject_train['passband'].values)\n",
    "\n",
    "        flux_pred, flux_err_pred = model.predict(anobject_test['mjd'].values, anobject_test['passband'].values, copy=True)\n",
    "\n",
    "        anobject_test_pred = compile_obj(anobject_test['mjd'].values, flux_pred, flux_err_pred, anobject_test['passband'].values)\n",
    "\n",
    "        [rmse, mae, rse, rae, mape] = utils.regression_quality_metrics_report(anobject_test['flux'].values, anobject_test_pred['flux'].values)\n",
    "        mape_line.loc[len(mape_line), :] = [i] + [name] + [mape]\n",
    "    "
   ]
  },
  {
   "cell_type": "code",
   "execution_count": null,
   "metadata": {},
   "outputs": [],
   "source": [
    "mape_line"
   ]
  },
  {
   "cell_type": "code",
   "execution_count": null,
   "metadata": {},
   "outputs": [],
   "source": [
    "mape_line_ridge = mape_line[mape_line['model'] == \"Ridge\"]\n",
    "mape_line_lasso = mape_line[mape_line['model'] == \"Lasso\"]\n",
    "mape_line_lr = mape_line[mape_line['model'] == \"LR\"]\n",
    "mape_line_en = mape_line[mape_line['model'] == \"ElasticNet\"]\n",
    "\n",
    "mape_line_ridge.index = np.arange(len(mape_line_ridge))\n",
    "mape_line_lasso.index = np.arange(len(mape_line_lasso))\n",
    "mape_line_lr.index = np.arange(len(mape_line_lr))\n",
    "mape_line_en.index = np.arange(len(mape_line_en))"
   ]
  },
  {
   "cell_type": "code",
   "execution_count": null,
   "metadata": {},
   "outputs": [],
   "source": [
    "for i in range(0, len(mape_line_ridge)-43, 42):\n",
    "    plt.figure(figsize=(6, 4))\n",
    "    plt.plot(mape_line_ridge[i:i+50].index, mape_line_ridge['MAPE'][i:i+50].values, ':b', label='Ridge')\n",
    "    plt.plot(mape_line_lasso[i:i+50].index, mape_line_lasso['MAPE'][i:i+50].values, '--r', label='Lasso')\n",
    "    plt.plot(mape_line_lr[i:i+50].index, mape_line_lr['MAPE'][i:i+50].values, 'g', label='LR')\n",
    "    plt.plot(mape_line_en[i:i+50].index, mape_line_en['MAPE'][i:i+50].values, '-.y', label='ElasticNet')\n",
    "    plt.xlabel('ID')\n",
    "    plt.ylabel('MAPE')\n",
    "    plt.title('Mean absolute percentage error model')\n",
    "    plt.legend()\n",
    "    plt.show()"
   ]
  },
  {
   "cell_type": "code",
   "execution_count": null,
   "metadata": {},
   "outputs": [],
   "source": [
    "print(\"MAPE with Ridge:\", mape_line_ridge['MAPE'].mean())\n",
    "print(\"MAPE with Lasso:\", mape_line_lasso['MAPE'].mean())\n",
    "print(\"MAPE with LR:\", mape_line_lr['MAPE'].mean())\n",
    "print(\"MAPE with ElasticNet:\", mape_line_en['MAPE'].mean())"
   ]
  },
  {
   "cell_type": "code",
   "execution_count": null,
   "metadata": {},
   "outputs": [],
   "source": [
    "regs = [\n",
    "    LR_aug.LinearRegressionAugmentation(passband2lam, \"Ridge\"),\n",
    "    LR_aug.LinearRegressionAugmentation(passband2lam, \"Lasso\"),\n",
    "    LR_aug.LinearRegressionAugmentation(passband2lam, \"LR\"),\n",
    "    LR_aug.LinearRegressionAugmentation(passband2lam, \"ElasticNet\")\n",
    "]\n",
    "for i in object_ids[::50]:\n",
    "    anobject = get_object(data, i)\n",
    "    anobject = add_log_lam(anobject)\n",
    "\n",
    "    if not is_good(anobject): continue\n",
    "    print(i)\n",
    "\n",
    "    objects = [approximate_model(reg, anobject) for reg in regs]\n",
    "    \n",
    "    plot_light_curves_compare(anobject, objects, ['Original', \"Ridge\", 'Lasso', \"LR\", \"ElasticNet\"])\n",
    "    plt.show()"
   ]
  },
  {
   "cell_type": "code",
   "execution_count": null,
   "metadata": {},
   "outputs": [],
   "source": []
  }
 ],
 "metadata": {
  "kernelspec": {
   "display_name": "Python 3",
   "language": "python",
   "name": "python3"
  },
  "language_info": {
   "codemirror_mode": {
    "name": "ipython",
    "version": 3
   },
   "file_extension": ".py",
   "mimetype": "text/x-python",
   "name": "python",
   "nbconvert_exporter": "python",
   "pygments_lexer": "ipython3",
   "version": "3.8.5"
  }
 },
 "nbformat": 4,
 "nbformat_minor": 4
}
