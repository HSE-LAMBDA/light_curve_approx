{
 "cells": [
  {
   "cell_type": "markdown",
   "metadata": {},
   "source": [
    "## Тестирование моделей аугментации на полной выборке данных"
   ]
  },
  {
   "cell_type": "code",
   "execution_count": null,
   "metadata": {},
   "outputs": [],
   "source": [
    "%matplotlib inline\n",
    "import numpy as np\n",
    "import pandas as pd\n",
    "import sklearn\n",
    "import warnings\n",
    "warnings.filterwarnings('ignore', 'lbfgs failed to converge*')\n",
    "\n",
    "import aug_functions"
   ]
  },
  {
   "cell_type": "code",
   "execution_count": null,
   "metadata": {},
   "outputs": [],
   "source": [
    "import matplotlib\n",
    "matplotlib.rcParams['text.usetex'] = True\n",
    "\n",
    "import matplotlib.pyplot as plt\n",
    "from matplotlib import rc\n",
    "\n",
    "rc('font',**{'family':'serif'})\n",
    "rc('text', usetex=True)\n",
    "rc('text.latex', preamble='''\n",
    "        \\\\usepackage[utf8]{inputenc}\n",
    "        \\\\usepackage{amssymb}\n",
    "        \\\\usepackage{amsfonts}\n",
    "        \\\\usepackage[russian]{babel}''')"
   ]
  },
  {
   "cell_type": "code",
   "execution_count": null,
   "metadata": {},
   "outputs": [],
   "source": [
    "from scipy.special import expit\n",
    "from sklearn.metrics import log_loss\n",
    "from sklearn.metrics import roc_auc_score\n",
    "from sklearn.metrics import average_precision_score"
   ]
  },
  {
   "cell_type": "code",
   "execution_count": null,
   "metadata": {},
   "outputs": [],
   "source": [
    "y_prob_all = []\n",
    "y_test_all = []"
   ]
  },
  {
   "cell_type": "code",
   "execution_count": null,
   "metadata": {},
   "outputs": [],
   "source": [
    "augmentation_model = \"GP\""
   ]
  },
  {
   "cell_type": "code",
   "execution_count": null,
   "metadata": {},
   "outputs": [],
   "source": [
    "meta_file_test = '../data/plasticc/plasticc_test_metadata.csv.gz'\n",
    "metadata = pd.read_csv(meta_file_test)\n",
    "\n",
    "for batch_number in range(1, 12):\n",
    "    file = \"../data/plasticc/PLAsTiCC-2018/test_set_batch{}.csv\".format(batch_number)\n",
    "    data = pd.read_csv(file)\n",
    "\n",
    "    data = data[data.detected == 1]\n",
    "    object_ids = np.unique(data.object_id)\n",
    "    print(batch_number, object_ids.shape)\n",
    "    \n",
    "    data[\"log_lam\"] = data.apply(lambda x: aug_functions.passband2lam[x.passband], axis=1)\n",
    "    \n",
    "    all_data = []\n",
    "    all_target_classes = []\n",
    "\n",
    "    for i in tqdm_notebook(object_ids):\n",
    "        if i in good_object_ids:\n",
    "            continue\n",
    "        \n",
    "        anobject = aug_functions.get_object(data, i)\n",
    "        \n",
    "        anobject_train, anobject_test = train_test_split(anobject, test_size=0.36, random_state=11)\n",
    "\n",
    "        model = None\n",
    "        if augmentation_model == \"GP\":\n",
    "            import gp_aug\n",
    "            model = gp_aug.GaussianProcessesAugmentation(aug_functions.passband2lam)\n",
    "        elif augmentation_model == \"NN_single\":\n",
    "            import single_layer_aug\n",
    "            model = single_layer_aug.SingleLayerNetAugmentation(aug_functions.passband2lam)\n",
    "        elif augmentation_model == \"FE\":\n",
    "            import features_aug\n",
    "            model = features_aug.FeaturesEngineeringAugmentation(aug_functions.passband2lam)\n",
    "        elif augmentation_model == \"MLP\":\n",
    "            import mlp_reg_aug\n",
    "            model = mlp_reg_aug.MLPRegressionAugmentation(aug_functions.passband2lam)\n",
    "        else:\n",
    "            raise ValueError(\"Unknown augmentation type: {}\".format(augmentation_model))\n",
    "\n",
    "#        try:\n",
    "        model.fit(anobject_train['mjd'].values, anobject_train['flux'].values, \n",
    "                  anobject_train['flux_err'].values, anobject_train['passband'].values)\n",
    "#        except:\n",
    "#            continue\n",
    "\n",
    "        flux_pred = model.predict(anobject_test['mjd'].values, anobject_test['passband'].values, copy=True)\n",
    "\n",
    "        t_aug, flux_aug, flux_err_aug, passbands_aug = model.augmentation(anobject['mjd'].min(), \n",
    "                                                                          anobject['mjd'].max(), \n",
    "                                                                          n_obs=aug_functions.N_OBS)\n",
    "\n",
    "        data_array = flux_aug.reshape((aug_functions.N_PASSBANDS, aug_functions.N_OBS)).T\n",
    "        all_data.append([data_array])\n",
    "        true_class = 1 if int(metadata[metadata.object_id == i].true_target.to_numpy()[0]) in (90, 67, 52) else 0\n",
    "        all_target_classes.append(true_class)\n",
    "\n",
    "    all_data = np.array(all_data)\n",
    "    all_target_classes = np.array(all_target_classes)\n",
    "    print(batch_number, all_data.shape, all_target_classes.shape)\n",
    "    \n",
    "    X_test_batch_norm = np.array((all_data - X_train.mean()) / X_train.std(), dtype=np.float32)\n",
    "    X_test_batch_tensor = torch.from_numpy(X_test_batch_norm)\n",
    "\n",
    "    y_test_batch_tensor = torch.from_numpy(np.array(all_target_classes, dtype=np.float32))\n",
    "\n",
    "    test_batch_data = TensorDataset(X_test_batch_tensor, y_test_batch_tensor)\n",
    "    test_batch_loader = torch.utils.data.DataLoader(test_batch_data, batch_size=1, shuffle=True, num_workers=2)\n",
    "\n",
    "    with torch.no_grad():\n",
    "        for test_info in test_batch_loader:\n",
    "            images, test_labels = test_info\n",
    "            test_outputs = net(images)\n",
    "            prob = expit(test_outputs.item())\n",
    "            \n",
    "            y_prob_all.append(prob)\n",
    "            y_test_all.append(test_labels.item())\n",
    "            \n",
    "    del data\n",
    "    del object_ids\n",
    "    del all_data\n",
    "    del all_target_classes\n",
    "    del X_test_batch_norm\n",
    "    del X_test_batch_tensor\n",
    "    del y_test_batch_tensor\n",
    "    del test_batch_data\n",
    "    del test_batch_loader"
   ]
  },
  {
   "cell_type": "code",
   "execution_count": null,
   "metadata": {},
   "outputs": [],
   "source": [
    "y_pred_all = np.array(y_prob_all) > 0.5\n",
    "print(\"LogLoss = %.4f\" % log_loss(y_test_all, y_pred_all))"
   ]
  },
  {
   "cell_type": "code",
   "execution_count": null,
   "metadata": {},
   "outputs": [],
   "source": [
    "print(\"Test ROC-AUC: %.4f, test PR-AUC: %.4f\" % (roc_auc_score(y_test_all, y_prob_all), \n",
    "                                                 average_precision_score(y_test_all, y_prob_all)))"
   ]
  }
 ],
 "metadata": {
  "kernelspec": {
   "display_name": "Python 3",
   "language": "python",
   "name": "python3"
  },
  "language_info": {
   "codemirror_mode": {
    "name": "ipython",
    "version": 3
   },
   "file_extension": ".py",
   "mimetype": "text/x-python",
   "name": "python",
   "nbconvert_exporter": "python",
   "pygments_lexer": "ipython3",
   "version": "3.6.12"
  }
 },
 "nbformat": 4,
 "nbformat_minor": 4
}
