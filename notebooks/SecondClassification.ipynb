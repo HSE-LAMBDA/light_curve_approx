{
 "cells": [
  {
   "cell_type": "code",
   "execution_count": 1,
   "metadata": {},
   "outputs": [],
   "source": [
    "%matplotlib inline\n",
    "import numpy as np\n",
    "import pandas as pd\n",
    "import sklearn\n",
    "import warnings\n",
    "warnings.filterwarnings('ignore', 'lbfgs failed to converge*')\n",
    "\n",
    "import aug_functions\n",
    "import utils"
   ]
  },
  {
   "cell_type": "code",
   "execution_count": 2,
   "metadata": {},
   "outputs": [],
   "source": [
    "import matplotlib\n",
    "matplotlib.rcParams['text.usetex'] = True\n",
    "\n",
    "import matplotlib.pyplot as plt\n",
    "from matplotlib import rc\n",
    "\n",
    "rc('font',**{'family':'serif'})\n",
    "rc('text', usetex=True)\n",
    "rc('text.latex', preamble='''\n",
    "        \\\\usepackage[utf8]{inputenc}\n",
    "        \\\\usepackage{amssymb}\n",
    "        \\\\usepackage{amsfonts}\n",
    "        \\\\usepackage[russian]{babel}''')"
   ]
  },
  {
   "cell_type": "markdown",
   "metadata": {},
   "source": [
    "### Загрузка данных"
   ]
  },
  {
   "cell_type": "code",
   "execution_count": 3,
   "metadata": {},
   "outputs": [
    {
     "data": {
      "text/html": [
       "<div>\n",
       "<style scoped>\n",
       "    .dataframe tbody tr th:only-of-type {\n",
       "        vertical-align: middle;\n",
       "    }\n",
       "\n",
       "    .dataframe tbody tr th {\n",
       "        vertical-align: top;\n",
       "    }\n",
       "\n",
       "    .dataframe thead th {\n",
       "        text-align: right;\n",
       "    }\n",
       "</style>\n",
       "<table border=\"1\" class=\"dataframe\">\n",
       "  <thead>\n",
       "    <tr style=\"text-align: right;\">\n",
       "      <th></th>\n",
       "      <th>object_id</th>\n",
       "      <th>mjd</th>\n",
       "      <th>passband</th>\n",
       "      <th>flux</th>\n",
       "      <th>flux_err</th>\n",
       "      <th>detected</th>\n",
       "      <th>log_lam</th>\n",
       "      <th>class</th>\n",
       "    </tr>\n",
       "  </thead>\n",
       "  <tbody>\n",
       "    <tr>\n",
       "      <th>2060006</th>\n",
       "      <td>66130</td>\n",
       "      <td>60651.1637</td>\n",
       "      <td>4</td>\n",
       "      <td>15.535420</td>\n",
       "      <td>1.906836</td>\n",
       "      <td>1</td>\n",
       "      <td>3.938479</td>\n",
       "      <td>1</td>\n",
       "    </tr>\n",
       "    <tr>\n",
       "      <th>10095066</th>\n",
       "      <td>319356</td>\n",
       "      <td>59839.0573</td>\n",
       "      <td>4</td>\n",
       "      <td>12.742923</td>\n",
       "      <td>2.154591</td>\n",
       "      <td>1</td>\n",
       "      <td>3.938479</td>\n",
       "      <td>1</td>\n",
       "    </tr>\n",
       "    <tr>\n",
       "      <th>560481</th>\n",
       "      <td>278670</td>\n",
       "      <td>59842.0683</td>\n",
       "      <td>2</td>\n",
       "      <td>17.615191</td>\n",
       "      <td>0.815791</td>\n",
       "      <td>1</td>\n",
       "      <td>3.790512</td>\n",
       "      <td>0</td>\n",
       "    </tr>\n",
       "    <tr>\n",
       "      <th>500078</th>\n",
       "      <td>248046</td>\n",
       "      <td>60538.2980</td>\n",
       "      <td>3</td>\n",
       "      <td>71.035019</td>\n",
       "      <td>1.988368</td>\n",
       "      <td>1</td>\n",
       "      <td>3.875155</td>\n",
       "      <td>1</td>\n",
       "    </tr>\n",
       "    <tr>\n",
       "      <th>2943492</th>\n",
       "      <td>94136</td>\n",
       "      <td>60574.2025</td>\n",
       "      <td>4</td>\n",
       "      <td>45.742264</td>\n",
       "      <td>2.240486</td>\n",
       "      <td>1</td>\n",
       "      <td>3.938479</td>\n",
       "      <td>1</td>\n",
       "    </tr>\n",
       "    <tr>\n",
       "      <th>1324343</th>\n",
       "      <td>42576</td>\n",
       "      <td>60549.1731</td>\n",
       "      <td>5</td>\n",
       "      <td>96.602516</td>\n",
       "      <td>5.451184</td>\n",
       "      <td>1</td>\n",
       "      <td>3.987288</td>\n",
       "      <td>0</td>\n",
       "    </tr>\n",
       "    <tr>\n",
       "      <th>9657821</th>\n",
       "      <td>305461</td>\n",
       "      <td>59870.0349</td>\n",
       "      <td>3</td>\n",
       "      <td>22.815407</td>\n",
       "      <td>1.522639</td>\n",
       "      <td>1</td>\n",
       "      <td>3.875155</td>\n",
       "      <td>0</td>\n",
       "    </tr>\n",
       "    <tr>\n",
       "      <th>7833401</th>\n",
       "      <td>248000</td>\n",
       "      <td>60603.0951</td>\n",
       "      <td>4</td>\n",
       "      <td>35.685390</td>\n",
       "      <td>1.729709</td>\n",
       "      <td>1</td>\n",
       "      <td>3.938479</td>\n",
       "      <td>1</td>\n",
       "    </tr>\n",
       "    <tr>\n",
       "      <th>10810504</th>\n",
       "      <td>341379</td>\n",
       "      <td>60197.1181</td>\n",
       "      <td>2</td>\n",
       "      <td>21.821699</td>\n",
       "      <td>1.126590</td>\n",
       "      <td>1</td>\n",
       "      <td>3.790512</td>\n",
       "      <td>0</td>\n",
       "    </tr>\n",
       "    <tr>\n",
       "      <th>106806</th>\n",
       "      <td>56987</td>\n",
       "      <td>59933.1325</td>\n",
       "      <td>1</td>\n",
       "      <td>58.789001</td>\n",
       "      <td>0.875248</td>\n",
       "      <td>1</td>\n",
       "      <td>3.675929</td>\n",
       "      <td>0</td>\n",
       "    </tr>\n",
       "  </tbody>\n",
       "</table>\n",
       "</div>"
      ],
      "text/plain": [
       "          object_id         mjd  passband       flux  flux_err  detected  \\\n",
       "2060006       66130  60651.1637         4  15.535420  1.906836         1   \n",
       "10095066     319356  59839.0573         4  12.742923  2.154591         1   \n",
       "560481       278670  59842.0683         2  17.615191  0.815791         1   \n",
       "500078       248046  60538.2980         3  71.035019  1.988368         1   \n",
       "2943492       94136  60574.2025         4  45.742264  2.240486         1   \n",
       "1324343       42576  60549.1731         5  96.602516  5.451184         1   \n",
       "9657821      305461  59870.0349         3  22.815407  1.522639         1   \n",
       "7833401      248000  60603.0951         4  35.685390  1.729709         1   \n",
       "10810504     341379  60197.1181         2  21.821699  1.126590         1   \n",
       "106806        56987  59933.1325         1  58.789001  0.875248         1   \n",
       "\n",
       "           log_lam  class  \n",
       "2060006   3.938479      1  \n",
       "10095066  3.938479      1  \n",
       "560481    3.790512      0  \n",
       "500078    3.875155      1  \n",
       "2943492   3.938479      1  \n",
       "1324343   3.987288      0  \n",
       "9657821   3.875155      0  \n",
       "7833401   3.938479      1  \n",
       "10810504  3.790512      0  \n",
       "106806    3.675929      0  "
      ]
     },
     "execution_count": 3,
     "metadata": {},
     "output_type": "execute_result"
    }
   ],
   "source": [
    "good_objects_df = pd.read_csv(\"../data/plasticc/good_objects.csv\", index_col=0)\n",
    "good_objects_df.sample(10)"
   ]
  },
  {
   "cell_type": "code",
   "execution_count": 4,
   "metadata": {},
   "outputs": [],
   "source": [
    "good_object_ids = np.unique(good_objects_df.object_id)"
   ]
  },
  {
   "cell_type": "markdown",
   "metadata": {},
   "source": [
    "### Пример работы модели аугментации"
   ]
  },
  {
   "cell_type": "code",
   "execution_count": 5,
   "metadata": {},
   "outputs": [
    {
     "data": {
      "image/png": "[encoded data removed]",
      "text/plain": [
       "<Figure size 648x360 with 1 Axes>"
      ]
     },
     "metadata": {
      "needs_background": "light"
     },
     "output_type": "display_data"
    }
   ],
   "source": [
    "anobject = aug_functions.get_object(good_objects_df, 34299)\n",
    "\n",
    "aug_functions.plot_light_curves(anobject)"
   ]
  },
  {
   "cell_type": "code",
   "execution_count": 6,
   "metadata": {},
   "outputs": [],
   "source": [
    "augmentation_model = \"BNN\""
   ]
  },
  {
   "cell_type": "code",
   "execution_count": 7,
   "metadata": {},
   "outputs": [
    {
     "name": "stdout",
     "output_type": "stream",
     "text": [
      "RMSE:  10.922930346676624\n",
      "MAE:  8.098023942637724\n",
      "RSE:  0.05192534223157767\n",
      "RAE:  0.043239660863262516\n",
      "MAPE:  4.19587964979222\n"
     ]
    },
    {
     "data": {
      "image/png": "[encoded data removed]",
      "text/plain": [
       "<Figure size 648x360 with 1 Axes>"
      ]
     },
     "metadata": {
      "needs_background": "light"
     },
     "output_type": "display_data"
    }
   ],
   "source": [
    "from sklearn.model_selection import train_test_split\n",
    "\n",
    "# train/test split data\n",
    "anobject = aug_functions.get_object(good_objects_df, 34299)\n",
    "anobject_train, anobject_test = train_test_split(anobject, test_size=0.36, random_state=11)\n",
    "\n",
    "# select augmentation model\n",
    "model = None\n",
    "if augmentation_model == \"GP\":\n",
    "    import gp_aug\n",
    "    model = gp_aug.GaussianProcessesAugmentation(aug_functions.passband2lam)\n",
    "elif augmentation_model == \"NN_1\":\n",
    "    import single_layer_aug\n",
    "    model = single_layer_aug.SingleLayerNetAugmentation(aug_functions.passband2lam)\n",
    "elif augmentation_model == \"FE\":\n",
    "    import features_aug\n",
    "    model = features_aug.FeaturesEngineeringAugmentation(aug_functions.passband2lam)\n",
    "elif augmentation_model == \"MLP\":\n",
    "    import mlp_reg_aug\n",
    "    model = mlp_reg_aug.MLPRegressionAugmentation(aug_functions.passband2lam)\n",
    "elif augmentation_model == \"RBF\":\n",
    "    import rbfnet_aug\n",
    "    model = rbfnet_aug.RBFNetAugmentation(aug_functions.passband2lam)\n",
    "elif augmentation_model == \"BNN\":\n",
    "    import bnn_aug\n",
    "    model = bnn_aug.BayesianNetAugmentation(aug_functions.passband2lam)\n",
    "else:\n",
    "    raise ValueError(\"Unknown augmentation type: {}\".format(augmentation_model))\n",
    "    \n",
    "# fit augmentation model\n",
    "model.fit(anobject_train['mjd'].values, anobject_train['flux'].values, \n",
    "          anobject_train['flux_err'].values, anobject_train['passband'].values)\n",
    "\n",
    "# predict flux for unseen observations\n",
    "flux_pred, flux_err_pred = model.predict(anobject_test['mjd'].values, anobject_test['passband'].values, copy=True)\n",
    "\n",
    "# augmentation\n",
    "t_aug, flux_aug, flux_err, passbands_aug = model.augmentation(anobject['mjd'].min(), \n",
    "                                                              anobject['mjd'].max(), \n",
    "                                                              n_obs=aug_functions.N_OBS)\n",
    "anobject_test_pred = aug_functions.compile_obj(anobject_test['mjd'].values, \n",
    "                                               flux_pred, anobject_test['passband'].values)\n",
    "\n",
    "# calculate quality metrics\n",
    "[rmse, mae, rse, rae, mape] = utils.regression_quality_metrics_report(anobject_test['flux'].values, \n",
    "                                                                      anobject_test_pred['flux'])\n",
    "print(\"RMSE: \", rmse)\n",
    "print(\"MAE: \", mae)\n",
    "print(\"RSE: \", rse)\n",
    "print(\"RAE: \", rae)\n",
    "print(\"MAPE: \", mape)\n",
    "\n",
    "# visualize augmented light curve\n",
    "anobject_aug = aug_functions.compile_obj(t_aug, flux_aug, passbands_aug)\n",
    "aug_functions.plot_light_curves(anobject_aug)"
   ]
  },
  {
   "cell_type": "markdown",
   "metadata": {},
   "source": [
    "### Косвенные метрики модели аугментации"
   ]
  },
  {
   "cell_type": "code",
   "execution_count": 8,
   "metadata": {
    "scrolled": true
   },
   "outputs": [
    {
     "data": {
      "application/vnd.jupyter.widget-view+json": {
       "model_id": "e9517e0f07034808b6cb5deb45b0f9f2",
       "version_major": 2,
       "version_minor": 0
      },
      "text/plain": [
       "  0%|          | 0/2508 [00:00<?, ?it/s]"
      ]
     },
     "metadata": {},
     "output_type": "display_data"
    },
    {
     "name": "stdout",
     "output_type": "stream",
     "text": [
      "(2508, 1, 500, 6) (2508,)\n"
     ]
    }
   ],
   "source": [
    "from tqdm.notebook import tqdm\n",
    "\n",
    "all_data = []\n",
    "all_target_classes = []\n",
    "for good_id in tqdm(good_object_ids):\n",
    "    # train / test split data\n",
    "    anobject = aug_functions.get_object(good_objects_df, good_id)\n",
    "    anobject_train, anobject_test = train_test_split(anobject, test_size=0.36, random_state=11)\n",
    "\n",
    "    # initialize augmentation model\n",
    "    model = None\n",
    "    if augmentation_model == \"GP\":\n",
    "        model = gp_aug.GaussianProcessesAugmentation(aug_functions.passband2lam)\n",
    "    elif augmentation_model == \"NN_1\":\n",
    "        model = single_layer_aug.SingleLayerNetAugmentation(aug_functions.passband2lam)\n",
    "    elif augmentation_model == \"FE\":\n",
    "        model = features_aug.FeaturesEngineeringAugmentation(aug_functions.passband2lam)\n",
    "    elif augmentation_model == \"MLP\":\n",
    "        model = mlp_reg_aug.MLPRegressionAugmentation(aug_functions.passband2lam)\n",
    "    elif augmentation_model == \"RBF\":\n",
    "        model = rbfnet_aug.RBFNetAugmentation(aug_functions.passband2lam)\n",
    "    elif augmentation_model == \"BNN\":\n",
    "        model = bnn_aug.BayesianNetAugmentation(aug_functions.passband2lam)\n",
    "    else:\n",
    "        raise ValueError(\"Unknown augmentation type\")\n",
    "\n",
    "    # fit augmentation model\n",
    "    model.fit(anobject_train['mjd'].values, anobject_train['flux'].values, \n",
    "              anobject_train['flux_err'].values, anobject_train['passband'].values)\n",
    "\n",
    "    # predict flux for unseen observations\n",
    "    flux_pred, flux_err_pred = model.predict(anobject_test['mjd'].values, \n",
    "                                             anobject_test['passband'].values, copy=True)\n",
    "\n",
    "    # augmentation\n",
    "    t_aug, flux_aug, flux_err, passbands_aug = model.augmentation(anobject['mjd'].min(), \n",
    "                                                                  anobject['mjd'].max(), \n",
    "                                                                  n_obs=aug_functions.N_OBS)\n",
    "\n",
    "    # convert values to 2D-array\n",
    "    data_array = flux_aug.reshape((aug_functions.N_PASSBANDS, aug_functions.N_OBS)).T\n",
    "    all_data.append([data_array])\n",
    "    \n",
    "    # add target value for this curve\n",
    "    true_class = int(anobject['class'].to_numpy()[0])\n",
    "    all_target_classes.append(true_class)\n",
    "    \n",
    "# collect all input data\n",
    "all_data = np.array(all_data)\n",
    "all_target_classes = np.array(all_target_classes)\n",
    "print(all_data.shape, all_target_classes.shape)"
   ]
  },
  {
   "cell_type": "code",
   "execution_count": 9,
   "metadata": {},
   "outputs": [],
   "source": [
    "import torch\n",
    "import torch.nn as nn\n",
    "import torch.nn.functional as F\n",
    "\n",
    "from torchvision import transforms\n",
    "from torch.utils.data import TensorDataset, DataLoader\n",
    "\n",
    "device = 'cpu'"
   ]
  },
  {
   "cell_type": "code",
   "execution_count": 10,
   "metadata": {},
   "outputs": [],
   "source": [
    "# train / test split data\n",
    "X_train, X_test, y_train, y_test = train_test_split(all_data, \n",
    "                                                    all_target_classes,\n",
    "                                                    test_size=0.4,\n",
    "                                                    random_state=179)\n",
    "\n",
    "# normalize input data\n",
    "X_train_norm = np.array((X_train - X_train.mean()) / X_train.std(), dtype=np.float32)\n",
    "X_test_norm = np.array((X_test - X_train.mean()) / X_train.std(), dtype=np.float32)\n",
    "\n",
    "# convert train data to tensors\n",
    "X_train_tensor = torch.from_numpy(X_train_norm)\n",
    "y_train_tensor = torch.from_numpy(np.array(y_train, dtype=np.float32))\n",
    "\n",
    "# create train data loader\n",
    "train_data = TensorDataset(X_train_tensor, y_train_tensor)\n",
    "trainloader = torch.utils.data.DataLoader(train_data, batch_size=1,\n",
    "                                          shuffle=True, num_workers=2)\n",
    "\n",
    "# convert test data to tensors\n",
    "X_test_tensor = torch.from_numpy(X_test_norm)\n",
    "y_test_tensor = torch.from_numpy(np.array(y_test, dtype=np.float32))\n",
    "\n",
    "# create test data loader\n",
    "test_data = TensorDataset(X_test_tensor, y_test_tensor)\n",
    "testloader = torch.utils.data.DataLoader(test_data, batch_size=1,\n",
    "                                         shuffle=False, num_workers=2)"
   ]
  },
  {
   "cell_type": "code",
   "execution_count": 11,
   "metadata": {},
   "outputs": [],
   "source": [
    "# model for binary classificiation: Supernova Ia VS others\n",
    "\n",
    "class Net(nn.Module):\n",
    "    def __init__(self):\n",
    "        super(Net, self).__init__()\n",
    "        self.conv1 = nn.Conv2d(1, 4, kernel_size=(10, 2))\n",
    "        self.conv2 = nn.Conv2d(4, 8, kernel_size=(10, 2))\n",
    "        self.conv3 = nn.Conv1d(8, 16, kernel_size=(5, 2))\n",
    "        self.pool = nn.MaxPool2d(2, 2)\n",
    "        self.dropout = nn.Dropout(0.2)\n",
    "        self.fc1 = nn.Linear(3824, 64)\n",
    "        self.fc2 = nn.Linear(64, 1)\n",
    "\n",
    "    def forward(self, x):\n",
    "        x = F.leaky_relu(self.conv1(x))\n",
    "        x = F.leaky_relu(self.conv2(x))\n",
    "        x = F.leaky_relu(self.conv3(x))\n",
    "        x = self.pool(x)\n",
    "        x = self.dropout(x)\n",
    "        \n",
    "        x = x.view(-1, 3824)\n",
    "        \n",
    "        x = F.relu(self.fc1(x))\n",
    "        x = torch.sigmoid(self.fc2(x))\n",
    "        return x"
   ]
  },
  {
   "cell_type": "code",
   "execution_count": 12,
   "metadata": {},
   "outputs": [],
   "source": [
    "import torch.optim as optim\n",
    "\n",
    "# initialize binary classifier\n",
    "net = Net()\n",
    "criterion = nn.BCELoss()\n",
    "optimizer = optim.SGD(net.parameters(), lr=0.001)"
   ]
  },
  {
   "cell_type": "code",
   "execution_count": 13,
   "metadata": {},
   "outputs": [],
   "source": [
    "def get_model_accuracy(net, data_loader):\n",
    "    correct = 0\n",
    "    total = 0\n",
    "\n",
    "    with torch.no_grad():\n",
    "        for test_info in data_loader:\n",
    "            images, test_labels = test_info\n",
    "            test_outputs = net(images)\n",
    "            prob = test_outputs.item()\n",
    "            if prob > 0.5:\n",
    "                predicted = 1\n",
    "            else:\n",
    "                predicted = 0\n",
    "            total += test_labels.size(0)\n",
    "            correct += (predicted == test_labels.item())\n",
    "\n",
    "    return correct / total"
   ]
  },
  {
   "cell_type": "code",
   "execution_count": 14,
   "metadata": {
    "scrolled": false
   },
   "outputs": [
    {
     "data": {
      "application/vnd.jupyter.widget-view+json": {
       "model_id": "b436cc83602c4774888c82c413b3a3a3",
       "version_major": 2,
       "version_minor": 0
      },
      "text/plain": [
       "  0%|          | 0/100 [00:00<?, ?it/s]"
      ]
     },
     "metadata": {},
     "output_type": "display_data"
    },
    {
     "name": "stdout",
     "output_type": "stream",
     "text": [
      "[   10] error: 0.519\n",
      "[   20] error: 0.307\n",
      "[   30] error: 0.172\n",
      "[   40] error: 0.128\n",
      "[   50] error: 0.100\n",
      "[   60] error: 0.077\n",
      "[   70] error: 0.071\n",
      "[   80] error: 0.045\n",
      "[   90] error: 0.119\n",
      "[  100] error: 0.050\n",
      "Finished Training\n"
     ]
    }
   ],
   "source": [
    "epochs = np.arange(100)\n",
    "\n",
    "best_loss = float('inf')\n",
    "best_state = None\n",
    "\n",
    "for epoch in tqdm(epochs):  # loop over the dataset multiple times\n",
    "    epoch_loss = 0.0\n",
    "    for info in trainloader:\n",
    "        # get the inputs; info is a list of [inputs, labels]\n",
    "        inputs, labels = info\n",
    "\n",
    "        # zero the parameter gradients\n",
    "        for param in net.parameters():\n",
    "            param.grad = None\n",
    "        \n",
    "        # forward + backward + optimize\n",
    "        outputs = net(inputs).reshape(1)\n",
    "        loss = criterion(outputs, labels)\n",
    "        loss.backward()\n",
    "        optimizer.step()\n",
    "\n",
    "        epoch_loss += loss.item()\n",
    "\n",
    "    # print mean loss for the epoch\n",
    "    cur_loss = epoch_loss / X_train_norm.shape[0]\n",
    "    if (epoch + 1) % 10 == 0:\n",
    "        print('[%5d] error: %.3f' % (epoch + 1, cur_loss))\n",
    "    if cur_loss <= best_loss:\n",
    "        best_loss = cur_loss\n",
    "        best_state = net.state_dict()\n",
    "\n",
    "net.load_state_dict(best_state)\n",
    "\n",
    "print('Finished Training')"
   ]
  },
  {
   "cell_type": "code",
   "execution_count": 15,
   "metadata": {},
   "outputs": [
    {
     "name": "stdout",
     "output_type": "stream",
     "text": [
      "Test accuracy of the network on the 1004 test images: 0.9343\n",
      "Train accuracy of the network on the 1504 train images: 0.9714\n"
     ]
    }
   ],
   "source": [
    "# check models' accuracy\n",
    "test_accuracy = get_model_accuracy(net, testloader)\n",
    "train_accuracy = get_model_accuracy(net, trainloader)\n",
    "\n",
    "print('Test accuracy of the network on the %d test images: %.4f' % \n",
    "      (X_test_norm.shape[0], test_accuracy))\n",
    "print('Train accuracy of the network on the %d train images: %.4f' % \n",
    "      (X_train_norm.shape[0], train_accuracy))"
   ]
  },
  {
   "cell_type": "code",
   "execution_count": 16,
   "metadata": {},
   "outputs": [],
   "source": [
    "y_test = []\n",
    "y_probs = []\n",
    "y_probs_0 = []\n",
    "y_probs_1 = []\n",
    "\n",
    "with torch.no_grad():\n",
    "    for test_info in testloader:\n",
    "        images, test_labels = test_info\n",
    "        test_outputs = net(images)\n",
    "        \n",
    "        # get output value\n",
    "        prob = test_outputs.item()\n",
    "        \n",
    "        # check true target valur    \n",
    "        true_class = int(test_labels.item())\n",
    "        \n",
    "        # compare output to threshold\n",
    "        if true_class == 0:\n",
    "            y_probs_0.append(prob)\n",
    "        else:\n",
    "            y_probs_1.append(prob)\n",
    "        \n",
    "        # get predicted target value\n",
    "        y_test.append(true_class)\n",
    "        y_probs.append(prob)\n",
    "        \n",
    "y_test = np.array(y_test)\n",
    "y_probs = np.array(y_probs)\n",
    "\n",
    "assert np.array(y_probs).min() >= 0\n",
    "assert np.array(y_probs).max() <= 1"
   ]
  },
  {
   "cell_type": "code",
   "execution_count": 17,
   "metadata": {},
   "outputs": [],
   "source": [
    "N = len(y_probs)\n",
    "\n",
    "# sample predicted values\n",
    "sample_coeffs = np.random.randint(0, N, (10000, 1000))\n",
    "sample_prob = y_probs[sample_coeffs]\n",
    "sample_test = y_test[sample_coeffs]\n",
    "sample_pred = sample_prob > 0.5\n",
    "\n",
    "assert len(sample_test) == len(sample_prob)\n",
    "assert len(sample_prob) == len(sample_pred)\n",
    "T = len(sample_test)\n",
    "\n",
    "# calculated mean accuracy\n",
    "accuracy = [(sample_pred[i] == sample_test[i]).mean() for i in range(T)]"
   ]
  },
  {
   "cell_type": "code",
   "execution_count": 18,
   "metadata": {},
   "outputs": [
    {
     "name": "stdout",
     "output_type": "stream",
     "text": [
      "LogLoss = 2.2705\n"
     ]
    }
   ],
   "source": [
    "from sklearn.metrics import log_loss\n",
    "\n",
    "y_pred = np.array(y_probs) > 0.5\n",
    "print(\"LogLoss = %.4f\" % log_loss(y_test, y_pred))\n",
    "\n",
    "# calculate mean log loss\n",
    "logloss = [log_loss(sample_test[i], sample_pred[i]) for i in range(T)]"
   ]
  },
  {
   "cell_type": "code",
   "execution_count": 19,
   "metadata": {},
   "outputs": [
    {
     "data": {
      "image/png": "[encoded data removed]",
      "text/plain": [
       "<Figure size 1040x440 with 2 Axes>"
      ]
     },
     "metadata": {
      "needs_background": "light"
     },
     "output_type": "display_data"
    }
   ],
   "source": [
    "# compare distibution of output values\n",
    "\n",
    "rc('xtick', labelsize=16)\n",
    "rc('ytick', labelsize=16)\n",
    "\n",
    "fig = plt.figure(dpi=80, figsize=(13, 5.5))\n",
    "\n",
    "bins_number = 22\n",
    "step = 1 / bins_number\n",
    "hist_0, _ = np.histogram(y_probs_0, bins=bins_number, range=(0.0, 1.0))\n",
    "hist_1, _ = np.histogram(y_probs_1, bins=bins_number, range=(0.0, 1.0))\n",
    "x = np.arange(0 + step/2, 1, step)\n",
    "\n",
    "ax1 = fig.add_subplot(121)\n",
    "ax1.yaxis.tick_right()\n",
    "plt.title(\"Распределение P$\\{X \\in 1\\}$ для $X \\in 0$\", fontsize=21, pad=7)\n",
    "\n",
    "ax1.bar(x, hist_0, color=\"xkcd:magenta\", width=0.038, log=True)\n",
    "ax1.minorticks_on()\n",
    "ax1.tick_params('y', length=10, width=1, which='major')\n",
    "ax1.tick_params('y', length=5, width=1, which='minor')\n",
    "ax1.tick_params('x', length=7, width=1, which='major')\n",
    "ax1.tick_params('x', length=0, width=1, which='minor')\n",
    "plt.xlim((0.0, 1.0))\n",
    "plt.ylim((ax1.get_ylim()[0], int(ax1.get_ylim()[1]) // 100 * 100))\n",
    "plt.grid(True)\n",
    "\n",
    "ax2 = fig.add_subplot(122)\n",
    "ax2.yaxis.tick_right()\n",
    "plt.title(\"Распределение P$\\{X \\in 1\\}$ для $X \\in 1$\", fontsize=21, pad=7)\n",
    "\n",
    "ax2.bar(x, hist_1, color=\"xkcd:cornflower\", width=0.038, log=True)\n",
    "ax2.minorticks_on()\n",
    "ax2.tick_params('y', length=10, width=1, which='major')\n",
    "ax2.tick_params('y', length=5, width=1, which='minor')\n",
    "ax2.tick_params('x', length=7, width=1, which='major')\n",
    "ax2.tick_params('x', length=0, width=1, which='minor')\n",
    "plt.xlim((0.0, 1.0))\n",
    "plt.ylim(ax1.get_ylim())\n",
    "plt.grid(True)\n",
    "\n",
    "plt.show()\n",
    "\n",
    "#fig.savefig(\"../pictures/CNN_output_hist_2_{}.pdf\".format(augmentation_model),\n",
    "#           bbox_inches='tight')"
   ]
  },
  {
   "cell_type": "code",
   "execution_count": 20,
   "metadata": {},
   "outputs": [
    {
     "data": {
      "image/png": "[encoded data removed]",
      "text/plain": [
       "<Figure size 800x480 with 1 Axes>"
      ]
     },
     "metadata": {
      "needs_background": "light"
     },
     "output_type": "display_data"
    }
   ],
   "source": [
    "# compare distibution of output values\n",
    "\n",
    "rc('xtick', labelsize=14)\n",
    "rc('ytick', labelsize=14)\n",
    "\n",
    "fig = plt.figure(dpi=80, figsize=(10, 6))\n",
    "ax = fig.add_subplot(111)\n",
    "ax.yaxis.tick_right()\n",
    "plt.title(\"Распределение выходных значений классификатора\", fontsize=18, pad=7)\n",
    "plt.xlabel(\"Вероятность принадлежности объекта первому классу\", fontsize=15)\n",
    "plt.ylabel(\"Количество объектов\", fontsize=15)\n",
    "\n",
    "bins_number = 40\n",
    "step = 1 / bins_number\n",
    "hist_0, _ = np.histogram(y_probs_0, bins=bins_number, range=(0.0, 1.0))\n",
    "hist_1, _ = np.histogram(y_probs_1, bins=bins_number, range=(0.0, 1.0))\n",
    "x = np.arange(0 + step/2, 1, step)\n",
    "\n",
    "plt.bar(x, hist_0, color='r', width=0.02, log=True, label=\"нулевой класс\", alpha=0.3)\n",
    "plt.bar(x, hist_1, color='b', width=0.02, log=True, label=\"первый класс\", alpha=0.3)\n",
    "\n",
    "ax.minorticks_on()\n",
    "ax.tick_params('y', length=8, width=1, which='major')\n",
    "ax.tick_params('y', length=4, width=1, which='minor')\n",
    "ax.tick_params('x', length=7, width=1, which='major')\n",
    "ax.tick_params('x', length=4, width=1, which='minor')\n",
    "\n",
    "plt.xlim((0.0, 1.0))\n",
    "plt.grid(True)\n",
    "plt.legend(frameon=True, loc=(0.67, 0.81), fontsize=16, shadow=0.1)\n",
    "\n",
    "plt.show()\n",
    "\n",
    "#fig.savefig(\"../pictures/CNN_output_hist_1_{}.pdf\".format(augmentation_model),\n",
    "#           bbox_inches='tight', pad_inches=0.01)"
   ]
  },
  {
   "cell_type": "markdown",
   "metadata": {},
   "source": [
    "Распределение вероятностей принадлежности объекта к первому классу для нулевого и первого классов."
   ]
  },
  {
   "cell_type": "code",
   "execution_count": 21,
   "metadata": {
    "scrolled": false
   },
   "outputs": [
    {
     "name": "stdout",
     "output_type": "stream",
     "text": [
      "Test ROC-AUC: 0.9746, test PR-AUC: 0.9570\n"
     ]
    },
    {
     "data": {
      "image/png": "[encoded data removed]",
      "text/plain": [
       "<Figure size 1040x440 with 2 Axes>"
      ]
     },
     "metadata": {
      "needs_background": "light"
     },
     "output_type": "display_data"
    }
   ],
   "source": [
    "from sklearn.metrics import roc_auc_score\n",
    "from sklearn.metrics import roc_curve\n",
    "from sklearn.metrics import precision_recall_curve\n",
    "from sklearn.metrics import average_precision_score\n",
    "\n",
    "rc('xtick', labelsize=16)\n",
    "rc('ytick', labelsize=16)\n",
    "\n",
    "print(\"Test ROC-AUC: %.4f, test PR-AUC: %.4f\" % (roc_auc_score(y_test, y_probs), \n",
    "                                                 average_precision_score(y_test, y_probs)))\n",
    "\n",
    "# calculate mean AUC-ROC & AUC-PR\n",
    "auc_roc = [roc_auc_score(sample_test[i], sample_prob[i]) for i in range(T)]\n",
    "auc_pr = [average_precision_score(sample_test[i], sample_prob[i]) for i in range(T)]\n",
    "\n",
    "precision, recall, _ = precision_recall_curve(y_test, y_probs)\n",
    "\n",
    "fig = plt.figure(dpi=80, figsize=(13, 5.5))\n",
    "ax = fig.add_subplot(121)\n",
    "plt.grid(True)\n",
    "ax.set_title(\"PR-кривая\", fontsize=21, pad=7)\n",
    "ax.fill_between(recall, precision, alpha=0.6, color=\"xkcd:apple green\", lw=2)\n",
    "ax.set_xlim(0, 1.)\n",
    "ax.set_ylim(0, 1.02)\n",
    "\n",
    "fpr, tpr, thresholds = roc_curve(y_test, y_probs)\n",
    "\n",
    "ax = fig.add_subplot(122)\n",
    "plt.grid(True)\n",
    "ax.set_title(\"ROC-кривая\", fontsize=21, pad=7)\n",
    "ax.fill_between(fpr, tpr, alpha=0.6, color=\"xkcd:goldenrod\", lw=2)\n",
    "ax.set_xlim(0, 1.)\n",
    "ax.set_ylim(0, 1.02)\n",
    "\n",
    "plt.show()\n",
    "\n",
    "#fig.savefig(\"../pictures/CNN_pr_roc_curves_{}.pdf\".format(augmentation_model), \n",
    "#            bbox_inches='tight')"
   ]
  },
  {
   "cell_type": "code",
   "execution_count": 23,
   "metadata": {},
   "outputs": [
    {
     "name": "stdout",
     "output_type": "stream",
     "text": [
      "LogLoss:  mean = 2.2646, std = 0.2694\n",
      "Accuracy: mean = 0.9344, std = 0.0078\n",
      "AUC-ROC:  mean = 0.9747, std = 0.0048\n",
      "AUC-PR:   mean = 0.9576, std = 0.0130\n"
     ]
    }
   ],
   "source": [
    "print(\"LogLoss:  mean = %.4f, std = %.4f\" % (np.mean(logloss), np.std(logloss)))\n",
    "print(\"Accuracy: mean = %.4f, std = %.4f\" % (np.mean(accuracy), np.std(accuracy)))\n",
    "print(\"AUC-ROC:  mean = %.4f, std = %.4f\" % (np.mean(auc_roc), np.std(auc_roc)))\n",
    "print(\"AUC-PR:   mean = %.4f, std = %.4f\" % (np.mean(auc_pr), np.std(auc_pr)))"
   ]
  },
  {
   "cell_type": "markdown",
   "metadata": {},
   "source": [
    "### Прямые метрики модели аугментации "
   ]
  },
  {
   "cell_type": "code",
   "execution_count": 29,
   "metadata": {},
   "outputs": [
    {
     "data": {
      "application/vnd.jupyter.widget-view+json": {
       "model_id": "70a04793ea43448a8cb63173eddad434",
       "version_major": 2,
       "version_minor": 0
      },
      "text/plain": [
       "  0%|          | 0/2508 [00:00<?, ?it/s]"
      ]
     },
     "metadata": {},
     "output_type": "display_data"
    },
    {
     "data": {
      "text/plain": [
       "RMSE    45.295325\n",
       "MAE     23.887964\n",
       "RSE      0.330342\n",
       "RAE      0.286830\n",
       "MAPE    18.287545\n",
       "dtype: float64"
      ]
     },
     "execution_count": 29,
     "metadata": {},
     "output_type": "execute_result"
    }
   ],
   "source": [
    "metrics = []\n",
    "for good_id in tqdm(good_object_ids):\n",
    "    # get an object\n",
    "    anobject = aug_functions.get_object(data, good_id)\n",
    "\n",
    "    # train / test split data\n",
    "    anobject_train, anobject_test = train_test_split(anobject, test_size=0.36, random_state=11)\n",
    "    \n",
    "    # select augmentation model\n",
    "    model = None\n",
    "    if augmentation_model == \"GP\":\n",
    "        model = gp_aug.GaussianProcessesAugmentation(aug_functions.passband2lam)\n",
    "    elif augmentation_model == \"NN_1\":\n",
    "        model = single_layer_aug.SingleLayerNetAugmentation(aug_functions.passband2lam)\n",
    "    elif augmentation_model == \"FE\":\n",
    "        model = features_aug.FeaturesEngineeringAugmentation(aug_functions.passband2lam)\n",
    "    elif augmentation_model == \"MLP\":\n",
    "        model = mlp_reg_aug.MLPRegressionAugmentation(aug_functions.passband2lam)\n",
    "    elif augmentation_model == \"RBF\":\n",
    "        model = rbfnet_aug.RBFNetAugmentation(aug_functions.passband2lam)\n",
    "    elif augmentation_model == \"BNN\":\n",
    "        model = bnn_aug.BayesianNetAugmentation(aug_functions.passband2lam)\n",
    "    else:\n",
    "        raise ValueError(\"Unknown augmentation type\")\n",
    "        \n",
    "    # fil augmentation model\n",
    "    model.fit(anobject_train['mjd'].values, anobject_train['flux'].values, \n",
    "              anobject_train['flux_err'].values, anobject_train['passband'].values)\n",
    "\n",
    "    # predict flux for unseen observations\n",
    "    flux_pred, flux_err_pred = model.predict(anobject_test['mjd'].values, \n",
    "                                             anobject_test['passband'].values, copy=True)\n",
    "\n",
    "    # calculate metrics\n",
    "    metrics.append(utils.regression_quality_metrics_report(anobject_test['flux'].values, \n",
    "                                                           flux_pred.reshape((1, -1))[0]))\n",
    "\n",
    "df_metrics = pd.DataFrame(data=metrics, columns=[\"RMSE\", \"MAE\", \"RSE\", \"RAE\", \"MAPE\"])\n",
    "df_metrics.mean()"
   ]
  },
  {
   "cell_type": "code",
   "execution_count": 30,
   "metadata": {},
   "outputs": [
    {
     "name": "stdout",
     "output_type": "stream",
     "text": [
      "RMSE: mean = 45.6384, std = 31.2015\n",
      "MAE:  mean = 24.0738, std = 15.4339\n",
      "RSE:  mean = 0.3303,  std = 0.0064\n",
      "RAE:  mean = 0.2868,  std = 0.0056\n",
      "MAPE: mean = 18.3031, std = 0.6806\n"
     ]
    }
   ],
   "source": [
    "# sample metric values\n",
    "\n",
    "rmse = np.array(metrics)[:,0]\n",
    "mae = np.array(metrics)[:,1]\n",
    "rse = np.array(metrics)[:,2]\n",
    "rae = np.array(metrics)[:,3]\n",
    "mape = np.array(metrics)[:,4]\n",
    "\n",
    "N = len(object_ids)\n",
    "assert len(rmse) == N\n",
    "assert len(mae) == N\n",
    "assert len(rse) == N\n",
    "assert len(rae) == N\n",
    "assert len(mape) == N\n",
    "\n",
    "sample_coeffs = np.random.randint(0, N, (10000, 1000))\n",
    "\n",
    "# calculate mean RMSE\n",
    "sample_rmse = rmse[sample_coeffs]\n",
    "sample_rmse_mean = sample_rmse.mean(axis=1)\n",
    "print(\"RMSE: mean = %.4f, std = %.4f\" % (sample_rmse_mean.mean(), sample_rmse_mean.std()))\n",
    "\n",
    "# calculate mean MAE\n",
    "sample_mae = mae[sample_coeffs]\n",
    "sample_mae_mean = sample_mae.mean(axis=1)\n",
    "print(\"MAE:  mean = %.4f, std = %.4f\" % (sample_mae_mean.mean(), sample_mae_mean.std()))\n",
    "\n",
    "# calculate mean RSE\n",
    "sample_rse = rse[sample_coeffs]\n",
    "sample_rse_mean = sample_rse.mean(axis=1)\n",
    "print(\"RSE:  mean = %.4f,  std = %.4f\" % (sample_rse_mean.mean(), sample_rse_mean.std()))\n",
    "\n",
    "# calculate mean RAE\n",
    "sample_rae = rae[sample_coeffs]\n",
    "sample_rae_mean = sample_rae.mean(axis=1)\n",
    "print(\"RAE:  mean = %.4f,  std = %.4f\" % (sample_rae_mean.mean(), sample_rae_mean.std()))\n",
    "\n",
    "# calculate mean MAPE\n",
    "sample_mape = mape[sample_coeffs]\n",
    "sample_mape_mean = sample_mape.mean(axis=1)\n",
    "print(\"MAPE: mean = %.4f, std = %.4f\" % (sample_mape_mean.mean(), sample_mape_mean.std()))"
   ]
  },
  {
   "cell_type": "code",
   "execution_count": null,
   "metadata": {},
   "outputs": [],
   "source": []
  }
 ],
 "metadata": {
  "kernelspec": {
   "display_name": "Python 3",
   "language": "python",
   "name": "python3"
  },
  "language_info": {
   "codemirror_mode": {
    "name": "ipython",
    "version": 3
   },
   "file_extension": ".py",
   "mimetype": "text/x-python",
   "name": "python",
   "nbconvert_exporter": "python",
   "pygments_lexer": "ipython3",
   "version": "3.6.12"
  }
 },
 "nbformat": 4,
 "nbformat_minor": 4
}
