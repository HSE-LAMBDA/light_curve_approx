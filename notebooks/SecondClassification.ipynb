{
 "cells": [
  {
   "cell_type": "code",
   "execution_count": 1,
   "metadata": {},
   "outputs": [],
   "source": [
    "%matplotlib inline\n",
    "import numpy as np\n",
    "import pandas as pd\n",
    "import sklearn\n",
    "import warnings\n",
    "warnings.filterwarnings('ignore', 'lbfgs failed to converge*')\n",
    "\n",
    "import aug_functions\n",
    "import utils"
   ]
  },
  {
   "cell_type": "code",
   "execution_count": 2,
   "metadata": {},
   "outputs": [],
   "source": [
    "import matplotlib\n",
    "matplotlib.rcParams['text.usetex'] = True\n",
    "\n",
    "import matplotlib.pyplot as plt\n",
    "from matplotlib import rc\n",
    "\n",
    "rc('font',**{'family':'serif'})\n",
    "rc('text', usetex=True)\n",
    "rc('text.latex', preamble='''\n",
    "        \\\\usepackage[utf8]{inputenc}\n",
    "        \\\\usepackage{amssymb}\n",
    "        \\\\usepackage{amsfonts}\n",
    "        \\\\usepackage[russian]{babel}''')"
   ]
  },
  {
   "cell_type": "markdown",
   "metadata": {},
   "source": [
    "### Загрузка данных"
   ]
  },
  {
   "cell_type": "code",
   "execution_count": 3,
   "metadata": {},
   "outputs": [
    {
     "data": {
      "text/html": [
       "<div>\n",
       "<style scoped>\n",
       "    .dataframe tbody tr th:only-of-type {\n",
       "        vertical-align: middle;\n",
       "    }\n",
       "\n",
       "    .dataframe tbody tr th {\n",
       "        vertical-align: top;\n",
       "    }\n",
       "\n",
       "    .dataframe thead th {\n",
       "        text-align: right;\n",
       "    }\n",
       "</style>\n",
       "<table border=\"1\" class=\"dataframe\">\n",
       "  <thead>\n",
       "    <tr style=\"text-align: right;\">\n",
       "      <th></th>\n",
       "      <th>object_id</th>\n",
       "      <th>mjd</th>\n",
       "      <th>passband</th>\n",
       "      <th>flux</th>\n",
       "      <th>flux_err</th>\n",
       "      <th>detected</th>\n",
       "      <th>log_lam</th>\n",
       "      <th>class</th>\n",
       "    </tr>\n",
       "  </thead>\n",
       "  <tbody>\n",
       "    <tr>\n",
       "      <th>34691631</th>\n",
       "      <td>127980471</td>\n",
       "      <td>60579.1040</td>\n",
       "      <td>3</td>\n",
       "      <td>111.018150</td>\n",
       "      <td>9.052605</td>\n",
       "      <td>1</td>\n",
       "      <td>3.875155</td>\n",
       "      <td>0</td>\n",
       "    </tr>\n",
       "    <tr>\n",
       "      <th>9335307</th>\n",
       "      <td>295341</td>\n",
       "      <td>60162.1477</td>\n",
       "      <td>2</td>\n",
       "      <td>99.199471</td>\n",
       "      <td>2.018111</td>\n",
       "      <td>1</td>\n",
       "      <td>3.790512</td>\n",
       "      <td>0</td>\n",
       "    </tr>\n",
       "    <tr>\n",
       "      <th>2338320</th>\n",
       "      <td>75269</td>\n",
       "      <td>60227.0416</td>\n",
       "      <td>4</td>\n",
       "      <td>42.410000</td>\n",
       "      <td>2.262367</td>\n",
       "      <td>1</td>\n",
       "      <td>3.938479</td>\n",
       "      <td>1</td>\n",
       "    </tr>\n",
       "    <tr>\n",
       "      <th>1845638</th>\n",
       "      <td>59296</td>\n",
       "      <td>59857.0931</td>\n",
       "      <td>2</td>\n",
       "      <td>62.249615</td>\n",
       "      <td>1.792203</td>\n",
       "      <td>1</td>\n",
       "      <td>3.790512</td>\n",
       "      <td>0</td>\n",
       "    </tr>\n",
       "    <tr>\n",
       "      <th>516957</th>\n",
       "      <td>255879</td>\n",
       "      <td>60583.1640</td>\n",
       "      <td>0</td>\n",
       "      <td>33.115105</td>\n",
       "      <td>3.106569</td>\n",
       "      <td>1</td>\n",
       "      <td>3.574189</td>\n",
       "      <td>1</td>\n",
       "    </tr>\n",
       "    <tr>\n",
       "      <th>2539284</th>\n",
       "      <td>81244</td>\n",
       "      <td>60249.0966</td>\n",
       "      <td>3</td>\n",
       "      <td>16.016315</td>\n",
       "      <td>1.148028</td>\n",
       "      <td>1</td>\n",
       "      <td>3.875155</td>\n",
       "      <td>0</td>\n",
       "    </tr>\n",
       "    <tr>\n",
       "      <th>23998</th>\n",
       "      <td>13138</td>\n",
       "      <td>59854.0950</td>\n",
       "      <td>3</td>\n",
       "      <td>67.421745</td>\n",
       "      <td>1.552923</td>\n",
       "      <td>1</td>\n",
       "      <td>3.875155</td>\n",
       "      <td>1</td>\n",
       "    </tr>\n",
       "    <tr>\n",
       "      <th>4792033</th>\n",
       "      <td>152794</td>\n",
       "      <td>60654.0597</td>\n",
       "      <td>2</td>\n",
       "      <td>9.772828</td>\n",
       "      <td>1.619802</td>\n",
       "      <td>1</td>\n",
       "      <td>3.790512</td>\n",
       "      <td>0</td>\n",
       "    </tr>\n",
       "    <tr>\n",
       "      <th>125015</th>\n",
       "      <td>66548</td>\n",
       "      <td>60493.2527</td>\n",
       "      <td>3</td>\n",
       "      <td>123.528870</td>\n",
       "      <td>1.837097</td>\n",
       "      <td>1</td>\n",
       "      <td>3.875155</td>\n",
       "      <td>1</td>\n",
       "    </tr>\n",
       "    <tr>\n",
       "      <th>212432</th>\n",
       "      <td>108487</td>\n",
       "      <td>60208.0990</td>\n",
       "      <td>4</td>\n",
       "      <td>101.594292</td>\n",
       "      <td>2.552045</td>\n",
       "      <td>1</td>\n",
       "      <td>3.938479</td>\n",
       "      <td>0</td>\n",
       "    </tr>\n",
       "  </tbody>\n",
       "</table>\n",
       "</div>"
      ],
      "text/plain": [
       "          object_id         mjd  passband        flux  flux_err  detected  \\\n",
       "34691631  127980471  60579.1040         3  111.018150  9.052605         1   \n",
       "9335307      295341  60162.1477         2   99.199471  2.018111         1   \n",
       "2338320       75269  60227.0416         4   42.410000  2.262367         1   \n",
       "1845638       59296  59857.0931         2   62.249615  1.792203         1   \n",
       "516957       255879  60583.1640         0   33.115105  3.106569         1   \n",
       "2539284       81244  60249.0966         3   16.016315  1.148028         1   \n",
       "23998         13138  59854.0950         3   67.421745  1.552923         1   \n",
       "4792033      152794  60654.0597         2    9.772828  1.619802         1   \n",
       "125015        66548  60493.2527         3  123.528870  1.837097         1   \n",
       "212432       108487  60208.0990         4  101.594292  2.552045         1   \n",
       "\n",
       "           log_lam  class  \n",
       "34691631  3.875155      0  \n",
       "9335307   3.790512      0  \n",
       "2338320   3.938479      1  \n",
       "1845638   3.790512      0  \n",
       "516957    3.574189      1  \n",
       "2539284   3.875155      0  \n",
       "23998     3.875155      1  \n",
       "4792033   3.790512      0  \n",
       "125015    3.875155      1  \n",
       "212432    3.938479      0  "
      ]
     },
     "execution_count": 3,
     "metadata": {},
     "output_type": "execute_result"
    }
   ],
   "source": [
    "good_objects_df = pd.read_csv(\"../data/plasticc/good_objects.csv\", index_col=0)\n",
    "good_objects_df.sample(10)"
   ]
  },
  {
   "cell_type": "code",
   "execution_count": 4,
   "metadata": {},
   "outputs": [],
   "source": [
    "good_object_ids = np.unique(good_objects_df.object_id)"
   ]
  },
  {
   "cell_type": "markdown",
   "metadata": {},
   "source": [
    "### Пример работы модели аугментации"
   ]
  },
  {
   "cell_type": "code",
   "execution_count": 5,
   "metadata": {},
   "outputs": [
    {
     "data": {
      "image/png": "[encoded data removed]",
      "text/plain": [
       "<Figure size 648x360 with 1 Axes>"
      ]
     },
     "metadata": {
      "needs_background": "light"
     },
     "output_type": "display_data"
    }
   ],
   "source": [
    "anobject = aug_functions.get_object(good_objects_df, 34299)\n",
    "\n",
    "aug_functions.plot_light_curves(anobject)"
   ]
  },
  {
   "cell_type": "code",
   "execution_count": 6,
   "metadata": {},
   "outputs": [],
   "source": [
    "augmentation_model = \"BNN\""
   ]
  },
  {
   "cell_type": "code",
   "execution_count": 7,
   "metadata": {},
   "outputs": [
    {
     "name": "stdout",
     "output_type": "stream",
     "text": [
      "RMSE:  57.3153221777339\n",
      "MAE:  51.16933248059799\n",
      "RSE:  0.2724651375349537\n",
      "RAE:  0.2732203064269899\n",
      "MAPE:  37.51305780028417\n"
     ]
    },
    {
     "data": {
      "image/png": "[encoded data removed]",
      "text/plain": [
       "<Figure size 648x360 with 1 Axes>"
      ]
     },
     "metadata": {
      "needs_background": "light"
     },
     "output_type": "display_data"
    }
   ],
   "source": [
    "from sklearn.model_selection import train_test_split\n",
    "\n",
    "# train/test split data\n",
    "anobject = aug_functions.get_object(good_objects_df, 34299)\n",
    "anobject_train, anobject_test = train_test_split(anobject, test_size=0.36, random_state=11)\n",
    "\n",
    "# select augmentation model\n",
    "model = None\n",
    "if augmentation_model == \"GP\":\n",
    "    import gp_aug\n",
    "    model = gp_aug.GaussianProcessesAugmentation(aug_functions.passband2lam)\n",
    "elif augmentation_model == \"NN_1\":\n",
    "    import single_layer_aug\n",
    "    model = single_layer_aug.SingleLayerNetAugmentation(aug_functions.passband2lam)\n",
    "elif augmentation_model == \"FE\":\n",
    "    import features_aug\n",
    "    model = features_aug.FeaturesEngineeringAugmentation(aug_functions.passband2lam)\n",
    "elif augmentation_model == \"MLP\":\n",
    "    import mlp_reg_aug\n",
    "    model = mlp_reg_aug.MLPRegressionAugmentation(aug_functions.passband2lam)\n",
    "elif augmentation_model == \"RBF\":\n",
    "    import rbfnet_aug\n",
    "    model = rbfnet_aug.RBFNetAugmentation(aug_functions.passband2lam)\n",
    "elif augmentation_model == \"BNN\":\n",
    "    import bnn_aug\n",
    "    model = bnn_aug.BayesianNetAugmentation(aug_functions.passband2lam)\n",
    "else:\n",
    "    raise ValueError(\"Unknown augmentation type: {}\".format(augmentation_model))\n",
    "    \n",
    "# fit augmentation model\n",
    "model.fit(anobject_train['mjd'].values, anobject_train['flux'].values, \n",
    "          anobject_train['flux_err'].values, anobject_train['passband'].values)\n",
    "\n",
    "# predict flux for unseen observations\n",
    "flux_pred, flux_err_pred = model.predict(anobject_test['mjd'].values, anobject_test['passband'].values, copy=True)\n",
    "\n",
    "# augmentation\n",
    "t_aug, flux_aug, flux_err, passbands_aug = model.augmentation(anobject['mjd'].min(), \n",
    "                                                              anobject['mjd'].max(), \n",
    "                                                              n_obs=aug_functions.N_OBS)\n",
    "anobject_test_pred = aug_functions.compile_obj(anobject_test['mjd'].values, \n",
    "                                               flux_pred, anobject_test['passband'].values)\n",
    "\n",
    "# calculate quality metrics\n",
    "[rmse, mae, rse, rae, mape] = utils.regression_quality_metrics_report(anobject_test['flux'].values, \n",
    "                                                                      anobject_test_pred['flux'])\n",
    "print(\"RMSE: \", rmse)\n",
    "print(\"MAE: \", mae)\n",
    "print(\"RSE: \", rse)\n",
    "print(\"RAE: \", rae)\n",
    "print(\"MAPE: \", mape)\n",
    "\n",
    "# visualize augmented light curve\n",
    "anobject_aug = aug_functions.compile_obj(t_aug, flux_aug, passbands_aug)\n",
    "aug_functions.plot_light_curves(anobject_aug)"
   ]
  },
  {
   "cell_type": "markdown",
   "metadata": {},
   "source": [
    "### Косвенные метрики модели аугментации"
   ]
  },
  {
   "cell_type": "code",
   "execution_count": 8,
   "metadata": {
    "scrolled": true
   },
   "outputs": [
    {
     "data": {
      "application/vnd.jupyter.widget-view+json": {
       "model_id": "d8f93ee6bcb7436b93f5d232f7041148",
       "version_major": 2,
       "version_minor": 0
      },
      "text/plain": [
       "  0%|          | 0/2508 [00:00<?, ?it/s]"
      ]
     },
     "metadata": {},
     "output_type": "display_data"
    },
    {
     "name": "stdout",
     "output_type": "stream",
     "text": [
      "(2508, 1, 500, 6) (2508,)\n"
     ]
    }
   ],
   "source": [
    "from tqdm.notebook import tqdm\n",
    "\n",
    "all_data = []\n",
    "all_target_classes = []\n",
    "for good_id in tqdm(good_object_ids):\n",
    "    # train / test split data\n",
    "    anobject = aug_functions.get_object(good_objects_df, good_id)\n",
    "    anobject_train, anobject_test = train_test_split(anobject, test_size=0.36, random_state=11)\n",
    "\n",
    "    # initialize augmentation model\n",
    "    model = None\n",
    "    if augmentation_model == \"GP\":\n",
    "        model = gp_aug.GaussianProcessesAugmentation(aug_functions.passband2lam)\n",
    "    elif augmentation_model == \"NN_1\":\n",
    "        model = single_layer_aug.SingleLayerNetAugmentation(aug_functions.passband2lam)\n",
    "    elif augmentation_model == \"FE\":\n",
    "        model = features_aug.FeaturesEngineeringAugmentation(aug_functions.passband2lam)\n",
    "    elif augmentation_model == \"MLP\":\n",
    "        model = mlp_reg_aug.MLPRegressionAugmentation(aug_functions.passband2lam)\n",
    "    elif augmentation_model == \"RBF\":\n",
    "        model = rbfnet_aug.RBFNetAugmentation(aug_functions.passband2lam)\n",
    "    elif augmentation_model == \"BNN\":\n",
    "        model = bnn_aug.BayesianNetAugmentation(aug_functions.passband2lam)\n",
    "    else:\n",
    "        raise ValueError(\"Unknown augmentation type\")\n",
    "\n",
    "    # fit augmentation model\n",
    "    model.fit(anobject_train['mjd'].values, anobject_train['flux'].values, \n",
    "              anobject_train['flux_err'].values, anobject_train['passband'].values)\n",
    "\n",
    "    # predict flux for unseen observations\n",
    "    flux_pred, flux_err_pred = model.predict(anobject_test['mjd'].values, \n",
    "                                             anobject_test['passband'].values, copy=True)\n",
    "\n",
    "    # augmentation\n",
    "    t_aug, flux_aug, flux_err, passbands_aug = model.augmentation(anobject['mjd'].min(), \n",
    "                                                                  anobject['mjd'].max(), \n",
    "                                                                  n_obs=aug_functions.N_OBS)\n",
    "\n",
    "    # convert values to 2D-array\n",
    "    data_array = flux_aug.reshape((aug_functions.N_PASSBANDS, aug_functions.N_OBS)).T\n",
    "    all_data.append([data_array])\n",
    "    \n",
    "    # add target value for this curve\n",
    "    true_class = int(anobject['class'].to_numpy()[0])\n",
    "    all_target_classes.append(true_class)\n",
    "    \n",
    "# collect all input data\n",
    "all_data = np.array(all_data)\n",
    "all_target_classes = np.array(all_target_classes)\n",
    "print(all_data.shape, all_target_classes.shape)"
   ]
  },
  {
   "cell_type": "code",
   "execution_count": 9,
   "metadata": {},
   "outputs": [],
   "source": [
    "import torch\n",
    "import torch.nn as nn\n",
    "import torch.nn.functional as F\n",
    "\n",
    "from torchvision import transforms\n",
    "from torch.utils.data import TensorDataset, DataLoader\n",
    "\n",
    "device = 'cpu'"
   ]
  },
  {
   "cell_type": "code",
   "execution_count": 10,
   "metadata": {},
   "outputs": [],
   "source": [
    "# train / test split data\n",
    "X_train, X_test, y_train, y_test = train_test_split(all_data, \n",
    "                                                    all_target_classes,\n",
    "                                                    test_size=0.4,\n",
    "                                                    random_state=179)\n",
    "\n",
    "# normalize input data\n",
    "X_train_norm = np.array((X_train - X_train.mean()) / X_train.std(), dtype=np.float32)\n",
    "X_test_norm = np.array((X_test - X_train.mean()) / X_train.std(), dtype=np.float32)\n",
    "\n",
    "# convert train data to tensors\n",
    "X_train_tensor = torch.from_numpy(X_train_norm)\n",
    "y_train_tensor = torch.from_numpy(np.array(y_train, dtype=np.float32))\n",
    "\n",
    "# create train data loader\n",
    "train_data = TensorDataset(X_train_tensor, y_train_tensor)\n",
    "trainloader = torch.utils.data.DataLoader(train_data, batch_size=1,\n",
    "                                          shuffle=True, num_workers=2)\n",
    "\n",
    "# convert test data to tensors\n",
    "X_test_tensor = torch.from_numpy(X_test_norm)\n",
    "y_test_tensor = torch.from_numpy(np.array(y_test, dtype=np.float32))\n",
    "\n",
    "# create test data loader\n",
    "test_data = TensorDataset(X_test_tensor, y_test_tensor)\n",
    "testloader = torch.utils.data.DataLoader(test_data, batch_size=1,\n",
    "                                         shuffle=False, num_workers=2)"
   ]
  },
  {
   "cell_type": "code",
   "execution_count": 11,
   "metadata": {},
   "outputs": [],
   "source": [
    "# model for binary classificiation: Supernova Ia VS others\n",
    "\n",
    "class Net(nn.Module):\n",
    "    def __init__(self):\n",
    "        super(Net, self).__init__()\n",
    "        self.conv1 = nn.Conv2d(1, 4, kernel_size=(10, 2))\n",
    "        self.conv2 = nn.Conv2d(4, 8, kernel_size=(10, 2))\n",
    "        self.conv3 = nn.Conv1d(8, 16, kernel_size=(5, 2))\n",
    "        self.pool = nn.MaxPool2d(2, 2)\n",
    "        self.dropout = nn.Dropout(0.2)\n",
    "        self.fc1 = nn.Linear(3824, 64)\n",
    "        self.fc2 = nn.Linear(64, 1)\n",
    "\n",
    "    def forward(self, x):\n",
    "        x = F.leaky_relu(self.conv1(x))\n",
    "        x = F.leaky_relu(self.conv2(x))\n",
    "        x = F.leaky_relu(self.conv3(x))\n",
    "        x = self.pool(x)\n",
    "        x = self.dropout(x)\n",
    "        \n",
    "        x = x.view(-1, 3824)\n",
    "        \n",
    "        x = F.relu(self.fc1(x))\n",
    "        x = torch.sigmoid(self.fc2(x))\n",
    "        return x"
   ]
  },
  {
   "cell_type": "code",
   "execution_count": 12,
   "metadata": {},
   "outputs": [],
   "source": [
    "import torch.optim as optim\n",
    "\n",
    "# initialize binary classifier\n",
    "net = Net()\n",
    "criterion = nn.BCELoss()\n",
    "optimizer = optim.SGD(net.parameters(), lr=0.001)"
   ]
  },
  {
   "cell_type": "code",
   "execution_count": 13,
   "metadata": {},
   "outputs": [],
   "source": [
    "def get_model_accuracy(net, data_loader):\n",
    "    correct = 0\n",
    "    total = 0\n",
    "\n",
    "    with torch.no_grad():\n",
    "        for test_info in data_loader:\n",
    "            images, test_labels = test_info\n",
    "            test_outputs = net(images)\n",
    "            prob = test_outputs.item()\n",
    "            if prob > 0.5:\n",
    "                predicted = 1\n",
    "            else:\n",
    "                predicted = 0\n",
    "            total += test_labels.size(0)\n",
    "            correct += (predicted == test_labels.item())\n",
    "\n",
    "    return correct / total"
   ]
  },
  {
   "cell_type": "code",
   "execution_count": 14,
   "metadata": {
    "scrolled": false
   },
   "outputs": [
    {
     "data": {
      "application/vnd.jupyter.widget-view+json": {
       "model_id": "20bc2e3b64b34ec59096fa1459642f56",
       "version_major": 2,
       "version_minor": 0
      },
      "text/plain": [
       "  0%|          | 0/100 [00:00<?, ?it/s]"
      ]
     },
     "metadata": {},
     "output_type": "display_data"
    },
    {
     "name": "stdout",
     "output_type": "stream",
     "text": [
      "[   10] error: 0.685\n",
      "[   20] error: 0.486\n",
      "[   30] error: 0.354\n",
      "[   40] error: 0.249\n",
      "[   50] error: 0.169\n",
      "[   60] error: 0.131\n",
      "[   70] error: 0.113\n",
      "[   80] error: 0.095\n",
      "[   90] error: 0.143\n",
      "[  100] error: 0.082\n",
      "Finished Training\n"
     ]
    }
   ],
   "source": [
    "epochs = np.arange(100)\n",
    "\n",
    "best_loss = float('inf')\n",
    "best_state = None\n",
    "\n",
    "for epoch in tqdm(epochs):  # loop over the dataset multiple times\n",
    "    epoch_loss = 0.0\n",
    "    for info in trainloader:\n",
    "        # get the inputs; info is a list of [inputs, labels]\n",
    "        inputs, labels = info\n",
    "\n",
    "        # zero the parameter gradients\n",
    "        for param in net.parameters():\n",
    "            param.grad = None\n",
    "        \n",
    "        # forward + backward + optimize\n",
    "        outputs = net(inputs).reshape(1)\n",
    "        loss = criterion(outputs, labels)\n",
    "        loss.backward()\n",
    "        optimizer.step()\n",
    "\n",
    "        epoch_loss += loss.item()\n",
    "\n",
    "    # print mean loss for the epoch\n",
    "    cur_loss = epoch_loss / X_train_norm.shape[0]\n",
    "    if (epoch + 1) % 10 == 0:\n",
    "        print('[%5d] error: %.3f' % (epoch + 1, cur_loss))\n",
    "    if cur_loss <= best_loss:\n",
    "        best_loss = cur_loss\n",
    "        best_state = net.state_dict()\n",
    "\n",
    "net.load_state_dict(best_state)\n",
    "\n",
    "print('Finished Training')"
   ]
  },
  {
   "cell_type": "code",
   "execution_count": 28,
   "metadata": {},
   "outputs": [
    {
     "name": "stdout",
     "output_type": "stream",
     "text": [
      "Test accuracy of the network on the 1004 test images: 0.9442\n",
      "Train accuracy of the network on the 1504 train images: 0.9767\n"
     ]
    }
   ],
   "source": [
    "# check models' accuracy\n",
    "test_accuracy = get_model_accuracy(net, testloader)\n",
    "train_accuracy = get_model_accuracy(net, trainloader)\n",
    "\n",
    "print('Test accuracy of the network on the %d test images: %.4f' % \n",
    "      (X_test_norm.shape[0], test_accuracy))\n",
    "print('Train accuracy of the network on the %d train images: %.4f' % \n",
    "      (X_train_norm.shape[0], train_accuracy))"
   ]
  },
  {
   "cell_type": "code",
   "execution_count": 29,
   "metadata": {},
   "outputs": [],
   "source": [
    "y_test = []\n",
    "y_probs = []\n",
    "y_probs_0 = []\n",
    "y_probs_1 = []\n",
    "\n",
    "with torch.no_grad():\n",
    "    for test_info in testloader:\n",
    "        images, test_labels = test_info\n",
    "        test_outputs = net(images)\n",
    "        \n",
    "        # get output value\n",
    "        prob = test_outputs.item()\n",
    "        \n",
    "        # check true target valur    \n",
    "        true_class = int(test_labels.item())\n",
    "        \n",
    "        # compare output to threshold\n",
    "        if true_class == 0:\n",
    "            y_probs_0.append(prob)\n",
    "        else:\n",
    "            y_probs_1.append(prob)\n",
    "        \n",
    "        # get predicted target value\n",
    "        y_test.append(true_class)\n",
    "        y_probs.append(prob)\n",
    "        \n",
    "y_test = np.array(y_test)\n",
    "y_probs = np.array(y_probs)\n",
    "\n",
    "assert np.array(y_probs).min() >= 0\n",
    "assert np.array(y_probs).max() <= 1"
   ]
  },
  {
   "cell_type": "code",
   "execution_count": 30,
   "metadata": {},
   "outputs": [],
   "source": [
    "N = len(y_probs)\n",
    "\n",
    "# sample predicted values\n",
    "sample_coeffs = np.random.randint(0, N, (10000, 1000))\n",
    "sample_prob = y_probs[sample_coeffs]\n",
    "sample_test = y_test[sample_coeffs]\n",
    "sample_pred = sample_prob > 0.5\n",
    "\n",
    "assert len(sample_test) == len(sample_prob)\n",
    "assert len(sample_prob) == len(sample_pred)\n",
    "T = len(sample_test)\n",
    "\n",
    "# calculated mean accuracy\n",
    "accuracy = [(sample_pred[i] == sample_test[i]).mean() for i in range(T)]"
   ]
  },
  {
   "cell_type": "code",
   "execution_count": 31,
   "metadata": {},
   "outputs": [
    {
     "name": "stdout",
     "output_type": "stream",
     "text": [
      "LogLoss = 2.0297\n"
     ]
    }
   ],
   "source": [
    "from sklearn.metrics import log_loss\n",
    "\n",
    "y_pred = np.array(y_probs) > 0.5\n",
    "print(\"LogLoss = %.4f\" % log_loss(y_test, y_pred))\n",
    "\n",
    "# calculate mean log loss\n",
    "logloss = [log_loss(sample_test[i], sample_pred[i]) for i in range(T)]"
   ]
  },
  {
   "cell_type": "code",
   "execution_count": 32,
   "metadata": {},
   "outputs": [
    {
     "data": {
      "image/png": "[encoded data removed]",
      "text/plain": [
       "<Figure size 1040x440 with 2 Axes>"
      ]
     },
     "metadata": {
      "needs_background": "light"
     },
     "output_type": "display_data"
    }
   ],
   "source": [
    "# compare distibution of output values\n",
    "\n",
    "rc('xtick', labelsize=16)\n",
    "rc('ytick', labelsize=16)\n",
    "\n",
    "fig = plt.figure(dpi=80, figsize=(13, 5.5))\n",
    "\n",
    "bins_number = 22\n",
    "step = 1 / bins_number\n",
    "hist_0, _ = np.histogram(y_probs_0, bins=bins_number, range=(0.0, 1.0))\n",
    "hist_1, _ = np.histogram(y_probs_1, bins=bins_number, range=(0.0, 1.0))\n",
    "x = np.arange(0 + step/2, 1, step)\n",
    "\n",
    "ax1 = fig.add_subplot(121)\n",
    "ax1.yaxis.tick_right()\n",
    "plt.title(\"Распределение P$\\{X \\in 1\\}$ для $X \\in 0$\", fontsize=21, pad=7)\n",
    "\n",
    "ax1.bar(x, hist_0, color=\"xkcd:magenta\", width=0.038, log=True)\n",
    "ax1.minorticks_on()\n",
    "ax1.tick_params('y', length=10, width=1, which='major')\n",
    "ax1.tick_params('y', length=5, width=1, which='minor')\n",
    "ax1.tick_params('x', length=7, width=1, which='major')\n",
    "ax1.tick_params('x', length=0, width=1, which='minor')\n",
    "plt.xlim((0.0, 1.0))\n",
    "plt.ylim((ax1.get_ylim()[0], int(ax1.get_ylim()[1]) // 100 * 100))\n",
    "plt.grid(True)\n",
    "\n",
    "ax2 = fig.add_subplot(122)\n",
    "ax2.yaxis.tick_right()\n",
    "plt.title(\"Распределение P$\\{X \\in 1\\}$ для $X \\in 1$\", fontsize=21, pad=7)\n",
    "\n",
    "ax2.bar(x, hist_1, color=\"xkcd:cornflower\", width=0.038, log=True)\n",
    "ax2.minorticks_on()\n",
    "ax2.tick_params('y', length=10, width=1, which='major')\n",
    "ax2.tick_params('y', length=5, width=1, which='minor')\n",
    "ax2.tick_params('x', length=7, width=1, which='major')\n",
    "ax2.tick_params('x', length=0, width=1, which='minor')\n",
    "plt.xlim((0.0, 1.0))\n",
    "plt.ylim(ax1.get_ylim())\n",
    "plt.grid(True)\n",
    "\n",
    "plt.show()\n",
    "\n",
    "#fig.savefig(\"../pictures/CNN_output_hist_2_{}.pdf\".format(augmentation_model),\n",
    "#           bbox_inches='tight')"
   ]
  },
  {
   "cell_type": "code",
   "execution_count": 33,
   "metadata": {},
   "outputs": [
    {
     "data": {
      "image/png": "[encoded data removed]",
      "text/plain": [
       "<Figure size 800x480 with 1 Axes>"
      ]
     },
     "metadata": {
      "needs_background": "light"
     },
     "output_type": "display_data"
    }
   ],
   "source": [
    "# compare distibution of output values\n",
    "\n",
    "rc('xtick', labelsize=14)\n",
    "rc('ytick', labelsize=14)\n",
    "\n",
    "fig = plt.figure(dpi=80, figsize=(10, 6))\n",
    "ax = fig.add_subplot(111)\n",
    "ax.yaxis.tick_right()\n",
    "plt.title(\"Распределение выходных значений классификатора\", fontsize=18, pad=7)\n",
    "plt.xlabel(\"Вероятность принадлежности объекта первому классу\", fontsize=15)\n",
    "plt.ylabel(\"Количество объектов\", fontsize=15)\n",
    "\n",
    "bins_number = 40\n",
    "step = 1 / bins_number\n",
    "hist_0, _ = np.histogram(y_probs_0, bins=bins_number, range=(0.0, 1.0))\n",
    "hist_1, _ = np.histogram(y_probs_1, bins=bins_number, range=(0.0, 1.0))\n",
    "x = np.arange(0 + step/2, 1, step)\n",
    "\n",
    "plt.bar(x, hist_0, color='r', width=0.02, log=True, label=\"нулевой класс\", alpha=0.3)\n",
    "plt.bar(x, hist_1, color='b', width=0.02, log=True, label=\"первый класс\", alpha=0.3)\n",
    "\n",
    "ax.minorticks_on()\n",
    "ax.tick_params('y', length=8, width=1, which='major')\n",
    "ax.tick_params('y', length=4, width=1, which='minor')\n",
    "ax.tick_params('x', length=7, width=1, which='major')\n",
    "ax.tick_params('x', length=4, width=1, which='minor')\n",
    "\n",
    "plt.xlim((0.0, 1.0))\n",
    "plt.grid(True)\n",
    "plt.legend(frameon=True, loc=(0.67, 0.81), fontsize=16, shadow=0.1)\n",
    "\n",
    "plt.show()\n",
    "\n",
    "#fig.savefig(\"../pictures/CNN_output_hist_1_{}.pdf\".format(augmentation_model),\n",
    "#           bbox_inches='tight', pad_inches=0.01)"
   ]
  },
  {
   "cell_type": "markdown",
   "metadata": {},
   "source": [
    "Распределение вероятностей принадлежности объекта к первому классу для нулевого и первого классов."
   ]
  },
  {
   "cell_type": "code",
   "execution_count": 34,
   "metadata": {
    "scrolled": false
   },
   "outputs": [
    {
     "name": "stdout",
     "output_type": "stream",
     "text": [
      "Test ROC-AUC: 0.9804, test PR-AUC: 0.9699\n"
     ]
    },
    {
     "data": {
      "image/png": "[encoded data removed]",
      "text/plain": [
       "<Figure size 1040x440 with 2 Axes>"
      ]
     },
     "metadata": {
      "needs_background": "light"
     },
     "output_type": "display_data"
    }
   ],
   "source": [
    "from sklearn.metrics import roc_auc_score\n",
    "from sklearn.metrics import roc_curve\n",
    "from sklearn.metrics import precision_recall_curve\n",
    "from sklearn.metrics import average_precision_score\n",
    "\n",
    "rc('xtick', labelsize=16)\n",
    "rc('ytick', labelsize=16)\n",
    "\n",
    "print(\"Test ROC-AUC: %.4f, test PR-AUC: %.4f\" % (roc_auc_score(y_test, y_probs), \n",
    "                                                 average_precision_score(y_test, y_probs)))\n",
    "\n",
    "# calculate mean AUC-ROC & AUC-PR\n",
    "auc_roc = [roc_auc_score(sample_test[i], sample_prob[i]) for i in range(T)]\n",
    "auc_pr = [average_precision_score(sample_test[i], sample_prob[i]) for i in range(T)]\n",
    "\n",
    "precision, recall, _ = precision_recall_curve(y_test, y_probs)\n",
    "\n",
    "fig = plt.figure(dpi=80, figsize=(13, 5.5))\n",
    "ax = fig.add_subplot(121)\n",
    "plt.grid(True)\n",
    "ax.set_title(\"PR-кривая\", fontsize=21, pad=7)\n",
    "ax.fill_between(recall, precision, alpha=0.6, color=\"xkcd:apple green\", lw=2)\n",
    "ax.set_xlim(0, 1.)\n",
    "ax.set_ylim(0, 1.02)\n",
    "\n",
    "fpr, tpr, thresholds = roc_curve(y_test, y_probs)\n",
    "\n",
    "ax = fig.add_subplot(122)\n",
    "plt.grid(True)\n",
    "ax.set_title(\"ROC-кривая\", fontsize=21, pad=7)\n",
    "ax.fill_between(fpr, tpr, alpha=0.6, color=\"xkcd:goldenrod\", lw=2)\n",
    "ax.set_xlim(0, 1.)\n",
    "ax.set_ylim(0, 1.02)\n",
    "\n",
    "plt.show()\n",
    "\n",
    "#fig.savefig(\"../pictures/CNN_pr_roc_curves_{}.pdf\".format(augmentation_model), \n",
    "#            bbox_inches='tight')"
   ]
  },
  {
   "cell_type": "code",
   "execution_count": 35,
   "metadata": {},
   "outputs": [
    {
     "name": "stdout",
     "output_type": "stream",
     "text": [
      "LogLoss:  mean = 2.0320, std = 0.2593\n",
      "Accuracy: mean = 0.9412, std = 0.0075\n",
      "AUC-ROC:  mean = 0.9804, std = 0.0041\n",
      "AUC-PR:   mean = 0.9701, std = 0.0099\n"
     ]
    }
   ],
   "source": [
    "print(\"LogLoss:  mean = %.4f, std = %.4f\" % (np.mean(logloss), np.std(logloss)))\n",
    "print(\"Accuracy: mean = %.4f, std = %.4f\" % (np.mean(accuracy), np.std(accuracy)))\n",
    "print(\"AUC-ROC:  mean = %.4f, std = %.4f\" % (np.mean(auc_roc), np.std(auc_roc)))\n",
    "print(\"AUC-PR:   mean = %.4f, std = %.4f\" % (np.mean(auc_pr), np.std(auc_pr)))"
   ]
  },
  {
   "cell_type": "markdown",
   "metadata": {},
   "source": [
    "### Прямые метрики модели аугментации "
   ]
  },
  {
   "cell_type": "code",
   "execution_count": 36,
   "metadata": {},
   "outputs": [
    {
     "data": {
      "application/vnd.jupyter.widget-view+json": {
       "model_id": "c18285712cc84a4f9d8e335374ab3809",
       "version_major": 2,
       "version_minor": 0
      },
      "text/plain": [
       "  0%|          | 0/2508 [00:00<?, ?it/s]"
      ]
     },
     "metadata": {},
     "output_type": "display_data"
    },
    {
     "data": {
      "text/plain": [
       "RMSE    28.010477\n",
       "MAE     18.843835\n",
       "RSE      0.399677\n",
       "RAE      0.366381\n",
       "MAPE    26.448620\n",
       "dtype: float64"
      ]
     },
     "execution_count": 36,
     "metadata": {},
     "output_type": "execute_result"
    }
   ],
   "source": [
    "from tqdm.notebook import tqdm\n",
    "\n",
    "metrics = []\n",
    "for good_id in tqdm(good_object_ids):\n",
    "    # get an object\n",
    "    anobject = aug_functions.get_object(good_objects_df, good_id)\n",
    "\n",
    "    # train / test split data\n",
    "    anobject_train, anobject_test = train_test_split(anobject, test_size=0.36, random_state=11)\n",
    "    \n",
    "    # select augmentation model\n",
    "    model = None\n",
    "    if augmentation_model == \"GP\":\n",
    "        model = gp_aug.GaussianProcessesAugmentation(aug_functions.passband2lam)\n",
    "    elif augmentation_model == \"NN_1\":\n",
    "        model = single_layer_aug.SingleLayerNetAugmentation(aug_functions.passband2lam)\n",
    "    elif augmentation_model == \"FE\":\n",
    "        model = features_aug.FeaturesEngineeringAugmentation(aug_functions.passband2lam)\n",
    "    elif augmentation_model == \"MLP\":\n",
    "        model = mlp_reg_aug.MLPRegressionAugmentation(aug_functions.passband2lam)\n",
    "    elif augmentation_model == \"RBF\":\n",
    "        model = rbfnet_aug.RBFNetAugmentation(aug_functions.passband2lam)\n",
    "    elif augmentation_model == \"BNN\":\n",
    "        model = bnn_aug.BayesianNetAugmentation(aug_functions.passband2lam)\n",
    "    else:\n",
    "        raise ValueError(\"Unknown augmentation type\")\n",
    "        \n",
    "    # fil augmentation model\n",
    "    model.fit(anobject_train['mjd'].values, anobject_train['flux'].values, \n",
    "              anobject_train['flux_err'].values, anobject_train['passband'].values)\n",
    "\n",
    "    # predict flux for unseen observations\n",
    "    flux_pred, flux_err_pred = model.predict(anobject_test['mjd'].values, \n",
    "                                             anobject_test['passband'].values, copy=True)\n",
    "\n",
    "    # calculate metrics\n",
    "    metrics.append(utils.regression_quality_metrics_report(anobject_test['flux'].values, \n",
    "                                                           flux_pred.reshape((1, -1))[0]))\n",
    "\n",
    "df_metrics = pd.DataFrame(data=metrics, columns=[\"RMSE\", \"MAE\", \"RSE\", \"RAE\", \"MAPE\"])\n",
    "df_metrics.mean()"
   ]
  },
  {
   "cell_type": "code",
   "execution_count": 37,
   "metadata": {},
   "outputs": [
    {
     "name": "stdout",
     "output_type": "stream",
     "text": [
      "RMSE: mean = 28.1009, std = 8.2452\n",
      "MAE:  mean = 18.8897, std = 5.1329\n",
      "RSE:  mean = 0.3997,  std = 0.0056\n",
      "RAE:  mean = 0.3664,  std = 0.0049\n",
      "MAPE: mean = 26.4498, std = 0.5724\n"
     ]
    }
   ],
   "source": [
    "# sample metric values\n",
    "\n",
    "rmse = np.array(metrics)[:,0]\n",
    "mae = np.array(metrics)[:,1]\n",
    "rse = np.array(metrics)[:,2]\n",
    "rae = np.array(metrics)[:,3]\n",
    "mape = np.array(metrics)[:,4]\n",
    "\n",
    "N = len(good_object_ids)\n",
    "assert len(rmse) == N\n",
    "assert len(mae) == N\n",
    "assert len(rse) == N\n",
    "assert len(rae) == N\n",
    "assert len(mape) == N\n",
    "\n",
    "sample_coeffs = np.random.randint(0, N, (10000, 1000))\n",
    "\n",
    "# calculate mean RMSE\n",
    "sample_rmse = rmse[sample_coeffs]\n",
    "sample_rmse_mean = sample_rmse.mean(axis=1)\n",
    "print(\"RMSE: mean = %.4f, std = %.4f\" % (sample_rmse_mean.mean(), sample_rmse_mean.std()))\n",
    "\n",
    "# calculate mean MAE\n",
    "sample_mae = mae[sample_coeffs]\n",
    "sample_mae_mean = sample_mae.mean(axis=1)\n",
    "print(\"MAE:  mean = %.4f, std = %.4f\" % (sample_mae_mean.mean(), sample_mae_mean.std()))\n",
    "\n",
    "# calculate mean RSE\n",
    "sample_rse = rse[sample_coeffs]\n",
    "sample_rse_mean = sample_rse.mean(axis=1)\n",
    "print(\"RSE:  mean = %.4f,  std = %.4f\" % (sample_rse_mean.mean(), sample_rse_mean.std()))\n",
    "\n",
    "# calculate mean RAE\n",
    "sample_rae = rae[sample_coeffs]\n",
    "sample_rae_mean = sample_rae.mean(axis=1)\n",
    "print(\"RAE:  mean = %.4f,  std = %.4f\" % (sample_rae_mean.mean(), sample_rae_mean.std()))\n",
    "\n",
    "# calculate mean MAPE\n",
    "sample_mape = mape[sample_coeffs]\n",
    "sample_mape_mean = sample_mape.mean(axis=1)\n",
    "print(\"MAPE: mean = %.4f, std = %.4f\" % (sample_mape_mean.mean(), sample_mape_mean.std()))"
   ]
  },
  {
   "cell_type": "code",
   "execution_count": null,
   "metadata": {},
   "outputs": [],
   "source": []
  }
 ],
 "metadata": {
  "kernelspec": {
   "display_name": "Python 3",
   "language": "python",
   "name": "python3"
  },
  "language_info": {
   "codemirror_mode": {
    "name": "ipython",
    "version": 3
   },
   "file_extension": ".py",
   "mimetype": "text/x-python",
   "name": "python",
   "nbconvert_exporter": "python",
   "pygments_lexer": "ipython3",
   "version": "3.6.12"
  }
 },
 "nbformat": 4,
 "nbformat_minor": 4
}
