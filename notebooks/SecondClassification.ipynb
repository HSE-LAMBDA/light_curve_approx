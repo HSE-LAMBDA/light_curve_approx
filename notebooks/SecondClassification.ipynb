{
 "cells": [
  {
   "cell_type": "code",
   "execution_count": 1,
   "metadata": {},
   "outputs": [],
   "source": [
    "%matplotlib inline\n",
    "import numpy as np\n",
    "import pandas as pd\n",
    "import sklearn\n",
    "import warnings\n",
    "warnings.filterwarnings('ignore', 'lbfgs failed to converge*')\n",
    "\n",
    "import aug_functions"
   ]
  },
  {
   "cell_type": "code",
   "execution_count": 2,
   "metadata": {},
   "outputs": [],
   "source": [
    "import matplotlib\n",
    "matplotlib.rcParams['text.usetex'] = True\n",
    "\n",
    "import matplotlib.pyplot as plt\n",
    "from matplotlib import rc\n",
    "\n",
    "rc('font',**{'family':'serif'})\n",
    "rc('text', usetex=True)\n",
    "rc('text.latex', preamble='''\n",
    "        \\\\usepackage[utf8]{inputenc}\n",
    "        \\\\usepackage{amssymb}\n",
    "        \\\\usepackage{amsfonts}\n",
    "        \\\\usepackage[russian]{babel}''')"
   ]
  },
  {
   "cell_type": "code",
   "execution_count": 3,
   "metadata": {},
   "outputs": [
    {
     "data": {
      "text/html": [
       "<div>\n",
       "<style scoped>\n",
       "    .dataframe tbody tr th:only-of-type {\n",
       "        vertical-align: middle;\n",
       "    }\n",
       "\n",
       "    .dataframe tbody tr th {\n",
       "        vertical-align: top;\n",
       "    }\n",
       "\n",
       "    .dataframe thead th {\n",
       "        text-align: right;\n",
       "    }\n",
       "</style>\n",
       "<table border=\"1\" class=\"dataframe\">\n",
       "  <thead>\n",
       "    <tr style=\"text-align: right;\">\n",
       "      <th></th>\n",
       "      <th>object_id</th>\n",
       "      <th>mjd</th>\n",
       "      <th>passband</th>\n",
       "      <th>flux</th>\n",
       "      <th>flux_err</th>\n",
       "      <th>detected</th>\n",
       "      <th>log_lam</th>\n",
       "      <th>class</th>\n",
       "    </tr>\n",
       "  </thead>\n",
       "  <tbody>\n",
       "    <tr>\n",
       "      <th>2506827</th>\n",
       "      <td>80192</td>\n",
       "      <td>60003.2462</td>\n",
       "      <td>3</td>\n",
       "      <td>18.629541</td>\n",
       "      <td>1.724908</td>\n",
       "      <td>1</td>\n",
       "      <td>3.875155</td>\n",
       "      <td>0</td>\n",
       "    </tr>\n",
       "    <tr>\n",
       "      <th>5992997</th>\n",
       "      <td>189724</td>\n",
       "      <td>59842.0838</td>\n",
       "      <td>3</td>\n",
       "      <td>43.258259</td>\n",
       "      <td>1.282086</td>\n",
       "      <td>1</td>\n",
       "      <td>3.875155</td>\n",
       "      <td>1</td>\n",
       "    </tr>\n",
       "    <tr>\n",
       "      <th>8677569</th>\n",
       "      <td>274500</td>\n",
       "      <td>59873.0289</td>\n",
       "      <td>1</td>\n",
       "      <td>7.304835</td>\n",
       "      <td>0.775145</td>\n",
       "      <td>1</td>\n",
       "      <td>3.675929</td>\n",
       "      <td>1</td>\n",
       "    </tr>\n",
       "    <tr>\n",
       "      <th>6693833</th>\n",
       "      <td>211734</td>\n",
       "      <td>60608.0836</td>\n",
       "      <td>2</td>\n",
       "      <td>28.520067</td>\n",
       "      <td>0.916725</td>\n",
       "      <td>1</td>\n",
       "      <td>3.790512</td>\n",
       "      <td>0</td>\n",
       "    </tr>\n",
       "    <tr>\n",
       "      <th>92688</th>\n",
       "      <td>49529</td>\n",
       "      <td>60662.1451</td>\n",
       "      <td>2</td>\n",
       "      <td>181.712723</td>\n",
       "      <td>1.604320</td>\n",
       "      <td>1</td>\n",
       "      <td>3.790512</td>\n",
       "      <td>0</td>\n",
       "    </tr>\n",
       "    <tr>\n",
       "      <th>36266</th>\n",
       "      <td>18556</td>\n",
       "      <td>60297.1169</td>\n",
       "      <td>2</td>\n",
       "      <td>166.916016</td>\n",
       "      <td>1.794018</td>\n",
       "      <td>1</td>\n",
       "      <td>3.790512</td>\n",
       "      <td>0</td>\n",
       "    </tr>\n",
       "    <tr>\n",
       "      <th>3268883</th>\n",
       "      <td>104761</td>\n",
       "      <td>59884.1292</td>\n",
       "      <td>2</td>\n",
       "      <td>19.934641</td>\n",
       "      <td>0.951091</td>\n",
       "      <td>1</td>\n",
       "      <td>3.790512</td>\n",
       "      <td>0</td>\n",
       "    </tr>\n",
       "    <tr>\n",
       "      <th>3248180</th>\n",
       "      <td>53884302</td>\n",
       "      <td>59949.1120</td>\n",
       "      <td>4</td>\n",
       "      <td>152.524597</td>\n",
       "      <td>15.599266</td>\n",
       "      <td>1</td>\n",
       "      <td>3.938479</td>\n",
       "      <td>0</td>\n",
       "    </tr>\n",
       "    <tr>\n",
       "      <th>3385443</th>\n",
       "      <td>108419</td>\n",
       "      <td>60606.0967</td>\n",
       "      <td>4</td>\n",
       "      <td>18.794933</td>\n",
       "      <td>2.163719</td>\n",
       "      <td>1</td>\n",
       "      <td>3.938479</td>\n",
       "      <td>1</td>\n",
       "    </tr>\n",
       "    <tr>\n",
       "      <th>191234</th>\n",
       "      <td>99280</td>\n",
       "      <td>59899.0383</td>\n",
       "      <td>2</td>\n",
       "      <td>4.102321</td>\n",
       "      <td>0.707051</td>\n",
       "      <td>1</td>\n",
       "      <td>3.790512</td>\n",
       "      <td>0</td>\n",
       "    </tr>\n",
       "  </tbody>\n",
       "</table>\n",
       "</div>"
      ],
      "text/plain": [
       "         object_id         mjd  passband        flux   flux_err  detected  \\\n",
       "2506827      80192  60003.2462         3   18.629541   1.724908         1   \n",
       "5992997     189724  59842.0838         3   43.258259   1.282086         1   \n",
       "8677569     274500  59873.0289         1    7.304835   0.775145         1   \n",
       "6693833     211734  60608.0836         2   28.520067   0.916725         1   \n",
       "92688        49529  60662.1451         2  181.712723   1.604320         1   \n",
       "36266        18556  60297.1169         2  166.916016   1.794018         1   \n",
       "3268883     104761  59884.1292         2   19.934641   0.951091         1   \n",
       "3248180   53884302  59949.1120         4  152.524597  15.599266         1   \n",
       "3385443     108419  60606.0967         4   18.794933   2.163719         1   \n",
       "191234       99280  59899.0383         2    4.102321   0.707051         1   \n",
       "\n",
       "          log_lam  class  \n",
       "2506827  3.875155      0  \n",
       "5992997  3.875155      1  \n",
       "8677569  3.675929      1  \n",
       "6693833  3.790512      0  \n",
       "92688    3.790512      0  \n",
       "36266    3.790512      0  \n",
       "3268883  3.790512      0  \n",
       "3248180  3.938479      0  \n",
       "3385443  3.938479      1  \n",
       "191234   3.790512      0  "
      ]
     },
     "execution_count": 3,
     "metadata": {},
     "output_type": "execute_result"
    }
   ],
   "source": [
    "good_objects_df = pd.read_csv(\"../data/plasticc/good_objects.csv\", index_col=0)\n",
    "good_objects_df.sample(10)"
   ]
  },
  {
   "cell_type": "code",
   "execution_count": 4,
   "metadata": {},
   "outputs": [],
   "source": [
    "good_object_ids = np.unique(good_objects_df.object_id)"
   ]
  },
  {
   "cell_type": "code",
   "execution_count": 5,
   "metadata": {},
   "outputs": [
    {
     "data": {
      "image/png": "[encoded data removed]",
      "text/plain": [
       "<Figure size 648x360 with 1 Axes>"
      ]
     },
     "metadata": {
      "needs_background": "light"
     },
     "output_type": "display_data"
    }
   ],
   "source": [
    "anobject = aug_functions.get_object(good_objects_df, 34299)\n",
    "\n",
    "aug_functions.plot_light_curves(anobject)"
   ]
  },
  {
   "cell_type": "code",
   "execution_count": 6,
   "metadata": {},
   "outputs": [],
   "source": [
    "augmentation_model = \"GP\""
   ]
  },
  {
   "cell_type": "code",
   "execution_count": 7,
   "metadata": {},
   "outputs": [
    {
     "data": {
      "image/png": "[encoded data removed]",
      "text/plain": [
       "<Figure size 648x360 with 1 Axes>"
      ]
     },
     "metadata": {
      "needs_background": "light"
     },
     "output_type": "display_data"
    }
   ],
   "source": [
    "from sklearn.model_selection import train_test_split\n",
    "\n",
    "anobject = aug_functions.get_object(good_objects_df, 34299)\n",
    "anobject_train, anobject_test = train_test_split(anobject, test_size=0.36, random_state=11)\n",
    "\n",
    "# fit augmentation model\n",
    "model = None\n",
    "if augmentation_model == \"GP\":\n",
    "    import gp_aug\n",
    "    model = gp_aug.GaussianProcessesAugmentation(aug_functions.passband2lam)\n",
    "elif augmentation_model == \"NN_single\":\n",
    "    import single_layer_aug\n",
    "    model = single_layer_aug.SingleLayerNetAugmentation(aug_functions.passband2lam)\n",
    "elif augmentation_model == \"FE\":\n",
    "    import features_aug\n",
    "    model = features_aug.FeaturesEngineeringAugmentation(aug_functions.passband2lam)\n",
    "elif augmentation_model == \"MLP\":\n",
    "    import mlp_reg_aug\n",
    "    model = mlp_reg_aug.MLPRegressionAugmentation(aug_functions.passband2lam)\n",
    "else:\n",
    "    raise ValueError(\"Unknown augmentation type: {}\".format(augmentation_model))\n",
    "    \n",
    "# fit augmentation model\n",
    "model.fit(anobject_train['mjd'].values, anobject_train['flux'].values, \n",
    "          anobject_train['flux_err'].values, anobject_train['passband'].values)\n",
    "\n",
    "# predict flux for unseen observations\n",
    "flux_pred, flux_err_pred = model.predict(anobject_test['mjd'].values, anobject_test['passband'].values, copy=True)\n",
    "\n",
    "# augmentation\n",
    "t_aug, flux_aug, flux_err, passbands_aug = model.augmentation(anobject['mjd'].min(), \n",
    "                                                              anobject['mjd'].max(), \n",
    "                                                              n_obs=aug_functions.N_OBS)\n",
    "anobject_test_pred = aug_functions.compile_obj(anobject_test['mjd'].values, \n",
    "                                               flux_pred, anobject_test['passband'].values)\n",
    "anobject_aug = aug_functions.compile_obj(t_aug, flux_aug, passbands_aug)\n",
    "aug_functions.plot_light_curves(anobject_aug, \"Approximation\")"
   ]
  },
  {
   "cell_type": "code",
   "execution_count": 8,
   "metadata": {
    "scrolled": true
   },
   "outputs": [
    {
     "data": {
      "application/vnd.jupyter.widget-view+json": {
       "model_id": "a69a2e2f9f2f4b409abaa0a2f6d23cef",
       "version_major": 2,
       "version_minor": 0
      },
      "text/plain": [
       "  0%|          | 0/2508 [00:00<?, ?it/s]"
      ]
     },
     "metadata": {},
     "output_type": "display_data"
    },
    {
     "name": "stdout",
     "output_type": "stream",
     "text": [
      "(2508, 1, 500, 6) (2508,)\n"
     ]
    }
   ],
   "source": [
    "from tqdm.notebook import tqdm\n",
    "\n",
    "all_data = []\n",
    "all_target_classes = []\n",
    "for good_id in tqdm(good_object_ids):\n",
    "    anobject = aug_functions.get_object(good_objects_df, good_id)\n",
    "    anobject_train, anobject_test = train_test_split(anobject, test_size=0.36, random_state=11)\n",
    "\n",
    "    # initialize augmentation model\n",
    "    model = None\n",
    "    if augmentation_model == \"GP\":\n",
    "        model = gp_aug.GaussianProcessesAugmentation(aug_functions.passband2lam)\n",
    "    elif augmentation_model == \"NN_single\":\n",
    "        model = single_layer_aug.SingleLayerNetAugmentation(aug_functions.passband2lam)\n",
    "    elif augmentation_model == \"FE\":\n",
    "        model = features_aug.FeaturesEngineeringAugmentation(aug_functions.passband2lam)\n",
    "    elif augmentation_model == \"MLP\":\n",
    "        model = mlp_reg_aug.MLPRegressionAugmentation(aug_functions.passband2lam)\n",
    "    else:\n",
    "        raise ValueError(\"Unknown augmentation type\")\n",
    "\n",
    "    # fit augmentation model\n",
    "    model.fit(anobject_train['mjd'].values, anobject_train['flux'].values, \n",
    "              anobject_train['flux_err'].values, anobject_train['passband'].values)\n",
    "\n",
    "    # predict flux for unseen observations\n",
    "    flux_pred, flux_err_pred = model.predict(anobject_test['mjd'].values, \n",
    "                                             anobject_test['passband'].values, copy=True)\n",
    "\n",
    "    # augmentation\n",
    "    t_aug, flux_aug, flux_err, passbands_aug = model.augmentation(anobject['mjd'].min(), \n",
    "                                                                  anobject['mjd'].max(), \n",
    "                                                                  n_obs=aug_functions.N_OBS)\n",
    "\n",
    "    data_array = flux_aug.reshape((aug_functions.N_PASSBANDS, aug_functions.N_OBS)).T\n",
    "    all_data.append([data_array])\n",
    "    \n",
    "    true_class = int(anobject['class'].to_numpy()[0])\n",
    "    all_target_classes.append(true_class)\n",
    "    \n",
    "all_data = np.array(all_data)\n",
    "all_target_classes = np.array(all_target_classes)\n",
    "print(all_data.shape, all_target_classes.shape)"
   ]
  },
  {
   "cell_type": "code",
   "execution_count": 9,
   "metadata": {},
   "outputs": [],
   "source": [
    "import torch\n",
    "import torch.nn as nn\n",
    "import torch.nn.functional as F\n",
    "\n",
    "from torchvision import transforms\n",
    "from torch.utils.data import TensorDataset, DataLoader\n",
    "\n",
    "device = 'cpu'"
   ]
  },
  {
   "cell_type": "code",
   "execution_count": 10,
   "metadata": {},
   "outputs": [],
   "source": [
    "X_train, X_test, y_train, y_test = train_test_split(all_data, \n",
    "                                                    all_target_classes,\n",
    "                                                    test_size=0.4,\n",
    "                                                    random_state=179)\n",
    "\n",
    "# normalize input\n",
    "X_train_norm = np.array((X_train - X_train.mean()) / X_train.std(), dtype=np.float32)\n",
    "X_test_norm = np.array((X_test - X_train.mean()) / X_train.std(), dtype=np.float32)\n",
    "\n",
    "X_train_tensor = torch.from_numpy(X_train_norm)\n",
    "y_train_tensor = torch.from_numpy(np.array(y_train, dtype=np.float32))\n",
    "\n",
    "train_data = TensorDataset(X_train_tensor, y_train_tensor)\n",
    "trainloader = torch.utils.data.DataLoader(train_data, batch_size=1,\n",
    "                                          shuffle=True, num_workers=2)\n",
    "\n",
    "X_test_tensor = torch.from_numpy(X_test_norm)\n",
    "y_test_tensor = torch.from_numpy(np.array(y_test, dtype=np.float32))\n",
    "\n",
    "test_data = TensorDataset(X_test_tensor, y_test_tensor)\n",
    "testloader = torch.utils.data.DataLoader(test_data, batch_size=1,\n",
    "                                         shuffle=False, num_workers=2)"
   ]
  },
  {
   "cell_type": "code",
   "execution_count": 11,
   "metadata": {},
   "outputs": [],
   "source": [
    "class Net(nn.Module):\n",
    "    def __init__(self):\n",
    "        super(Net, self).__init__()\n",
    "        self.conv1 = nn.Conv2d(1, 4, kernel_size=(10, 2))\n",
    "        self.conv2 = nn.Conv2d(4, 8, kernel_size=(10, 2))\n",
    "        self.conv3 = nn.Conv1d(8, 16, kernel_size=(5, 2))\n",
    "        self.pool = nn.MaxPool2d(2, 2)\n",
    "        self.dropout = nn.Dropout(0.2)\n",
    "        self.fc1 = nn.Linear(3824, 64)\n",
    "        self.fc2 = nn.Linear(64, 1)\n",
    "\n",
    "    def forward(self, x):\n",
    "        x = F.leaky_relu(self.conv1(x))\n",
    "        x = F.leaky_relu(self.conv2(x))\n",
    "        x = F.leaky_relu(self.conv3(x))\n",
    "        x = self.pool(x)\n",
    "        x = self.dropout(x)\n",
    "        \n",
    "        x = x.view(-1, 3824)\n",
    "        \n",
    "        x = F.relu(self.fc1(x))\n",
    "        x = self.fc2(x)\n",
    "        return x"
   ]
  },
  {
   "cell_type": "code",
   "execution_count": 12,
   "metadata": {},
   "outputs": [],
   "source": [
    "import torch.optim as optim\n",
    "\n",
    "net = Net()\n",
    "criterion = nn.BCEWithLogitsLoss()\n",
    "optimizer = optim.SGD(net.parameters(), lr=0.001)"
   ]
  },
  {
   "cell_type": "code",
   "execution_count": 13,
   "metadata": {},
   "outputs": [],
   "source": [
    "from scipy.special import expit\n",
    "\n",
    "def get_model_accuracy(net, data_loader):\n",
    "    correct = 0\n",
    "    total = 0\n",
    "\n",
    "    with torch.no_grad():\n",
    "        for test_info in data_loader:\n",
    "            images, test_labels = test_info\n",
    "            test_outputs = net(images)\n",
    "            prob = expit(test_outputs.item())\n",
    "            if prob > 0.5:\n",
    "                predicted = 1\n",
    "            else:\n",
    "                predicted = 0\n",
    "            total += test_labels.size(0)\n",
    "            correct += (predicted == test_labels.item())\n",
    "\n",
    "    return correct / total"
   ]
  },
  {
   "cell_type": "code",
   "execution_count": 14,
   "metadata": {
    "scrolled": false
   },
   "outputs": [
    {
     "data": {
      "application/vnd.jupyter.widget-view+json": {
       "model_id": "aa1f912e97464300ad717c3a0c186a2b",
       "version_major": 2,
       "version_minor": 0
      },
      "text/plain": [
       "  0%|          | 0/100 [00:00<?, ?it/s]"
      ]
     },
     "metadata": {},
     "output_type": "display_data"
    },
    {
     "name": "stdout",
     "output_type": "stream",
     "text": [
      "[   10] error: 0.687\n",
      "[   20] error: 0.520\n",
      "[   30] error: 0.367\n",
      "[   40] error: 0.224\n",
      "[   50] error: 0.137\n",
      "[   60] error: 0.124\n",
      "[   70] error: 0.094\n",
      "[   80] error: 0.094\n",
      "[   90] error: 0.072\n",
      "[  100] error: 0.065\n",
      "Finished Training\n"
     ]
    }
   ],
   "source": [
    "epochs = np.arange(100)\n",
    "\n",
    "for epoch in tqdm(epochs):  # loop over the dataset multiple times\n",
    "    epoch_loss = 0.0\n",
    "    for info in trainloader:\n",
    "        # get the inputs; info is a list of [inputs, labels]\n",
    "        inputs, labels = info\n",
    "\n",
    "        # zero the parameter gradients\n",
    "        for param in net.parameters():\n",
    "            param.grad = None\n",
    "        \n",
    "        # forward + backward + optimize\n",
    "        outputs = net(inputs).reshape(1)\n",
    "        loss = criterion(outputs, labels)\n",
    "        loss.backward()\n",
    "        optimizer.step()\n",
    "\n",
    "        epoch_loss += loss.item()\n",
    "\n",
    "    # print mean loss for the epoch\n",
    "    cur_loss = epoch_loss / X_train_norm.shape[0]\n",
    "    if (epoch + 1) % 10 == 0:\n",
    "        print('[%5d] error: %.3f' % (epoch + 1, cur_loss))\n",
    "\n",
    "print('Finished Training')"
   ]
  },
  {
   "cell_type": "code",
   "execution_count": 15,
   "metadata": {},
   "outputs": [
    {
     "name": "stdout",
     "output_type": "stream",
     "text": [
      "Test accuracy of the network on the 1004 test images: 0.9283\n",
      "Train accuracy of the network on the 1504 train images: 0.9521\n"
     ]
    }
   ],
   "source": [
    "test_accuracy = get_model_accuracy(net, testloader)\n",
    "train_accuracy = get_model_accuracy(net, trainloader)\n",
    "\n",
    "print('Test accuracy of the network on the %d test images: %.4f' % \n",
    "      (X_test_norm.shape[0], test_accuracy))\n",
    "print('Train accuracy of the network on the %d train images: %.4f' % \n",
    "      (X_train_norm.shape[0], train_accuracy))"
   ]
  },
  {
   "cell_type": "code",
   "execution_count": 16,
   "metadata": {},
   "outputs": [],
   "source": [
    "y_test = []\n",
    "y_probs = []\n",
    "y_probs_0 = []\n",
    "y_probs_1 = []\n",
    "\n",
    "with torch.no_grad():\n",
    "    for test_info in testloader:\n",
    "        images, test_labels = test_info\n",
    "        test_outputs = net(images)\n",
    "        prob = expit(test_outputs.item())\n",
    "            \n",
    "        true_class = int(test_labels.item())\n",
    "        if true_class == 0:\n",
    "            y_probs_0.append(prob)\n",
    "        else:\n",
    "            y_probs_1.append(prob)\n",
    "\n",
    "        y_test.append(true_class)\n",
    "        y_probs.append(prob)"
   ]
  },
  {
   "cell_type": "code",
   "execution_count": 17,
   "metadata": {},
   "outputs": [
    {
     "name": "stdout",
     "output_type": "stream",
     "text": [
      "LogLoss = 2.5801\n"
     ]
    }
   ],
   "source": [
    "from sklearn.metrics import log_loss\n",
    "y_pred = np.array(y_probs) > 0.5\n",
    "print(\"LogLoss = %.4f\" % log_loss(y_test, y_pred))"
   ]
  },
  {
   "cell_type": "code",
   "execution_count": 18,
   "metadata": {},
   "outputs": [
    {
     "data": {
      "image/png": "[encoded data removed]",
      "text/plain": [
       "<Figure size 800x480 with 1 Axes>"
      ]
     },
     "metadata": {
      "needs_background": "light"
     },
     "output_type": "display_data"
    }
   ],
   "source": [
    "fig = plt.figure(dpi=80, figsize=(10, 6))\n",
    "plt.title(\"CNN classification output distribution\", fontsize=20)\n",
    "plt.xticks(fontsize=14, color=\"black\")\n",
    "plt.yticks(fontsize=14, color=\"black\")\n",
    "plt.grid(True)\n",
    "plt.hist(y_probs_0, bins=40, color=\"xkcd:dark magenta\", align=\"left\", rwidth=0.75, alpha=0.6, log=True)\n",
    "plt.hist(y_probs_1, bins=40, color=\"xkcd:bright blue\", rwidth=0.75, alpha=0.6, log=True)\n",
    "plt.show()\n",
    "fig.savefig(\"../pictures/CNN_output_hist_{}.pdf\".format(augmentation_model),\n",
    "           bbox_inches='tight', pad_inches=0.01)"
   ]
  },
  {
   "cell_type": "code",
   "execution_count": 19,
   "metadata": {},
   "outputs": [
    {
     "name": "stdout",
     "output_type": "stream",
     "text": [
      "Test ROC-AUC: 0.9913, test PR-AUC: 0.9898\n"
     ]
    },
    {
     "data": {
      "image/png": "[encoded data removed]",
      "text/plain": [
       "<Figure size 1200x480 with 2 Axes>"
      ]
     },
     "metadata": {
      "needs_background": "light"
     },
     "output_type": "display_data"
    }
   ],
   "source": [
    "from sklearn.metrics import roc_auc_score\n",
    "from sklearn.metrics import roc_curve\n",
    "from sklearn.metrics import precision_recall_curve\n",
    "from sklearn.metrics import average_precision_score\n",
    "\n",
    "DPI = 80\n",
    "SIZE_X, SIZE_Y = 15, 6\n",
    "\n",
    "print(\"Test ROC-AUC: %.4f, test PR-AUC: %.4f\" % (roc_auc_score(y_test, y_probs), \n",
    "                                                 average_precision_score(y_test, y_probs)))\n",
    "\n",
    "precision, recall, _ = precision_recall_curve(y_test, y_probs)\n",
    "\n",
    "fig = plt.figure(dpi=80, figsize=(15, 6))\n",
    "ax = fig.add_subplot(121)\n",
    "plt.grid(True)\n",
    "plt.xticks(color=\"black\", fontsize=13, ha=\"left\")\n",
    "plt.yticks(color=\"black\", fontsize=13, va=\"bottom\")\n",
    "ax.set_title(\"Precision-Recall curve\", fontsize=20, color=\"black\")\n",
    "ax.fill_between(recall, precision, alpha=0.6, color=\"xkcd:apple green\", lw=2)\n",
    "ax.set_xlim(0, 1.)\n",
    "ax.set_ylim(0, 1.05)\n",
    "\n",
    "fpr, tpr, thresholds = roc_curve(y_test, y_probs)\n",
    "\n",
    "ax = fig.add_subplot(122)\n",
    "plt.grid(True)\n",
    "plt.xticks(color=\"black\", fontsize=13, ha=\"left\")\n",
    "plt.yticks(color=\"black\", fontsize=13, va=\"bottom\")\n",
    "ax.set_title(\"ROC curve\", fontsize=20, color=\"black\")\n",
    "ax.fill_between(fpr, tpr, alpha=0.6, color=\"xkcd:salmon\", lw=2)\n",
    "ax.set_xlim(0, 1.)\n",
    "ax.set_ylim(0, 1.05)\n",
    "\n",
    "fig.savefig(\"../pictures/CNN_pr_roc_curves_{}.pdf\".format(augmentation_model), \n",
    "            bbox_inches='tight', pad_inches=0.01)"
   ]
  },
  {
   "cell_type": "code",
   "execution_count": null,
   "metadata": {},
   "outputs": [],
   "source": []
  }
 ],
 "metadata": {
  "kernelspec": {
   "display_name": "Python 3",
   "language": "python",
   "name": "python3"
  },
  "language_info": {
   "codemirror_mode": {
    "name": "ipython",
    "version": 3
   },
   "file_extension": ".py",
   "mimetype": "text/x-python",
   "name": "python",
   "nbconvert_exporter": "python",
   "pygments_lexer": "ipython3",
   "version": "3.6.12"
  }
 },
 "nbformat": 4,
 "nbformat_minor": 4
}
