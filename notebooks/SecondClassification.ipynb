{
 "cells": [
  {
   "cell_type": "code",
   "execution_count": 1,
   "metadata": {},
   "outputs": [],
   "source": [
    "%matplotlib inline\n",
    "import numpy as np\n",
    "import pandas as pd\n",
    "import sklearn\n",
    "\n",
    "import aug_functions\n",
    "\n",
    "import warnings\n",
    "warnings.filterwarnings(\"ignore\")"
   ]
  },
  {
   "cell_type": "code",
   "execution_count": 2,
   "metadata": {},
   "outputs": [],
   "source": [
    "import matplotlib\n",
    "matplotlib.rcParams['text.usetex'] = True\n",
    "\n",
    "import matplotlib.pyplot as plt\n",
    "from matplotlib import rc\n",
    "\n",
    "rc('font',**{'family':'serif'})\n",
    "rc('text', usetex=True)\n",
    "rc('text.latex', preamble='''\n",
    "        \\\\usepackage[utf8]{inputenc}\n",
    "        \\\\usepackage{amssymb}\n",
    "        \\\\usepackage{amsfonts}\n",
    "        \\\\usepackage[russian]{babel}''')"
   ]
  },
  {
   "cell_type": "code",
   "execution_count": 3,
   "metadata": {},
   "outputs": [
    {
     "data": {
      "text/html": [
       "<div>\n",
       "<style scoped>\n",
       "    .dataframe tbody tr th:only-of-type {\n",
       "        vertical-align: middle;\n",
       "    }\n",
       "\n",
       "    .dataframe tbody tr th {\n",
       "        vertical-align: top;\n",
       "    }\n",
       "\n",
       "    .dataframe thead th {\n",
       "        text-align: right;\n",
       "    }\n",
       "</style>\n",
       "<table border=\"1\" class=\"dataframe\">\n",
       "  <thead>\n",
       "    <tr style=\"text-align: right;\">\n",
       "      <th></th>\n",
       "      <th>object_id</th>\n",
       "      <th>mjd</th>\n",
       "      <th>passband</th>\n",
       "      <th>flux</th>\n",
       "      <th>flux_err</th>\n",
       "      <th>detected</th>\n",
       "      <th>log_lam</th>\n",
       "      <th>class</th>\n",
       "    </tr>\n",
       "  </thead>\n",
       "  <tbody>\n",
       "    <tr>\n",
       "      <th>744026</th>\n",
       "      <td>23889</td>\n",
       "      <td>60194.1729</td>\n",
       "      <td>3</td>\n",
       "      <td>29.737860</td>\n",
       "      <td>1.812306</td>\n",
       "      <td>1</td>\n",
       "      <td>3.875155</td>\n",
       "      <td>0</td>\n",
       "    </tr>\n",
       "    <tr>\n",
       "      <th>1455941</th>\n",
       "      <td>46835</td>\n",
       "      <td>60567.2973</td>\n",
       "      <td>3</td>\n",
       "      <td>28.850910</td>\n",
       "      <td>1.967679</td>\n",
       "      <td>1</td>\n",
       "      <td>3.875155</td>\n",
       "      <td>1</td>\n",
       "    </tr>\n",
       "    <tr>\n",
       "      <th>1924201</th>\n",
       "      <td>61826</td>\n",
       "      <td>60596.0304</td>\n",
       "      <td>2</td>\n",
       "      <td>21.153549</td>\n",
       "      <td>2.626933</td>\n",
       "      <td>1</td>\n",
       "      <td>3.790512</td>\n",
       "      <td>0</td>\n",
       "    </tr>\n",
       "    <tr>\n",
       "      <th>10287817</th>\n",
       "      <td>325325</td>\n",
       "      <td>59857.1563</td>\n",
       "      <td>3</td>\n",
       "      <td>57.876705</td>\n",
       "      <td>2.143181</td>\n",
       "      <td>1</td>\n",
       "      <td>3.875155</td>\n",
       "      <td>0</td>\n",
       "    </tr>\n",
       "    <tr>\n",
       "      <th>83107</th>\n",
       "      <td>44309</td>\n",
       "      <td>59910.0503</td>\n",
       "      <td>0</td>\n",
       "      <td>14.141694</td>\n",
       "      <td>1.969639</td>\n",
       "      <td>1</td>\n",
       "      <td>3.574189</td>\n",
       "      <td>1</td>\n",
       "    </tr>\n",
       "    <tr>\n",
       "      <th>7343867</th>\n",
       "      <td>232166</td>\n",
       "      <td>60532.2696</td>\n",
       "      <td>3</td>\n",
       "      <td>120.101410</td>\n",
       "      <td>1.385214</td>\n",
       "      <td>1</td>\n",
       "      <td>3.875155</td>\n",
       "      <td>0</td>\n",
       "    </tr>\n",
       "    <tr>\n",
       "      <th>2234237</th>\n",
       "      <td>71953</td>\n",
       "      <td>59924.0851</td>\n",
       "      <td>4</td>\n",
       "      <td>23.150856</td>\n",
       "      <td>1.687848</td>\n",
       "      <td>1</td>\n",
       "      <td>3.938479</td>\n",
       "      <td>1</td>\n",
       "    </tr>\n",
       "    <tr>\n",
       "      <th>678838</th>\n",
       "      <td>21700</td>\n",
       "      <td>60580.0570</td>\n",
       "      <td>2</td>\n",
       "      <td>6.057104</td>\n",
       "      <td>1.276018</td>\n",
       "      <td>1</td>\n",
       "      <td>3.790512</td>\n",
       "      <td>0</td>\n",
       "    </tr>\n",
       "    <tr>\n",
       "      <th>3535753</th>\n",
       "      <td>113351</td>\n",
       "      <td>60370.2115</td>\n",
       "      <td>5</td>\n",
       "      <td>47.577999</td>\n",
       "      <td>7.254559</td>\n",
       "      <td>1</td>\n",
       "      <td>3.987288</td>\n",
       "      <td>0</td>\n",
       "    </tr>\n",
       "    <tr>\n",
       "      <th>10552720</th>\n",
       "      <td>333404</td>\n",
       "      <td>60662.1603</td>\n",
       "      <td>3</td>\n",
       "      <td>14.884960</td>\n",
       "      <td>1.628240</td>\n",
       "      <td>1</td>\n",
       "      <td>3.875155</td>\n",
       "      <td>0</td>\n",
       "    </tr>\n",
       "  </tbody>\n",
       "</table>\n",
       "</div>"
      ],
      "text/plain": [
       "          object_id         mjd  passband        flux  flux_err  detected  \\\n",
       "744026        23889  60194.1729         3   29.737860  1.812306         1   \n",
       "1455941       46835  60567.2973         3   28.850910  1.967679         1   \n",
       "1924201       61826  60596.0304         2   21.153549  2.626933         1   \n",
       "10287817     325325  59857.1563         3   57.876705  2.143181         1   \n",
       "83107         44309  59910.0503         0   14.141694  1.969639         1   \n",
       "7343867      232166  60532.2696         3  120.101410  1.385214         1   \n",
       "2234237       71953  59924.0851         4   23.150856  1.687848         1   \n",
       "678838        21700  60580.0570         2    6.057104  1.276018         1   \n",
       "3535753      113351  60370.2115         5   47.577999  7.254559         1   \n",
       "10552720     333404  60662.1603         3   14.884960  1.628240         1   \n",
       "\n",
       "           log_lam  class  \n",
       "744026    3.875155      0  \n",
       "1455941   3.875155      1  \n",
       "1924201   3.790512      0  \n",
       "10287817  3.875155      0  \n",
       "83107     3.574189      1  \n",
       "7343867   3.875155      0  \n",
       "2234237   3.938479      1  \n",
       "678838    3.790512      0  \n",
       "3535753   3.987288      0  \n",
       "10552720  3.875155      0  "
      ]
     },
     "execution_count": 3,
     "metadata": {},
     "output_type": "execute_result"
    }
   ],
   "source": [
    "good_objects_df = pd.read_csv(\"../data/plasticc/good_objects.csv\", index_col=0)\n",
    "good_objects_df.sample(10)"
   ]
  },
  {
   "cell_type": "code",
   "execution_count": 4,
   "metadata": {},
   "outputs": [],
   "source": [
    "good_object_ids = np.unique(good_objects_df.object_id)"
   ]
  },
  {
   "cell_type": "code",
   "execution_count": 5,
   "metadata": {},
   "outputs": [
    {
     "data": {
      "image/png": "[encoded data removed]",
      "text/plain": [
       "<Figure size 648x360 with 1 Axes>"
      ]
     },
     "metadata": {
      "needs_background": "light"
     },
     "output_type": "display_data"
    }
   ],
   "source": [
    "anobject = aug_functions.get_object(good_objects_df, 235478)\n",
    "\n",
    "aug_functions.plot_light_curves(anobject)"
   ]
  },
  {
   "cell_type": "code",
   "execution_count": 6,
   "metadata": {},
   "outputs": [],
   "source": [
    "augmentation_model = \"MLP\""
   ]
  },
  {
   "cell_type": "code",
   "execution_count": 7,
   "metadata": {},
   "outputs": [
    {
     "data": {
      "image/png": "[encoded data removed]",
      "text/plain": [
       "<Figure size 648x360 with 1 Axes>"
      ]
     },
     "metadata": {
      "needs_background": "light"
     },
     "output_type": "display_data"
    }
   ],
   "source": [
    "from sklearn.model_selection import train_test_split\n",
    "\n",
    "anobject = aug_functions.get_object(good_objects_df, 34299)\n",
    "anobject_train, anobject_test = train_test_split(anobject, test_size=0.36, random_state=11)\n",
    "\n",
    "# fit augmentation model\n",
    "model = None\n",
    "if augmentation_model == \"GP\":\n",
    "    import gp_aug\n",
    "    model = gp_aug.GaussianProcessesAugmentation(aug_functions.passband2lam)\n",
    "elif augmentation_model == \"NN_single\":\n",
    "    import single_layer_regressor\n",
    "    model = single_layer_regressor.SingleLayerNetAugmentation(aug_functions.passband2lam)\n",
    "elif augmentation_model == \"FE\":\n",
    "    import features_aug\n",
    "    model = features_aug.FeaturesEngineeringAugmentation(aug_functions.passband2lam)\n",
    "elif augmentation_model == \"MLP\":\n",
    "    import mlp_reg_aug\n",
    "    model = mlp_reg_aug.MLPRegressionAugmentation(aug_functions.passband2lam)\n",
    "else:\n",
    "    raise ValueError(\"Unknown augmentation type: {}\".format(augmentation_model))\n",
    "    \n",
    "# fit augmentation model\n",
    "model.fit(anobject_train['mjd'].values, anobject_train['flux'].values, \n",
    "          anobject_train['flux_err'].values, anobject_train['passband'].values)\n",
    "\n",
    "# predict flux for unseen observations\n",
    "flux_pred, flux_err_pred = model.predict(anobject_test['mjd'].values, anobject_test['passband'].values, copy=True)\n",
    "\n",
    "# augmentation\n",
    "t_aug, flux_aug, flux_err, passbands_aug = model.augmentation(anobject['mjd'].min(), \n",
    "                                                              anobject['mjd'].max(), \n",
    "                                                              n_obs=aug_functions.N_OBS)\n",
    "anobject_test_pred = aug_functions.compile_obj(anobject_test['mjd'].values, \n",
    "                                               flux_pred, anobject_test['passband'].values)\n",
    "anobject_aug = aug_functions.compile_obj(t_aug, flux_aug, passbands_aug)\n",
    "aug_functions.plot_light_curves(anobject_aug, \"Approximation\")"
   ]
  },
  {
   "cell_type": "code",
   "execution_count": 8,
   "metadata": {
    "scrolled": true
   },
   "outputs": [
    {
     "data": {
      "application/vnd.jupyter.widget-view+json": {
       "model_id": "225e6da648a64d44884ae3fd4b35b1e7",
       "version_major": 2,
       "version_minor": 0
      },
      "text/plain": [
       "HBox(children=(HTML(value=''), FloatProgress(value=0.0, max=2508.0), HTML(value='')))"
      ]
     },
     "metadata": {},
     "output_type": "display_data"
    },
    {
     "name": "stdout",
     "output_type": "stream",
     "text": [
      "\n",
      "(2508, 1, 500, 6) (2508,)\n"
     ]
    }
   ],
   "source": [
    "from tqdm import tqdm_notebook\n",
    "\n",
    "all_data = []\n",
    "all_target_classes = []\n",
    "for good_id in tqdm_notebook(good_object_ids):\n",
    "    anobject = aug_functions.get_object(good_objects_df, good_id)\n",
    "    anobject_train, anobject_test = train_test_split(anobject, test_size=0.36, random_state=11)\n",
    "\n",
    "    # initialize augmentation model\n",
    "    model = None\n",
    "    if augmentation_model == \"GP\":\n",
    "        model = gp_aug.GaussianProcessesAugmentation(aug_functions.passband2lam)\n",
    "    elif augmentation_model == \"NN_single\":\n",
    "        model = single_layer_aug.SingleLayerNetAugmentation(aug_functions.passband2lam)\n",
    "    elif augmentation_model == \"FE\":\n",
    "        model = features_aug.FeaturesEngineeringAugmentation(aug_functions.passband2lam)\n",
    "    elif augmentation_model == \"MLP\":\n",
    "        model = mlp_reg_aug.MLPRegressionAugmentation(aug_functions.passband2lam)\n",
    "    else:\n",
    "        raise ValueError(\"Unknown augmentation type\")\n",
    "\n",
    "    # fit augmentation model\n",
    "    model.fit(anobject_train['mjd'].values, anobject_train['flux'].values, \n",
    "              anobject_train['flux_err'].values, anobject_train['passband'].values)\n",
    "\n",
    "    # predict flux for unseen observations\n",
    "    flux_pred, flux_err_pred = model.predict(anobject_test['mjd'].values, \n",
    "                                             anobject_test['passband'].values, copy=True)\n",
    "\n",
    "    # augmentation\n",
    "    t_aug, flux_aug, flux_err, passbands_aug = model.augmentation(anobject['mjd'].min(), \n",
    "                                                                  anobject['mjd'].max(), \n",
    "                                                                  n_obs=aug_functions.N_OBS)\n",
    "\n",
    "    data_array = flux_aug.reshape((aug_functions.N_PASSBANDS, aug_functions.N_OBS)).T\n",
    "    all_data.append([data_array])\n",
    "    \n",
    "    true_class = int(anobject['class'].to_numpy()[0])\n",
    "    all_target_classes.append(true_class)\n",
    "    \n",
    "all_data = np.array(all_data)\n",
    "all_target_classes = np.array(all_target_classes)\n",
    "print(all_data.shape, all_target_classes.shape)"
   ]
  },
  {
   "cell_type": "code",
   "execution_count": 9,
   "metadata": {},
   "outputs": [],
   "source": [
    "import torch\n",
    "import torch.nn as nn\n",
    "import torch.nn.functional as F\n",
    "import torchvision\n",
    "import torchvision.transforms as transforms\n",
    "from torch.utils.data import TensorDataset, DataLoader\n",
    "\n",
    "device = 'cpu'"
   ]
  },
  {
   "cell_type": "code",
   "execution_count": 10,
   "metadata": {},
   "outputs": [],
   "source": [
    "X_train, X_test, y_train, y_test = train_test_split(all_data, \n",
    "                                                    all_target_classes,\n",
    "                                                    test_size=0.4,\n",
    "                                                    random_state=179)\n",
    "\n",
    "# normalize input\n",
    "X_train_norm = np.array((X_train - X_train.mean()) / X_train.std(), dtype=np.float32)\n",
    "X_test_norm = np.array((X_test - X_train.mean()) / X_train.std(), dtype=np.float32)\n",
    "\n",
    "X_train_tensor = torch.from_numpy(X_train_norm)\n",
    "y_train_tensor = torch.from_numpy(np.array(y_train, dtype=np.float32))\n",
    "\n",
    "train_data = TensorDataset(X_train_tensor, y_train_tensor)\n",
    "trainloader = torch.utils.data.DataLoader(train_data, batch_size=1,\n",
    "                                          shuffle=True, num_workers=2)\n",
    "\n",
    "X_test_tensor = torch.from_numpy(X_test_norm)\n",
    "y_test_tensor = torch.from_numpy(np.array(y_test, dtype=np.float32))\n",
    "\n",
    "test_data = TensorDataset(X_test_tensor, y_test_tensor)\n",
    "testloader = torch.utils.data.DataLoader(test_data, batch_size=1,\n",
    "                                         shuffle=False, num_workers=2)"
   ]
  },
  {
   "cell_type": "code",
   "execution_count": 11,
   "metadata": {},
   "outputs": [],
   "source": [
    "class Net(nn.Module):\n",
    "    def __init__(self):\n",
    "        super(Net, self).__init__()\n",
    "        self.conv1 = nn.Conv2d(1, 4, kernel_size=(10, 2))\n",
    "        self.conv2 = nn.Conv2d(4, 8, kernel_size=(10, 2))\n",
    "        self.conv3 = nn.Conv1d(8, 16, kernel_size=(5, 2))\n",
    "        self.pool = nn.MaxPool2d(2, 2)\n",
    "        self.dropout = nn.Dropout(0.2)\n",
    "        self.fc1 = nn.Linear(3824, 64)\n",
    "        self.fc2 = nn.Linear(64, 1)\n",
    "\n",
    "    def forward(self, x):\n",
    "        x = F.leaky_relu(self.conv1(x))\n",
    "        x = F.leaky_relu(self.conv2(x))\n",
    "        x = F.leaky_relu(self.conv3(x))\n",
    "        x = self.pool(x)\n",
    "        x = self.dropout(x)\n",
    "        \n",
    "        x = x.view(-1, 3824)\n",
    "        \n",
    "        x = F.relu(self.fc1(x))\n",
    "        x = F.sigmoid(self.fc2(x))\n",
    "        return x"
   ]
  },
  {
   "cell_type": "code",
   "execution_count": 12,
   "metadata": {},
   "outputs": [],
   "source": [
    "import torch.optim as optim\n",
    "\n",
    "net = Net()\n",
    "criterion = nn.BCELoss()\n",
    "optimizer = optim.SGD(net.parameters(), lr=0.001)"
   ]
  },
  {
   "cell_type": "code",
   "execution_count": 13,
   "metadata": {},
   "outputs": [],
   "source": [
    "def get_model_accuracy(net, data_loader):\n",
    "    correct = 0\n",
    "    total = 0\n",
    "\n",
    "    with torch.no_grad():\n",
    "        for test_info in data_loader:\n",
    "            images, test_labels = test_info\n",
    "            test_outputs = net(images)\n",
    "            prob = test_outputs.item()\n",
    "            if prob > 0.5:\n",
    "                predicted = 1\n",
    "            else:\n",
    "                predicted = 0\n",
    "            total += test_labels.size(0)\n",
    "            correct += (predicted == test_labels.item())\n",
    "\n",
    "    return correct / total"
   ]
  },
  {
   "cell_type": "code",
   "execution_count": 14,
   "metadata": {
    "scrolled": true
   },
   "outputs": [
    {
     "data": {
      "application/vnd.jupyter.widget-view+json": {
       "model_id": "6bb62cea448648039ae0451b43c59f4c",
       "version_major": 2,
       "version_minor": 0
      },
      "text/plain": [
       "HBox(children=(HTML(value=''), FloatProgress(value=0.0), HTML(value='')))"
      ]
     },
     "metadata": {},
     "output_type": "display_data"
    },
    {
     "name": "stdout",
     "output_type": "stream",
     "text": [
      "[   10] error: 0.685\n",
      "[   20] error: 0.522\n",
      "[   30] error: 0.274\n",
      "[   40] error: 0.222\n",
      "[   50] error: 0.171\n",
      "[   60] error: 0.148\n",
      "[   70] error: 0.121\n",
      "[   80] error: 0.111\n",
      "[   90] error: 0.315\n",
      "[  100] error: 0.114\n",
      "\n",
      "Finished Training\n"
     ]
    }
   ],
   "source": [
    "epochs = np.arange(100)\n",
    "for epoch in tqdm_notebook(epochs):  # loop over the dataset multiple times\n",
    "    epoch_loss = 0.0\n",
    "    for info in trainloader:\n",
    "        # get the inputs; info is a list of [inputs, labels]\n",
    "        inputs, labels = info\n",
    "\n",
    "        # zero the parameter gradients\n",
    "        for param in net.parameters():\n",
    "            param.grad = None\n",
    "        \n",
    "        # forward + backward + optimize\n",
    "        outputs = net(inputs)\n",
    "        loss = criterion(outputs, labels)\n",
    "        loss.backward()\n",
    "        optimizer.step()\n",
    "\n",
    "        epoch_loss += loss.item()\n",
    "\n",
    "    # print mean loss for the epoch\n",
    "    cur_loss = epoch_loss / X_train_norm.shape[0]\n",
    "    if (epoch + 1) % 10 == 0:\n",
    "        print('[%5d] error: %.3f' % (epoch + 1, cur_loss))\n",
    "\n",
    "print('Finished Training')"
   ]
  },
  {
   "cell_type": "code",
   "execution_count": 15,
   "metadata": {},
   "outputs": [
    {
     "name": "stdout",
     "output_type": "stream",
     "text": [
      "Test accuracy of the network on the 1004 test images: 0.9273\n",
      "Train accuracy of the network on the 1504 train images: 0.9515\n"
     ]
    }
   ],
   "source": [
    "test_accuracy = get_model_accuracy(net, testloader)\n",
    "train_accuracy = get_model_accuracy(net, trainloader)\n",
    "\n",
    "print('Test accuracy of the network on the %d test images: %.4f' % \n",
    "      (X_test_norm.shape[0], test_accuracy))\n",
    "print('Train accuracy of the network on the %d train images: %.4f' % \n",
    "      (X_train_norm.shape[0], train_accuracy))"
   ]
  },
  {
   "cell_type": "code",
   "execution_count": 16,
   "metadata": {},
   "outputs": [],
   "source": [
    "y_test = []\n",
    "y_probs = []\n",
    "y_probs_0 = []\n",
    "y_probs_1 = []\n",
    "\n",
    "with torch.no_grad():\n",
    "    for test_info in testloader:\n",
    "        images, test_labels = test_info\n",
    "        test_outputs = net(images)\n",
    "        prob = test_outputs.item()\n",
    "            \n",
    "        true_class = int(test_labels.item())\n",
    "        if true_class == 0:\n",
    "            y_probs_0.append(prob)\n",
    "        else:\n",
    "            y_probs_1.append(prob)\n",
    "\n",
    "        y_test.append(true_class)\n",
    "        y_probs.append(prob)"
   ]
  },
  {
   "cell_type": "code",
   "execution_count": 17,
   "metadata": {},
   "outputs": [
    {
     "name": "stdout",
     "output_type": "stream",
     "text": [
      "LogLoss = 2.4769\n"
     ]
    }
   ],
   "source": [
    "from sklearn.metrics import log_loss\n",
    "y_pred = np.array(y_probs) > 0.5\n",
    "print(\"LogLoss = %.4f\" % log_loss(y_test, y_pred))"
   ]
  },
  {
   "cell_type": "code",
   "execution_count": 18,
   "metadata": {},
   "outputs": [
    {
     "data": {
      "image/png": "[encoded data removed]",
      "text/plain": [
       "<Figure size 800x480 with 1 Axes>"
      ]
     },
     "metadata": {
      "needs_background": "light"
     },
     "output_type": "display_data"
    }
   ],
   "source": [
    "fig = plt.figure(dpi=80, figsize=(10, 6))\n",
    "plt.title(\"CNN classification output distribution\", fontsize=20)\n",
    "plt.xticks(fontsize=14, color=\"black\")\n",
    "plt.yticks(fontsize=14, color=\"black\")\n",
    "plt.grid(True)\n",
    "plt.hist(y_probs_0, bins=40, color=\"xkcd:dark magenta\", align=\"left\", rwidth=0.75, alpha=0.6, log=True)\n",
    "plt.hist(y_probs_1, bins=40, color=\"xkcd:bright blue\", rwidth=0.75, alpha=0.6, log=True)\n",
    "plt.show()\n",
    "fig.savefig(\"../pictures/CNN_output_hist_{}.pdf\".format(augmentation_model),\n",
    "           bbox_inches='tight', pad_inches=0.01)"
   ]
  },
  {
   "cell_type": "code",
   "execution_count": 19,
   "metadata": {},
   "outputs": [
    {
     "name": "stdout",
     "output_type": "stream",
     "text": [
      "Test ROC-AUC: 0.9816, test PR-AUC: 0.9822\n"
     ]
    },
    {
     "data": {
      "image/png": "[encoded data removed]",
      "text/plain": [
       "<Figure size 1200x480 with 2 Axes>"
      ]
     },
     "metadata": {
      "needs_background": "light"
     },
     "output_type": "display_data"
    }
   ],
   "source": [
    "from sklearn.metrics import roc_auc_score\n",
    "from sklearn.metrics import roc_curve\n",
    "from sklearn.metrics import precision_recall_curve\n",
    "from sklearn.metrics import average_precision_score\n",
    "\n",
    "DPI = 80\n",
    "SIZE_X, SIZE_Y = 15, 6\n",
    "\n",
    "print(\"Test ROC-AUC: %.4f, test PR-AUC: %.4f\" % (roc_auc_score(y_test, y_probs), \n",
    "                                                 average_precision_score(y_test, y_probs)))\n",
    "\n",
    "precision, recall, _ = precision_recall_curve(y_test, y_probs)\n",
    "\n",
    "fig = plt.figure(dpi=80, figsize=(15, 6))\n",
    "ax = fig.add_subplot(121)\n",
    "plt.grid(True)\n",
    "plt.xticks(color=\"black\", fontsize=13, ha=\"left\")\n",
    "plt.yticks(color=\"black\", fontsize=13, va=\"bottom\")\n",
    "ax.set_title(\"Precision-Recall curve\", fontsize=20, color=\"black\")\n",
    "ax.fill_between(recall, precision, alpha=0.6, color=\"xkcd:apple green\", lw=2)\n",
    "ax.set_xlim(0, 1.)\n",
    "ax.set_ylim(0, 1.05)\n",
    "\n",
    "fpr, tpr, thresholds = roc_curve(y_test, y_probs)\n",
    "\n",
    "ax = fig.add_subplot(122)\n",
    "plt.grid(True)\n",
    "plt.xticks(color=\"black\", fontsize=13, ha=\"left\")\n",
    "plt.yticks(color=\"black\", fontsize=13, va=\"bottom\")\n",
    "ax.set_title(\"ROC curve\", fontsize=20, color=\"black\")\n",
    "ax.fill_between(fpr, tpr, alpha=0.6, color=\"xkcd:salmon\", lw=2)\n",
    "ax.set_xlim(0, 1.)\n",
    "ax.set_ylim(0, 1.05)\n",
    "\n",
    "fig.savefig(\"../pictures/CNN_pr_roc_curves_{}.pdf\".format(augmentation_model), \n",
    "            bbox_inches='tight', pad_inches=0.01)"
   ]
  },
  {
   "cell_type": "code",
   "execution_count": null,
   "metadata": {},
   "outputs": [],
   "source": []
  },
  {
   "cell_type": "code",
   "execution_count": 20,
   "metadata": {},
   "outputs": [],
   "source": [
    "# добавить тестирование на плохих объектах..."
   ]
  },
  {
   "cell_type": "code",
   "execution_count": 21,
   "metadata": {},
   "outputs": [
    {
     "ename": "AssertionError",
     "evalue": "",
     "output_type": "error",
     "traceback": [
      "\u001b[0;31m---------------------------------------------------------------------------\u001b[0m",
      "\u001b[0;31mAssertionError\u001b[0m                            Traceback (most recent call last)",
      "\u001b[0;32m<ipython-input-21-e99f91a18d62>\u001b[0m in \u001b[0;36m<module>\u001b[0;34m\u001b[0m\n\u001b[0;32m----> 1\u001b[0;31m \u001b[0;32massert\u001b[0m \u001b[0;36m1\u001b[0m \u001b[0;34m==\u001b[0m \u001b[0;36m0\u001b[0m\u001b[0;34m\u001b[0m\u001b[0;34m\u001b[0m\u001b[0m\n\u001b[0m",
      "\u001b[0;31mAssertionError\u001b[0m: "
     ]
    }
   ],
   "source": [
    "assert 1 == 0"
   ]
  },
  {
   "cell_type": "code",
   "execution_count": null,
   "metadata": {},
   "outputs": [],
   "source": [
    "# metrics = [ROC-AUC, PR-AUC, Accuracy, LogLoss, Time]\n",
    "GP = [0.9786, 0.9643, 0.9313, 2.0641, \"08:51\"]\n",
    "NN_1 = [0.9735, 0.9675, 0.9223, 2.7177, \"40:46\"]\n",
    "FE = [0.9841, 0.9830, 0.9303, 2.4081, \"50:34\"]\n",
    "MLP = [0.9811, 0.9711, 0.9392, 2.0297, \"06:17\"]\n",
    "\n",
    "ans_df = pd.DataFrame(columns=[\"AUC-ROC\", \"AUC-PR\", \"Accuracy\", \"LogLoss\", \"Time\"],\n",
    "                     index=[\"GP\", \"NN 1L\", \"FE\", \"MLP\"],\n",
    "                     data=[GP, NN_1L, FE, MLP])\n",
    "ans_df"
   ]
  },
  {
   "cell_type": "code",
   "execution_count": null,
   "metadata": {},
   "outputs": [],
   "source": [
    "y_prob_all = []\n",
    "y_test_all = []"
   ]
  },
  {
   "cell_type": "code",
   "execution_count": null,
   "metadata": {},
   "outputs": [],
   "source": [
    "augmentation_model = \"GP\""
   ]
  },
  {
   "cell_type": "code",
   "execution_count": null,
   "metadata": {},
   "outputs": [],
   "source": [
    "meta_file_test = '../data/plasticc/plasticc_test_metadata.csv.gz'\n",
    "metadata = pd.read_csv(meta_file_test)\n",
    "\n",
    "for batch_number in range(1, 12):\n",
    "    file = \"../data/plasticc/PLAsTiCC-2018/test_set_batch{}.csv\".format(batch_number)\n",
    "    data = pd.read_csv(file)\n",
    "\n",
    "    data = data[data.detected == 1]\n",
    "    object_ids = np.unique(data.object_id)\n",
    "    print(batch_number, object_ids.shape)\n",
    "    \n",
    "    data[\"log_lam\"] = data.apply(lambda x: aug_functions.passband2lam[x.passband], axis=1)\n",
    "    \n",
    "    all_data = []\n",
    "    all_target_classes = []\n",
    "\n",
    "    for i in tqdm_notebook(object_ids):\n",
    "        if i in good_object_ids:\n",
    "            continue\n",
    "        \n",
    "        anobject = aug_functions.get_object(data, i)\n",
    "        \n",
    "        anobject_train, anobject_test = train_test_split(anobject, test_size=0.36, random_state=11)\n",
    "\n",
    "        model = None\n",
    "        if augmentation_model == \"GP\":\n",
    "            model = gp_aug.GaussianProcessesAugmentation(aug_functions.passband2lam)\n",
    "        elif augmentation_model == \"NN_single\":\n",
    "            model = single_layer_regressor.SingleLayerNetAugmentation(aug_functions.passband2lam)\n",
    "        else:\n",
    "            raise ValueError(\"Unknown augmentation type\")\n",
    "\n",
    "        try:\n",
    "            model.fit(anobject_train['mjd'].values, anobject_train['flux'].values, \n",
    "                      anobject_train['flux_err'].values, anobject_train['passband'].values)\n",
    "        except:\n",
    "            continue\n",
    "\n",
    "        flux_pred = model.predict(anobject_test['mjd'].values, anobject_test['passband'].values, copy=True)\n",
    "\n",
    "        t_aug, flux_aug, flux_err_aug, passbands_aug = model.augmentation(anobject['mjd'].min(), \n",
    "                                                                          anobject['mjd'].max(), \n",
    "                                                                          n_obs=aug_functions.N_OBS)\n",
    "\n",
    "        data_array = flux_aug.reshape((aug_functions.N_PASSBANDS, aug_functions.N_OBS)).T\n",
    "        all_data.append([data_array])\n",
    "        true_class = 1 if int(metadata[metadata.object_id == i].true_target.to_numpy()[0]) in (90, 67, 52) else 0\n",
    "        all_target_classes.append(true_class)\n",
    "\n",
    "    all_data = np.array(all_data)\n",
    "    all_target_classes = np.array(all_target_classes)\n",
    "    print(batch_number, all_data.shape, all_target_classes.shape)\n",
    "    \n",
    "    X_test_batch_norm = np.array((all_data - X_train.mean()) / X_train.std(), dtype=np.float32)\n",
    "    X_test_batch_tensor = torch.from_numpy(X_test_batch_norm)\n",
    "\n",
    "    y_test_batch_tensor = torch.from_numpy(np.array(all_target_classes, dtype=np.float32))\n",
    "\n",
    "    test_batch_data = TensorDataset(X_test_batch_tensor, y_test_batch_tensor)\n",
    "    test_batch_loader = torch.utils.data.DataLoader(test_batch_data, batch_size=1, shuffle=True, num_workers=2)\n",
    "\n",
    "    with torch.no_grad():\n",
    "        for test_info in test_batch_loader:\n",
    "            images, test_labels = test_info\n",
    "            test_outputs = net(images)\n",
    "            prob = test_outputs.item()\n",
    "            \n",
    "            y_prob_all.append(prob)\n",
    "            y_test_all.append(test_labels.item())\n",
    "            \n",
    "    del data\n",
    "    del object_ids\n",
    "    del all_data\n",
    "    del all_target_classes\n",
    "    del X_test_batch_norm\n",
    "    del X_test_batch_tensor\n",
    "    del y_test_batch_tensor\n",
    "    del test_batch_data\n",
    "    del test_batch_loader"
   ]
  },
  {
   "cell_type": "code",
   "execution_count": null,
   "metadata": {},
   "outputs": [],
   "source": []
  }
 ],
 "metadata": {
  "kernelspec": {
   "display_name": "Python 3",
   "language": "python",
   "name": "python3"
  },
  "language_info": {
   "codemirror_mode": {
    "name": "ipython",
    "version": 3
   },
   "file_extension": ".py",
   "mimetype": "text/x-python",
   "name": "python",
   "nbconvert_exporter": "python",
   "pygments_lexer": "ipython3",
   "version": "3.6.12"
  }
 },
 "nbformat": 4,
 "nbformat_minor": 4
}
