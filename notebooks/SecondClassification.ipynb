{
 "cells": [
  {
   "cell_type": "code",
   "execution_count": 1,
   "metadata": {},
   "outputs": [],
   "source": [
    "%matplotlib inline\n",
    "import numpy as np\n",
    "import pandas as pd\n",
    "#import h5py\n",
    "import sklearn\n",
    "\n",
    "#import utils\n",
    "\n",
    "import warnings\n",
    "warnings.filterwarnings(\"ignore\")\n",
    "\n",
    "N_OBS = 1000\n",
    "N_PASSBANDS = 6"
   ]
  },
  {
   "cell_type": "code",
   "execution_count": 2,
   "metadata": {},
   "outputs": [],
   "source": [
    "import matplotlib\n",
    "matplotlib.rcParams['text.usetex'] = True\n",
    "\n",
    "import matplotlib.pyplot as plt\n",
    "from matplotlib import rc\n",
    "\n",
    "rc('font',**{'family':'serif'})\n",
    "rc('text', usetex=True)\n",
    "rc('text.latex', preamble='''\n",
    "        \\\\usepackage[utf8]{inputenc}\n",
    "        \\\\usepackage{amssymb}\n",
    "        \\\\usepackage{amsfonts}\n",
    "        \\\\usepackage[russian]{babel}''')"
   ]
  },
  {
   "cell_type": "code",
   "execution_count": 3,
   "metadata": {},
   "outputs": [
    {
     "data": {
      "text/html": [
       "<div>\n",
       "<style scoped>\n",
       "    .dataframe tbody tr th:only-of-type {\n",
       "        vertical-align: middle;\n",
       "    }\n",
       "\n",
       "    .dataframe tbody tr th {\n",
       "        vertical-align: top;\n",
       "    }\n",
       "\n",
       "    .dataframe thead th {\n",
       "        text-align: right;\n",
       "    }\n",
       "</style>\n",
       "<table border=\"1\" class=\"dataframe\">\n",
       "  <thead>\n",
       "    <tr style=\"text-align: right;\">\n",
       "      <th></th>\n",
       "      <th>ra</th>\n",
       "      <th>decl</th>\n",
       "      <th>ddf_bool</th>\n",
       "      <th>hostgal_specz</th>\n",
       "      <th>hostgal_photoz</th>\n",
       "      <th>hostgal_photoz_err</th>\n",
       "      <th>distmod</th>\n",
       "      <th>mwebv</th>\n",
       "      <th>target</th>\n",
       "      <th>true_target</th>\n",
       "      <th>...</th>\n",
       "      <th>true_rv</th>\n",
       "      <th>true_av</th>\n",
       "      <th>true_peakmjd</th>\n",
       "      <th>libid_cadence</th>\n",
       "      <th>tflux_u</th>\n",
       "      <th>tflux_g</th>\n",
       "      <th>tflux_r</th>\n",
       "      <th>tflux_i</th>\n",
       "      <th>tflux_z</th>\n",
       "      <th>tflux_y</th>\n",
       "    </tr>\n",
       "    <tr>\n",
       "      <th>object_id</th>\n",
       "      <th></th>\n",
       "      <th></th>\n",
       "      <th></th>\n",
       "      <th></th>\n",
       "      <th></th>\n",
       "      <th></th>\n",
       "      <th></th>\n",
       "      <th></th>\n",
       "      <th></th>\n",
       "      <th></th>\n",
       "      <th></th>\n",
       "      <th></th>\n",
       "      <th></th>\n",
       "      <th></th>\n",
       "      <th></th>\n",
       "      <th></th>\n",
       "      <th></th>\n",
       "      <th></th>\n",
       "      <th></th>\n",
       "      <th></th>\n",
       "      <th></th>\n",
       "    </tr>\n",
       "  </thead>\n",
       "  <tbody>\n",
       "    <tr>\n",
       "      <th>615</th>\n",
       "      <td>349.0461</td>\n",
       "      <td>-61.9438</td>\n",
       "      <td>1</td>\n",
       "      <td>0.000</td>\n",
       "      <td>0.000</td>\n",
       "      <td>0.000</td>\n",
       "      <td>-9.000</td>\n",
       "      <td>0.017</td>\n",
       "      <td>92</td>\n",
       "      <td>92</td>\n",
       "      <td>...</td>\n",
       "      <td>0.0</td>\n",
       "      <td>0.0</td>\n",
       "      <td>59570.000</td>\n",
       "      <td>69</td>\n",
       "      <td>484.7</td>\n",
       "      <td>3286.7</td>\n",
       "      <td>3214.1</td>\n",
       "      <td>3039.7</td>\n",
       "      <td>2854.5</td>\n",
       "      <td>2837.0</td>\n",
       "    </tr>\n",
       "    <tr>\n",
       "      <th>713</th>\n",
       "      <td>53.0859</td>\n",
       "      <td>-27.7844</td>\n",
       "      <td>1</td>\n",
       "      <td>1.818</td>\n",
       "      <td>1.627</td>\n",
       "      <td>0.255</td>\n",
       "      <td>45.406</td>\n",
       "      <td>0.007</td>\n",
       "      <td>88</td>\n",
       "      <td>88</td>\n",
       "      <td>...</td>\n",
       "      <td>0.0</td>\n",
       "      <td>0.0</td>\n",
       "      <td>59570.000</td>\n",
       "      <td>34</td>\n",
       "      <td>108.7</td>\n",
       "      <td>117.7</td>\n",
       "      <td>119.9</td>\n",
       "      <td>149.6</td>\n",
       "      <td>147.9</td>\n",
       "      <td>150.5</td>\n",
       "    </tr>\n",
       "    <tr>\n",
       "      <th>730</th>\n",
       "      <td>33.5742</td>\n",
       "      <td>-6.5796</td>\n",
       "      <td>1</td>\n",
       "      <td>0.232</td>\n",
       "      <td>0.226</td>\n",
       "      <td>0.016</td>\n",
       "      <td>40.256</td>\n",
       "      <td>0.021</td>\n",
       "      <td>42</td>\n",
       "      <td>42</td>\n",
       "      <td>...</td>\n",
       "      <td>0.0</td>\n",
       "      <td>0.0</td>\n",
       "      <td>60444.379</td>\n",
       "      <td>9</td>\n",
       "      <td>0.0</td>\n",
       "      <td>0.0</td>\n",
       "      <td>0.0</td>\n",
       "      <td>0.0</td>\n",
       "      <td>0.0</td>\n",
       "      <td>0.0</td>\n",
       "    </tr>\n",
       "    <tr>\n",
       "      <th>745</th>\n",
       "      <td>0.1899</td>\n",
       "      <td>-45.5867</td>\n",
       "      <td>1</td>\n",
       "      <td>0.304</td>\n",
       "      <td>0.281</td>\n",
       "      <td>1.152</td>\n",
       "      <td>40.795</td>\n",
       "      <td>0.007</td>\n",
       "      <td>90</td>\n",
       "      <td>90</td>\n",
       "      <td>...</td>\n",
       "      <td>0.0</td>\n",
       "      <td>0.0</td>\n",
       "      <td>60130.453</td>\n",
       "      <td>38</td>\n",
       "      <td>0.0</td>\n",
       "      <td>0.0</td>\n",
       "      <td>0.0</td>\n",
       "      <td>0.0</td>\n",
       "      <td>0.0</td>\n",
       "      <td>0.0</td>\n",
       "    </tr>\n",
       "    <tr>\n",
       "      <th>1124</th>\n",
       "      <td>352.7113</td>\n",
       "      <td>-63.8237</td>\n",
       "      <td>1</td>\n",
       "      <td>0.193</td>\n",
       "      <td>0.241</td>\n",
       "      <td>0.018</td>\n",
       "      <td>40.417</td>\n",
       "      <td>0.024</td>\n",
       "      <td>90</td>\n",
       "      <td>90</td>\n",
       "      <td>...</td>\n",
       "      <td>0.0</td>\n",
       "      <td>0.0</td>\n",
       "      <td>60452.641</td>\n",
       "      <td>1</td>\n",
       "      <td>0.0</td>\n",
       "      <td>0.0</td>\n",
       "      <td>0.0</td>\n",
       "      <td>0.0</td>\n",
       "      <td>0.0</td>\n",
       "      <td>0.0</td>\n",
       "    </tr>\n",
       "  </tbody>\n",
       "</table>\n",
       "<p>5 rows × 25 columns</p>\n",
       "</div>"
      ],
      "text/plain": [
       "                 ra     decl  ddf_bool  hostgal_specz  hostgal_photoz  \\\n",
       "object_id                                                               \n",
       "615        349.0461 -61.9438         1          0.000           0.000   \n",
       "713         53.0859 -27.7844         1          1.818           1.627   \n",
       "730         33.5742  -6.5796         1          0.232           0.226   \n",
       "745          0.1899 -45.5867         1          0.304           0.281   \n",
       "1124       352.7113 -63.8237         1          0.193           0.241   \n",
       "\n",
       "           hostgal_photoz_err  distmod  mwebv  target  true_target  ...  \\\n",
       "object_id                                                           ...   \n",
       "615                     0.000   -9.000  0.017      92           92  ...   \n",
       "713                     0.255   45.406  0.007      88           88  ...   \n",
       "730                     0.016   40.256  0.021      42           42  ...   \n",
       "745                     1.152   40.795  0.007      90           90  ...   \n",
       "1124                    0.018   40.417  0.024      90           90  ...   \n",
       "\n",
       "           true_rv  true_av  true_peakmjd  libid_cadence  tflux_u  tflux_g  \\\n",
       "object_id                                                                    \n",
       "615            0.0      0.0     59570.000             69    484.7   3286.7   \n",
       "713            0.0      0.0     59570.000             34    108.7    117.7   \n",
       "730            0.0      0.0     60444.379              9      0.0      0.0   \n",
       "745            0.0      0.0     60130.453             38      0.0      0.0   \n",
       "1124           0.0      0.0     60452.641              1      0.0      0.0   \n",
       "\n",
       "           tflux_r  tflux_i  tflux_z  tflux_y  \n",
       "object_id                                      \n",
       "615         3214.1   3039.7   2854.5   2837.0  \n",
       "713          119.9    149.6    147.9    150.5  \n",
       "730            0.0      0.0      0.0      0.0  \n",
       "745            0.0      0.0      0.0      0.0  \n",
       "1124           0.0      0.0      0.0      0.0  \n",
       "\n",
       "[5 rows x 25 columns]"
      ]
     },
     "execution_count": 3,
     "metadata": {},
     "output_type": "execute_result"
    }
   ],
   "source": [
    "metadata = pd.read_csv('../data/plasticc/plasticc_train_metadata.csv.gz', index_col=0)\n",
    "data = pd.read_csv('../data/plasticc/plasticc_train_lightcurves.csv.gz')\n",
    "\n",
    "data = data[data.detected_bool == 1]\n",
    "metadata.head()"
   ]
  },
  {
   "cell_type": "code",
   "execution_count": 4,
   "metadata": {},
   "outputs": [],
   "source": [
    "object_ids = np.unique(data.object_id)"
   ]
  },
  {
   "cell_type": "code",
   "execution_count": 5,
   "metadata": {},
   "outputs": [],
   "source": [
    "passband2name = {0: 'u', 1: 'g', 2: 'r', 3: 'i', 4: 'z', 5: 'y'}\n",
    "passband2lam  = {0: np.log10(3751.36), 1: np.log10(4741.64), 2: np.log10(6173.23), \n",
    "                 3: np.log10(7501.62), 4: np.log10(8679.19), 5: np.log10(9711.53)}\n",
    "\n",
    "data[\"log_lam\"] = data.apply(lambda x: passband2lam[x.passband], axis=1)"
   ]
  },
  {
   "cell_type": "code",
   "execution_count": 6,
   "metadata": {},
   "outputs": [],
   "source": [
    "def get_object(data, object_id):\n",
    "    anobject = data[data.object_id == object_id]\n",
    "    return anobject"
   ]
  },
  {
   "cell_type": "code",
   "execution_count": 7,
   "metadata": {},
   "outputs": [],
   "source": [
    "def get_passband(anobject, passband):\n",
    "    light_curve = anobject[anobject.passband == passband]\n",
    "    return light_curve"
   ]
  },
  {
   "cell_type": "code",
   "execution_count": 8,
   "metadata": {},
   "outputs": [],
   "source": [
    "def create_approx_object(anobject, n=1000):\n",
    "    mjd = anobject['mjd'].values\n",
    "    df_s = []\n",
    "    for passband in range(6):\n",
    "        df = pd.DataFrame()\n",
    "        df['mjd'] = np.linspace(mjd.min(), mjd.max(), n)\n",
    "        df['object_id'] = anobject.object_id\n",
    "        df['passband'] = passband\n",
    "        df['log_lam'] = passband2lam[passband]\n",
    "        df['flux'] = 0\n",
    "        df['flux_err'] = 0\n",
    "        df['detected_bool'] = 1\n",
    "        df_s.append(df)\n",
    "    new_object = pd.concat(df_s, axis=0)\n",
    "    return new_object"
   ]
  },
  {
   "cell_type": "code",
   "execution_count": 9,
   "metadata": {},
   "outputs": [],
   "source": [
    "def is_good(anobject):\n",
    "    # remove all objects with negative flux values\n",
    "    if anobject['flux'].values.min() < 0:\n",
    "        return False\n",
    "    \n",
    "    # keep only objects with at least 10 observations in at least 3 passbands\n",
    "    count = 0\n",
    "    for passband in range(6):\n",
    "        if len(get_passband(anobject, passband)) < 10:\n",
    "            count += 1\n",
    "    if count > 3:\n",
    "        return False\n",
    "        \n",
    "    # keep only objects without large breaks in observations\n",
    "    anobject = anobject.sort_values('mjd')\n",
    "    mjd = anobject['mjd'].values\n",
    "    if np.diff(mjd, 1).max() > 50:\n",
    "        return False\n",
    "    \n",
    "    return True"
   ]
  },
  {
   "cell_type": "code",
   "execution_count": 10,
   "metadata": {},
   "outputs": [],
   "source": [
    "def plot_light_curves(anobject, title=\"\"):\n",
    "    anobject = anobject.sort_values('mjd')\n",
    "    fig = plt.figure(figsize=(9, 5), tight_layout = {'pad': 0})\n",
    "    for passband in range(6):\n",
    "        light_curve = get_passband(anobject, passband)\n",
    "        plt.plot(light_curve['mjd'].values, light_curve['flux'].values, '-o', \n",
    "                    label=passband2name[passband], linewidth=2)\n",
    "    plt.xlabel('Modified Julian Date', fontsize=24)\n",
    "    plt.xticks(fontsize=22)\n",
    "    plt.ylabel('Flux', fontsize=24)\n",
    "    plt.yticks(fontsize=22)\n",
    "    plt.legend(loc='best', ncol=2, fontsize=24, columnspacing=1.0)\n",
    "    plt.title(title, fontsize=20)\n",
    "    plt.grid(True)\n",
    "    plt.show()\n",
    "#    fig.savefig(\"../pictures/light_curve_{}.pdf\".format(anobject.object_id.to_numpy()[0]))"
   ]
  },
  {
   "cell_type": "code",
   "execution_count": 11,
   "metadata": {},
   "outputs": [
    {
     "data": {
      "image/png": "[encoded data removed]",
      "text/plain": [
       "<Figure size 648x360 with 1 Axes>"
      ]
     },
     "metadata": {
      "needs_background": "light"
     },
     "output_type": "display_data"
    }
   ],
   "source": [
    "anobject = get_object(data, 19213)\n",
    "\n",
    "plot_light_curves(anobject)"
   ]
  },
  {
   "cell_type": "code",
   "execution_count": 12,
   "metadata": {},
   "outputs": [
    {
     "name": "stdout",
     "output_type": "stream",
     "text": [
      "(1000,) (1000, 6)\n"
     ]
    }
   ],
   "source": [
    "from sklearn.model_selection import train_test_split\n",
    "import gp_aug\n",
    "\n",
    "anobject = get_object(data, 19213)\n",
    "anobject_train, anobject_test = train_test_split(anobject, test_size=0.36, random_state=11)\n",
    "\n",
    "# fit augmentation model\n",
    "model = gp_aug.GaussianProcessesAugmentation(passband2lam)\n",
    "model.fit(anobject_train['mjd'].values, anobject_train['flux'].values, \n",
    "          anobject_train['flux_err'].values, anobject_train['passband'].values)\n",
    "\n",
    "# predict flux for unseen observations\n",
    "flux_pred = model.predict(anobject_test['mjd'].values, anobject_test['passband'].values, copy=True)\n",
    "\n",
    "# augmentation\n",
    "t_aug, flux_aug, flux_err_aug, passbands_aug = model.augmentation(anobject['mjd'].min(), \n",
    "                                                                  anobject['mjd'].max(), n_obs=1000)\n",
    "\n",
    "t_aug_one = np.array(t_aug[:1000])\n",
    "flux_aug_list = flux_aug.reshape((N_PASSBANDS, N_OBS)).T\n",
    "print(t_aug_one.shape, flux_aug_list.shape)"
   ]
  },
  {
   "cell_type": "code",
   "execution_count": 13,
   "metadata": {},
   "outputs": [],
   "source": [
    "good_object_ids = []\n",
    "for i in object_ids:\n",
    "    anobject = get_object(data, i)\n",
    "    \n",
    "    if is_good(anobject):\n",
    "        good_object_ids.append(i)"
   ]
  },
  {
   "cell_type": "code",
   "execution_count": 14,
   "metadata": {},
   "outputs": [
    {
     "data": {
      "application/vnd.jupyter.widget-view+json": {
       "model_id": "55b254c755244383ba070fd798a815c7",
       "version_major": 2,
       "version_minor": 0
      },
      "text/plain": [
       "HBox(children=(HTML(value=''), FloatProgress(value=0.0, max=516.0), HTML(value='')))"
      ]
     },
     "metadata": {},
     "output_type": "display_data"
    },
    {
     "name": "stdout",
     "output_type": "stream",
     "text": [
      "\n",
      "(516, 1, 1000, 6) (516,)\n"
     ]
    }
   ],
   "source": [
    "from tqdm import tqdm_notebook\n",
    "\n",
    "all_data = []\n",
    "all_target_classes = []\n",
    "for good_id in tqdm_notebook(good_object_ids):\n",
    "    anobject = get_object(data, good_id)\n",
    "    anobject_train, anobject_test = train_test_split(anobject, test_size=0.36, random_state=11)\n",
    "\n",
    "    model = gp_aug.GaussianProcessesAugmentation(passband2lam)\n",
    "    model.fit(anobject_train['mjd'].values, anobject_train['flux'].values, \n",
    "              anobject_train['flux_err'].values, anobject_train['passband'].values)\n",
    "\n",
    "    flux_pred = model.predict(anobject_test['mjd'].values, anobject_test['passband'].values, copy=True)\n",
    "\n",
    "    t_aug, flux_aug, flux_err_aug, passbands_aug = model.augmentation(anobject['mjd'].min(), \n",
    "                                                                      anobject['mjd'].max(), n_obs=1000)\n",
    "\n",
    "    data_array = flux_aug.reshape((N_PASSBANDS, N_OBS)).T\n",
    "    all_data.append([data_array])\n",
    "    \n",
    "    true_target = int(metadata.loc[good_id].true_target)\n",
    "    true_class = 1 if true_target in (90, 67, 52) else 0 \n",
    "\n",
    "    all_target_classes.append(true_class)\n",
    "    \n",
    "all_data = np.array(all_data)\n",
    "all_target_classes = np.array(all_target_classes)\n",
    "print(all_data.shape, all_target_classes.shape)"
   ]
  },
  {
   "cell_type": "code",
   "execution_count": 15,
   "metadata": {},
   "outputs": [],
   "source": [
    "import torch\n",
    "import torch.nn as nn\n",
    "import torch.nn.functional as F\n",
    "import torchvision\n",
    "import torchvision.transforms as transforms\n",
    "from torch.utils.data import TensorDataset, DataLoader\n",
    "\n",
    "device = 'cpu'"
   ]
  },
  {
   "cell_type": "code",
   "execution_count": 16,
   "metadata": {},
   "outputs": [],
   "source": [
    "X_train, X_test, y_train, y_test = train_test_split(all_data, \n",
    "                                                    all_target_classes,\n",
    "                                                    test_size=0.4,\n",
    "                                                    random_state=179)\n",
    "\n",
    "# normalize input\n",
    "X_train_norm = np.array((X_train - X_train.mean()) / X_train.std(), dtype=np.float32)\n",
    "X_test_norm = np.array((X_test - X_train.mean()) / X_train.std(), dtype=np.float32)\n",
    "\n",
    "X_train_tensor = torch.from_numpy(X_train_norm)\n",
    "y_train_tensor = torch.from_numpy(y_train)\n",
    "\n",
    "train_data = TensorDataset(X_train_tensor, y_train_tensor)\n",
    "trainloader = torch.utils.data.DataLoader(train_data, batch_size=1,\n",
    "                                          shuffle=True, num_workers=2)\n",
    "\n",
    "X_test_tensor = torch.from_numpy(X_test_norm)\n",
    "y_test_tensor = torch.from_numpy(y_test)\n",
    "\n",
    "test_data = TensorDataset(X_test_tensor, y_test_tensor)\n",
    "testloader = torch.utils.data.DataLoader(test_data, batch_size=1,\n",
    "                                         shuffle=False, num_workers=2)"
   ]
  },
  {
   "cell_type": "code",
   "execution_count": 17,
   "metadata": {},
   "outputs": [],
   "source": [
    "class Net(nn.Module):\n",
    "    def __init__(self):\n",
    "        super(Net, self).__init__()\n",
    "        self.conv1 = nn.Conv2d(1, 4, kernel_size=(10, 2))\n",
    "        self.conv2 = nn.Conv2d(4, 8, kernel_size=(10, 2))\n",
    "        self.conv3 = nn.Conv1d(8, 16, kernel_size=(5, 2))\n",
    "        self.pool = nn.MaxPool2d(2, 2)\n",
    "        self.dropout = nn.Dropout(0.2)\n",
    "        self.fc1 = nn.Linear(7824, 64)\n",
    "        self.fc2 = nn.Linear(64, 2)\n",
    "\n",
    "    def forward(self, x):\n",
    "        x = F.leaky_relu(self.conv1(x))\n",
    "        x = F.leaky_relu(self.conv2(x))\n",
    "        x = F.leaky_relu(self.conv3(x))\n",
    "        x = self.pool(x)\n",
    "        x = self.dropout(x)\n",
    "        \n",
    "        x = x.view(-1, 7824)\n",
    "        \n",
    "        x = F.relu(self.fc1(x))\n",
    "        x = self.fc2(x)\n",
    "        return x"
   ]
  },
  {
   "cell_type": "code",
   "execution_count": 18,
   "metadata": {},
   "outputs": [],
   "source": [
    "import torch.optim as optim\n",
    "\n",
    "net = Net()\n",
    "criterion = nn.CrossEntropyLoss()\n",
    "optimizer = optim.SGD(net.parameters(), lr=0.001)"
   ]
  },
  {
   "cell_type": "code",
   "execution_count": 19,
   "metadata": {},
   "outputs": [],
   "source": [
    "def get_model_accuracy(net, data_loader):\n",
    "    correct = 0\n",
    "    total = 0\n",
    "\n",
    "    with torch.no_grad():\n",
    "        for test_info in data_loader:\n",
    "            images, test_labels = test_info\n",
    "            test_outputs = net(images)\n",
    "            _, predicted = torch.max(test_outputs.data, 1)\n",
    "            total += test_labels.size(0)\n",
    "            correct += (predicted == test_labels).sum().item()\n",
    "\n",
    "    return correct / total"
   ]
  },
  {
   "cell_type": "code",
   "execution_count": 20,
   "metadata": {
    "scrolled": true
   },
   "outputs": [
    {
     "data": {
      "application/vnd.jupyter.widget-view+json": {
       "model_id": "af345d52525b49998dca4f102441158e",
       "version_major": 2,
       "version_minor": 0
      },
      "text/plain": [
       "HBox(children=(HTML(value=''), FloatProgress(value=0.0), HTML(value='')))"
      ]
     },
     "metadata": {},
     "output_type": "display_data"
    },
    {
     "name": "stdout",
     "output_type": "stream",
     "text": [
      "[   10] error: 0.650\n",
      "[   20] error: 0.573\n",
      "[   30] error: 0.587\n",
      "[   40] error: 0.329\n",
      "[   50] error: 0.264\n",
      "[   60] error: 0.228\n",
      "[   70] error: 0.583\n",
      "[   80] error: 0.249\n",
      "[   90] error: 0.199\n",
      "[  100] error: 0.160\n",
      "\n",
      "Finished Training\n"
     ]
    }
   ],
   "source": [
    "epochs = np.arange(100)\n",
    "for epoch in tqdm_notebook(epochs):  # loop over the dataset multiple times\n",
    "    epoch_loss = 0.0\n",
    "    for info in trainloader:\n",
    "        # get the inputs; info is a list of [inputs, labels]\n",
    "        inputs, labels = info\n",
    "\n",
    "        # zero the parameter gradients\n",
    "        optimizer.zero_grad()\n",
    "\n",
    "        # forward + backward + optimize\n",
    "        outputs = net(inputs)\n",
    "        loss = criterion(outputs, labels)\n",
    "        loss.backward()\n",
    "        optimizer.step()\n",
    "\n",
    "        epoch_loss += loss.item()\n",
    "\n",
    "    # print mean loss for the epoch\n",
    "    cur_loss = epoch_loss / X_train_norm.shape[0]\n",
    "    if (epoch + 1) % 10 == 0:\n",
    "        print('[%5d] error: %.3f' % (epoch + 1, cur_loss))\n",
    "\n",
    "print('Finished Training')"
   ]
  },
  {
   "cell_type": "code",
   "execution_count": 21,
   "metadata": {},
   "outputs": [
    {
     "name": "stdout",
     "output_type": "stream",
     "text": [
      "Test accuracy of the network on the 207 test images: 91%\n",
      "Train accuracy of the network on the 207 train images: 92%\n"
     ]
    }
   ],
   "source": [
    "test_accuracy = get_model_accuracy(net, testloader)\n",
    "train_accuracy = get_model_accuracy(net, trainloader)\n",
    "\n",
    "print('Test accuracy of the network on the %d test images: %d%%' % \n",
    "      (X_test_norm.shape[0], round(100 * test_accuracy)))\n",
    "print('Train accuracy of the network on the %d train images: %d%%' % \n",
    "      (X_test_norm.shape[0], round(100 * train_accuracy)))"
   ]
  },
  {
   "cell_type": "code",
   "execution_count": 22,
   "metadata": {},
   "outputs": [
    {
     "name": "stdout",
     "output_type": "stream",
     "text": [
      "0.5893719806763285\n"
     ]
    }
   ],
   "source": [
    "cnt_1 = 0\n",
    "total = 0\n",
    "\n",
    "with torch.no_grad():\n",
    "    for test_info in testloader:\n",
    "        images, test_labels = test_info\n",
    "        test_outputs = net(images)\n",
    "        _, predicted = torch.max(test_outputs.data, 1)\n",
    "        total += test_labels.size(0)\n",
    "        cnt_1 += (test_labels == 1).sum().item()\n",
    "\n",
    "print(cnt_1 / total)"
   ]
  },
  {
   "cell_type": "code",
   "execution_count": null,
   "metadata": {},
   "outputs": [],
   "source": []
  }
 ],
 "metadata": {
  "kernelspec": {
   "display_name": "Python 3",
   "language": "python",
   "name": "python3"
  },
  "language_info": {
   "codemirror_mode": {
    "name": "ipython",
    "version": 3
   },
   "file_extension": ".py",
   "mimetype": "text/x-python",
   "name": "python",
   "nbconvert_exporter": "python",
   "pygments_lexer": "ipython3",
   "version": "3.6.12"
  }
 },
 "nbformat": 4,
 "nbformat_minor": 4
}
