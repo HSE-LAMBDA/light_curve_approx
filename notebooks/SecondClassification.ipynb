{
 "cells": [
  {
   "cell_type": "code",
   "execution_count": 1,
   "metadata": {},
   "outputs": [],
   "source": [
    "%matplotlib inline\n",
    "import numpy as np\n",
    "import pandas as pd\n",
    "import sklearn\n",
    "\n",
    "import warnings\n",
    "warnings.filterwarnings(\"ignore\")\n",
    "\n",
    "N_OBS = 500\n",
    "N_PASSBANDS = 6"
   ]
  },
  {
   "cell_type": "code",
   "execution_count": 2,
   "metadata": {},
   "outputs": [],
   "source": [
    "import matplotlib\n",
    "matplotlib.rcParams['text.usetex'] = True\n",
    "\n",
    "import matplotlib.pyplot as plt\n",
    "from matplotlib import rc\n",
    "\n",
    "rc('font',**{'family':'serif'})\n",
    "rc('text', usetex=True)\n",
    "rc('text.latex', preamble='''\n",
    "        \\\\usepackage[utf8]{inputenc}\n",
    "        \\\\usepackage{amssymb}\n",
    "        \\\\usepackage{amsfonts}\n",
    "        \\\\usepackage[russian]{babel}''')"
   ]
  },
  {
   "cell_type": "code",
   "execution_count": 3,
   "metadata": {},
   "outputs": [
    {
     "data": {
      "text/html": [
       "<div>\n",
       "<style scoped>\n",
       "    .dataframe tbody tr th:only-of-type {\n",
       "        vertical-align: middle;\n",
       "    }\n",
       "\n",
       "    .dataframe tbody tr th {\n",
       "        vertical-align: top;\n",
       "    }\n",
       "\n",
       "    .dataframe thead th {\n",
       "        text-align: right;\n",
       "    }\n",
       "</style>\n",
       "<table border=\"1\" class=\"dataframe\">\n",
       "  <thead>\n",
       "    <tr style=\"text-align: right;\">\n",
       "      <th></th>\n",
       "      <th>object_id</th>\n",
       "      <th>mjd</th>\n",
       "      <th>passband</th>\n",
       "      <th>flux</th>\n",
       "      <th>flux_err</th>\n",
       "      <th>detected</th>\n",
       "      <th>log_lam</th>\n",
       "      <th>class</th>\n",
       "    </tr>\n",
       "  </thead>\n",
       "  <tbody>\n",
       "    <tr>\n",
       "      <th>6577012</th>\n",
       "      <td>208272</td>\n",
       "      <td>59884.0976</td>\n",
       "      <td>3</td>\n",
       "      <td>34.068764</td>\n",
       "      <td>1.559731</td>\n",
       "      <td>1</td>\n",
       "      <td>3.875155</td>\n",
       "      <td>1</td>\n",
       "    </tr>\n",
       "    <tr>\n",
       "      <th>399161</th>\n",
       "      <td>202271</td>\n",
       "      <td>60574.1272</td>\n",
       "      <td>3</td>\n",
       "      <td>27.372698</td>\n",
       "      <td>2.018123</td>\n",
       "      <td>1</td>\n",
       "      <td>3.875155</td>\n",
       "      <td>1</td>\n",
       "    </tr>\n",
       "    <tr>\n",
       "      <th>7862305</th>\n",
       "      <td>248830</td>\n",
       "      <td>60532.2919</td>\n",
       "      <td>5</td>\n",
       "      <td>67.532356</td>\n",
       "      <td>4.534244</td>\n",
       "      <td>1</td>\n",
       "      <td>3.987288</td>\n",
       "      <td>1</td>\n",
       "    </tr>\n",
       "    <tr>\n",
       "      <th>8459730</th>\n",
       "      <td>267504</td>\n",
       "      <td>59797.3336</td>\n",
       "      <td>2</td>\n",
       "      <td>7.530043</td>\n",
       "      <td>1.008060</td>\n",
       "      <td>1</td>\n",
       "      <td>3.790512</td>\n",
       "      <td>0</td>\n",
       "    </tr>\n",
       "    <tr>\n",
       "      <th>228563</th>\n",
       "      <td>115336</td>\n",
       "      <td>60165.1446</td>\n",
       "      <td>1</td>\n",
       "      <td>26.397123</td>\n",
       "      <td>0.781008</td>\n",
       "      <td>1</td>\n",
       "      <td>3.675929</td>\n",
       "      <td>0</td>\n",
       "    </tr>\n",
       "    <tr>\n",
       "      <th>5293493</th>\n",
       "      <td>168141</td>\n",
       "      <td>60400.0246</td>\n",
       "      <td>3</td>\n",
       "      <td>24.869926</td>\n",
       "      <td>2.332898</td>\n",
       "      <td>1</td>\n",
       "      <td>3.875155</td>\n",
       "      <td>1</td>\n",
       "    </tr>\n",
       "    <tr>\n",
       "      <th>7743261</th>\n",
       "      <td>244996</td>\n",
       "      <td>59873.1704</td>\n",
       "      <td>4</td>\n",
       "      <td>30.460947</td>\n",
       "      <td>1.584720</td>\n",
       "      <td>1</td>\n",
       "      <td>3.938479</td>\n",
       "      <td>0</td>\n",
       "    </tr>\n",
       "    <tr>\n",
       "      <th>6556543</th>\n",
       "      <td>207645</td>\n",
       "      <td>60549.1432</td>\n",
       "      <td>1</td>\n",
       "      <td>6.279975</td>\n",
       "      <td>0.917840</td>\n",
       "      <td>1</td>\n",
       "      <td>3.675929</td>\n",
       "      <td>1</td>\n",
       "    </tr>\n",
       "    <tr>\n",
       "      <th>2575405</th>\n",
       "      <td>82374</td>\n",
       "      <td>60237.2359</td>\n",
       "      <td>3</td>\n",
       "      <td>12.357409</td>\n",
       "      <td>1.530979</td>\n",
       "      <td>1</td>\n",
       "      <td>3.875155</td>\n",
       "      <td>1</td>\n",
       "    </tr>\n",
       "    <tr>\n",
       "      <th>179577</th>\n",
       "      <td>92577</td>\n",
       "      <td>60593.0901</td>\n",
       "      <td>4</td>\n",
       "      <td>10.932519</td>\n",
       "      <td>1.992352</td>\n",
       "      <td>1</td>\n",
       "      <td>3.938479</td>\n",
       "      <td>1</td>\n",
       "    </tr>\n",
       "  </tbody>\n",
       "</table>\n",
       "</div>"
      ],
      "text/plain": [
       "         object_id         mjd  passband       flux  flux_err  detected  \\\n",
       "6577012     208272  59884.0976         3  34.068764  1.559731         1   \n",
       "399161      202271  60574.1272         3  27.372698  2.018123         1   \n",
       "7862305     248830  60532.2919         5  67.532356  4.534244         1   \n",
       "8459730     267504  59797.3336         2   7.530043  1.008060         1   \n",
       "228563      115336  60165.1446         1  26.397123  0.781008         1   \n",
       "5293493     168141  60400.0246         3  24.869926  2.332898         1   \n",
       "7743261     244996  59873.1704         4  30.460947  1.584720         1   \n",
       "6556543     207645  60549.1432         1   6.279975  0.917840         1   \n",
       "2575405      82374  60237.2359         3  12.357409  1.530979         1   \n",
       "179577       92577  60593.0901         4  10.932519  1.992352         1   \n",
       "\n",
       "          log_lam  class  \n",
       "6577012  3.875155      1  \n",
       "399161   3.875155      1  \n",
       "7862305  3.987288      1  \n",
       "8459730  3.790512      0  \n",
       "228563   3.675929      0  \n",
       "5293493  3.875155      1  \n",
       "7743261  3.938479      0  \n",
       "6556543  3.675929      1  \n",
       "2575405  3.875155      1  \n",
       "179577   3.938479      1  "
      ]
     },
     "execution_count": 3,
     "metadata": {},
     "output_type": "execute_result"
    }
   ],
   "source": [
    "good_objects_df = pd.read_csv(\"../data/plasticc/good_objects.csv\", index_col=0)\n",
    "good_objects_df.sample(10)"
   ]
  },
  {
   "cell_type": "code",
   "execution_count": 4,
   "metadata": {},
   "outputs": [],
   "source": [
    "object_ids = np.unique(good_objects_df.object_id)"
   ]
  },
  {
   "cell_type": "code",
   "execution_count": 5,
   "metadata": {},
   "outputs": [],
   "source": [
    "passband2name = {0: 'u', 1: 'g', 2: 'r', 3: 'i', 4: 'z', 5: 'y'}\n",
    "passband2lam  = {0: np.log10(3751.36), 1: np.log10(4741.64), 2: np.log10(6173.23), \n",
    "                 3: np.log10(7501.62), 4: np.log10(8679.19), 5: np.log10(9711.53)}"
   ]
  },
  {
   "cell_type": "code",
   "execution_count": 6,
   "metadata": {},
   "outputs": [],
   "source": [
    "def get_object(data, object_id):\n",
    "    anobject = data[data.object_id == object_id]\n",
    "    return anobject"
   ]
  },
  {
   "cell_type": "code",
   "execution_count": 7,
   "metadata": {},
   "outputs": [],
   "source": [
    "def get_passband(anobject, passband):\n",
    "    light_curve = anobject[anobject.passband == passband]\n",
    "    return light_curve"
   ]
  },
  {
   "cell_type": "code",
   "execution_count": 8,
   "metadata": {},
   "outputs": [],
   "source": [
    "def create_approx_object(anobject, n=1000):\n",
    "    mjd = anobject['mjd'].values\n",
    "    df_s = []\n",
    "    for passband in range(6):\n",
    "        df = pd.DataFrame()\n",
    "        df['mjd'] = np.linspace(mjd.min(), mjd.max(), n)\n",
    "        df['object_id'] = anobject.object_id\n",
    "        df['passband'] = passband\n",
    "        df['log_lam'] = passband2lam[passband]\n",
    "        df['flux'] = 0\n",
    "        df['flux_err'] = 0\n",
    "        df['detected_bool'] = 1\n",
    "        df_s.append(df)\n",
    "    new_object = pd.concat(df_s, axis=0)\n",
    "    return new_object"
   ]
  },
  {
   "cell_type": "code",
   "execution_count": 9,
   "metadata": {},
   "outputs": [],
   "source": [
    "def plot_light_curves(anobject, title=\"\"):\n",
    "    anobject = anobject.sort_values('mjd')\n",
    "    fig = plt.figure(figsize=(9, 5), tight_layout = {'pad': 0})\n",
    "    for passband in range(6):\n",
    "        light_curve = get_passband(anobject, passband)\n",
    "        plt.plot(light_curve['mjd'].values, light_curve['flux'].values, '-o', \n",
    "                    label=passband2name[passband], linewidth=2)\n",
    "    plt.xlabel('Modified Julian Date', fontsize=24)\n",
    "    plt.xticks(fontsize=22)\n",
    "    plt.ylabel('Flux', fontsize=24)\n",
    "    plt.yticks(fontsize=22)\n",
    "    plt.legend(loc='best', ncol=2, fontsize=24, columnspacing=1.0)\n",
    "    plt.title(title, fontsize=20)\n",
    "    plt.grid(True)\n",
    "    plt.show()\n",
    "#    fig.savefig(\"../pictures/light_curve_{}.pdf\".format(anobject.object_id.to_numpy()[0]))"
   ]
  },
  {
   "cell_type": "code",
   "execution_count": 10,
   "metadata": {},
   "outputs": [
    {
     "data": {
      "image/png": "[encoded data removed]",
      "text/plain": [
       "<Figure size 648x360 with 1 Axes>"
      ]
     },
     "metadata": {
      "needs_background": "light"
     },
     "output_type": "display_data"
    }
   ],
   "source": [
    "anobject = get_object(good_objects_df, 34299)\n",
    "\n",
    "plot_light_curves(anobject)"
   ]
  },
  {
   "cell_type": "code",
   "execution_count": 11,
   "metadata": {},
   "outputs": [
    {
     "name": "stdout",
     "output_type": "stream",
     "text": [
      "(500,) (500, 6)\n"
     ]
    }
   ],
   "source": [
    "from sklearn.model_selection import train_test_split\n",
    "import gp_aug\n",
    "\n",
    "anobject = get_object(good_objects_df, 34299)\n",
    "anobject_train, anobject_test = train_test_split(anobject, test_size=0.36, random_state=11)\n",
    "\n",
    "# fit augmentation model\n",
    "model = gp_aug.GaussianProcessesAugmentation(passband2lam)\n",
    "model.fit(anobject_train['mjd'].values, anobject_train['flux'].values, \n",
    "          anobject_train['flux_err'].values, anobject_train['passband'].values)\n",
    "\n",
    "# predict flux for unseen observations\n",
    "flux_pred = model.predict(anobject_test['mjd'].values, anobject_test['passband'].values, copy=True)\n",
    "\n",
    "# augmentation\n",
    "t_aug, flux_aug, flux_err_aug, passbands_aug = model.augmentation(anobject['mjd'].min(), \n",
    "                                                                  anobject['mjd'].max(), n_obs=N_OBS)\n",
    "\n",
    "t_aug_one = np.array(t_aug[:N_OBS])\n",
    "flux_aug_list = flux_aug.reshape((N_PASSBANDS, N_OBS)).T\n",
    "print(t_aug_one.shape, flux_aug_list.shape)"
   ]
  },
  {
   "cell_type": "code",
   "execution_count": 12,
   "metadata": {},
   "outputs": [
    {
     "data": {
      "application/vnd.jupyter.widget-view+json": {
       "model_id": "2474845f90ac4ac395691a41cdd2f322",
       "version_major": 2,
       "version_minor": 0
      },
      "text/plain": [
       "HBox(children=(HTML(value=''), FloatProgress(value=0.0, max=2508.0), HTML(value='')))"
      ]
     },
     "metadata": {},
     "output_type": "display_data"
    },
    {
     "name": "stdout",
     "output_type": "stream",
     "text": [
      "\n",
      "(2508, 1, 500, 6) (2508,)\n"
     ]
    }
   ],
   "source": [
    "from tqdm import tqdm_notebook\n",
    "\n",
    "all_data = []\n",
    "all_target_classes = []\n",
    "for good_id in tqdm_notebook(object_ids):\n",
    "    anobject = get_object(good_objects_df, good_id)\n",
    "    anobject_train, anobject_test = train_test_split(anobject, test_size=0.36, random_state=11)\n",
    "\n",
    "    model = gp_aug.GaussianProcessesAugmentation(passband2lam)\n",
    "    model.fit(anobject_train['mjd'].values, anobject_train['flux'].values, \n",
    "              anobject_train['flux_err'].values, anobject_train['passband'].values)\n",
    "\n",
    "    flux_pred = model.predict(anobject_test['mjd'].values, anobject_test['passband'].values, copy=True)\n",
    "\n",
    "    t_aug, flux_aug, flux_err_aug, passbands_aug = model.augmentation(anobject['mjd'].min(), \n",
    "                                                                      anobject['mjd'].max(), n_obs=N_OBS)\n",
    "\n",
    "    data_array = flux_aug.reshape((N_PASSBANDS, N_OBS)).T\n",
    "    all_data.append([data_array])\n",
    "    \n",
    "    true_class = int(anobject['class'].to_numpy()[0])\n",
    "\n",
    "    all_target_classes.append(true_class)\n",
    "    \n",
    "all_data = np.array(all_data)\n",
    "all_target_classes = np.array(all_target_classes)\n",
    "print(all_data.shape, all_target_classes.shape)"
   ]
  },
  {
   "cell_type": "code",
   "execution_count": 13,
   "metadata": {},
   "outputs": [],
   "source": [
    "import torch\n",
    "import torch.nn as nn\n",
    "import torch.nn.functional as F\n",
    "import torchvision\n",
    "import torchvision.transforms as transforms\n",
    "from torch.utils.data import TensorDataset, DataLoader\n",
    "\n",
    "device = 'cpu'"
   ]
  },
  {
   "cell_type": "code",
   "execution_count": 14,
   "metadata": {},
   "outputs": [],
   "source": [
    "X_train, X_test, y_train, y_test = train_test_split(all_data, \n",
    "                                                    all_target_classes,\n",
    "                                                    test_size=0.3,\n",
    "                                                    random_state=179)\n",
    "\n",
    "# normalize input\n",
    "X_train_norm = np.array((X_train - X_train.mean()) / X_train.std(), dtype=np.float32)\n",
    "X_test_norm = np.array((X_test - X_train.mean()) / X_train.std(), dtype=np.float32)\n",
    "\n",
    "X_train_tensor = torch.from_numpy(X_train_norm)\n",
    "y_train_tensor = torch.from_numpy(np.array(y_train, dtype=np.float32))\n",
    "\n",
    "train_data = TensorDataset(X_train_tensor, y_train_tensor)\n",
    "trainloader = torch.utils.data.DataLoader(train_data, batch_size=1,\n",
    "                                          shuffle=True, num_workers=2)\n",
    "\n",
    "X_test_tensor = torch.from_numpy(X_test_norm)\n",
    "y_test_tensor = torch.from_numpy(np.array(y_test, dtype=np.float32))\n",
    "\n",
    "test_data = TensorDataset(X_test_tensor, y_test_tensor)\n",
    "testloader = torch.utils.data.DataLoader(test_data, batch_size=1,\n",
    "                                         shuffle=False, num_workers=2)"
   ]
  },
  {
   "cell_type": "code",
   "execution_count": 15,
   "metadata": {},
   "outputs": [],
   "source": [
    "class Net(nn.Module):\n",
    "    def __init__(self):\n",
    "        super(Net, self).__init__()\n",
    "        self.conv1 = nn.Conv2d(1, 4, kernel_size=(10, 2))\n",
    "        self.conv2 = nn.Conv2d(4, 8, kernel_size=(10, 2))\n",
    "        self.conv3 = nn.Conv1d(8, 16, kernel_size=(5, 2))\n",
    "        self.pool = nn.MaxPool2d(2, 2)\n",
    "        self.dropout = nn.Dropout(0.2)\n",
    "        self.fc1 = nn.Linear(3824, 64)\n",
    "        self.fc2 = nn.Linear(64, 1)\n",
    "\n",
    "    def forward(self, x):\n",
    "        x = F.leaky_relu(self.conv1(x))\n",
    "        x = F.leaky_relu(self.conv2(x))\n",
    "        x = F.leaky_relu(self.conv3(x))\n",
    "        x = self.pool(x)\n",
    "        x = self.dropout(x)\n",
    "        \n",
    "        x = x.view(-1, 3824)\n",
    "        \n",
    "        x = F.relu(self.fc1(x))\n",
    "        x = F.sigmoid(self.fc2(x))\n",
    "        return x"
   ]
  },
  {
   "cell_type": "code",
   "execution_count": 16,
   "metadata": {},
   "outputs": [],
   "source": [
    "import torch.optim as optim\n",
    "\n",
    "net = Net()\n",
    "criterion = nn.BCELoss()\n",
    "optimizer = optim.SGD(net.parameters(), lr=0.001)"
   ]
  },
  {
   "cell_type": "code",
   "execution_count": 17,
   "metadata": {},
   "outputs": [],
   "source": [
    "def get_model_accuracy(net, data_loader):\n",
    "    correct = 0\n",
    "    total = 0\n",
    "\n",
    "    with torch.no_grad():\n",
    "        for test_info in data_loader:\n",
    "            images, test_labels = test_info\n",
    "            test_outputs = net(images)\n",
    "            prob = test_outputs.item()\n",
    "            if prob > 0.5:\n",
    "                predicted = 1\n",
    "            else:\n",
    "                predicted = 0\n",
    "            total += test_labels.size(0)\n",
    "            correct += (predicted == test_labels.item())\n",
    "\n",
    "    return correct / total"
   ]
  },
  {
   "cell_type": "code",
   "execution_count": 18,
   "metadata": {
    "scrolled": true
   },
   "outputs": [
    {
     "data": {
      "application/vnd.jupyter.widget-view+json": {
       "model_id": "16493c22949349ca9bdc3fb019e33231",
       "version_major": 2,
       "version_minor": 0
      },
      "text/plain": [
       "HBox(children=(HTML(value=''), FloatProgress(value=0.0), HTML(value='')))"
      ]
     },
     "metadata": {},
     "output_type": "display_data"
    },
    {
     "name": "stdout",
     "output_type": "stream",
     "text": [
      "[   10] error: 0.604\n",
      "[   20] error: 0.406\n",
      "[   30] error: 0.335\n",
      "[   40] error: 0.191\n",
      "[   50] error: 0.139\n",
      "[   60] error: 0.121\n",
      "[   70] error: 0.098\n",
      "[   80] error: 0.094\n",
      "[   90] error: 0.073\n",
      "[  100] error: 0.072\n",
      "\n",
      "Finished Training\n"
     ]
    }
   ],
   "source": [
    "epochs = np.arange(100)\n",
    "for epoch in tqdm_notebook(epochs):  # loop over the dataset multiple times\n",
    "    epoch_loss = 0.0\n",
    "    for info in trainloader:\n",
    "        # get the inputs; info is a list of [inputs, labels]\n",
    "        inputs, labels = info\n",
    "\n",
    "        # zero the parameter gradients\n",
    "        optimizer.zero_grad()\n",
    "\n",
    "        # forward + backward + optimize\n",
    "        outputs = net(inputs)\n",
    "        loss = criterion(outputs, labels)\n",
    "        loss.backward()\n",
    "        optimizer.step()\n",
    "\n",
    "        epoch_loss += loss.item()\n",
    "\n",
    "    # print mean loss for the epoch\n",
    "    cur_loss = epoch_loss / X_train_norm.shape[0]\n",
    "    if (epoch + 1) % 10 == 0:\n",
    "        print('[%5d] error: %.3f' % (epoch + 1, cur_loss))\n",
    "\n",
    "print('Finished Training')"
   ]
  },
  {
   "cell_type": "code",
   "execution_count": 19,
   "metadata": {},
   "outputs": [
    {
     "name": "stdout",
     "output_type": "stream",
     "text": [
      "Test accuracy of the network on the 753 test images: 97%\n",
      "Train accuracy of the network on the 1755 train images: 98%\n"
     ]
    }
   ],
   "source": [
    "test_accuracy = get_model_accuracy(net, testloader)\n",
    "train_accuracy = get_model_accuracy(net, trainloader)\n",
    "\n",
    "print('Test accuracy of the network on the %d test images: %d%%' % \n",
    "      (X_test_norm.shape[0], round(100 * test_accuracy)))\n",
    "print('Train accuracy of the network on the %d train images: %d%%' % \n",
    "      (X_train_norm.shape[0], round(100 * train_accuracy)))"
   ]
  },
  {
   "cell_type": "code",
   "execution_count": 20,
   "metadata": {},
   "outputs": [],
   "source": [
    "y_test = []\n",
    "y_probs = []\n",
    "\n",
    "with torch.no_grad():\n",
    "    for test_info in testloader:\n",
    "        images, test_labels = test_info\n",
    "        test_outputs = net(images)\n",
    "        prob = test_outputs.item()\n",
    "        if prob > 0.5:\n",
    "            predicted = 1\n",
    "        else:\n",
    "            predicted = 0\n",
    "\n",
    "        y_test.append(int(test_labels.item()))\n",
    "        y_probs.append(prob)"
   ]
  },
  {
   "cell_type": "code",
   "execution_count": 21,
   "metadata": {},
   "outputs": [
    {
     "data": {
      "image/png": "[encoded data removed]",
      "text/plain": [
       "<Figure size 800x480 with 1 Axes>"
      ]
     },
     "metadata": {
      "needs_background": "light"
     },
     "output_type": "display_data"
    }
   ],
   "source": [
    "fig = plt.figure(dpi=80, figsize=(10, 6))\n",
    "plt.title(\"CNN classification output distribution\", fontsize=20)\n",
    "plt.xticks(fontsize=14, color=\"black\")\n",
    "plt.yticks(fontsize=14, color=\"black\")\n",
    "plt.grid(True)\n",
    "plt.hist(y_probs, bins=80, color=\"xkcd:dark magenta\")\n",
    "plt.show()\n",
    "fig.savefig(\"../pictures/cnn_output_hist.pdf\")"
   ]
  },
  {
   "cell_type": "code",
   "execution_count": 32,
   "metadata": {},
   "outputs": [
    {
     "name": "stdout",
     "output_type": "stream",
     "text": [
      "Test ROC-AUC: 0.9864, test PR-AUC: 0.9709\n"
     ]
    },
    {
     "data": {
      "image/png": "[encoded data removed]",
      "text/plain": [
       "<Figure size 1200x480 with 2 Axes>"
      ]
     },
     "metadata": {
      "needs_background": "light"
     },
     "output_type": "display_data"
    }
   ],
   "source": [
    "from sklearn.metrics import roc_auc_score\n",
    "from sklearn.metrics import roc_curve\n",
    "from sklearn.metrics import precision_recall_curve\n",
    "from sklearn.metrics import average_precision_score\n",
    "\n",
    "DPI = 80\n",
    "SIZE_X, SIZE_Y = 15, 6\n",
    "\n",
    "print(\"Test ROC-AUC: %.4f, test PR-AUC: %.4f\" % (roc_auc_score(y_test, y_probs), \n",
    "                                                 average_precision_score(y_test, y_probs)))\n",
    "\n",
    "precision, recall, _ = precision_recall_curve(y_test, y_probs)\n",
    "\n",
    "fig = plt.figure(dpi=80, figsize=(15, 6))\n",
    "ax = fig.add_subplot(121)\n",
    "plt.grid(True)\n",
    "plt.xticks(color=\"black\", fontsize=13, ha=\"left\")\n",
    "plt.yticks(color=\"black\", fontsize=13, va=\"bottom\")\n",
    "ax.set_title(\"Precision-Recall curve\", fontsize=20, color=\"black\")\n",
    "ax.fill_between(recall, precision, alpha=0.6, color=\"xkcd:apple green\", lw=2)\n",
    "ax.set_xlim(0, 1.)\n",
    "ax.set_ylim(0, 1.05)\n",
    "\n",
    "fpr, tpr, thresholds = roc_curve(y_test, y_probs)\n",
    "\n",
    "ax = fig.add_subplot(122)\n",
    "plt.grid(True)\n",
    "plt.xticks(color=\"black\", fontsize=13, ha=\"left\")\n",
    "plt.yticks(color=\"black\", fontsize=13, va=\"bottom\")\n",
    "ax.set_title(\"ROC curve\", fontsize=20, color=\"black\")\n",
    "ax.fill_between(fpr, tpr, alpha=0.6, color=\"xkcd:salmon\", lw=2)\n",
    "ax.set_xlim(0, 1.)\n",
    "ax.set_ylim(0, 1.05)\n",
    "\n",
    "fig.savefig(\"../pictures/CNN_pr_roc_curves.pdf\", bbox_inches='tight', pad_inches=0.01)"
   ]
  },
  {
   "cell_type": "code",
   "execution_count": null,
   "metadata": {},
   "outputs": [],
   "source": []
  }
 ],
 "metadata": {
  "kernelspec": {
   "display_name": "Python 3",
   "language": "python",
   "name": "python3"
  },
  "language_info": {
   "codemirror_mode": {
    "name": "ipython",
    "version": 3
   },
   "file_extension": ".py",
   "mimetype": "text/x-python",
   "name": "python",
   "nbconvert_exporter": "python",
   "pygments_lexer": "ipython3",
   "version": "3.6.12"
  }
 },
 "nbformat": 4,
 "nbformat_minor": 4
}
