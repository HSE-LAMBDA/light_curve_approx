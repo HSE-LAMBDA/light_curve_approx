{
 "cells": [
  {
   "cell_type": "code",
   "execution_count": 1,
   "metadata": {},
   "outputs": [],
   "source": [
    "%matplotlib inline\n",
    "from joblib import Parallel, delayed\n",
    "import matplotlib.pyplot as plt\n",
    "import numpy as np\n",
    "import pandas as pd\n",
    "import h5py\n",
    "import tqdm\n",
    "\n",
    "import gp_aug\n",
    "import nf_aug\n",
    "\n",
    "import utils\n",
    "\n",
    "import warnings\n",
    "warnings.filterwarnings(\"ignore\")\n",
    "plt.rcParams['font.size'] = 15"
   ]
  },
  {
   "cell_type": "code",
   "execution_count": 2,
   "metadata": {},
   "outputs": [
    {
     "data": {
      "text/plain": [
       "(1677, 2)"
      ]
     },
     "execution_count": 2,
     "metadata": {},
     "output_type": "execute_result"
    }
   ],
   "source": [
    "train_metadata = pd.read_csv('../data/plasticc/plasticc_train_metadata.csv.gz',\n",
    "                            usecols=['object_id', 'true_target', 'true_peakmjd'])\n",
    "train_metadata = train_metadata[train_metadata['true_target'].isin([42, 62])].drop('true_target', axis=1)\n",
    "train_metadata.shape"
   ]
  },
  {
   "cell_type": "code",
   "execution_count": 3,
   "metadata": {},
   "outputs": [
    {
     "data": {
      "text/plain": [
       "(1175244, 2)"
      ]
     },
     "execution_count": 3,
     "metadata": {},
     "output_type": "execute_result"
    }
   ],
   "source": [
    "test_metadata = pd.read_csv('../data/plasticc/plasticc_test_metadata.csv.gz',\n",
    "                            usecols=['object_id', 'true_target', 'true_peakmjd'])\n",
    "test_metadata = test_metadata[test_metadata['true_target'].isin([42, 62])].drop('true_target', axis=1)\n",
    "test_metadata.shape"
   ]
  },
  {
   "cell_type": "code",
   "execution_count": 4,
   "metadata": {},
   "outputs": [
    {
     "name": "stdout",
     "output_type": "stream",
     "text": [
      "(1176921, 2)\n"
     ]
    },
    {
     "data": {
      "text/html": [
       "<div>\n",
       "<style scoped>\n",
       "    .dataframe tbody tr th:only-of-type {\n",
       "        vertical-align: middle;\n",
       "    }\n",
       "\n",
       "    .dataframe tbody tr th {\n",
       "        vertical-align: top;\n",
       "    }\n",
       "\n",
       "    .dataframe thead th {\n",
       "        text-align: right;\n",
       "    }\n",
       "</style>\n",
       "<table border=\"1\" class=\"dataframe\">\n",
       "  <thead>\n",
       "    <tr style=\"text-align: right;\">\n",
       "      <th></th>\n",
       "      <th>object_id</th>\n",
       "      <th>true_peakmjd</th>\n",
       "    </tr>\n",
       "  </thead>\n",
       "  <tbody>\n",
       "    <tr>\n",
       "      <th>2</th>\n",
       "      <td>730</td>\n",
       "      <td>60444.379</td>\n",
       "    </tr>\n",
       "    <tr>\n",
       "      <th>7</th>\n",
       "      <td>1632</td>\n",
       "      <td>59602.090</td>\n",
       "    </tr>\n",
       "    <tr>\n",
       "      <th>11</th>\n",
       "      <td>2103</td>\n",
       "      <td>60220.684</td>\n",
       "    </tr>\n",
       "    <tr>\n",
       "      <th>12</th>\n",
       "      <td>2300</td>\n",
       "      <td>59582.930</td>\n",
       "    </tr>\n",
       "    <tr>\n",
       "      <th>18</th>\n",
       "      <td>3285</td>\n",
       "      <td>60403.363</td>\n",
       "    </tr>\n",
       "    <tr>\n",
       "      <th>21</th>\n",
       "      <td>3910</td>\n",
       "      <td>60545.609</td>\n",
       "    </tr>\n",
       "    <tr>\n",
       "      <th>23</th>\n",
       "      <td>4132</td>\n",
       "      <td>59613.430</td>\n",
       "    </tr>\n",
       "  </tbody>\n",
       "</table>\n",
       "</div>"
      ],
      "text/plain": [
       "    object_id  true_peakmjd\n",
       "2         730     60444.379\n",
       "7        1632     59602.090\n",
       "11       2103     60220.684\n",
       "12       2300     59582.930\n",
       "18       3285     60403.363\n",
       "21       3910     60545.609\n",
       "23       4132     59613.430"
      ]
     },
     "execution_count": 4,
     "metadata": {},
     "output_type": "execute_result"
    }
   ],
   "source": [
    "metadata = pd.concat([train_metadata, test_metadata], axis=0)\n",
    "print(metadata.shape)\n",
    "metadata.head(7)"
   ]
  },
  {
   "cell_type": "code",
   "execution_count": 5,
   "metadata": {},
   "outputs": [
    {
     "data": {
      "text/plain": [
       "1176921"
      ]
     },
     "execution_count": 5,
     "metadata": {},
     "output_type": "execute_result"
    }
   ],
   "source": [
    "objects_set = set(metadata.object_id.values)\n",
    "len(objects_set)"
   ]
  },
  {
   "cell_type": "code",
   "execution_count": 6,
   "metadata": {},
   "outputs": [],
   "source": [
    "passband2name = {0: 'u', 1: 'g', 2: 'r', 3: 'i', 4: 'z', 5: 'y'}\n",
    "passband2lam  = {0: np.log10(3751.36), 1: np.log10(4741.64), 2: np.log10(6173.23), \n",
    "                 3: np.log10(7501.62), 4: np.log10(8679.19), 5: np.log10(9711.53)}\n",
    "passband2color = {\n",
    "    0: 'blue', 2: 'green', 4: 'purple',\n",
    "    1: 'orange', 3: 'red', 5: 'brown'\n",
    "}"
   ]
  },
  {
   "cell_type": "code",
   "execution_count": 7,
   "metadata": {},
   "outputs": [],
   "source": [
    "def get_object(data, object_id):\n",
    "    anobject = data[data.object_id == object_id]\n",
    "    return anobject\n",
    "\n",
    "def get_passband(anobject, passband):\n",
    "    light_curve = anobject[anobject.passband == passband]\n",
    "    return light_curve\n",
    "\n",
    "def compile_obj(t, flux, flux_err, passband):\n",
    "    obj = pd.DataFrame()\n",
    "    obj['mjd']      = t\n",
    "    obj['flux']     = flux\n",
    "    obj['flux_err'] = flux_err\n",
    "    obj['passband'] = passband\n",
    "    return obj\n",
    "\n",
    "def is_good(anobject, peak_mjd):\n",
    "    if peak_mjd < anobject['mjd'].min() or peak_mjd > anobject['mjd'].max():\n",
    "        return False\n",
    "    \n",
    "    # remove all objects with negative flux values\n",
    "    if anobject['flux'].values.min() < 0:\n",
    "        return False\n",
    "    \n",
    "    # keep only objects with at least 5 observations in at least 3 passbands\n",
    "    count = 0\n",
    "    for passband in range(6):\n",
    "        if len(get_passband(anobject, passband)) < 5:\n",
    "            count += 1\n",
    "    if count > 3:\n",
    "        return False\n",
    "        \n",
    "    # keep only objects without large breaks in observations\n",
    "    anobject = anobject.sort_values('mjd')\n",
    "    mjd = anobject['mjd'].values\n",
    "    if np.diff(mjd, 1).max() > 50:\n",
    "        return False\n",
    "    \n",
    "    return True\n",
    "\n",
    "def plot_light_curves(anobject, title=\"\"):\n",
    "    anobject = anobject.sort_values('mjd')\n",
    "    plt.figure(figsize=(9, 4))\n",
    "    for passband in range(6):\n",
    "        light_curve = get_passband(anobject, passband)\n",
    "        plt.plot(light_curve['mjd'].values, light_curve['flux'].values, linewidth=0.5)\n",
    "        plt.scatter(light_curve['mjd'].values, light_curve['flux'].values, label=passband2name[passband], linewidth=1)\n",
    "    plt.xlabel('Modified Julian Date', size=14)\n",
    "    plt.xticks(size=14)\n",
    "    plt.ylabel('Flux', size=14)\n",
    "    plt.yticks(size=14)\n",
    "    plt.legend(loc='best',fontsize=14)\n",
    "    plt.title(title, size=14)"
   ]
  },
  {
   "cell_type": "code",
   "execution_count": 8,
   "metadata": {},
   "outputs": [],
   "source": [
    "def residuals_histogram(all_objects):\n",
    "    plt.figure(figsize=(10, 7))\n",
    "    plt.hist(all_objects['true_peakmjd'].values - all_objects['pred_peakmjd'].values, bins=50)\n",
    "    plt.xlabel('mjd residuals', fontsize=15)\n",
    "    plt.show()\n",
    "    \n",
    "    \n",
    "def plot_light_curves_with_peak(anobject, true_peak_mjd=None, title=\"\", n_obs=1000, save=None):\n",
    "    model = gp_aug.GaussianProcessesAugmentation(passband2lam)\n",
    "    model.fit(anobject['mjd'].values, anobject['flux'].values, \n",
    "              anobject['flux_err'].values, anobject['passband'].values)\n",
    "    t_aug, flux_aug, flux_err_aug, passband_aug = model.augmentation(\n",
    "        anobject['mjd'].min(), \n",
    "        anobject['mjd'].max(),\n",
    "        n_obs=n_obs\n",
    "    )\n",
    "    anobject_aug = compile_obj(t_aug, flux_aug, flux_err_aug, passband_aug)\n",
    "    curve = anobject_aug[['mjd', 'flux']].groupby('mjd', as_index=False).sum()\n",
    "    pred_peak_mjd = curve['mjd'][curve['flux'].argmax()]\n",
    "\n",
    "    plt.figure(figsize=(12, 7))\n",
    "    for passband in range(6):\n",
    "        light_curve = get_passband(anobject_aug, passband)\n",
    "        plt.plot(light_curve['mjd'].values, light_curve['flux'].values, linewidth=1,\n",
    "                 color=passband2color[passband])\n",
    "        light_curve = get_passband(anobject, passband)\n",
    "        plt.scatter(light_curve['mjd'].values, light_curve['flux'].values, \n",
    "                    label=passband2name[passband], color=passband2color[passband], linewidth=1)\n",
    "    plt.plot(curve['mjd'].values, curve['flux'].values, label='Sum', linewidth=1, color='pink')\n",
    "\n",
    "    plt.xlabel('Modified Julian Date', size=14)\n",
    "    plt.xticks(size=14)\n",
    "    plt.ylabel('Flux', size=14)\n",
    "    plt.yticks(size=14)\n",
    "\n",
    "    plt.axvline(pred_peak_mjd, label='Pred peak', color='gray')\n",
    "    if true_peak_mjd is not None:\n",
    "        plt.axvline(true_peak_mjd, label='True peak', color='black')\n",
    "    plt.legend(loc='best', ncol=3, fontsize=14)\n",
    "    plt.title(title, size=14)\n",
    "    \n",
    "    if save is not None:\n",
    "        plt.savefig(save, format='pdf')\n",
    "        \n",
    "    plt.show()"
   ]
  },
  {
   "cell_type": "code",
   "execution_count": 9,
   "metadata": {},
   "outputs": [],
   "source": [
    "def read_test_csv(filename, objects_set):\n",
    "    test_idx = pd.read_csv(filename, usecols=['object_id']).object_id\n",
    "    skiprows = test_idx.apply(lambda obj: obj not in objects_set).astype(bool)\n",
    "    test_detected = pd.read_csv(filename, usecols=['detected_bool']).detected_bool\n",
    "    skiprows |= ~test_detected.astype(bool)\n",
    "    skiprows = skiprows.index[skiprows] + 1  # first row contains column names\n",
    "    df = pd.read_csv(filename, skiprows=skiprows)\n",
    "    return df\n",
    "\n",
    "\n",
    "def prepare_picture(model_factory, anobject, n_obs=128):\n",
    "    model = model_factory(passband2lam)\n",
    "    model.fit(anobject['mjd'].values, anobject['flux'].values, \n",
    "              anobject['flux_err'].values, anobject['passband'].values)\n",
    "    t_aug, flux_aug, flux_err_aug, passband_aug = model.augmentation(anobject['mjd'].min(), \n",
    "                                                                     anobject['mjd'].max(), n_obs=n_obs)\n",
    "    anobject_aug = compile_obj(t_aug, flux_aug, flux_err_aug, passband_aug)\n",
    "    anobject_aug_mean = anobject_aug.drop('flux_err', axis=1).set_index(['mjd', 'passband']).unstack(level=1)\n",
    "    anobject_aug_std = anobject_aug.drop('flux', axis=1).set_index(['mjd', 'passband']).unstack(level=1)\n",
    "    anobject_aug_pic = np.concatenate(\n",
    "        [anobject_aug_mean.values, anobject_aug_std.values],\n",
    "        axis=1\n",
    "    )\n",
    "    return anobject_aug_pic.T, np.array(anobject_aug_mean.index)"
   ]
  },
  {
   "cell_type": "code",
   "execution_count": 10,
   "metadata": {},
   "outputs": [],
   "source": [
    "def prepare_data(object_id):\n",
    "    anobject = get_object(data, object_id)\n",
    "    true_peak = metadata[metadata.object_id == object_id]['true_peakmjd'].values[0]\n",
    "    if not is_good(anobject, true_peak):\n",
    "        return None\n",
    "    ret = {}\n",
    "    for name in model_list:\n",
    "        picture, t = prepare_picture(model_list[name], anobject, n_obs=128)\n",
    "        ret[name] = (picture, t, true_peak)\n",
    "    return ret"
   ]
  },
  {
   "cell_type": "code",
   "execution_count": 11,
   "metadata": {},
   "outputs": [],
   "source": [
    "model_list = {\n",
    "    'GP': gp_aug.GaussianProcessesAugmentation,\n",
    "    'NF': nf_aug.NFAugmentation\n",
    "}"
   ]
  },
  {
   "cell_type": "code",
   "execution_count": 12,
   "metadata": {},
   "outputs": [
    {
     "name": "stderr",
     "output_type": "stream",
     "text": [
      "100%|██████████| 1677/1677 [06:58<00:00,  4.01it/s]\n",
      "100%|██████████| 18180/18180 [1:10:56<00:00,  4.27it/s]\n",
      "100%|██████████| 115377/115377 [31:38<00:00, 60.77it/s]  \n",
      "100%|██████████| 115523/115523 [30:55<00:00, 62.25it/s] \n",
      "100%|██████████| 115573/115573 [30:39<00:00, 62.84it/s] \n",
      "100%|██████████| 115670/115670 [29:51<00:00, 64.55it/s]  \n",
      "100%|██████████| 115838/115838 [31:36<00:00, 61.09it/s]  \n",
      "100%|██████████| 115480/115480 [30:31<00:00, 63.06it/s]  \n",
      "100%|██████████| 115629/115629 [29:08<00:00, 66.13it/s] \n",
      "100%|██████████| 115609/115609 [29:33<00:00, 65.19it/s] \n",
      "100%|██████████| 116378/116378 [34:35<00:00, 56.06it/s]  \n",
      "100%|██████████| 115987/115987 [50:11<00:00, 38.51it/s]  \n"
     ]
    }
   ],
   "source": [
    "results = []\n",
    "\n",
    "data = read_test_csv(f'../data/plasticc/plasticc_train_lightcurves.csv.gz', objects_set)\n",
    "results.extend(\n",
    "    Parallel(n_jobs=12)(delayed(prepare_data)(object_id)\n",
    "                        for object_id in tqdm.tqdm(data.object_id.unique()))\n",
    ")\n",
    "\n",
    "for number in range(1, 12):\n",
    "    data = read_test_csv(f'../data/plasticc/plasticc_test_lightcurves_{number:02}.csv.gz', objects_set)\n",
    "    results.extend(\n",
    "        Parallel(n_jobs=12)(delayed(prepare_data)(object_id)\n",
    "                            for object_id in tqdm.tqdm(data.object_id.unique()))\n",
    "    )"
   ]
  },
  {
   "cell_type": "code",
   "execution_count": 13,
   "metadata": {},
   "outputs": [],
   "source": [
    "results_ok = [x for x in results if x is not None]"
   ]
  },
  {
   "cell_type": "code",
   "execution_count": 14,
   "metadata": {},
   "outputs": [
    {
     "name": "stdout",
     "output_type": "stream",
     "text": [
      "(11078, 12, 128) (11078, 128) (11078,)\n",
      "(11078, 12, 128) (11078, 128) (11078,)\n"
     ]
    }
   ],
   "source": [
    "for name in model_list:\n",
    "    results_name = [x[name] for x in results_ok]\n",
    "    pics_name, ts_name, true_peaks_name = map(np.array, map(list, zip(*results_name)))\n",
    "    print(pics_name.shape, ts_name.shape, true_peaks_name.shape)\n",
    "    np.save(f'cnn_cls_data/{name}_std_pictures_128.npy', np.array(pics_name))\n",
    "    np.save(f'cnn_cls_data/{name}_std_timestamps_128.npy', np.array(ts_name))\n",
    "    np.save(f'cnn_cls_data/{name}_std_true_peaks_128.npy', np.array(true_peaks_name))"
   ]
  }
 ],
 "metadata": {
  "kernelspec": {
   "display_name": "Python 3",
   "language": "python",
   "name": "python3"
  },
  "language_info": {
   "codemirror_mode": {
    "name": "ipython",
    "version": 3
   },
   "file_extension": ".py",
   "mimetype": "text/x-python",
   "name": "python",
   "nbconvert_exporter": "python",
   "pygments_lexer": "ipython3",
   "version": "3.8.3"
  }
 },
 "nbformat": 4,
 "nbformat_minor": 4
}
