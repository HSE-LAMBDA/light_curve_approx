{
 "cells": [
  {
   "cell_type": "code",
   "execution_count": null,
   "metadata": {
    "collapsed": true,
    "scrolled": false
   },
   "outputs": [],
   "source": [
    "import diff_aug\n",
    "from diff_aug import aug\n",
    "from importlib import reload\n",
    "reload(diff_aug)\n",
    "aug(model_name = 'NN (pytorch)')"
   ]
  },
  {
   "cell_type": "code",
   "execution_count": null,
   "metadata": {
    "collapsed": true,
    "scrolled": false
   },
   "outputs": [],
   "source": [
    "aug(model_name = 'BNN')"
   ]
  },
  {
   "cell_type": "code",
   "execution_count": null,
   "metadata": {
    "collapsed": true,
    "scrolled": false
   },
   "outputs": [],
   "source": [
    "import diff_aug\n",
    "from diff_aug import aug\n",
    "from importlib import reload\n",
    "reload(diff_aug)\n",
    "aug(model_name = 'NF')"
   ]
  },
  {
   "cell_type": "code",
   "execution_count": null,
   "metadata": {
    "collapsed": true,
    "scrolled": false
   },
   "outputs": [],
   "source": [
    "aug(model_name = 'NN (sklearn)')"
   ]
  },
  {
   "cell_type": "code",
   "execution_count": null,
   "metadata": {
    "collapsed": true,
    "scrolled": false
   },
   "outputs": [],
   "source": [
    "aug(model_name = 'GP')"
   ]
  },
  {
   "cell_type": "code",
   "execution_count": null,
   "metadata": {
    "collapsed": true,
    "scrolled": false
   },
   "outputs": [],
   "source": [
    "import diff_aug\n",
    "from diff_aug import aug\n",
    "from importlib import reload\n",
    "reload(diff_aug)\n",
    "\n",
    "#best kernel for classification\n",
    "aug(model_name = 'GP C(1.0)*RBF([1.0, 1.0]) + Matern() + WhiteKernel()')"
   ]
  },
  {
   "cell_type": "code",
   "execution_count": null,
   "metadata": {
    "collapsed": true,
    "scrolled": false
   },
   "outputs": [],
   "source": [
    "reload(diff_aug)\n",
    "\n",
    "\n",
    "aug(model_name = 'GP C(1.0)*Matern() * RBF([1, 1]) + Matern() + WhiteKernel()')"
   ]
  },
  {
   "cell_type": "markdown",
   "metadata": {},
   "source": [
    "# Selection - 10 observation on both bands (r and g)"
   ]
  },
  {
   "cell_type": "code",
   "execution_count": null,
   "metadata": {
    "collapsed": true,
    "scrolled": false
   },
   "outputs": [],
   "source": [
    "import diff_aug\n",
    "from diff_aug import aug\n",
    "from importlib import reload\n",
    "reload(diff_aug)\n",
    "aug(model_name = 'NN (pytorch)')"
   ]
  },
  {
   "cell_type": "code",
   "execution_count": null,
   "metadata": {
    "collapsed": true,
    "scrolled": false
   },
   "outputs": [],
   "source": [
    "aug(model_name = 'BNN')"
   ]
  },
  {
   "cell_type": "code",
   "execution_count": null,
   "metadata": {
    "collapsed": true,
    "scrolled": false
   },
   "outputs": [],
   "source": [
    "aug(model_name = 'NN (sklearn)')"
   ]
  },
  {
   "cell_type": "code",
   "execution_count": null,
   "metadata": {
    "collapsed": true,
    "scrolled": false
   },
   "outputs": [],
   "source": [
    "aug(model_name = 'GP')"
   ]
  },
  {
   "cell_type": "code",
   "execution_count": null,
   "metadata": {
    "collapsed": true,
    "scrolled": false
   },
   "outputs": [],
   "source": [
    "#best kernel for classification\n",
    "aug(model_name = 'GP C(1.0)*RBF([1.0, 1.0]) + Matern() + WhiteKernel()')"
   ]
  },
  {
   "cell_type": "code",
   "execution_count": null,
   "metadata": {
    "collapsed": true,
    "scrolled": false
   },
   "outputs": [],
   "source": [
    "aug(model_name = 'GP C(1.0)*Matern() * RBF([1, 1]) + Matern() + WhiteKernel()')"
   ]
  },
  {
   "cell_type": "code",
   "execution_count": null,
   "metadata": {
    "collapsed": true,
    "scrolled": false
   },
   "outputs": [],
   "source": [
    "import diff_aug\n",
    "from diff_aug import aug\n",
    "from importlib import reload\n",
    "reload(diff_aug)\n",
    "\n",
    "\n",
    "aug(model_name = 'NF')"
   ]
  },
  {
   "cell_type": "markdown",
   "metadata": {},
   "source": [
    "# Table 1. Selection at least 10 observations at each band\n",
    "## N_OBS = 2000 for augmentation , N_OBS = 50 for classification\n",
    "## GP without flux errors in fitting\n",
    "## $GP_1$ - C * RBF + WK    \n",
    "## $GP_2$ - C * RBF + Mattern + WK\n",
    "## $GP_3$ - C* RBF * Mattern + Mattern + WK"
   ]
  },
  {
   "cell_type": "markdown",
   "metadata": {},
   "source": [
    "| Model| RMSE  | MAE  | RSE  | RAE  | MAPE  | ROC AUC | ROC PR | Accuracy | LogLoss\n",
    "|------------|----------|---------|-------|-------|-------|-------|-------|-------|-------|\n",
    "| $GP_1$       | $2.592 \\pm 0.245$ | $1.686 \\pm 0.150$ | $0.296 \\pm 0.006$ | $0.252 \\pm 0.005$ | $14.501 \\pm 0.791$ |  |  |  | |\n",
    "| $GP_2$       | $2.623 \\pm 0.275$ | $1.685 \\pm 0.161$ | $0.293 \\pm 0.006$ | $0.250 \\pm 0.005$ | $13.330 \\pm 0.505$ |  |  |  |  |\n",
    "| $GP_3$       | $2.692 \\pm 0.294$ | $1.742 \\pm 0.176$ | $0.293 \\pm 0.006$ | $0.250 \\pm 0.005$ | $13.234 \\pm 0.495$ |  |  |  |  |\n",
    "| $BNN$        | $4.656 \\pm 0.531$ | $2.958 \\pm 0.292$ | $0.435 \\pm 0.009$ | $0.364 \\pm 0.008$ | $17.252 \\pm 0.429$ |  |\n",
    "| $NN sklearn$ | $4.240 \\pm 0.482$ | $2.533 \\pm 0.248$ | $0.457 \\pm 0.011$ | $0.373 \\pm 0.010$ | $15.926 \\pm 0.465$ |  |\n",
    "| $NN pytorch$ | $6.455 \\pm 0.637$ | $4.342 \\pm 0.409$ | $0.532 \\pm 0.008$ | $0.458 \\pm 0.007$ | $24.592 \\pm 1.007$ |  |\n",
    "| $NF$         | $4.420 \\pm 0.570$ | $2.395 \\pm 0.237$ | $0.394 \\pm 0.009$ | $0.318 \\pm 0.007$ | $14.213 \\pm 0.468$ |  |"
   ]
  },
  {
   "cell_type": "code",
   "execution_count": null,
   "metadata": {
    "collapsed": true,
    "scrolled": false
   },
   "outputs": [],
   "source": [
    "#classification metrics are not averaged over time\n",
    "#all models differ in the level of error of averaging over time"
   ]
  },
  {
   "cell_type": "markdown",
   "metadata": {},
   "source": [
    "# Table 2. Selection at least 10 observations summary at both band\n",
    "## N_OBS = 2000 for augmentation , N_OBS = 50 for classification\n",
    "## GP without flux errors in fitting\n",
    "## $GP_1$ - C * RBF + WK    \n",
    "## $GP_2$ - C * RBF + Mattern + WK\n",
    "## $GP_3$ - C* RBF * Mattern + Mattern + WK"
   ]
  },
  {
   "cell_type": "markdown",
   "metadata": {},
   "source": [
    "| Model | RMSE | MAE| RSE  | RAE | MAPE | ROC AUC | ROC PR | Accuracy | LogLoss\n",
    "|------------|-------|-------|-------|-------|-------|-------|-------|-------|-------|\n",
    "| $GP_1$       | $2.915 \\pm 0.150$ | $2.095 \\pm 0.095$ | $0.465 \\pm 0.008$ | $0.425 \\pm 0.007$ | $19.230 \\pm 0.533$ |  |  |  |  |\n",
    "| $GP_2$       | $2.957 \\pm 0.165$ | $2.115 \\pm 0.104$ | $0.463 \\pm 0.007$ | $0.423 \\pm 0.007$ | $18.463 \\pm 0.423$ |  |  |  |  |\n",
    "| $GP_3$       | $3.000 \\pm 0.176$ | $2.152 \\pm 0.110$ | $0.464 \\pm 0.007$ | $0.424 \\pm 0.007$ | $18.543 \\pm 0.408$ |  |  |  |  |\n",
    "| $BNN$        | $4.216 \\pm 0.278$ | $2.874 \\pm 0.154$ | $0.592 \\pm 0.009$ | $0.523 \\pm 0.009$ | $19.779 \\pm 0.309$ |  |  |  |  |\n",
    "| $NN sklearn$ | $4.564 \\pm 0.538$ | $2.983 \\pm 0.272$ | $0.656 \\pm 0.012$ | $0.572 \\pm 0.011$ | $21.566 \\pm 0.522$ |  |  |  |  |\n",
    "| $NN pytorch$ | $5.469 \\pm 0.330$ | $3.895 \\pm 0.219$ | $0.678 \\pm 0.008$ | $0.614 \\pm 0.008$ | $25.910 \\pm 0.569$ |  |  |  |  |\n",
    "| $NF$         | $4.009 \\pm 0.312$ | $2.510 \\pm 0.142$ | $0.534 \\pm 0.009$ | $0.465 \\pm 0.008$ | $17.541 \\pm 0.340$ |  |  |  |  |"
   ]
  },
  {
   "cell_type": "code",
   "execution_count": null,
   "metadata": {
    "collapsed": true,
    "scrolled": false
   },
   "outputs": [],
   "source": []
  }
 ],
 "metadata": {
  "kernelspec": {
   "display_name": "Python 3",
   "language": "python",
   "name": "python3"
  },
  "language_info": {
   "codemirror_mode": {
    "name": "ipython",
    "version": 3
   },
   "file_extension": ".py",
   "mimetype": "text/x-python",
   "name": "python",
   "nbconvert_exporter": "python",
   "pygments_lexer": "ipython3",
   "version": "3.8.10"
  }
 },
 "nbformat": 4,
 "nbformat_minor": 4
}
