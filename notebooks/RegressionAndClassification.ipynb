{
 "cells": [
  {
   "cell_type": "markdown",
   "metadata": {},
   "source": [
    "# Light curves augmentation using neural networks"
   ]
  },
  {
   "cell_type": "code",
   "execution_count": 1,
   "metadata": {},
   "outputs": [],
   "source": [
    "%matplotlib inline\n",
    "import numpy as np\n",
    "import pandas as pd\n",
    "import sklearn\n",
    "import warnings\n",
    "warnings.filterwarnings('ignore', 'lbfgs failed to converge*')\n",
    "\n",
    "import aug_functions\n",
    "import utils"
   ]
  },
  {
   "cell_type": "code",
   "execution_count": 2,
   "metadata": {},
   "outputs": [],
   "source": [
    "import matplotlib.pyplot as plt\n",
    "from matplotlib import rc\n",
    "\n",
    "rc('font',**{'family':'serif'})\n",
    "rc('text', usetex=True)\n",
    "rc('text.latex', preamble='''\n",
    "        \\\\usepackage[utf8]{inputenc}\n",
    "        \\\\usepackage{amssymb}\n",
    "        \\\\usepackage{amsfonts}\n",
    "        \\\\usepackage[russian]{babel}''')"
   ]
  },
  {
   "cell_type": "markdown",
   "metadata": {},
   "source": [
    "### Data download"
   ]
  },
  {
   "cell_type": "code",
   "execution_count": 3,
   "metadata": {},
   "outputs": [
    {
     "data": {
      "text/html": [
       "<div>\n",
       "<style scoped>\n",
       "    .dataframe tbody tr th:only-of-type {\n",
       "        vertical-align: middle;\n",
       "    }\n",
       "\n",
       "    .dataframe tbody tr th {\n",
       "        vertical-align: top;\n",
       "    }\n",
       "\n",
       "    .dataframe thead th {\n",
       "        text-align: right;\n",
       "    }\n",
       "</style>\n",
       "<table border=\"1\" class=\"dataframe\">\n",
       "  <thead>\n",
       "    <tr style=\"text-align: right;\">\n",
       "      <th></th>\n",
       "      <th>object_id</th>\n",
       "      <th>mjd</th>\n",
       "      <th>passband</th>\n",
       "      <th>flux</th>\n",
       "      <th>flux_err</th>\n",
       "      <th>detected</th>\n",
       "      <th>log_lam</th>\n",
       "      <th>class</th>\n",
       "    </tr>\n",
       "  </thead>\n",
       "  <tbody>\n",
       "    <tr>\n",
       "      <th>4368930</th>\n",
       "      <td>139410</td>\n",
       "      <td>60297.1321</td>\n",
       "      <td>3</td>\n",
       "      <td>10.279276</td>\n",
       "      <td>1.156271</td>\n",
       "      <td>1</td>\n",
       "      <td>3.875155</td>\n",
       "      <td>0</td>\n",
       "    </tr>\n",
       "    <tr>\n",
       "      <th>502112</th>\n",
       "      <td>249825</td>\n",
       "      <td>60577.0563</td>\n",
       "      <td>5</td>\n",
       "      <td>63.299400</td>\n",
       "      <td>8.550861</td>\n",
       "      <td>1</td>\n",
       "      <td>3.987288</td>\n",
       "      <td>1</td>\n",
       "    </tr>\n",
       "    <tr>\n",
       "      <th>397047</th>\n",
       "      <td>201776</td>\n",
       "      <td>60593.1365</td>\n",
       "      <td>3</td>\n",
       "      <td>286.856201</td>\n",
       "      <td>2.209714</td>\n",
       "      <td>1</td>\n",
       "      <td>3.875155</td>\n",
       "      <td>0</td>\n",
       "    </tr>\n",
       "    <tr>\n",
       "      <th>7732499</th>\n",
       "      <td>244711</td>\n",
       "      <td>60532.3860</td>\n",
       "      <td>5</td>\n",
       "      <td>51.122940</td>\n",
       "      <td>6.018508</td>\n",
       "      <td>1</td>\n",
       "      <td>3.987288</td>\n",
       "      <td>1</td>\n",
       "    </tr>\n",
       "    <tr>\n",
       "      <th>202986</th>\n",
       "      <td>103948</td>\n",
       "      <td>60605.0908</td>\n",
       "      <td>2</td>\n",
       "      <td>106.996933</td>\n",
       "      <td>1.176823</td>\n",
       "      <td>1</td>\n",
       "      <td>3.790512</td>\n",
       "      <td>1</td>\n",
       "    </tr>\n",
       "    <tr>\n",
       "      <th>439704</th>\n",
       "      <td>221663</td>\n",
       "      <td>60621.2278</td>\n",
       "      <td>1</td>\n",
       "      <td>109.713951</td>\n",
       "      <td>1.186818</td>\n",
       "      <td>1</td>\n",
       "      <td>3.675929</td>\n",
       "      <td>0</td>\n",
       "    </tr>\n",
       "    <tr>\n",
       "      <th>1348336</th>\n",
       "      <td>43395</td>\n",
       "      <td>59782.2372</td>\n",
       "      <td>2</td>\n",
       "      <td>28.029936</td>\n",
       "      <td>1.243648</td>\n",
       "      <td>1</td>\n",
       "      <td>3.790512</td>\n",
       "      <td>0</td>\n",
       "    </tr>\n",
       "    <tr>\n",
       "      <th>1427669</th>\n",
       "      <td>45919</td>\n",
       "      <td>59933.0632</td>\n",
       "      <td>2</td>\n",
       "      <td>24.458166</td>\n",
       "      <td>0.557466</td>\n",
       "      <td>1</td>\n",
       "      <td>3.790512</td>\n",
       "      <td>0</td>\n",
       "    </tr>\n",
       "    <tr>\n",
       "      <th>5529302</th>\n",
       "      <td>175304</td>\n",
       "      <td>60609.0876</td>\n",
       "      <td>3</td>\n",
       "      <td>49.924751</td>\n",
       "      <td>1.093160</td>\n",
       "      <td>1</td>\n",
       "      <td>3.875155</td>\n",
       "      <td>1</td>\n",
       "    </tr>\n",
       "    <tr>\n",
       "      <th>9599150</th>\n",
       "      <td>303445</td>\n",
       "      <td>59930.0771</td>\n",
       "      <td>3</td>\n",
       "      <td>12.109799</td>\n",
       "      <td>1.118827</td>\n",
       "      <td>1</td>\n",
       "      <td>3.875155</td>\n",
       "      <td>0</td>\n",
       "    </tr>\n",
       "  </tbody>\n",
       "</table>\n",
       "</div>"
      ],
      "text/plain": [
       "         object_id         mjd  passband        flux  flux_err  detected  \\\n",
       "4368930     139410  60297.1321         3   10.279276  1.156271         1   \n",
       "502112      249825  60577.0563         5   63.299400  8.550861         1   \n",
       "397047      201776  60593.1365         3  286.856201  2.209714         1   \n",
       "7732499     244711  60532.3860         5   51.122940  6.018508         1   \n",
       "202986      103948  60605.0908         2  106.996933  1.176823         1   \n",
       "439704      221663  60621.2278         1  109.713951  1.186818         1   \n",
       "1348336      43395  59782.2372         2   28.029936  1.243648         1   \n",
       "1427669      45919  59933.0632         2   24.458166  0.557466         1   \n",
       "5529302     175304  60609.0876         3   49.924751  1.093160         1   \n",
       "9599150     303445  59930.0771         3   12.109799  1.118827         1   \n",
       "\n",
       "          log_lam  class  \n",
       "4368930  3.875155      0  \n",
       "502112   3.987288      1  \n",
       "397047   3.875155      0  \n",
       "7732499  3.987288      1  \n",
       "202986   3.790512      1  \n",
       "439704   3.675929      0  \n",
       "1348336  3.790512      0  \n",
       "1427669  3.790512      0  \n",
       "5529302  3.875155      1  \n",
       "9599150  3.875155      0  "
      ]
     },
     "execution_count": 3,
     "metadata": {},
     "output_type": "execute_result"
    }
   ],
   "source": [
    "good_objects_df = pd.read_csv(\"../data/plasticc/good_objects.csv\", index_col=0)\n",
    "good_objects_df.sample(10)"
   ]
  },
  {
   "cell_type": "code",
   "execution_count": 4,
   "metadata": {},
   "outputs": [],
   "source": [
    "good_object_ids = np.unique(good_objects_df.object_id)"
   ]
  },
  {
   "cell_type": "markdown",
   "metadata": {},
   "source": [
    "### An example of augmentation model work"
   ]
  },
  {
   "cell_type": "code",
   "execution_count": 5,
   "metadata": {},
   "outputs": [
    {
     "data": {
      "image/png": "[encoded data removed]",
      "text/plain": [
       "<Figure size 648x360 with 1 Axes>"
      ]
     },
     "metadata": {
      "needs_background": "light"
     },
     "output_type": "display_data"
    }
   ],
   "source": [
    "anobject = aug_functions.get_object(good_objects_df, 34299)\n",
    "\n",
    "aug_functions.plot_light_curves(anobject)"
   ]
  },
  {
   "cell_type": "code",
   "execution_count": 6,
   "metadata": {},
   "outputs": [
    {
     "data": {
      "text/html": [
       "<div>\n",
       "<style scoped>\n",
       "    .dataframe tbody tr th:only-of-type {\n",
       "        vertical-align: middle;\n",
       "    }\n",
       "\n",
       "    .dataframe tbody tr th {\n",
       "        vertical-align: top;\n",
       "    }\n",
       "\n",
       "    .dataframe thead th {\n",
       "        text-align: right;\n",
       "    }\n",
       "</style>\n",
       "<table border=\"1\" class=\"dataframe\">\n",
       "  <thead>\n",
       "    <tr style=\"text-align: right;\">\n",
       "      <th></th>\n",
       "      <th>object_id</th>\n",
       "      <th>mjd</th>\n",
       "      <th>passband</th>\n",
       "      <th>flux</th>\n",
       "      <th>flux_err</th>\n",
       "      <th>detected</th>\n",
       "      <th>log_lam</th>\n",
       "      <th>class</th>\n",
       "    </tr>\n",
       "  </thead>\n",
       "  <tbody>\n",
       "    <tr>\n",
       "      <th>65498</th>\n",
       "      <td>34299</td>\n",
       "      <td>59779.3188</td>\n",
       "      <td>2</td>\n",
       "      <td>87.794540</td>\n",
       "      <td>2.394942</td>\n",
       "      <td>1</td>\n",
       "      <td>3.790512</td>\n",
       "      <td>0</td>\n",
       "    </tr>\n",
       "    <tr>\n",
       "      <th>65499</th>\n",
       "      <td>34299</td>\n",
       "      <td>59779.3265</td>\n",
       "      <td>1</td>\n",
       "      <td>68.224197</td>\n",
       "      <td>2.879688</td>\n",
       "      <td>1</td>\n",
       "      <td>3.675929</td>\n",
       "      <td>0</td>\n",
       "    </tr>\n",
       "    <tr>\n",
       "      <th>65500</th>\n",
       "      <td>34299</td>\n",
       "      <td>59779.3342</td>\n",
       "      <td>3</td>\n",
       "      <td>87.452316</td>\n",
       "      <td>2.326311</td>\n",
       "      <td>1</td>\n",
       "      <td>3.875155</td>\n",
       "      <td>0</td>\n",
       "    </tr>\n",
       "    <tr>\n",
       "      <th>65501</th>\n",
       "      <td>34299</td>\n",
       "      <td>59779.3452</td>\n",
       "      <td>4</td>\n",
       "      <td>81.765785</td>\n",
       "      <td>3.025279</td>\n",
       "      <td>1</td>\n",
       "      <td>3.938479</td>\n",
       "      <td>0</td>\n",
       "    </tr>\n",
       "    <tr>\n",
       "      <th>65502</th>\n",
       "      <td>34299</td>\n",
       "      <td>59779.3562</td>\n",
       "      <td>5</td>\n",
       "      <td>82.755684</td>\n",
       "      <td>7.136933</td>\n",
       "      <td>1</td>\n",
       "      <td>3.987288</td>\n",
       "      <td>0</td>\n",
       "    </tr>\n",
       "  </tbody>\n",
       "</table>\n",
       "</div>"
      ],
      "text/plain": [
       "       object_id         mjd  passband       flux  flux_err  detected  \\\n",
       "65498      34299  59779.3188         2  87.794540  2.394942         1   \n",
       "65499      34299  59779.3265         1  68.224197  2.879688         1   \n",
       "65500      34299  59779.3342         3  87.452316  2.326311         1   \n",
       "65501      34299  59779.3452         4  81.765785  3.025279         1   \n",
       "65502      34299  59779.3562         5  82.755684  7.136933         1   \n",
       "\n",
       "        log_lam  class  \n",
       "65498  3.790512      0  \n",
       "65499  3.675929      0  \n",
       "65500  3.875155      0  \n",
       "65501  3.938479      0  \n",
       "65502  3.987288      0  "
      ]
     },
     "execution_count": 6,
     "metadata": {},
     "output_type": "execute_result"
    }
   ],
   "source": [
    "anobject.head()"
   ]
  },
  {
   "cell_type": "code",
   "execution_count": 7,
   "metadata": {},
   "outputs": [],
   "source": [
    "augmentation_model = \"MLP\""
   ]
  },
  {
   "cell_type": "code",
   "execution_count": 8,
   "metadata": {},
   "outputs": [
    {
     "name": "stdout",
     "output_type": "stream",
     "text": [
      "RMSE:  5.952775104868665\n",
      "MAE:  4.3101902534686545\n",
      "RSE:  0.028298256487735166\n",
      "RAE:  0.02301440031991539\n",
      "MAPE:  3.4704024836495506\n"
     ]
    },
    {
     "data": {
      "image/png": "[encoded data removed]",
      "text/plain": [
       "<Figure size 648x360 with 1 Axes>"
      ]
     },
     "metadata": {
      "needs_background": "light"
     },
     "output_type": "display_data"
    }
   ],
   "source": [
    "from sklearn.model_selection import train_test_split\n",
    "\n",
    "# train/test split data\n",
    "anobject = aug_functions.get_object(good_objects_df, 34299)\n",
    "anobject_train, anobject_test = train_test_split(anobject, test_size=0.36, random_state=11)\n",
    "\n",
    "# select augmentation model\n",
    "model = None\n",
    "if augmentation_model == \"GP\":\n",
    "    import gp_aug\n",
    "    model = gp_aug.GaussianProcessesAugmentation(aug_functions.passband2lam)\n",
    "elif augmentation_model == \"NN_1\":\n",
    "    import single_layer_aug\n",
    "    model = single_layer_aug.SingleLayerNetAugmentation(aug_functions.passband2lam)\n",
    "elif augmentation_model == \"FE\":\n",
    "    import features_aug\n",
    "    model = features_aug.FeaturesEngineeringAugmentation(aug_functions.passband2lam)\n",
    "elif augmentation_model == \"MLP\":\n",
    "    import mlp_aug\n",
    "    model = mlp_aug.MLPRegressionAugmentation(aug_functions.passband2lam)\n",
    "elif augmentation_model == \"RBF\":\n",
    "    import rbfnet_aug\n",
    "    model = rbfnet_aug.RBFNetAugmentation(aug_functions.passband2lam)\n",
    "elif augmentation_model == \"BNN\":\n",
    "    import bnn_aug\n",
    "    model = bnn_aug.BayesianNetAugmentation(aug_functions.passband2lam)\n",
    "else:\n",
    "    raise ValueError(\"Unknown augmentation type: {}\".format(augmentation_model))\n",
    "    \n",
    "# fit augmentation model\n",
    "model.fit(anobject_train['mjd'].values, anobject_train['flux'].values, \n",
    "          anobject_train['flux_err'].values, anobject_train['passband'].values)\n",
    "\n",
    "# predict flux for unseen observations\n",
    "flux_pred, flux_err_pred = model.predict(anobject_test['mjd'].values, anobject_test['passband'].values, copy=True)\n",
    "\n",
    "# augmentation\n",
    "t_aug, flux_aug, flux_err_aug, passbands_aug = model.augmentation(anobject['mjd'].min(), \n",
    "                                                                  anobject['mjd'].max(), \n",
    "                                                                  n_obs=aug_functions.N_OBS)\n",
    "anobject_test_pred = anobject_test.copy()\n",
    "anobject_test_pred['flux'], anobject_test_pred['flux_err'] = flux_pred, flux_err_pred\n",
    "\n",
    "# calculate quality metrics\n",
    "[rmse, mae, rse, rae, mape] = utils.regression_quality_metrics_report(anobject_test['flux'].values, \n",
    "                                                                      anobject_test_pred['flux'])\n",
    "print(\"RMSE: \", rmse)\n",
    "print(\"MAE: \", mae)\n",
    "print(\"RSE: \", rse)\n",
    "print(\"RAE: \", rae)\n",
    "print(\"MAPE: \", mape)\n",
    "\n",
    "# visualize augmented light curve\n",
    "anobject_aug = aug_functions.compile_obj(t_aug, flux_aug, flux_err_aug, passbands_aug)\n",
    "anobject_aug[\"object_id\"] = anobject.object_id.to_numpy()[0]\n",
    "aug_functions.plot_light_curves(anobject_aug, \"aug\")"
   ]
  },
  {
   "cell_type": "code",
   "execution_count": 9,
   "metadata": {
    "scrolled": false
   },
   "outputs": [
    {
     "data": {
      "image/png": "[encoded data removed]",
      "text/plain": [
       "<Figure size 648x360 with 1 Axes>"
      ]
     },
     "metadata": {
      "needs_background": "light"
     },
     "output_type": "display_data"
    }
   ],
   "source": [
    "anobject_pic_real = anobject.sort_values('mjd')\n",
    "anobject_pic_aug = anobject_aug.sort_values('mjd')\n",
    "colors = ['C' + str(i) for i in range(6)]\n",
    "\n",
    "fig = plt.figure(figsize=(9, 5), tight_layout = {'pad': 0})\n",
    "for passband in range(6):\n",
    "    light_curve_real = aug_functions.get_passband(anobject_pic_real, passband)\n",
    "    light_curve_aug = aug_functions.get_passband(anobject_pic_aug, passband)\n",
    "    plt.plot(light_curve_real['mjd'].values, light_curve_real['flux'].values, 'o', linewidth=2)\n",
    "    plt.fill_between(light_curve_aug['mjd'].values,\n",
    "                     light_curve_aug['flux'].values - 3 * light_curve_aug['flux_err'].values,\n",
    "                     light_curve_aug['flux'].values + 3 * light_curve_aug['flux_err'].values,\n",
    "                     label=aug_functions.passband2name[passband], alpha=0.5, color=colors[passband])\n",
    "#plt.title('Ожидаемый разброс значений $\\hat{f}(x) \\pm 3 \\sigma$', fontsize=28, pad=8.0)\n",
    "plt.xlabel('Modified Julian date', fontsize=24)\n",
    "plt.xticks(fontsize=22)\n",
    "plt.ylabel('Flux', fontsize=24)\n",
    "plt.yticks(fontsize=22)\n",
    "#plt.legend(loc='upper right', ncol=2, fontsize=24, columnspacing=1.0)\n",
    "plt.grid(True)\n",
    "plt.show()\n",
    "#fig.savefig(\"../pictures/light_curve_{}_{}.pdf\".format(anobject.object_id.to_numpy()[0], \n",
    "#            augmentation_model), bbox_inches='tight', pad_inches=0.0)#"
   ]
  },
  {
   "cell_type": "markdown",
   "metadata": {},
   "source": [
    "### Solution of the regression problem"
   ]
  },
  {
   "cell_type": "code",
   "execution_count": 10,
   "metadata": {},
   "outputs": [],
   "source": [
    "from joblib import Parallel, delayed"
   ]
  },
  {
   "cell_type": "code",
   "execution_count": 11,
   "metadata": {},
   "outputs": [],
   "source": [
    "def one_object_test(good_id):\n",
    "    # get an object\n",
    "    anobject = aug_functions.get_object(good_objects_df, good_id)\n",
    "\n",
    "    # train / test split data\n",
    "    anobject_train, anobject_test = train_test_split(anobject, test_size=0.36, random_state=11)\n",
    "    \n",
    "    # select augmentation model\n",
    "    model = None\n",
    "    if augmentation_model == \"GP\":\n",
    "        import gp_aug # стереть\n",
    "        model = gp_aug.GaussianProcessesAugmentation(aug_functions.passband2lam)\n",
    "    elif augmentation_model == \"NN_1\":\n",
    "        model = single_layer_aug.SingleLayerNetAugmentation(aug_functions.passband2lam)\n",
    "    elif augmentation_model == \"FE\":\n",
    "        model = features_aug.FeaturesEngineeringAugmentation(aug_functions.passband2lam)\n",
    "    elif augmentation_model == \"MLP\":\n",
    "        model = mlp_aug.MLPRegressionAugmentation(aug_functions.passband2lam)\n",
    "    elif augmentation_model == \"RBF\":\n",
    "        model = rbfnet_aug.RBFNetAugmentation(aug_functions.passband2lam)\n",
    "    elif augmentation_model == \"BNN\":\n",
    "        model = bnn_aug.BayesianNetAugmentation(aug_functions.passband2lam)\n",
    "    else:\n",
    "        raise ValueError(\"Unknown augmentation type\")\n",
    "        \n",
    "    # fil augmentation model\n",
    "    model.fit(anobject_train['mjd'].values, anobject_train['flux'].values, \n",
    "              anobject_train['flux_err'].values, anobject_train['passband'].values)\n",
    "\n",
    "    # predict flux for unseen observations\n",
    "    flux_pred, flux_err_pred = model.predict(anobject_test['mjd'].values, \n",
    "                                             anobject_test['passband'].values, copy=True)\n",
    "\n",
    "    # calculate metrics\n",
    "    metrics = utils.regression_quality_metrics_report(anobject_test['flux'].values, \n",
    "                                                           flux_pred.reshape((1, -1))[0])\n",
    "    return metrics"
   ]
  },
  {
   "cell_type": "code",
   "execution_count": 12,
   "metadata": {},
   "outputs": [],
   "source": [
    "def gen_report(metrics):\n",
    "    report = pd.DataFrame(columns=[\"ID\", 'RMSE', 'MAE', 'RSE', 'RAE', 'MAPE'])\n",
    "    for i, met in enumerate(metrics):\n",
    "        if met is not None:\n",
    "            report.loc[len(report), :] = [i] + list(met)\n",
    "    return report"
   ]
  },
  {
   "cell_type": "code",
   "execution_count": 13,
   "metadata": {},
   "outputs": [
    {
     "name": "stdout",
     "output_type": "stream",
     "text": [
      "CPU times: user 9.33 s, sys: 413 ms, total: 9.74 s\n",
      "Wall time: 43.3 s\n"
     ]
    },
    {
     "data": {
      "text/plain": [
       "RMSE    18.308671\n",
       "MAE     10.400550\n",
       "RSE      0.349591\n",
       "RAE      0.294492\n",
       "MAPE    17.304666\n",
       "dtype: float64"
      ]
     },
     "execution_count": 13,
     "metadata": {},
     "output_type": "execute_result"
    }
   ],
   "source": [
    "%%time\n",
    "\n",
    "metrics = Parallel(n_jobs=-1)(delayed(one_object_test)(good_id) for good_id in good_object_ids)\n",
    "report  = gen_report(metrics)\n",
    "metrics = report\n",
    "\n",
    "df_metrics = pd.DataFrame(data=metrics, columns=[\"RMSE\", \"MAE\", \"RSE\", \"RAE\", \"MAPE\"])\n",
    "df_metrics.mean()"
   ]
  },
  {
   "cell_type": "code",
   "execution_count": 14,
   "metadata": {},
   "outputs": [
    {
     "name": "stdout",
     "output_type": "stream",
     "text": [
      "RMSE: mean = 18.2410, std = 5.7124\n",
      "MAE:  mean = 10.3717, std = 2.4304\n",
      "RSE:  mean = 0.3494,  std = 0.0091\n",
      "RAE:  mean = 0.2943,  std = 0.0073\n",
      "MAPE: mean = 17.2938, std = 0.4923\n"
     ]
    }
   ],
   "source": [
    "# sample metric values\n",
    "\n",
    "rmse = np.array(report)[:,1]\n",
    "mae  = np.array(report)[:,2]\n",
    "rse  = np.array(report)[:,3]\n",
    "rae  = np.array(report)[:,4]\n",
    "mape = np.array(report)[:,5]\n",
    "\n",
    "N = len(good_object_ids)\n",
    "assert len(rmse) == N\n",
    "assert len(mae) == N\n",
    "assert len(rse) == N\n",
    "assert len(rae) == N\n",
    "assert len(mape) == N\n",
    "\n",
    "sample_coeffs = np.random.randint(0, N, (10000, 1000))\n",
    "\n",
    "# calculate mean RMSE\n",
    "sample_rmse = rmse[sample_coeffs]\n",
    "sample_rmse_mean = sample_rmse.mean(axis=1)\n",
    "print(\"RMSE: mean = %.4f, std = %.4f\" % (sample_rmse_mean.mean(), sample_rmse_mean.std()))\n",
    "\n",
    "# calculate mean MAE\n",
    "sample_mae = mae[sample_coeffs]\n",
    "sample_mae_mean = sample_mae.mean(axis=1)\n",
    "print(\"MAE:  mean = %.4f, std = %.4f\" % (sample_mae_mean.mean(), sample_mae_mean.std()))\n",
    "\n",
    "# calculate mean RSE\n",
    "sample_rse = rse[sample_coeffs]\n",
    "sample_rse_mean = sample_rse.mean(axis=1)\n",
    "print(\"RSE:  mean = %.4f,  std = %.4f\" % (sample_rse_mean.mean(), sample_rse_mean.std()))\n",
    "\n",
    "# calculate mean RAE\n",
    "sample_rae = rae[sample_coeffs]\n",
    "sample_rae_mean = sample_rae.mean(axis=1)\n",
    "print(\"RAE:  mean = %.4f,  std = %.4f\" % (sample_rae_mean.mean(), sample_rae_mean.std()))\n",
    "\n",
    "# calculate mean MAPE\n",
    "sample_mape = mape[sample_coeffs]\n",
    "sample_mape_mean = sample_mape.mean(axis=1)\n",
    "print(\"MAPE: mean = %.4f, std = %.4f\" % (sample_mape_mean.mean(), sample_mape_mean.std()))"
   ]
  },
  {
   "cell_type": "markdown",
   "metadata": {},
   "source": [
    "### Solution of the classification problem"
   ]
  },
  {
   "cell_type": "code",
   "execution_count": 15,
   "metadata": {
    "scrolled": true
   },
   "outputs": [],
   "source": [
    "from tqdm.notebook import tqdm\n",
    "\n",
    "def gen_one_object(good_id):\n",
    "    # train / test split data\n",
    "    anobject = aug_functions.get_object(good_objects_df, good_id)\n",
    "    anobject_train, anobject_test = train_test_split(anobject, test_size=0.36, random_state=11)\n",
    "\n",
    "    # initialize augmentation model\n",
    "    model = None\n",
    "    if augmentation_model == \"GP\":\n",
    "        model = gp_aug.GaussianProcessesAugmentation(aug_functions.passband2lam)\n",
    "    elif augmentation_model == \"NN_1\":\n",
    "        model = single_layer_aug.SingleLayerNetAugmentation(aug_functions.passband2lam)\n",
    "    elif augmentation_model == \"FE\":\n",
    "        model = features_aug.FeaturesEngineeringAugmentation(aug_functions.passband2lam)\n",
    "    elif augmentation_model == \"MLP\":\n",
    "        model = mlp_aug.MLPRegressionAugmentation(aug_functions.passband2lam)\n",
    "    elif augmentation_model == \"RBF\":\n",
    "        model = rbfnet_aug.RBFNetAugmentation(aug_functions.passband2lam)\n",
    "    elif augmentation_model == \"BNN\":\n",
    "        model = bnn_aug.BayesianNetAugmentation(aug_functions.passband2lam)\n",
    "    else:\n",
    "        raise ValueError(\"Unknown augmentation type\")\n",
    "\n",
    "    # fit augmentation model\n",
    "    model.fit(anobject_train['mjd'].values, anobject_train['flux'].values, \n",
    "              anobject_train['flux_err'].values, anobject_train['passband'].values)\n",
    "\n",
    "    # predict flux for unseen observations\n",
    "    flux_pred, flux_err_pred = model.predict(anobject_test['mjd'].values, \n",
    "                                             anobject_test['passband'].values, copy=True)\n",
    "\n",
    "    # augmentation\n",
    "    t_aug, flux_aug, flux_err_aug, passbands_aug = model.augmentation(anobject['mjd'].min(), \n",
    "                                                                      anobject['mjd'].max(), \n",
    "                                                                      n_obs=aug_functions.N_OBS)\n",
    "\n",
    "    # convert values to 2D-array\n",
    "    data_array = flux_aug.reshape((aug_functions.N_PASSBANDS, aug_functions.N_OBS)).T\n",
    "    \n",
    "    # add target value for this curve\n",
    "    true_class = int(anobject['class'].to_numpy()[0])\n",
    "    \n",
    "    return (true_class, [data_array])"
   ]
  },
  {
   "cell_type": "code",
   "execution_count": 16,
   "metadata": {},
   "outputs": [
    {
     "name": "stdout",
     "output_type": "stream",
     "text": [
      "(2508, 1, 500, 6) (2508,)\n",
      "CPU times: user 9.65 s, sys: 447 ms, total: 10.1 s\n",
      "Wall time: 53 s\n"
     ]
    }
   ],
   "source": [
    "%%time\n",
    "\n",
    "some_array = Parallel(n_jobs=-1)(delayed(gen_one_object)(good_id) for good_id in good_object_ids)\n",
    "\n",
    "# collect all input data\n",
    "all_target_classes = np.array([some_array[i][0] for i in range(len(some_array))])\n",
    "all_data = np.array([some_array[i][1] for i in range(len(some_array))])\n",
    "print(all_data.shape, all_target_classes.shape)"
   ]
  },
  {
   "cell_type": "code",
   "execution_count": 17,
   "metadata": {},
   "outputs": [],
   "source": [
    "import torch\n",
    "import torch.nn as nn\n",
    "import torch.nn.functional as F\n",
    "\n",
    "from torchvision import transforms\n",
    "from torch.utils.data import TensorDataset, DataLoader\n",
    "\n",
    "device = 'cpu'"
   ]
  },
  {
   "cell_type": "code",
   "execution_count": 18,
   "metadata": {},
   "outputs": [],
   "source": [
    "# train / test split data\n",
    "X_train, X_test, y_train, y_test = train_test_split(all_data, \n",
    "                                                    all_target_classes,\n",
    "                                                    test_size=0.4,\n",
    "                                                    random_state=179)\n",
    "\n",
    "# normalize input data\n",
    "X_train_norm = np.array((X_train - X_train.mean()) / X_train.std(), dtype=np.float32)\n",
    "X_test_norm = np.array((X_test - X_train.mean()) / X_train.std(), dtype=np.float32)\n",
    "\n",
    "# convert train data to tensors\n",
    "X_train_tensor = torch.from_numpy(X_train_norm)\n",
    "y_train_tensor = torch.from_numpy(np.array(y_train, dtype=np.float32))\n",
    "\n",
    "# create train data loader\n",
    "train_data = TensorDataset(X_train_tensor, y_train_tensor)\n",
    "trainloader = torch.utils.data.DataLoader(train_data, batch_size=1,\n",
    "                                          shuffle=True, num_workers=2)\n",
    "\n",
    "# convert test data to tensors\n",
    "X_test_tensor = torch.from_numpy(X_test_norm)\n",
    "y_test_tensor = torch.from_numpy(np.array(y_test, dtype=np.float32))\n",
    "\n",
    "# create test data loader\n",
    "test_data = TensorDataset(X_test_tensor, y_test_tensor)\n",
    "testloader = torch.utils.data.DataLoader(test_data, batch_size=1,\n",
    "                                         shuffle=False, num_workers=2)"
   ]
  },
  {
   "cell_type": "code",
   "execution_count": 19,
   "metadata": {},
   "outputs": [],
   "source": [
    "# model for binary classificiation: Supernova Ia VS others\n",
    "\n",
    "class Net(nn.Module):\n",
    "    def __init__(self):\n",
    "        super(Net, self).__init__()\n",
    "        self.conv1 = nn.Conv2d(1, 4, kernel_size=(10, 2))\n",
    "        self.conv2 = nn.Conv2d(4, 8, kernel_size=(10, 2))\n",
    "        self.conv3 = nn.Conv1d(8, 16, kernel_size=(5, 2))\n",
    "        self.pool = nn.MaxPool2d(2, 2)\n",
    "        self.dropout = nn.Dropout(0.2)\n",
    "        self.fc1 = nn.Linear(3824, 64)\n",
    "        self.fc2 = nn.Linear(64, 1)\n",
    "\n",
    "    def forward(self, x):\n",
    "        x = F.leaky_relu(self.conv1(x))\n",
    "        x = F.leaky_relu(self.conv2(x))\n",
    "        x = F.leaky_relu(self.conv3(x))\n",
    "        x = self.pool(x)\n",
    "        x = self.dropout(x)\n",
    "        \n",
    "        x = x.view(-1, 3824)\n",
    "        \n",
    "        x = F.relu(self.fc1(x))\n",
    "        x = torch.sigmoid(self.fc2(x))\n",
    "        return x"
   ]
  },
  {
   "cell_type": "code",
   "execution_count": 20,
   "metadata": {},
   "outputs": [],
   "source": [
    "import torch.optim as optim\n",
    "\n",
    "# initialize binary classifier\n",
    "net = Net()\n",
    "criterion = nn.BCELoss()\n",
    "optimizer = optim.SGD(net.parameters(), lr=0.001)"
   ]
  },
  {
   "cell_type": "code",
   "execution_count": 21,
   "metadata": {},
   "outputs": [],
   "source": [
    "def get_model_accuracy(net, data_loader):\n",
    "    correct = 0\n",
    "    total = 0\n",
    "\n",
    "    with torch.no_grad():\n",
    "        for test_info in data_loader:\n",
    "            images, test_labels = test_info\n",
    "            test_outputs = net(images)\n",
    "            prob = test_outputs.item()\n",
    "            if prob > 0.5:\n",
    "                predicted = 1\n",
    "            else:\n",
    "                predicted = 0\n",
    "            total += test_labels.size(0)\n",
    "            correct += (predicted == test_labels.item())\n",
    "\n",
    "    return correct / total"
   ]
  },
  {
   "cell_type": "code",
   "execution_count": 22,
   "metadata": {
    "scrolled": false
   },
   "outputs": [
    {
     "data": {
      "application/vnd.jupyter.widget-view+json": {
       "model_id": "48a938e5f8fe4eb4a66c497e5f940012",
       "version_major": 2,
       "version_minor": 0
      },
      "text/plain": [
       "  0%|          | 0/100 [00:00<?, ?it/s]"
      ]
     },
     "metadata": {},
     "output_type": "display_data"
    },
    {
     "name": "stderr",
     "output_type": "stream",
     "text": [
      "/home/katsam/anaconda3/lib/python3.6/site-packages/torch/nn/functional.py:718: UserWarning: Named tensors and all their associated APIs are an experimental feature and subject to change. Please do not use them for anything important until they are released as stable. (Triggered internally at  /pytorch/c10/core/TensorImpl.h:1156.)\n",
      "  return torch.max_pool2d(input, kernel_size, stride, padding, dilation, ceil_mode)\n"
     ]
    },
    {
     "name": "stdout",
     "output_type": "stream",
     "text": [
      "[   10] error: 0.687\n",
      "[   20] error: 0.568\n",
      "[   30] error: 0.420\n",
      "[   40] error: 0.279\n",
      "[   50] error: 0.183\n",
      "[   60] error: 0.282\n",
      "[   70] error: 0.172\n",
      "[   80] error: 0.120\n",
      "[   90] error: 0.120\n",
      "[  100] error: 0.101\n",
      "Finished Training\n"
     ]
    }
   ],
   "source": [
    "epochs = np.arange(100)\n",
    "\n",
    "best_loss = float('inf')\n",
    "best_state = None\n",
    "\n",
    "for epoch in tqdm(epochs):  # loop over the dataset multiple times\n",
    "    epoch_loss = 0.0\n",
    "    for info in trainloader:\n",
    "        # get the inputs; info is a list of [inputs, labels]\n",
    "        inputs, labels = info\n",
    "\n",
    "        # zero the parameter gradients\n",
    "        for param in net.parameters():\n",
    "            param.grad = None\n",
    "        \n",
    "        # forward + backward + optimize\n",
    "        outputs = net(inputs).reshape(1)\n",
    "        loss = criterion(outputs, labels)\n",
    "        loss.backward()\n",
    "        optimizer.step()\n",
    "\n",
    "        epoch_loss += loss.item()\n",
    "\n",
    "    # print mean loss for the epoch\n",
    "    cur_loss = epoch_loss / X_train_norm.shape[0]\n",
    "    if (epoch + 1) % 10 == 0:\n",
    "        print('[%5d] error: %.3f' % (epoch + 1, cur_loss))\n",
    "    if cur_loss <= best_loss:\n",
    "        best_loss = cur_loss\n",
    "        best_state = net.state_dict()\n",
    "\n",
    "net.load_state_dict(best_state)\n",
    "\n",
    "print('Finished Training')"
   ]
  },
  {
   "cell_type": "code",
   "execution_count": 23,
   "metadata": {},
   "outputs": [
    {
     "name": "stdout",
     "output_type": "stream",
     "text": [
      "Test accuracy of the network on the 1004 test images: 0.9552\n",
      "Train accuracy of the network on the 1504 train images: 0.9727\n"
     ]
    }
   ],
   "source": [
    "# check models' accuracy\n",
    "test_accuracy = get_model_accuracy(net, testloader)\n",
    "train_accuracy = get_model_accuracy(net, trainloader)\n",
    "\n",
    "print('Test accuracy of the network on the %d test images: %.4f' % \n",
    "      (X_test_norm.shape[0], test_accuracy))\n",
    "print('Train accuracy of the network on the %d train images: %.4f' % \n",
    "      (X_train_norm.shape[0], train_accuracy))"
   ]
  },
  {
   "cell_type": "code",
   "execution_count": 24,
   "metadata": {},
   "outputs": [],
   "source": [
    "y_test = []\n",
    "y_probs = []\n",
    "y_probs_0 = []\n",
    "y_probs_1 = []\n",
    "\n",
    "with torch.no_grad():\n",
    "    for test_info in testloader:\n",
    "        images, test_labels = test_info\n",
    "        test_outputs = net(images)\n",
    "        \n",
    "        # get output value\n",
    "        prob = test_outputs.item()\n",
    "        \n",
    "        # check true target valur    \n",
    "        true_class = int(test_labels.item())\n",
    "        \n",
    "        # compare output to threshold\n",
    "        if true_class == 0:\n",
    "            y_probs_0.append(prob)\n",
    "        else:\n",
    "            y_probs_1.append(prob)\n",
    "        \n",
    "        # get predicted target value\n",
    "        y_test.append(true_class)\n",
    "        y_probs.append(prob)\n",
    "        \n",
    "y_test = np.array(y_test)\n",
    "y_probs = np.array(y_probs)\n",
    "\n",
    "assert np.array(y_probs).min() >= 0\n",
    "assert np.array(y_probs).max() <= 1"
   ]
  },
  {
   "cell_type": "code",
   "execution_count": 25,
   "metadata": {},
   "outputs": [],
   "source": [
    "N = len(y_probs)\n",
    "\n",
    "# sample predicted values\n",
    "sample_coeffs = np.random.randint(0, N, (10000, 1000))\n",
    "sample_prob = y_probs[sample_coeffs]\n",
    "sample_test = y_test[sample_coeffs]\n",
    "sample_pred = sample_prob > 0.5\n",
    "\n",
    "assert len(sample_test) == len(sample_prob)\n",
    "assert len(sample_prob) == len(sample_pred)\n",
    "T = len(sample_test)\n",
    "\n",
    "# calculated mean accuracy\n",
    "accuracy = [(sample_pred[i] == sample_test[i]).mean() for i in range(T)]"
   ]
  },
  {
   "cell_type": "code",
   "execution_count": 26,
   "metadata": {},
   "outputs": [
    {
     "name": "stdout",
     "output_type": "stream",
     "text": [
      "LogLoss = 1.7201\n"
     ]
    }
   ],
   "source": [
    "from sklearn.metrics import log_loss\n",
    "\n",
    "y_pred = np.array(y_probs) > 0.5\n",
    "print(\"LogLoss = %.4f\" % log_loss(y_test, y_pred))\n",
    "\n",
    "# calculate mean log loss\n",
    "logloss = [log_loss(sample_test[i], sample_pred[i]) for i in range(T)]"
   ]
  },
  {
   "cell_type": "code",
   "execution_count": 27,
   "metadata": {},
   "outputs": [
    {
     "data": {
      "image/png": "[encoded data removed]",
      "text/plain": [
       "<Figure size 1040x440 with 2 Axes>"
      ]
     },
     "metadata": {
      "needs_background": "light"
     },
     "output_type": "display_data"
    }
   ],
   "source": [
    "# compare distibution of output values\n",
    "\n",
    "rc('xtick', labelsize=16)\n",
    "rc('ytick', labelsize=16)\n",
    "\n",
    "fig = plt.figure(dpi=80, figsize=(13, 5.5))\n",
    "\n",
    "bins_number = 22\n",
    "step = 1 / bins_number\n",
    "hist_0, _ = np.histogram(y_probs_0, bins=bins_number, range=(0.0, 1.0))\n",
    "hist_1, _ = np.histogram(y_probs_1, bins=bins_number, range=(0.0, 1.0))\n",
    "x = np.arange(0 + step/2, 1, step)\n",
    "\n",
    "ax1 = fig.add_subplot(121)\n",
    "ax1.yaxis.tick_right()\n",
    "plt.title(\"Distribution of P$\\{X \\in 1\\}$ for $X \\in 0$\", fontsize=21, pad=7)\n",
    "\n",
    "ax1.bar(x, hist_0, color=\"xkcd:magenta\", width=0.038, log=True)\n",
    "ax1.minorticks_on()\n",
    "ax1.tick_params('y', length=10, width=1, which='major')\n",
    "ax1.tick_params('y', length=5, width=1, which='minor')\n",
    "ax1.tick_params('x', length=7, width=1, which='major')\n",
    "ax1.tick_params('x', length=0, width=1, which='minor')\n",
    "plt.xlim((0.0, 1.0))\n",
    "plt.ylim((ax1.get_ylim()[0], int(ax1.get_ylim()[1]) // 100 * 100))\n",
    "plt.grid(True)\n",
    "\n",
    "ax2 = fig.add_subplot(122)\n",
    "ax2.yaxis.tick_right()\n",
    "plt.title(\"Diftribution of P$\\{X \\in 1\\}$ for $X \\in 1$\", fontsize=21, pad=7)\n",
    "\n",
    "ax2.bar(x, hist_1, color=\"xkcd:cornflower\", width=0.038, log=True)\n",
    "ax2.minorticks_on()\n",
    "ax2.tick_params('y', length=10, width=1, which='major')\n",
    "ax2.tick_params('y', length=5, width=1, which='minor')\n",
    "ax2.tick_params('x', length=7, width=1, which='major')\n",
    "ax2.tick_params('x', length=0, width=1, which='minor')\n",
    "plt.xlim((0.0, 1.0))\n",
    "plt.ylim(ax1.get_ylim())\n",
    "plt.grid(True)\n",
    "\n",
    "plt.show()\n",
    "\n",
    "#fig.savefig(\"../pictures/CNN_output_hist_2_{}.pdf\".format(augmentation_model),\n",
    "#           bbox_inches='tight')"
   ]
  },
  {
   "cell_type": "code",
   "execution_count": 28,
   "metadata": {},
   "outputs": [
    {
     "data": {
      "image/png": "[encoded data removed]",
      "text/plain": [
       "<Figure size 800x480 with 1 Axes>"
      ]
     },
     "metadata": {
      "needs_background": "light"
     },
     "output_type": "display_data"
    }
   ],
   "source": [
    "# compare distibution of output values\n",
    "\n",
    "rc('xtick', labelsize=14)\n",
    "rc('ytick', labelsize=14)\n",
    "\n",
    "fig = plt.figure(dpi=80, figsize=(10, 6))\n",
    "ax = fig.add_subplot(111)\n",
    "ax.yaxis.tick_right()\n",
    "\n",
    "plt.title(\"Distribution of classifier output values\", fontsize=18, pad=7)\n",
    "plt.xlabel(\"P$\\{X \\in 1\\}$\", fontsize=15)\n",
    "plt.ylabel(\"Objects number\", fontsize=15)\n",
    "\n",
    "bins_number = 40\n",
    "step = 1 / bins_number\n",
    "hist_0, _ = np.histogram(y_probs_0, bins=bins_number, range=(0.0, 1.0))\n",
    "hist_1, _ = np.histogram(y_probs_1, bins=bins_number, range=(0.0, 1.0))\n",
    "x = np.arange(0 + step/2, 1, step)\n",
    "\n",
    "plt.bar(x, hist_0, color='r', width=0.02, log=True, label=\"$X \\in 0$\", alpha=0.3)\n",
    "plt.bar(x, hist_1, color='b', width=0.02, log=True, label=\"$X \\in 1$\", alpha=0.3)\n",
    "\n",
    "ax.minorticks_on()\n",
    "ax.tick_params('y', length=8, width=1, which='major')\n",
    "ax.tick_params('y', length=4, width=1, which='minor')\n",
    "ax.tick_params('x', length=7, width=1, which='major')\n",
    "ax.tick_params('x', length=4, width=1, which='minor')\n",
    "\n",
    "plt.xlim((0.0, 1.0))\n",
    "plt.grid(True)\n",
    "plt.legend(frameon=True, loc=(0.67, 0.81), fontsize=16, shadow=0.1)\n",
    "\n",
    "plt.show()\n",
    "\n",
    "#fig.savefig(\"../pictures/CNN_output_hist_1_{}.pdf\".format(augmentation_model),\n",
    "#           bbox_inches='tight', pad_inches=0.01)"
   ]
  },
  {
   "cell_type": "code",
   "execution_count": 29,
   "metadata": {
    "scrolled": false
   },
   "outputs": [
    {
     "name": "stdout",
     "output_type": "stream",
     "text": [
      "Test ROC-AUC: 0.9883, test PR-AUC: 0.9851\n"
     ]
    },
    {
     "data": {
      "image/png": "[encoded data removed]",
      "text/plain": [
       "<Figure size 1040x440 with 2 Axes>"
      ]
     },
     "metadata": {
      "needs_background": "light"
     },
     "output_type": "display_data"
    }
   ],
   "source": [
    "from sklearn.metrics import roc_auc_score\n",
    "from sklearn.metrics import roc_curve\n",
    "from sklearn.metrics import precision_recall_curve\n",
    "from sklearn.metrics import average_precision_score\n",
    "\n",
    "rc('xtick', labelsize=16)\n",
    "rc('ytick', labelsize=16)\n",
    "\n",
    "print(\"Test ROC-AUC: %.4f, test PR-AUC: %.4f\" % (roc_auc_score(y_test, y_probs), \n",
    "                                                 average_precision_score(y_test, y_probs)))\n",
    "\n",
    "# calculate mean AUC-ROC & AUC-PR\n",
    "auc_roc = [roc_auc_score(sample_test[i], sample_prob[i]) for i in range(T)]\n",
    "auc_pr = [average_precision_score(sample_test[i], sample_prob[i]) for i in range(T)]\n",
    "\n",
    "precision, recall, _ = precision_recall_curve(y_test, y_probs)\n",
    "\n",
    "fig = plt.figure(dpi=80, figsize=(13, 5.5))\n",
    "ax = fig.add_subplot(121)\n",
    "plt.grid(True)\n",
    "ax.set_title(\"PR curve\", fontsize=21, pad=7)\n",
    "ax.fill_between(recall, precision, alpha=0.6, color=\"xkcd:apple green\", lw=2)\n",
    "ax.set_xlim(0, 1.)\n",
    "ax.set_ylim(0, 1.02)\n",
    "\n",
    "fpr, tpr, thresholds = roc_curve(y_test, y_probs)\n",
    "\n",
    "ax = fig.add_subplot(122)\n",
    "plt.grid(True)\n",
    "ax.set_title(\"ROC curve\", fontsize=21, pad=7)\n",
    "ax.fill_between(fpr, tpr, alpha=0.6, color=\"xkcd:goldenrod\", lw=2)\n",
    "ax.set_xlim(0, 1.)\n",
    "ax.set_ylim(0, 1.02)\n",
    "\n",
    "plt.show()\n",
    "\n",
    "#fig.savefig(\"../pictures/CNN_pr_roc_curves_{}.pdf\".format(augmentation_model), \n",
    "#            bbox_inches='tight')"
   ]
  },
  {
   "cell_type": "code",
   "execution_count": 30,
   "metadata": {},
   "outputs": [
    {
     "name": "stdout",
     "output_type": "stream",
     "text": [
      "LogLoss:  mean = 1.7230, std = 0.2379\n",
      "Accuracy: mean = 0.9501, std = 0.0069\n",
      "AUC-ROC:  mean = 0.9882, std = 0.0026\n",
      "AUC-PR:   mean = 0.9850, std = 0.0038\n"
     ]
    }
   ],
   "source": [
    "print(\"LogLoss:  mean = %.4f, std = %.4f\" % (np.mean(logloss), np.std(logloss)))\n",
    "print(\"Accuracy: mean = %.4f, std = %.4f\" % (np.mean(accuracy), np.std(accuracy)))\n",
    "print(\"AUC-ROC:  mean = %.4f, std = %.4f\" % (np.mean(auc_roc), np.std(auc_roc)))\n",
    "print(\"AUC-PR:   mean = %.4f, std = %.4f\" % (np.mean(auc_pr), np.std(auc_pr)))"
   ]
  },
  {
   "cell_type": "markdown",
   "metadata": {},
   "source": [
    "#### Summary metric tables for augmentation models"
   ]
  },
  {
   "cell_type": "markdown",
   "metadata": {},
   "source": [
    "#### Table of the direct metrics:\n",
    "\n",
    "|Model|RMSE         | MAE        | RSE               | RAE               | MAPE           | Time      |\n",
    "|:----|:-----------:|:----------:|:-----------------:|:-----------------:|:--------------:|:---------:|\n",
    "|GP   | $18$ ± $6$  | $11$ ± $3$ | $\\textbf{0.305}$ **±** $\\textbf{0.007}$ | $\\textbf{0.265}$ **±** $\\textbf{0.005}$ | $20.0$ ± $0.7$ | $02$:$38$ |\n",
    "|NN1  | $29$ ± $14$ | $18$ ± $7$ | $0.370$ ± $0.006$ | $0.328$ ± $0.005$ | $22.0$ ± $0.6$ | $11$:$21$ |\n",
    "|FE   | $21$ ± $8$  | $12$ ± $3$ | $0.313$ ± $0.005$ | $0.279$ ± $0.005$ | $17.8$ ± $0.3$ | $14$:$38$ |\n",
    "|MLP  | $18$ ± $6$  | $\\textbf{10}$ **±** $\\textbf{2}$ | $0.349$ ± $0.009$ | $0.294$ ± $0.007$ | $\\textbf{17.3}$ **±** $\\textbf{0.4}$ | $\\textbf{00}$**:**$\\textbf{43}$ |\n",
    "|BNN  | $21$ ± $9$  | $13$ ± $5$ | $0.344$ ± $0.008$ | $0.299$ ± $0.007$ | $19.3$ ± $0.5$ | $26$:$56$ |"
   ]
  },
  {
   "cell_type": "markdown",
   "metadata": {},
   "source": [
    "#### Table of the indirect metrics:\n",
    "\n",
    "|Model|AUC-ROC            |AUC-PR           |Accuracy           |LogLoss        |Complexity|\n",
    "|:----|:-----------------:|:---------------:|:-----------------:|:-------------:|:--------:|\n",
    "|GP   | $0.986$ ± $0.003$ | $0.98$ ± $0.01$ | $0.947$ ± $0.007$ | $1.8$ ± $0.2$ | $O(N^3)$ |\n",
    "|NN1  | $0.983$ ± $0.005$ | $0.97$ ± $0.01$ | $0.925$ ± $0.008$ | $2.0$ ± $0.3$ | $O(N)$   |\n",
    "|FE   | $0.981$ ± $0.004$ | $0.98$ ± $0.01$ | $0.948$ ± $0.008$ | $1.9$ ± $0.3$ | $O(N)$   |\n",
    "|MLP  | $\\textbf{0.988}$ **±** $\\textbf{0.003}$ | $0.98$ ± $0.01$ | $\\textbf{0.950}$ **±** $\\textbf{0.007}$ | $\\textbf{1.7}$ **±** $\\textbf{0.2}$ | $O(N)$   |\n",
    "|BNN  | $0.984$ ± $0.004$ | $0.96$ ± $0.01$ | $0.944$ ± $0.007$ | $1.9$ ± $0.3$ | $O(N)$   |"
   ]
  },
  {
   "cell_type": "code",
   "execution_count": null,
   "metadata": {},
   "outputs": [],
   "source": []
  }
 ],
 "metadata": {
  "kernelspec": {
   "display_name": "Python 3",
   "language": "python",
   "name": "python3"
  },
  "language_info": {
   "codemirror_mode": {
    "name": "ipython",
    "version": 3
   },
   "file_extension": ".py",
   "mimetype": "text/x-python",
   "name": "python",
   "nbconvert_exporter": "python",
   "pygments_lexer": "ipython3",
   "version": "3.6.12"
  }
 },
 "nbformat": 4,
 "nbformat_minor": 4
}
