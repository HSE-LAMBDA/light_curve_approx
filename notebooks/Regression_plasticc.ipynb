{
 "cells": [
  {
   "cell_type": "code",
   "execution_count": 1,
   "metadata": {},
   "outputs": [],
   "source": [
    "%matplotlib inline\n",
    "import matplotlib.pyplot as plt\n",
    "import numpy as np\n",
    "import pandas as pd\n",
    "import h5py"
   ]
  },
  {
   "cell_type": "code",
   "execution_count": 2,
   "metadata": {},
   "outputs": [],
   "source": [
    "import fulu\n",
    "import utils\n",
    "from binned_split import binned_train_test_split"
   ]
  },
  {
   "cell_type": "code",
   "execution_count": 3,
   "metadata": {},
   "outputs": [],
   "source": [
    "from joblib import Parallel, delayed"
   ]
  },
  {
   "cell_type": "code",
   "execution_count": 4,
   "metadata": {},
   "outputs": [],
   "source": [
    "import warnings\n",
    "warnings.filterwarnings(\"ignore\")"
   ]
  },
  {
   "cell_type": "markdown",
   "metadata": {},
   "source": [
    "# Read data"
   ]
  },
  {
   "cell_type": "code",
   "execution_count": 5,
   "metadata": {},
   "outputs": [],
   "source": [
    "data = pd.read_csv('../data/plasticc/good_objects.csv.gz')\n",
    "\n",
    "data = data[data.detected_bool == 1]"
   ]
  },
  {
   "cell_type": "code",
   "execution_count": 6,
   "metadata": {},
   "outputs": [
    {
     "data": {
      "text/html": [
       "<div>\n",
       "<style scoped>\n",
       "    .dataframe tbody tr th:only-of-type {\n",
       "        vertical-align: middle;\n",
       "    }\n",
       "\n",
       "    .dataframe tbody tr th {\n",
       "        vertical-align: top;\n",
       "    }\n",
       "\n",
       "    .dataframe thead th {\n",
       "        text-align: right;\n",
       "    }\n",
       "</style>\n",
       "<table border=\"1\" class=\"dataframe\">\n",
       "  <thead>\n",
       "    <tr style=\"text-align: right;\">\n",
       "      <th></th>\n",
       "      <th>good_objects.csv</th>\n",
       "      <th>object_id</th>\n",
       "      <th>mjd</th>\n",
       "      <th>passband</th>\n",
       "      <th>flux</th>\n",
       "      <th>flux_err</th>\n",
       "      <th>detected_bool</th>\n",
       "      <th>log_lam</th>\n",
       "      <th>class</th>\n",
       "    </tr>\n",
       "  </thead>\n",
       "  <tbody>\n",
       "    <tr>\n",
       "      <th>0</th>\n",
       "      <td>924.0</td>\n",
       "      <td>730.0</td>\n",
       "      <td>60532.3019</td>\n",
       "      <td>2.0</td>\n",
       "      <td>20.994711</td>\n",
       "      <td>1.047298</td>\n",
       "      <td>1.0</td>\n",
       "      <td>3.790512</td>\n",
       "      <td>0.0</td>\n",
       "    </tr>\n",
       "    <tr>\n",
       "      <th>1</th>\n",
       "      <td>926.0</td>\n",
       "      <td>730.0</td>\n",
       "      <td>60532.3173</td>\n",
       "      <td>3.0</td>\n",
       "      <td>31.523088</td>\n",
       "      <td>1.569497</td>\n",
       "      <td>1.0</td>\n",
       "      <td>3.875155</td>\n",
       "      <td>0.0</td>\n",
       "    </tr>\n",
       "    <tr>\n",
       "      <th>2</th>\n",
       "      <td>927.0</td>\n",
       "      <td>730.0</td>\n",
       "      <td>60532.3282</td>\n",
       "      <td>4.0</td>\n",
       "      <td>41.159981</td>\n",
       "      <td>2.310168</td>\n",
       "      <td>1.0</td>\n",
       "      <td>3.938479</td>\n",
       "      <td>0.0</td>\n",
       "    </tr>\n",
       "    <tr>\n",
       "      <th>3</th>\n",
       "      <td>928.0</td>\n",
       "      <td>730.0</td>\n",
       "      <td>60532.3392</td>\n",
       "      <td>5.0</td>\n",
       "      <td>46.795868</td>\n",
       "      <td>5.458707</td>\n",
       "      <td>1.0</td>\n",
       "      <td>3.987288</td>\n",
       "      <td>0.0</td>\n",
       "    </tr>\n",
       "    <tr>\n",
       "      <th>4</th>\n",
       "      <td>931.0</td>\n",
       "      <td>730.0</td>\n",
       "      <td>60535.2957</td>\n",
       "      <td>3.0</td>\n",
       "      <td>30.361010</td>\n",
       "      <td>2.107024</td>\n",
       "      <td>1.0</td>\n",
       "      <td>3.875155</td>\n",
       "      <td>0.0</td>\n",
       "    </tr>\n",
       "  </tbody>\n",
       "</table>\n",
       "</div>"
      ],
      "text/plain": [
       "   good_objects.csv  object_id         mjd  passband       flux  flux_err  \\\n",
       "0             924.0      730.0  60532.3019       2.0  20.994711  1.047298   \n",
       "1             926.0      730.0  60532.3173       3.0  31.523088  1.569497   \n",
       "2             927.0      730.0  60532.3282       4.0  41.159981  2.310168   \n",
       "3             928.0      730.0  60532.3392       5.0  46.795868  5.458707   \n",
       "4             931.0      730.0  60535.2957       3.0  30.361010  2.107024   \n",
       "\n",
       "   detected_bool   log_lam  class  \n",
       "0            1.0  3.790512    0.0  \n",
       "1            1.0  3.875155    0.0  \n",
       "2            1.0  3.938479    0.0  \n",
       "3            1.0  3.987288    0.0  \n",
       "4            1.0  3.875155    0.0  "
      ]
     },
     "execution_count": 6,
     "metadata": {},
     "output_type": "execute_result"
    }
   ],
   "source": [
    "data.head()"
   ]
  },
  {
   "cell_type": "code",
   "execution_count": 7,
   "metadata": {},
   "outputs": [],
   "source": [
    "object_ids = np.unique(data.object_id)"
   ]
  },
  {
   "cell_type": "code",
   "execution_count": 8,
   "metadata": {},
   "outputs": [],
   "source": [
    "passband2name = {0: 'u', 1: 'g', 2: 'r', 3: 'i', 4: 'z', 5: 'y'}\n",
    "passband2lam  = {0: np.log10(3751.36), 1: np.log10(4741.64), 2: np.log10(6173.23), \n",
    "                 3: np.log10(7501.62), 4: np.log10(8679.19), 5: np.log10(9711.53)}"
   ]
  },
  {
   "cell_type": "code",
   "execution_count": null,
   "metadata": {},
   "outputs": [],
   "source": []
  },
  {
   "cell_type": "markdown",
   "metadata": {},
   "source": [
    "# Utils"
   ]
  },
  {
   "cell_type": "code",
   "execution_count": 9,
   "metadata": {},
   "outputs": [],
   "source": [
    "def get_object(data, object_id):\n",
    "    anobject = data[data.object_id == object_id]\n",
    "    return anobject"
   ]
  },
  {
   "cell_type": "code",
   "execution_count": 10,
   "metadata": {},
   "outputs": [],
   "source": [
    "def get_passband(anobject, passband):\n",
    "    light_curve = anobject[anobject.passband == passband]\n",
    "    return light_curve"
   ]
  },
  {
   "cell_type": "code",
   "execution_count": 11,
   "metadata": {},
   "outputs": [],
   "source": [
    "def add_log_lam(anobject):\n",
    "    passbands = anobject.passband.values\n",
    "    log_lam = [passband2lam[i] for i in passbands]\n",
    "    anobject['log_lam'] = log_lam\n",
    "    return anobject"
   ]
  },
  {
   "cell_type": "code",
   "execution_count": 12,
   "metadata": {},
   "outputs": [],
   "source": [
    "def is_good(anobject):\n",
    "    good = 1\n",
    "    \n",
    "    # remove all objects with negative flux values\n",
    "    if anobject['flux'].values.min() < 0:\n",
    "        good = 0\n",
    "    \n",
    "    # keep only objects with at least 7 observations in at least 3 passbands\n",
    "    count = 0\n",
    "    for passband in range(6):\n",
    "        if len(get_passband(anobject, passband)) < 7:\n",
    "            count += 1\n",
    "    if count > 3:\n",
    "        good = 0\n",
    "        \n",
    "    # keep only objects without large breaks in observations\n",
    "    anobject = anobject.sort_values('mjd')\n",
    "    mjd = anobject['mjd'].values\n",
    "    if np.diff(mjd, 1).max() > 50:\n",
    "        good = 0\n",
    "    \n",
    "    return good"
   ]
  },
  {
   "cell_type": "markdown",
   "metadata": {},
   "source": [
    "# Visualization"
   ]
  },
  {
   "cell_type": "code",
   "execution_count": 13,
   "metadata": {},
   "outputs": [],
   "source": [
    "def plot_light_curves(anobject, title=\"\"):\n",
    "    anobject = anobject.sort_values('mjd')\n",
    "    plt.figure(figsize=(9, 4))\n",
    "    for passband in range(6):\n",
    "        light_curve = get_passband(anobject, passband)\n",
    "        plt.plot(light_curve['mjd'].values, light_curve['flux'].values, linewidth=0.5)\n",
    "        plt.scatter(light_curve['mjd'].values, light_curve['flux'].values, label=passband2name[passband], linewidth=1)\n",
    "    plt.xlabel('Modified Julian Date', size=14)\n",
    "    plt.xticks(size=14)\n",
    "    plt.ylabel('Flux', size=14)\n",
    "    plt.yticks(size=14)\n",
    "    plt.legend(loc='best', ncol=3, fontsize=14)\n",
    "    plt.title(title, size=14)"
   ]
  },
  {
   "cell_type": "code",
   "execution_count": 14,
   "metadata": {},
   "outputs": [],
   "source": [
    "def plot_light_curves_with_sigma(t, flux, flux_err, passband, title=\"\"):\n",
    "    colors = ['C'+str(i) for i in range(len(np.unique(passband)))]\n",
    "    plt.figure(figsize=(9, 4))\n",
    "    for i, pb in enumerate(np.unique(passband)):\n",
    "        plt.plot(t[passband == pb], flux[passband == pb], linewidth=2., color=colors[i])\n",
    "        plt.fill_between(t[passband == pb], \n",
    "                         flux[passband == pb]+1*flux_err[passband == pb], \n",
    "                         flux[passband == pb]-1*flux_err[passband == pb], label=passband2name[pb], alpha=0.5, color=colors[i])\n",
    "    plt.xlabel('Time', size=14)\n",
    "    plt.xticks(size=14)\n",
    "    plt.ylabel('Flux', size=14)\n",
    "    plt.yticks(size=14)\n",
    "    plt.legend(loc='best', ncol=3, fontsize=14)\n",
    "    plt.title(title, size=14)"
   ]
  },
  {
   "cell_type": "code",
   "execution_count": 15,
   "metadata": {},
   "outputs": [
    {
     "name": "stdout",
     "output_type": "stream",
     "text": [
      "13.0\n"
     ]
    },
    {
     "data": {
      "image/png": "[encoded data removed]",
      "text/plain": [
       "<Figure size 648x288 with 1 Axes>"
      ]
     },
     "metadata": {
      "needs_background": "light"
     },
     "output_type": "display_data"
    },
    {
     "name": "stdout",
     "output_type": "stream",
     "text": [
      "34.0\n"
     ]
    },
    {
     "data": {
      "image/png": "[encoded data removed]",
      "text/plain": [
       "<Figure size 648x288 with 1 Axes>"
      ]
     },
     "metadata": {
      "needs_background": "light"
     },
     "output_type": "display_data"
    },
    {
     "name": "stdout",
     "output_type": "stream",
     "text": [
      "35.0\n"
     ]
    },
    {
     "data": {
      "image/png": "[encoded data removed]",
      "text/plain": [
       "<Figure size 648x288 with 1 Axes>"
      ]
     },
     "metadata": {
      "needs_background": "light"
     },
     "output_type": "display_data"
    },
    {
     "name": "stdout",
     "output_type": "stream",
     "text": [
      "69.0\n"
     ]
    },
    {
     "data": {
      "image/png": "[encoded data removed]",
      "text/plain": [
       "<Figure size 648x288 with 1 Axes>"
      ]
     },
     "metadata": {
      "needs_background": "light"
     },
     "output_type": "display_data"
    },
    {
     "name": "stdout",
     "output_type": "stream",
     "text": [
      "88.0\n"
     ]
    },
    {
     "data": {
      "image/png": "[encoded data removed]",
      "text/plain": [
       "<Figure size 648x288 with 1 Axes>"
      ]
     },
     "metadata": {
      "needs_background": "light"
     },
     "output_type": "display_data"
    }
   ],
   "source": [
    "for i in object_ids[:5]:\n",
    "    anobject = get_object(data, i)\n",
    "    print(i)\n",
    "    plot_light_curves(anobject)\n",
    "    plt.show()"
   ]
  },
  {
   "cell_type": "code",
   "execution_count": 16,
   "metadata": {},
   "outputs": [],
   "source": [
    "def get_time_range(i):\n",
    "    \n",
    "    # get an object\n",
    "    anobject = get_object(data, i)\n",
    "    \n",
    "    # take only good curves\n",
    "    if not is_good(anobject): \n",
    "        return -1\n",
    "    \n",
    "    # train test split\n",
    "    t = anobject['mjd'].values\n",
    "    t_range = t.max() - t.min()\n",
    "    \n",
    "    return t_range"
   ]
  },
  {
   "cell_type": "code",
   "execution_count": 17,
   "metadata": {},
   "outputs": [
    {
     "name": "stdout",
     "output_type": "stream",
     "text": [
      "CPU times: user 1min 20s, sys: 9.14 s, total: 1min 29s\n",
      "Wall time: 2min 51s\n"
     ]
    }
   ],
   "source": [
    "%%time\n",
    "\n",
    "t_range = Parallel(n_jobs=-1)(delayed(get_time_range)(i) for i in object_ids)\n",
    "t_range = np.array(t_range)"
   ]
  },
  {
   "cell_type": "code",
   "execution_count": 18,
   "metadata": {},
   "outputs": [
    {
     "data": {
      "image/png": "[encoded data removed]",
      "text/plain": [
       "<Figure size 432x288 with 1 Axes>"
      ]
     },
     "metadata": {
      "needs_background": "light"
     },
     "output_type": "display_data"
    }
   ],
   "source": [
    "plt.hist(t_range[t_range != -1], bins=100)\n",
    "plt.show()"
   ]
  },
  {
   "cell_type": "code",
   "execution_count": null,
   "metadata": {},
   "outputs": [],
   "source": []
  },
  {
   "cell_type": "markdown",
   "metadata": {},
   "source": [
    "# One object test Test"
   ]
  },
  {
   "cell_type": "code",
   "execution_count": 19,
   "metadata": {},
   "outputs": [
    {
     "data": {
      "image/png": "[encoded data removed]",
      "text/plain": [
       "<Figure size 648x288 with 1 Axes>"
      ]
     },
     "metadata": {
      "needs_background": "light"
     },
     "output_type": "display_data"
    }
   ],
   "source": [
    "anobject = get_object(data, 34299) # 34299, 329277\n",
    "anobject = add_log_lam(anobject)\n",
    "\n",
    "plot_light_curves(anobject)\n",
    "# plt.savefig('light_curve_34299.pdf', format='pdf')"
   ]
  },
  {
   "cell_type": "code",
   "execution_count": 20,
   "metadata": {},
   "outputs": [
    {
     "name": "stdout",
     "output_type": "stream",
     "text": [
      "RMSE:  2.571867032367581\n",
      "MAE:  2.2367619479261274\n",
      "RSE:  0.013177615251235569\n",
      "RAE:  0.01293046817806452\n",
      "MAPE:  1.6128692288125879\n",
      "NLPD:  2.49867406332537\n",
      "nRMSEo:  1.0770855049770023\n",
      "nRMSEp:  0.6560319283643539\n",
      "PICP@68:  0.9\n",
      "PICP@95:  1.0\n"
     ]
    },
    {
     "data": {
      "image/png": "[encoded data removed]",
      "text/plain": [
       "<Figure size 648x288 with 1 Axes>"
      ]
     },
     "metadata": {
      "needs_background": "light"
     },
     "output_type": "display_data"
    }
   ],
   "source": [
    "# train test split\n",
    "t = anobject['mjd'].values\n",
    "anobject_train, anobject_test = binned_train_test_split(anobject, \n",
    "                                                        t=t, \n",
    "                                                        bin_size=5, \n",
    "                                                        test_size=2, \n",
    "                                                        shuffle=True, \n",
    "                                                        random_state=42, \n",
    "                                                        bounds_in_train=True)\n",
    "\n",
    "\n",
    "t_train = anobject_train['mjd'].values\n",
    "flux_train = anobject_train['flux'].values\n",
    "flux_err_train = anobject_train['flux_err'].values\n",
    "passband_train = anobject_train['passband'].values\n",
    "\n",
    "t_test = anobject_test['mjd'].values\n",
    "flux_test = anobject_test['flux'].values\n",
    "flux_err_test = anobject_test['flux_err'].values\n",
    "passband_test = anobject_test['passband'].values\n",
    "\n",
    "# approximation model\n",
    "aug = fulu.GaussianProcessesAugmentation(passband2lam)\n",
    "aug.fit(t_train, flux_train, flux_err_train, passband_train)\n",
    "\n",
    "# augmentation\n",
    "t_aug, flux_aug, flux_err_aug, passband_aug= aug.augmentation(t_min=t.min(), t_max=t.max(), n_obs=1000)\n",
    "\n",
    "# plotting\n",
    "plot_light_curves_with_sigma(t_aug, flux_aug, flux_err_aug, passband_aug, title=\"\")\n",
    "plt.scatter(t_test, flux_test, label='Test')\n",
    "plt.scatter(t_train, flux_train, label='Train')\n",
    "plt.legend(loc='best', ncol=3, fontsize=14)\n",
    "\n",
    "# calculate quality metrics\n",
    "flux_pred_test, flux_err_pred_test = aug.predict(t_test, passband_test)\n",
    "[rmse, mae, rse, rae, mape, nlpd, nrmseo, nrmsep, picp_68, picp_95] = utils.regression_quality_metrics_report(flux_test, flux_pred_test, \n",
    "                                                                                                              flux_err_test, flux_err_pred_test)\n",
    "print(\"RMSE: \", rmse)\n",
    "print(\"MAE: \", mae)\n",
    "print(\"RSE: \", rse)\n",
    "print(\"RAE: \", rae)\n",
    "print(\"MAPE: \", mape)\n",
    "print(\"NLPD: \", nlpd)\n",
    "print(\"nRMSEo: \", nrmseo)\n",
    "print(\"nRMSEp: \", nrmsep)\n",
    "print(\"PICP@68: \", picp_68)\n",
    "print(\"PICP@95: \", picp_95)"
   ]
  },
  {
   "cell_type": "markdown",
   "metadata": {},
   "source": [
    "# Test on many objects"
   ]
  },
  {
   "cell_type": "code",
   "execution_count": 21,
   "metadata": {},
   "outputs": [],
   "source": [
    "def gen_report(metrics, silent=False):\n",
    "    report = pd.DataFrame(columns=[\"ID\", 'RMSE', 'MAE', 'RSE', 'RAE', 'MAPE', 'NLPD', 'nRMSEo', 'nRMSEp', 'PICP_68', 'PICP_95'])\n",
    "    for i, met in enumerate(metrics):\n",
    "        if met is not None:\n",
    "            report.loc[len(report), :] = [i] + list(met)\n",
    "    n_failed = report[report.MAE == -999].shape[0]\n",
    "    if not silent: print(\"Num. of failed curves: \", n_failed)\n",
    "    report = report[report.MAE != -999]\n",
    "    return report"
   ]
  },
  {
   "cell_type": "code",
   "execution_count": 22,
   "metadata": {},
   "outputs": [],
   "source": [
    "from sklearn.utils import resample\n",
    "\n",
    "def bootstrap_metrics(metrics, n_iters=1000):\n",
    "    means = []\n",
    "    header = metrics.columns\n",
    "    inds = np.arange(len(metrics))\n",
    "    for i in range(n_iters):\n",
    "        inds_boot = resample(inds)\n",
    "        metrics_boot = metrics.iloc[inds_boot]\n",
    "        means.append(metrics_boot.mean(axis=0))\n",
    "    means = np.array(means)\n",
    "    mu = np.round(means.mean(axis=0), 3)\n",
    "    sigma = np.round(means.std(axis=0), 3)\n",
    "    df = pd.DataFrame(columns=header, data=[mu, sigma], index=['mean', 'std'])\n",
    "    return df"
   ]
  },
  {
   "cell_type": "code",
   "execution_count": 23,
   "metadata": {},
   "outputs": [],
   "source": [
    "def one_object_run(i):\n",
    "    \n",
    "    # get an object\n",
    "    anobject = get_object(data, i)\n",
    "    anobject = add_log_lam(anobject)\n",
    "    \n",
    "    # take only good curves\n",
    "    if not is_good(anobject): \n",
    "        return None\n",
    "    \n",
    "    # train test split\n",
    "    t = anobject['mjd'].values\n",
    "    try:\n",
    "        anobject_train, anobject_test = binned_train_test_split(anobject, \n",
    "                                                            t=t, \n",
    "                                                            bin_size=5, \n",
    "                                                            test_size=2, \n",
    "                                                            shuffle=True, \n",
    "                                                            random_state=42, \n",
    "                                                            bounds_in_train=True)\n",
    "    \n",
    "    except:\n",
    "        print(i, len(anobject), t.max()-t.min())\n",
    "        return [-999] * 10\n",
    "\n",
    "    t_train = anobject_train['mjd'].values\n",
    "    flux_train = anobject_train['flux'].values\n",
    "    flux_err_train = anobject_train['flux_err'].values\n",
    "    passband_train = anobject_train['passband'].values\n",
    "\n",
    "    t_test = anobject_test['mjd'].values\n",
    "    flux_test = anobject_test['flux'].values\n",
    "    flux_err_test = anobject_test['flux_err'].values\n",
    "    passband_test = anobject_test['passband'].values\n",
    "    \n",
    "    # approximation model\n",
    "    if MODEL == \"GP\":\n",
    "        aug = fulu.GaussianProcessesAugmentation(passband2lam)\n",
    "    elif MODEL == \"NN_sklearn\":\n",
    "        aug = fulu.MLPRegressionAugmentation(**params)\n",
    "    elif MODEL == \"NN_pytorch\":\n",
    "        aug = fulu.SingleLayerNetAugmentation(**params)\n",
    "    elif MODEL == \"BNN\":\n",
    "        aug = fulu.BayesianNetAugmentation(**params)\n",
    "    elif MODEL == \"NF\":\n",
    "        aug = fulu.NormalizingFlowAugmentation(**params)\n",
    "\n",
    "    # fit the model\n",
    "    aug.fit(t_train, flux_train, flux_err_train, passband_train)\n",
    "\n",
    "    # calculate quality metrics\n",
    "    flux_pred_test, flux_err_pred_test = aug.predict(t_test, passband_test)\n",
    "    metrics = utils.regression_quality_metrics_report(flux_test, flux_pred_test, flux_err_test, flux_err_pred_test)\n",
    "    \n",
    "    return metrics"
   ]
  },
  {
   "cell_type": "markdown",
   "metadata": {},
   "source": [
    "# Optimization"
   ]
  },
  {
   "cell_type": "code",
   "execution_count": 24,
   "metadata": {},
   "outputs": [
    {
     "name": "stdout",
     "output_type": "stream",
     "text": [
      "CPU times: user 1min 12s, sys: 14.2 s, total: 1min 27s\n",
      "Wall time: 3min 57s\n"
     ]
    },
    {
     "data": {
      "text/plain": [
       "({'passband2lam': {0: 3.5741887433059767,\n",
       "   1: 3.675928577911155,\n",
       "   2: 3.790512458057345,\n",
       "   3: 3.875155060870028,\n",
       "   4: 3.938479195804949,\n",
       "   5: 3.987287656088505},\n",
       "  'hidden_layer_sizes': (20, 20),\n",
       "  'solver': 'lbfgs',\n",
       "  'activation': 'tanh',\n",
       "  'learning_rate_init': 0.1,\n",
       "  'max_iter': 900,\n",
       "  'batch_size': 500,\n",
       "  'weight_decay': 0.1},\n",
       " ID         501.832461\n",
       " RMSE         8.606692\n",
       " MAE          6.703330\n",
       " RSE          0.608247\n",
       " RAE          0.594835\n",
       " MAPE        17.310278\n",
       " NLPD         9.912354\n",
       " nRMSEo       4.149998\n",
       " nRMSEp       2.743390\n",
       " PICP_68      0.474119\n",
       " PICP_95      0.691302\n",
       " dtype: float64)"
      ]
     },
     "execution_count": 24,
     "metadata": {},
     "output_type": "execute_result"
    }
   ],
   "source": [
    "%%time\n",
    "\n",
    "optim_sk = []\n",
    "\n",
    "for layers in [(20, 20)]:\n",
    "    for lr in [0.1, 0.01, 0.001]:\n",
    "        for it in [90, 900]:\n",
    "            for bz in [1, 500]:\n",
    "                for wd in [0.1, 0.01, 0.001]:\n",
    "                    \n",
    "                    MODEL = \"NN_sklearn\"\n",
    "                    params = {'passband2lam': passband2lam, \n",
    "                              'hidden_layer_sizes': layers,\n",
    "                              'solver': 'lbfgs',\n",
    "                              'activation': 'tanh',\n",
    "                              'learning_rate_init': lr,\n",
    "                              'max_iter': it,\n",
    "                              'batch_size': bz, \n",
    "                              'weight_decay': wd}\n",
    "\n",
    "                    metrics   = Parallel(n_jobs=-1)(delayed(one_object_run)(i) for i in object_ids[:1000])\n",
    "                    report = gen_report(metrics, True)\n",
    "                    optim_sk.append((params, report.mean()))\n",
    "                \n",
    "mape = np.array([m[1]['MAPE'] for m in optim_sk])\n",
    "optim_sk[mape.argmin()]"
   ]
  },
  {
   "cell_type": "code",
   "execution_count": 25,
   "metadata": {},
   "outputs": [
    {
     "name": "stdout",
     "output_type": "stream",
     "text": [
      "CPU times: user 48.4 s, sys: 7.17 s, total: 55.6 s\n",
      "Wall time: 9min 28s\n"
     ]
    },
    {
     "data": {
      "text/plain": [
       "({'passband2lam': {0: 3.5741887433059767,\n",
       "   1: 3.675928577911155,\n",
       "   2: 3.790512458057345,\n",
       "   3: 3.875155060870028,\n",
       "   4: 3.938479195804949,\n",
       "   5: 3.987287656088505},\n",
       "  'n_hidden': 20,\n",
       "  'activation': 'tanh',\n",
       "  'n_epochs': 100,\n",
       "  'batch_size': 500,\n",
       "  'lr': 0.1,\n",
       "  'optimizer': 'Adam',\n",
       "  'device': 'auto',\n",
       "  'weight_decay': 0.001},\n",
       " ID         501.832461\n",
       " RMSE        11.253854\n",
       " MAE          8.737814\n",
       " RSE          0.663906\n",
       " RAE          0.641506\n",
       " MAPE        21.365459\n",
       " NLPD         9.930951\n",
       " nRMSEo       5.443970\n",
       " nRMSEp       2.700930\n",
       " PICP_68      0.480384\n",
       " PICP_95      0.693010\n",
       " dtype: float64)"
      ]
     },
     "execution_count": 25,
     "metadata": {},
     "output_type": "execute_result"
    }
   ],
   "source": [
    "%%time\n",
    "\n",
    "optim_pt = []\n",
    "\n",
    "for n_epochs in [100]:\n",
    "    for lr in [0.1, 0.01, 0.001]:\n",
    "        for bz in [1, 500]:\n",
    "            for wd in [0.1, 0.01, 0.001]:\n",
    "\n",
    "                MODEL = \"NN_pytorch\"\n",
    "                params = {'passband2lam': passband2lam, \n",
    "                          'n_hidden': 20, \n",
    "                          'activation': 'tanh', \n",
    "                          'n_epochs': n_epochs, \n",
    "                          'batch_size': bz, \n",
    "                          'lr': lr, \n",
    "                          'optimizer': 'Adam', \n",
    "                          'device': 'auto', \n",
    "                          'weight_decay': wd}\n",
    "\n",
    "                metrics   = Parallel(n_jobs=-1)(delayed(one_object_run)(i) for i in object_ids[:1000])\n",
    "                report = gen_report(metrics, True)\n",
    "                optim_pt.append((params, report.mean()))\n",
    "                \n",
    "mape = np.array([m[1]['MAPE'] for m in optim_pt])\n",
    "optim_pt[mape.argmin()]"
   ]
  },
  {
   "cell_type": "code",
   "execution_count": 26,
   "metadata": {},
   "outputs": [
    {
     "name": "stdout",
     "output_type": "stream",
     "text": [
      "CPU times: user 3min 19s, sys: 25.2 s, total: 3min 44s\n",
      "Wall time: 46min 26s\n"
     ]
    },
    {
     "data": {
      "text/plain": [
       "({'passband2lam': {0: 3.5741887433059767,\n",
       "   1: 3.675928577911155,\n",
       "   2: 3.790512458057345,\n",
       "   3: 3.875155060870028,\n",
       "   4: 3.938479195804949,\n",
       "   5: 3.987287656088505},\n",
       "  'n_hidden': 20,\n",
       "  'prior_sigma': 0.1,\n",
       "  'n_epochs': 1000,\n",
       "  'lr': 0.01,\n",
       "  'kl_weight': 0.0001,\n",
       "  'optimizer': 'Adam',\n",
       "  'device': 'cpu',\n",
       "  'weight_decay': 0.001},\n",
       " ID         501.832461\n",
       " RMSE        14.486451\n",
       " MAE         11.841576\n",
       " RSE          0.809693\n",
       " RAE          0.804876\n",
       " MAPE        26.901349\n",
       " NLPD         6.570671\n",
       " nRMSEo       6.913644\n",
       " nRMSEp       2.172701\n",
       " PICP_68      0.497318\n",
       " PICP_95      0.721671\n",
       " dtype: float64)"
      ]
     },
     "execution_count": 26,
     "metadata": {},
     "output_type": "execute_result"
    }
   ],
   "source": [
    "%%time\n",
    "\n",
    "optim_bn = []\n",
    "\n",
    "for sigma in [0.5, 0.1]:\n",
    "    for lr in [0.1, 0.01, 0.001]:\n",
    "        for kl in [0.1, 0.01, 0.0001]:\n",
    "            for wd in [0.1, 0.01, 0.001]:\n",
    "                \n",
    "                MODEL = \"BNN\"\n",
    "                params = {'passband2lam': passband2lam, \n",
    "                          'n_hidden': 20, \n",
    "                          'prior_sigma': sigma, \n",
    "                          'n_epochs': 1000, \n",
    "                          'lr': lr, \n",
    "                          'kl_weight': kl, \n",
    "                          'optimizer': 'Adam', \n",
    "                          'device': 'cpu', \n",
    "                          'weight_decay': wd}\n",
    "\n",
    "                metrics   = Parallel(n_jobs=-1)(delayed(one_object_run)(i) for i in object_ids[:1000])\n",
    "                report = gen_report(metrics, True)\n",
    "                optim_bn.append((params, report.mean()))\n",
    "                \n",
    "mape = np.array([m[1]['MAPE'] for m in optim_bn])\n",
    "optim_bn[mape.argmin()]"
   ]
  },
  {
   "cell_type": "code",
   "execution_count": 27,
   "metadata": {},
   "outputs": [
    {
     "name": "stdout",
     "output_type": "stream",
     "text": [
      "CPU times: user 46.3 s, sys: 5.9 s, total: 52.2 s\n",
      "Wall time: 45min 11s\n"
     ]
    },
    {
     "data": {
      "text/plain": [
       "({'passband2lam': {0: 3.5741887433059767,\n",
       "   1: 3.675928577911155,\n",
       "   2: 3.790512458057345,\n",
       "   3: 3.875155060870028,\n",
       "   4: 3.938479195804949,\n",
       "   5: 3.987287656088505},\n",
       "  'batch_size': 500,\n",
       "  'n_epochs': 1000,\n",
       "  'lr': 0.01,\n",
       "  'device': 'cpu',\n",
       "  'weight_decay': 0.01},\n",
       " ID         501.832461\n",
       " RMSE         9.926861\n",
       " MAE          7.694222\n",
       " RSE          0.596071\n",
       " RAE          0.567913\n",
       " MAPE        18.793112\n",
       " NLPD         5.508064\n",
       " nRMSEo       4.545870\n",
       " nRMSEp       1.733993\n",
       " PICP_68      0.589631\n",
       " PICP_95      0.832856\n",
       " dtype: float64)"
      ]
     },
     "execution_count": 27,
     "metadata": {},
     "output_type": "execute_result"
    }
   ],
   "source": [
    "%%time\n",
    "\n",
    "optim_nf = []\n",
    "\n",
    "for lr in [0.05, 0.01, 0.005, 0.001]:\n",
    "    for it in [1000]:\n",
    "        for bz in [500]:\n",
    "            for wd in [0.1, 0.01, 0.001]:\n",
    "\n",
    "                try:\n",
    "                    MODEL = \"NF\"\n",
    "                    params = {'passband2lam': passband2lam, \n",
    "                              'batch_size': bz, \n",
    "                              'n_epochs': it, \n",
    "                              'lr': lr, \n",
    "                              'device': 'cpu', \n",
    "                              'weight_decay': wd}\n",
    "\n",
    "                    metrics   = Parallel(n_jobs=-1)(delayed(one_object_run)(i) for i in object_ids[:1000])\n",
    "                    report = gen_report(metrics, True)\n",
    "                    optim_nf.append((params, report.mean()))\n",
    "                except:\n",
    "                    print(\"Failure with params:\")\n",
    "                    print(params)\n",
    "                \n",
    "mape = np.array([m[1]['MAPE'] for m in optim_nf])\n",
    "optim_nf[mape.argmin()]"
   ]
  },
  {
   "cell_type": "code",
   "execution_count": null,
   "metadata": {},
   "outputs": [],
   "source": []
  },
  {
   "cell_type": "code",
   "execution_count": null,
   "metadata": {},
   "outputs": [],
   "source": []
  },
  {
   "cell_type": "markdown",
   "metadata": {},
   "source": [
    "# Final run"
   ]
  },
  {
   "cell_type": "code",
   "execution_count": 28,
   "metadata": {},
   "outputs": [
    {
     "name": "stdout",
     "output_type": "stream",
     "text": [
      "Num. of failed curves:  14\n",
      "CPU times: user 2min 17s, sys: 8.56 s, total: 2min 25s\n",
      "Wall time: 5min 30s\n"
     ]
    },
    {
     "data": {
      "text/html": [
       "<div>\n",
       "<style scoped>\n",
       "    .dataframe tbody tr th:only-of-type {\n",
       "        vertical-align: middle;\n",
       "    }\n",
       "\n",
       "    .dataframe tbody tr th {\n",
       "        vertical-align: top;\n",
       "    }\n",
       "\n",
       "    .dataframe thead th {\n",
       "        text-align: right;\n",
       "    }\n",
       "</style>\n",
       "<table border=\"1\" class=\"dataframe\">\n",
       "  <thead>\n",
       "    <tr style=\"text-align: right;\">\n",
       "      <th></th>\n",
       "      <th>ID</th>\n",
       "      <th>RMSE</th>\n",
       "      <th>MAE</th>\n",
       "      <th>RSE</th>\n",
       "      <th>RAE</th>\n",
       "      <th>MAPE</th>\n",
       "      <th>NLPD</th>\n",
       "      <th>nRMSEo</th>\n",
       "      <th>nRMSEp</th>\n",
       "      <th>PICP_68</th>\n",
       "      <th>PICP_95</th>\n",
       "    </tr>\n",
       "  </thead>\n",
       "  <tbody>\n",
       "    <tr>\n",
       "      <th>mean</th>\n",
       "      <td>61069.796</td>\n",
       "      <td>100.437</td>\n",
       "      <td>81.297</td>\n",
       "      <td>1.272</td>\n",
       "      <td>1.204</td>\n",
       "      <td>24.109</td>\n",
       "      <td>6.197</td>\n",
       "      <td>7.599</td>\n",
       "      <td>1.442</td>\n",
       "      <td>0.632</td>\n",
       "      <td>0.837</td>\n",
       "    </tr>\n",
       "    <tr>\n",
       "      <th>std</th>\n",
       "      <td>597.139</td>\n",
       "      <td>8.199</td>\n",
       "      <td>6.491</td>\n",
       "      <td>0.090</td>\n",
       "      <td>0.086</td>\n",
       "      <td>0.729</td>\n",
       "      <td>0.643</td>\n",
       "      <td>0.186</td>\n",
       "      <td>0.017</td>\n",
       "      <td>0.003</td>\n",
       "      <td>0.002</td>\n",
       "    </tr>\n",
       "  </tbody>\n",
       "</table>\n",
       "</div>"
      ],
      "text/plain": [
       "             ID     RMSE     MAE    RSE    RAE    MAPE   NLPD  nRMSEo  nRMSEp  \\\n",
       "mean  61069.796  100.437  81.297  1.272  1.204  24.109  6.197   7.599   1.442   \n",
       "std     597.139    8.199   6.491  0.090  0.086   0.729  0.643   0.186   0.017   \n",
       "\n",
       "      PICP_68  PICP_95  \n",
       "mean    0.632    0.837  \n",
       "std     0.003    0.002  "
      ]
     },
     "execution_count": 28,
     "metadata": {},
     "output_type": "execute_result"
    }
   ],
   "source": [
    "%%time\n",
    "\n",
    "MODEL = \"GP\"\n",
    "metrics   = Parallel(n_jobs=-1)(delayed(one_object_run)(i) for i in object_ids)\n",
    "report_gp = gen_report(metrics)\n",
    "bootstrap_metrics(report_gp)"
   ]
  },
  {
   "cell_type": "code",
   "execution_count": 29,
   "metadata": {},
   "outputs": [
    {
     "name": "stdout",
     "output_type": "stream",
     "text": [
      "Num. of failed curves:  14\n",
      "CPU times: user 2min 28s, sys: 9.18 s, total: 2min 37s\n",
      "Wall time: 5min 46s\n"
     ]
    },
    {
     "data": {
      "text/html": [
       "<div>\n",
       "<style scoped>\n",
       "    .dataframe tbody tr th:only-of-type {\n",
       "        vertical-align: middle;\n",
       "    }\n",
       "\n",
       "    .dataframe tbody tr th {\n",
       "        vertical-align: top;\n",
       "    }\n",
       "\n",
       "    .dataframe thead th {\n",
       "        text-align: right;\n",
       "    }\n",
       "</style>\n",
       "<table border=\"1\" class=\"dataframe\">\n",
       "  <thead>\n",
       "    <tr style=\"text-align: right;\">\n",
       "      <th></th>\n",
       "      <th>ID</th>\n",
       "      <th>RMSE</th>\n",
       "      <th>MAE</th>\n",
       "      <th>RSE</th>\n",
       "      <th>RAE</th>\n",
       "      <th>MAPE</th>\n",
       "      <th>NLPD</th>\n",
       "      <th>nRMSEo</th>\n",
       "      <th>nRMSEp</th>\n",
       "      <th>PICP_68</th>\n",
       "      <th>PICP_95</th>\n",
       "    </tr>\n",
       "  </thead>\n",
       "  <tbody>\n",
       "    <tr>\n",
       "      <th>mean</th>\n",
       "      <td>61045.037</td>\n",
       "      <td>95.312</td>\n",
       "      <td>76.397</td>\n",
       "      <td>1.154</td>\n",
       "      <td>1.073</td>\n",
       "      <td>17.893</td>\n",
       "      <td>20.083</td>\n",
       "      <td>6.417</td>\n",
       "      <td>3.326</td>\n",
       "      <td>0.456</td>\n",
       "      <td>0.654</td>\n",
       "    </tr>\n",
       "    <tr>\n",
       "      <th>std</th>\n",
       "      <td>604.390</td>\n",
       "      <td>9.032</td>\n",
       "      <td>7.014</td>\n",
       "      <td>0.113</td>\n",
       "      <td>0.099</td>\n",
       "      <td>0.217</td>\n",
       "      <td>2.316</td>\n",
       "      <td>0.116</td>\n",
       "      <td>0.047</td>\n",
       "      <td>0.003</td>\n",
       "      <td>0.003</td>\n",
       "    </tr>\n",
       "  </tbody>\n",
       "</table>\n",
       "</div>"
      ],
      "text/plain": [
       "             ID    RMSE     MAE    RSE    RAE    MAPE    NLPD  nRMSEo  nRMSEp  \\\n",
       "mean  61045.037  95.312  76.397  1.154  1.073  17.893  20.083   6.417   3.326   \n",
       "std     604.390   9.032   7.014  0.113  0.099   0.217   2.316   0.116   0.047   \n",
       "\n",
       "      PICP_68  PICP_95  \n",
       "mean    0.456    0.654  \n",
       "std     0.003    0.003  "
      ]
     },
     "execution_count": 29,
     "metadata": {},
     "output_type": "execute_result"
    }
   ],
   "source": [
    "%%time\n",
    "\n",
    "MODEL = \"NN_sklearn\"\n",
    "params = {'passband2lam': passband2lam, \n",
    "          'hidden_layer_sizes': (20, 20),\n",
    "          'solver': 'lbfgs',\n",
    "          'activation': 'tanh',\n",
    "          'learning_rate_init': 0.1,\n",
    "          'max_iter': 900,\n",
    "          'batch_size': 500, \n",
    "          'weight_decay': 0.1}\n",
    "\n",
    "metrics   = Parallel(n_jobs=-1)(delayed(one_object_run)(i) for i in object_ids)\n",
    "report_sk = gen_report(metrics)\n",
    "bootstrap_metrics(report_sk)"
   ]
  },
  {
   "cell_type": "code",
   "execution_count": 30,
   "metadata": {},
   "outputs": [
    {
     "name": "stdout",
     "output_type": "stream",
     "text": [
      "Num. of failed curves:  14\n",
      "CPU times: user 2min 14s, sys: 8.95 s, total: 2min 23s\n",
      "Wall time: 4min 47s\n"
     ]
    },
    {
     "data": {
      "text/html": [
       "<div>\n",
       "<style scoped>\n",
       "    .dataframe tbody tr th:only-of-type {\n",
       "        vertical-align: middle;\n",
       "    }\n",
       "\n",
       "    .dataframe tbody tr th {\n",
       "        vertical-align: top;\n",
       "    }\n",
       "\n",
       "    .dataframe thead th {\n",
       "        text-align: right;\n",
       "    }\n",
       "</style>\n",
       "<table border=\"1\" class=\"dataframe\">\n",
       "  <thead>\n",
       "    <tr style=\"text-align: right;\">\n",
       "      <th></th>\n",
       "      <th>ID</th>\n",
       "      <th>RMSE</th>\n",
       "      <th>MAE</th>\n",
       "      <th>RSE</th>\n",
       "      <th>RAE</th>\n",
       "      <th>MAPE</th>\n",
       "      <th>NLPD</th>\n",
       "      <th>nRMSEo</th>\n",
       "      <th>nRMSEp</th>\n",
       "      <th>PICP_68</th>\n",
       "      <th>PICP_95</th>\n",
       "    </tr>\n",
       "  </thead>\n",
       "  <tbody>\n",
       "    <tr>\n",
       "      <th>mean</th>\n",
       "      <td>61084.874</td>\n",
       "      <td>105.737</td>\n",
       "      <td>85.70</td>\n",
       "      <td>1.314</td>\n",
       "      <td>1.222</td>\n",
       "      <td>21.557</td>\n",
       "      <td>18.071</td>\n",
       "      <td>7.591</td>\n",
       "      <td>3.249</td>\n",
       "      <td>0.451</td>\n",
       "      <td>0.648</td>\n",
       "    </tr>\n",
       "    <tr>\n",
       "      <th>std</th>\n",
       "      <td>612.013</td>\n",
       "      <td>9.766</td>\n",
       "      <td>7.72</td>\n",
       "      <td>0.154</td>\n",
       "      <td>0.135</td>\n",
       "      <td>0.309</td>\n",
       "      <td>1.058</td>\n",
       "      <td>0.139</td>\n",
       "      <td>0.044</td>\n",
       "      <td>0.003</td>\n",
       "      <td>0.003</td>\n",
       "    </tr>\n",
       "  </tbody>\n",
       "</table>\n",
       "</div>"
      ],
      "text/plain": [
       "             ID     RMSE    MAE    RSE    RAE    MAPE    NLPD  nRMSEo  nRMSEp  \\\n",
       "mean  61084.874  105.737  85.70  1.314  1.222  21.557  18.071   7.591   3.249   \n",
       "std     612.013    9.766   7.72  0.154  0.135   0.309   1.058   0.139   0.044   \n",
       "\n",
       "      PICP_68  PICP_95  \n",
       "mean    0.451    0.648  \n",
       "std     0.003    0.003  "
      ]
     },
     "execution_count": 30,
     "metadata": {},
     "output_type": "execute_result"
    }
   ],
   "source": [
    "%%time\n",
    "\n",
    "MODEL = \"NN_pytorch\"\n",
    "params = {'passband2lam': passband2lam, \n",
    "          'n_hidden': 20, \n",
    "          'activation': 'tanh', \n",
    "          'n_epochs': 100, \n",
    "          'batch_size': 500, \n",
    "          'lr': 0.1, \n",
    "          'optimizer': 'Adam', \n",
    "          'device': 'auto', \n",
    "          'weight_decay': 0.001}\n",
    "\n",
    "metrics   = Parallel(n_jobs=-1)(delayed(one_object_run)(i) for i in object_ids)\n",
    "report_pt = gen_report(metrics)\n",
    "bootstrap_metrics(report_pt)"
   ]
  },
  {
   "cell_type": "code",
   "execution_count": 31,
   "metadata": {},
   "outputs": [
    {
     "name": "stdout",
     "output_type": "stream",
     "text": [
      "Num. of failed curves:  14\n",
      "CPU times: user 5min 25s, sys: 19.8 s, total: 5min 45s\n",
      "Wall time: 26min 45s\n"
     ]
    },
    {
     "data": {
      "text/html": [
       "<div>\n",
       "<style scoped>\n",
       "    .dataframe tbody tr th:only-of-type {\n",
       "        vertical-align: middle;\n",
       "    }\n",
       "\n",
       "    .dataframe tbody tr th {\n",
       "        vertical-align: top;\n",
       "    }\n",
       "\n",
       "    .dataframe thead th {\n",
       "        text-align: right;\n",
       "    }\n",
       "</style>\n",
       "<table border=\"1\" class=\"dataframe\">\n",
       "  <thead>\n",
       "    <tr style=\"text-align: right;\">\n",
       "      <th></th>\n",
       "      <th>ID</th>\n",
       "      <th>RMSE</th>\n",
       "      <th>MAE</th>\n",
       "      <th>RSE</th>\n",
       "      <th>RAE</th>\n",
       "      <th>MAPE</th>\n",
       "      <th>NLPD</th>\n",
       "      <th>nRMSEo</th>\n",
       "      <th>nRMSEp</th>\n",
       "      <th>PICP_68</th>\n",
       "      <th>PICP_95</th>\n",
       "    </tr>\n",
       "  </thead>\n",
       "  <tbody>\n",
       "    <tr>\n",
       "      <th>mean</th>\n",
       "      <td>61069.300</td>\n",
       "      <td>115.161</td>\n",
       "      <td>94.372</td>\n",
       "      <td>1.621</td>\n",
       "      <td>1.505</td>\n",
       "      <td>26.386</td>\n",
       "      <td>7.845</td>\n",
       "      <td>9.058</td>\n",
       "      <td>2.042</td>\n",
       "      <td>0.519</td>\n",
       "      <td>0.737</td>\n",
       "    </tr>\n",
       "    <tr>\n",
       "      <th>std</th>\n",
       "      <td>606.469</td>\n",
       "      <td>8.879</td>\n",
       "      <td>7.030</td>\n",
       "      <td>0.252</td>\n",
       "      <td>0.203</td>\n",
       "      <td>0.332</td>\n",
       "      <td>0.202</td>\n",
       "      <td>0.144</td>\n",
       "      <td>0.019</td>\n",
       "      <td>0.003</td>\n",
       "      <td>0.003</td>\n",
       "    </tr>\n",
       "  </tbody>\n",
       "</table>\n",
       "</div>"
      ],
      "text/plain": [
       "             ID     RMSE     MAE    RSE    RAE    MAPE   NLPD  nRMSEo  nRMSEp  \\\n",
       "mean  61069.300  115.161  94.372  1.621  1.505  26.386  7.845   9.058   2.042   \n",
       "std     606.469    8.879   7.030  0.252  0.203   0.332  0.202   0.144   0.019   \n",
       "\n",
       "      PICP_68  PICP_95  \n",
       "mean    0.519    0.737  \n",
       "std     0.003    0.003  "
      ]
     },
     "execution_count": 31,
     "metadata": {},
     "output_type": "execute_result"
    }
   ],
   "source": [
    "%%time\n",
    "\n",
    "MODEL = \"BNN\"\n",
    "params = {'passband2lam': passband2lam, \n",
    "          'n_hidden': 20, \n",
    "          'prior_sigma': 0.1, \n",
    "          'n_epochs': 1000, \n",
    "          'lr': 0.01, \n",
    "          'kl_weight': 0.0001, \n",
    "          'optimizer': 'Adam', \n",
    "          'device': 'cpu', \n",
    "          'weight_decay': 0.001}\n",
    "\n",
    "metrics   = Parallel(n_jobs=-1)(delayed(one_object_run)(i) for i in object_ids)\n",
    "report_bn = gen_report(metrics)\n",
    "bootstrap_metrics(report_bn)"
   ]
  },
  {
   "cell_type": "code",
   "execution_count": 32,
   "metadata": {},
   "outputs": [
    {
     "name": "stdout",
     "output_type": "stream",
     "text": [
      "Num. of failed curves:  14\n",
      "CPU times: user 10min 10s, sys: 35.2 s, total: 10min 45s\n",
      "Wall time: 1h 48min 48s\n"
     ]
    },
    {
     "data": {
      "text/html": [
       "<div>\n",
       "<style scoped>\n",
       "    .dataframe tbody tr th:only-of-type {\n",
       "        vertical-align: middle;\n",
       "    }\n",
       "\n",
       "    .dataframe tbody tr th {\n",
       "        vertical-align: top;\n",
       "    }\n",
       "\n",
       "    .dataframe thead th {\n",
       "        text-align: right;\n",
       "    }\n",
       "</style>\n",
       "<table border=\"1\" class=\"dataframe\">\n",
       "  <thead>\n",
       "    <tr style=\"text-align: right;\">\n",
       "      <th></th>\n",
       "      <th>ID</th>\n",
       "      <th>RMSE</th>\n",
       "      <th>MAE</th>\n",
       "      <th>RSE</th>\n",
       "      <th>RAE</th>\n",
       "      <th>MAPE</th>\n",
       "      <th>NLPD</th>\n",
       "      <th>nRMSEo</th>\n",
       "      <th>nRMSEp</th>\n",
       "      <th>PICP_68</th>\n",
       "      <th>PICP_95</th>\n",
       "    </tr>\n",
       "  </thead>\n",
       "  <tbody>\n",
       "    <tr>\n",
       "      <th>mean</th>\n",
       "      <td>61047.372</td>\n",
       "      <td>99.743</td>\n",
       "      <td>77.795</td>\n",
       "      <td>1.103</td>\n",
       "      <td>1.029</td>\n",
       "      <td>18.466</td>\n",
       "      <td>10.943</td>\n",
       "      <td>6.471</td>\n",
       "      <td>2.050</td>\n",
       "      <td>0.563</td>\n",
       "      <td>0.808</td>\n",
       "    </tr>\n",
       "    <tr>\n",
       "      <th>std</th>\n",
       "      <td>586.400</td>\n",
       "      <td>10.197</td>\n",
       "      <td>7.616</td>\n",
       "      <td>0.099</td>\n",
       "      <td>0.093</td>\n",
       "      <td>0.284</td>\n",
       "      <td>0.712</td>\n",
       "      <td>0.131</td>\n",
       "      <td>0.033</td>\n",
       "      <td>0.003</td>\n",
       "      <td>0.003</td>\n",
       "    </tr>\n",
       "  </tbody>\n",
       "</table>\n",
       "</div>"
      ],
      "text/plain": [
       "             ID    RMSE     MAE    RSE    RAE    MAPE    NLPD  nRMSEo  nRMSEp  \\\n",
       "mean  61047.372  99.743  77.795  1.103  1.029  18.466  10.943   6.471   2.050   \n",
       "std     586.400  10.197   7.616  0.099  0.093   0.284   0.712   0.131   0.033   \n",
       "\n",
       "      PICP_68  PICP_95  \n",
       "mean    0.563    0.808  \n",
       "std     0.003    0.003  "
      ]
     },
     "execution_count": 32,
     "metadata": {},
     "output_type": "execute_result"
    }
   ],
   "source": [
    "%%time\n",
    "\n",
    "MODEL = \"NF\"\n",
    "params = {'passband2lam': passband2lam, \n",
    "          'batch_size': 500, \n",
    "          'n_epochs': 1000, \n",
    "          'lr': 0.01, \n",
    "          'device': 'cpu', \n",
    "          'weight_decay': 0.01}\n",
    "\n",
    "metrics   = Parallel(n_jobs=-1)(delayed(one_object_run)(i) for i in object_ids)\n",
    "report_nf = gen_report(metrics)\n",
    "bootstrap_metrics(report_nf)"
   ]
  },
  {
   "cell_type": "markdown",
   "metadata": {},
   "source": [
    "# Additional tests"
   ]
  },
  {
   "cell_type": "code",
   "execution_count": 33,
   "metadata": {},
   "outputs": [
    {
     "name": "stdout",
     "output_type": "stream",
     "text": [
      "Num. of failed curves:  14\n",
      "CPU times: user 2min 14s, sys: 8.17 s, total: 2min 22s\n",
      "Wall time: 4min 3s\n"
     ]
    },
    {
     "data": {
      "text/html": [
       "<div>\n",
       "<style scoped>\n",
       "    .dataframe tbody tr th:only-of-type {\n",
       "        vertical-align: middle;\n",
       "    }\n",
       "\n",
       "    .dataframe tbody tr th {\n",
       "        vertical-align: top;\n",
       "    }\n",
       "\n",
       "    .dataframe thead th {\n",
       "        text-align: right;\n",
       "    }\n",
       "</style>\n",
       "<table border=\"1\" class=\"dataframe\">\n",
       "  <thead>\n",
       "    <tr style=\"text-align: right;\">\n",
       "      <th></th>\n",
       "      <th>ID</th>\n",
       "      <th>RMSE</th>\n",
       "      <th>MAE</th>\n",
       "      <th>RSE</th>\n",
       "      <th>RAE</th>\n",
       "      <th>MAPE</th>\n",
       "      <th>NLPD</th>\n",
       "      <th>nRMSEo</th>\n",
       "      <th>nRMSEp</th>\n",
       "      <th>PICP_68</th>\n",
       "      <th>PICP_95</th>\n",
       "    </tr>\n",
       "  </thead>\n",
       "  <tbody>\n",
       "    <tr>\n",
       "      <th>mean</th>\n",
       "      <td>61113.82</td>\n",
       "      <td>97.678</td>\n",
       "      <td>78.101</td>\n",
       "      <td>1.163</td>\n",
       "      <td>1.085</td>\n",
       "      <td>18.394</td>\n",
       "      <td>16.509</td>\n",
       "      <td>6.560</td>\n",
       "      <td>3.027</td>\n",
       "      <td>0.474</td>\n",
       "      <td>0.674</td>\n",
       "    </tr>\n",
       "    <tr>\n",
       "      <th>std</th>\n",
       "      <td>627.35</td>\n",
       "      <td>9.348</td>\n",
       "      <td>7.132</td>\n",
       "      <td>0.118</td>\n",
       "      <td>0.103</td>\n",
       "      <td>0.281</td>\n",
       "      <td>1.542</td>\n",
       "      <td>0.119</td>\n",
       "      <td>0.040</td>\n",
       "      <td>0.003</td>\n",
       "      <td>0.003</td>\n",
       "    </tr>\n",
       "  </tbody>\n",
       "</table>\n",
       "</div>"
      ],
      "text/plain": [
       "            ID    RMSE     MAE    RSE    RAE    MAPE    NLPD  nRMSEo  nRMSEp  \\\n",
       "mean  61113.82  97.678  78.101  1.163  1.085  18.394  16.509   6.560   3.027   \n",
       "std     627.35   9.348   7.132  0.118  0.103   0.281   1.542   0.119   0.040   \n",
       "\n",
       "      PICP_68  PICP_95  \n",
       "mean    0.474    0.674  \n",
       "std     0.003    0.003  "
      ]
     },
     "execution_count": 33,
     "metadata": {},
     "output_type": "execute_result"
    }
   ],
   "source": [
    "%%time\n",
    "\n",
    "MODEL = \"NN_sklearn\"\n",
    "params = {'passband2lam': passband2lam, \n",
    "          'hidden_layer_sizes': (20, 20),\n",
    "          'solver': 'lbfgs',\n",
    "          'activation': 'tanh',\n",
    "          'learning_rate_init': 0.01,\n",
    "          'max_iter': 90,\n",
    "          'batch_size': 1, \n",
    "          'weight_decay': 0.1}\n",
    "\n",
    "metrics   = Parallel(n_jobs=-1)(delayed(one_object_run)(i) for i in object_ids)\n",
    "report_sk2 = gen_report(metrics)\n",
    "bootstrap_metrics(report_sk2)"
   ]
  },
  {
   "cell_type": "code",
   "execution_count": 34,
   "metadata": {},
   "outputs": [
    {
     "name": "stdout",
     "output_type": "stream",
     "text": [
      "Num. of failed curves:  14\n",
      "CPU times: user 5min 19s, sys: 19.8 s, total: 5min 39s\n",
      "Wall time: 25min 58s\n"
     ]
    },
    {
     "data": {
      "text/html": [
       "<div>\n",
       "<style scoped>\n",
       "    .dataframe tbody tr th:only-of-type {\n",
       "        vertical-align: middle;\n",
       "    }\n",
       "\n",
       "    .dataframe tbody tr th {\n",
       "        vertical-align: top;\n",
       "    }\n",
       "\n",
       "    .dataframe thead th {\n",
       "        text-align: right;\n",
       "    }\n",
       "</style>\n",
       "<table border=\"1\" class=\"dataframe\">\n",
       "  <thead>\n",
       "    <tr style=\"text-align: right;\">\n",
       "      <th></th>\n",
       "      <th>ID</th>\n",
       "      <th>RMSE</th>\n",
       "      <th>MAE</th>\n",
       "      <th>RSE</th>\n",
       "      <th>RAE</th>\n",
       "      <th>MAPE</th>\n",
       "      <th>NLPD</th>\n",
       "      <th>nRMSEo</th>\n",
       "      <th>nRMSEp</th>\n",
       "      <th>PICP_68</th>\n",
       "      <th>PICP_95</th>\n",
       "    </tr>\n",
       "  </thead>\n",
       "  <tbody>\n",
       "    <tr>\n",
       "      <th>mean</th>\n",
       "      <td>61079.348</td>\n",
       "      <td>107.149</td>\n",
       "      <td>87.725</td>\n",
       "      <td>1.483</td>\n",
       "      <td>1.348</td>\n",
       "      <td>23.614</td>\n",
       "      <td>28.886</td>\n",
       "      <td>8.236</td>\n",
       "      <td>4.964</td>\n",
       "      <td>0.283</td>\n",
       "      <td>0.477</td>\n",
       "    </tr>\n",
       "    <tr>\n",
       "      <th>std</th>\n",
       "      <td>620.554</td>\n",
       "      <td>9.034</td>\n",
       "      <td>7.204</td>\n",
       "      <td>0.251</td>\n",
       "      <td>0.187</td>\n",
       "      <td>0.328</td>\n",
       "      <td>1.169</td>\n",
       "      <td>0.139</td>\n",
       "      <td>0.049</td>\n",
       "      <td>0.003</td>\n",
       "      <td>0.003</td>\n",
       "    </tr>\n",
       "  </tbody>\n",
       "</table>\n",
       "</div>"
      ],
      "text/plain": [
       "             ID     RMSE     MAE    RSE    RAE    MAPE    NLPD  nRMSEo  \\\n",
       "mean  61079.348  107.149  87.725  1.483  1.348  23.614  28.886   8.236   \n",
       "std     620.554    9.034   7.204  0.251  0.187   0.328   1.169   0.139   \n",
       "\n",
       "      nRMSEp  PICP_68  PICP_95  \n",
       "mean   4.964    0.283    0.477  \n",
       "std    0.049    0.003    0.003  "
      ]
     },
     "execution_count": 34,
     "metadata": {},
     "output_type": "execute_result"
    }
   ],
   "source": [
    "%%time\n",
    "\n",
    "MODEL = \"BNN\"\n",
    "params = {'passband2lam': passband2lam, \n",
    "          'n_hidden': 20, \n",
    "          'prior_sigma': 0.1, \n",
    "          'n_epochs': 1000, \n",
    "          'lr': 0.01, \n",
    "          'kl_weight': 0.0001, \n",
    "          'optimizer': 'Adam', \n",
    "          'device': 'cpu', \n",
    "          'weight_decay': 0.0}\n",
    "\n",
    "metrics   = Parallel(n_jobs=-1)(delayed(one_object_run)(i) for i in object_ids)\n",
    "report_bn = gen_report(metrics)\n",
    "bootstrap_metrics(report_bn)"
   ]
  },
  {
   "cell_type": "code",
   "execution_count": null,
   "metadata": {},
   "outputs": [],
   "source": []
  }
 ],
 "metadata": {
  "kernelspec": {
   "display_name": "Python 3",
   "language": "python",
   "name": "python3"
  },
  "language_info": {
   "codemirror_mode": {
    "name": "ipython",
    "version": 3
   },
   "file_extension": ".py",
   "mimetype": "text/x-python",
   "name": "python",
   "nbconvert_exporter": "python",
   "pygments_lexer": "ipython3",
   "version": "3.8.3"
  }
 },
 "nbformat": 4,
 "nbformat_minor": 4
}
