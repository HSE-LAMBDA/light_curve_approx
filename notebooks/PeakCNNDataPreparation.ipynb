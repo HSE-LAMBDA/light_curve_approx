{
 "cells": [
  {
   "cell_type": "code",
   "execution_count": 1,
   "metadata": {},
   "outputs": [],
   "source": [
    "%matplotlib inline\n",
    "import matplotlib.pyplot as plt\n",
    "import numpy as np\n",
    "import pandas as pd\n",
    "import h5py\n",
    "import tqdm\n",
    "\n",
    "import gp_aug\n",
    "import regressor\n",
    "import utils\n",
    "\n",
    "import warnings\n",
    "warnings.filterwarnings(\"ignore\")\n",
    "plt.rcParams['font.size'] = 15"
   ]
  },
  {
   "cell_type": "code",
   "execution_count": 2,
   "metadata": {},
   "outputs": [
    {
     "data": {
      "text/plain": [
       "(1677, 2)"
      ]
     },
     "execution_count": 2,
     "metadata": {},
     "output_type": "execute_result"
    }
   ],
   "source": [
    "train_metadata = pd.read_csv('../data/plasticc/plasticc_train_metadata.csv.gz',\n",
    "                            usecols=['object_id', 'true_target', 'true_peakmjd'])\n",
    "train_metadata = train_metadata[train_metadata['true_target'].isin([42, 62])].drop('true_target', axis=1)\n",
    "train_metadata.shape"
   ]
  },
  {
   "cell_type": "code",
   "execution_count": 3,
   "metadata": {},
   "outputs": [
    {
     "data": {
      "text/plain": [
       "(1175244, 2)"
      ]
     },
     "execution_count": 3,
     "metadata": {},
     "output_type": "execute_result"
    }
   ],
   "source": [
    "test_metadata = pd.read_csv('../data/plasticc/plasticc_test_metadata.csv.gz',\n",
    "                            usecols=['object_id', 'true_target', 'true_peakmjd'])\n",
    "test_metadata = test_metadata[test_metadata['true_target'].isin([42, 62])].drop('true_target', axis=1)\n",
    "test_metadata.shape"
   ]
  },
  {
   "cell_type": "code",
   "execution_count": 4,
   "metadata": {},
   "outputs": [
    {
     "name": "stdout",
     "output_type": "stream",
     "text": [
      "(1176921, 2)\n"
     ]
    },
    {
     "data": {
      "text/html": [
       "<div>\n",
       "<style scoped>\n",
       "    .dataframe tbody tr th:only-of-type {\n",
       "        vertical-align: middle;\n",
       "    }\n",
       "\n",
       "    .dataframe tbody tr th {\n",
       "        vertical-align: top;\n",
       "    }\n",
       "\n",
       "    .dataframe thead th {\n",
       "        text-align: right;\n",
       "    }\n",
       "</style>\n",
       "<table border=\"1\" class=\"dataframe\">\n",
       "  <thead>\n",
       "    <tr style=\"text-align: right;\">\n",
       "      <th></th>\n",
       "      <th>object_id</th>\n",
       "      <th>true_peakmjd</th>\n",
       "    </tr>\n",
       "  </thead>\n",
       "  <tbody>\n",
       "    <tr>\n",
       "      <th>2</th>\n",
       "      <td>730</td>\n",
       "      <td>60444.379</td>\n",
       "    </tr>\n",
       "    <tr>\n",
       "      <th>7</th>\n",
       "      <td>1632</td>\n",
       "      <td>59602.090</td>\n",
       "    </tr>\n",
       "    <tr>\n",
       "      <th>11</th>\n",
       "      <td>2103</td>\n",
       "      <td>60220.684</td>\n",
       "    </tr>\n",
       "    <tr>\n",
       "      <th>12</th>\n",
       "      <td>2300</td>\n",
       "      <td>59582.930</td>\n",
       "    </tr>\n",
       "    <tr>\n",
       "      <th>18</th>\n",
       "      <td>3285</td>\n",
       "      <td>60403.363</td>\n",
       "    </tr>\n",
       "    <tr>\n",
       "      <th>21</th>\n",
       "      <td>3910</td>\n",
       "      <td>60545.609</td>\n",
       "    </tr>\n",
       "    <tr>\n",
       "      <th>23</th>\n",
       "      <td>4132</td>\n",
       "      <td>59613.430</td>\n",
       "    </tr>\n",
       "  </tbody>\n",
       "</table>\n",
       "</div>"
      ],
      "text/plain": [
       "    object_id  true_peakmjd\n",
       "2         730     60444.379\n",
       "7        1632     59602.090\n",
       "11       2103     60220.684\n",
       "12       2300     59582.930\n",
       "18       3285     60403.363\n",
       "21       3910     60545.609\n",
       "23       4132     59613.430"
      ]
     },
     "execution_count": 4,
     "metadata": {},
     "output_type": "execute_result"
    }
   ],
   "source": [
    "metadata = pd.concat([train_metadata, test_metadata], axis=0)\n",
    "print(metadata.shape)\n",
    "metadata.head(7)"
   ]
  },
  {
   "cell_type": "code",
   "execution_count": 5,
   "metadata": {},
   "outputs": [
    {
     "data": {
      "text/plain": [
       "1176921"
      ]
     },
     "execution_count": 5,
     "metadata": {},
     "output_type": "execute_result"
    }
   ],
   "source": [
    "objects_set = set(metadata.object_id.values)\n",
    "len(objects_set)"
   ]
  },
  {
   "cell_type": "code",
   "execution_count": 6,
   "metadata": {},
   "outputs": [],
   "source": [
    "passband2name = {0: 'u', 1: 'g', 2: 'r', 3: 'i', 4: 'z', 5: 'y'}\n",
    "passband2lam  = {0: np.log10(3751.36), 1: np.log10(4741.64), 2: np.log10(6173.23), \n",
    "                 3: np.log10(7501.62), 4: np.log10(8679.19), 5: np.log10(9711.53)}\n",
    "passband2color = {\n",
    "    0: 'blue', 2: 'green', 4: 'purple',\n",
    "    1: 'orange', 3: 'red', 5: 'brown'\n",
    "}"
   ]
  },
  {
   "cell_type": "code",
   "execution_count": 7,
   "metadata": {},
   "outputs": [],
   "source": [
    "def get_object(data, object_id):\n",
    "    anobject = data[data.object_id == object_id]\n",
    "    return anobject\n",
    "\n",
    "def get_passband(anobject, passband):\n",
    "    light_curve = anobject[anobject.passband == passband]\n",
    "    return light_curve\n",
    "\n",
    "def compile_obj(t, flux, flux_err, passband):\n",
    "    obj = pd.DataFrame()\n",
    "    obj['mjd']      = t\n",
    "    obj['flux']     = flux\n",
    "    obj['flux_err'] = flux_err\n",
    "    obj['passband'] = passband\n",
    "    return obj\n",
    "\n",
    "def is_good(anobject, peak_mjd):\n",
    "    if peak_mjd < anobject['mjd'].min() or peak_mjd > anobject['mjd'].max():\n",
    "        return False\n",
    "    \n",
    "    # remove all objects with negative flux values\n",
    "    if anobject['flux'].values.min() < 0:\n",
    "        return False\n",
    "    \n",
    "    # keep only objects with at least 5 observations in at least 3 passbands\n",
    "    count = 0\n",
    "    for passband in range(6):\n",
    "        if len(get_passband(anobject, passband)) < 5:\n",
    "            count += 1\n",
    "    if count > 3:\n",
    "        return False\n",
    "        \n",
    "    # keep only objects without large breaks in observations\n",
    "    anobject = anobject.sort_values('mjd')\n",
    "    mjd = anobject['mjd'].values\n",
    "    if np.diff(mjd, 1).max() > 50:\n",
    "        return False\n",
    "    \n",
    "    return True\n",
    "\n",
    "def plot_light_curves(anobject, title=\"\"):\n",
    "    anobject = anobject.sort_values('mjd')\n",
    "    plt.figure(figsize=(9, 4))\n",
    "    for passband in range(6):\n",
    "        light_curve = get_passband(anobject, passband)\n",
    "        plt.plot(light_curve['mjd'].values, light_curve['flux'].values, linewidth=0.5)\n",
    "        plt.scatter(light_curve['mjd'].values, light_curve['flux'].values, label=passband2name[passband], linewidth=1)\n",
    "    plt.xlabel('Modified Julian Date', size=14)\n",
    "    plt.xticks(size=14)\n",
    "    plt.ylabel('Flux', size=14)\n",
    "    plt.yticks(size=14)\n",
    "    plt.legend(loc='best',fontsize=14)\n",
    "    plt.title(title, size=14)"
   ]
  },
  {
   "cell_type": "code",
   "execution_count": 8,
   "metadata": {},
   "outputs": [],
   "source": [
    "def residuals_histogram(all_objects):\n",
    "    plt.figure(figsize=(10, 7))\n",
    "    plt.hist(all_objects['true_peakmjd'].values - all_objects['pred_peakmjd'].values, bins=50)\n",
    "    plt.xlabel('mjd residuals', fontsize=15)\n",
    "    plt.show()\n",
    "    \n",
    "    \n",
    "def plot_light_curves_with_peak(anobject, true_peak_mjd=None, title=\"\", n_obs=1000, save=None):\n",
    "    model = gp_aug.GaussianProcessesAugmentation(passband2lam)\n",
    "    model.fit(anobject['mjd'].values, anobject['flux'].values, \n",
    "              anobject['flux_err'].values, anobject['passband'].values)\n",
    "    t_aug, flux_aug, flux_err_aug, passband_aug = model.augmentation(\n",
    "        anobject['mjd'].min(), \n",
    "        anobject['mjd'].max(),\n",
    "        n_obs=n_obs\n",
    "    )\n",
    "    anobject_aug = compile_obj(t_aug, flux_aug, flux_err_aug, passband_aug)\n",
    "    curve = anobject_aug[['mjd', 'flux']].groupby('mjd', as_index=False).sum()\n",
    "    pred_peak_mjd = curve['mjd'][curve['flux'].argmax()]\n",
    "\n",
    "    plt.figure(figsize=(12, 7))\n",
    "    for passband in range(6):\n",
    "        light_curve = get_passband(anobject_aug, passband)\n",
    "        plt.plot(light_curve['mjd'].values, light_curve['flux'].values, linewidth=1,\n",
    "                 color=passband2color[passband])\n",
    "        light_curve = get_passband(anobject, passband)\n",
    "        plt.scatter(light_curve['mjd'].values, light_curve['flux'].values, \n",
    "                    label=passband2name[passband], color=passband2color[passband], linewidth=1)\n",
    "    plt.plot(curve['mjd'].values, curve['flux'].values, label='Sum', linewidth=1, color='pink')\n",
    "\n",
    "    plt.xlabel('Modified Julian Date', size=14)\n",
    "    plt.xticks(size=14)\n",
    "    plt.ylabel('Flux', size=14)\n",
    "    plt.yticks(size=14)\n",
    "\n",
    "    plt.axvline(pred_peak_mjd, label='Pred peak', color='gray')\n",
    "    if true_peak_mjd is not None:\n",
    "        plt.axvline(true_peak_mjd, label='True peak', color='black')\n",
    "    plt.legend(loc='best', ncol=3, fontsize=14)\n",
    "    plt.title(title, size=14)\n",
    "    \n",
    "    if save is not None:\n",
    "        plt.savefig(save, format='pdf')\n",
    "        \n",
    "    plt.show()"
   ]
  },
  {
   "cell_type": "code",
   "execution_count": 27,
   "metadata": {},
   "outputs": [],
   "source": [
    "def read_test_csv(filename, objects_set):\n",
    "    test_idx = pd.read_csv(filename, usecols=['object_id']).object_id\n",
    "    skiprows = test_idx.apply(lambda obj: obj not in objects_set).astype(bool)\n",
    "    test_detected = pd.read_csv(filename, usecols=['detected_bool']).detected_bool\n",
    "    skiprows |= ~test_detected.astype(bool)\n",
    "    skiprows = skiprows.index[skiprows] + 1  # first row contains column names\n",
    "    df = pd.read_csv(filename, skiprows=skiprows)\n",
    "    return df\n",
    "\n",
    "\n",
    "def GP_prepare_picture(anobject, n_obs=1000):\n",
    "    model = gp_aug.GaussianProcessesAugmentation(passband2lam)\n",
    "    model.fit(anobject['mjd'].values, anobject['flux'].values, \n",
    "              anobject['flux_err'].values, anobject['passband'].values)\n",
    "    t_aug, flux_aug, flux_err_aug, passband_aug = model.augmentation(anobject['mjd'].min(), \n",
    "                                                                     anobject['mjd'].max(), n_obs=n_obs)\n",
    "    anobject_aug = compile_obj(t_aug, flux_aug, flux_err_aug, passband_aug)\n",
    "    anobject_aug = anobject_aug.drop('flux_err', axis=1).set_index(['mjd', 'passband']).unstack(level=1)\n",
    "    return anobject_aug.values.T, np.array(anobject_aug.index)"
   ]
  },
  {
   "cell_type": "code",
   "execution_count": 32,
   "metadata": {},
   "outputs": [
    {
     "data": {
      "application/vnd.jupyter.widget-view+json": {
       "model_id": "e7d6d97592d440398d7c526775413322",
       "version_major": 2,
       "version_minor": 0
      },
      "text/plain": [
       "HBox(children=(FloatProgress(value=0.0, max=1677.0), HTML(value='')))"
      ]
     },
     "metadata": {},
     "output_type": "display_data"
    },
    {
     "name": "stdout",
     "output_type": "stream",
     "text": [
      "\n"
     ]
    },
    {
     "data": {
      "application/vnd.jupyter.widget-view+json": {
       "model_id": "bba46eb0111a4d6a8ae180c18f8dd392",
       "version_major": 2,
       "version_minor": 0
      },
      "text/plain": [
       "HBox(children=(FloatProgress(value=0.0, max=18180.0), HTML(value='')))"
      ]
     },
     "metadata": {},
     "output_type": "display_data"
    },
    {
     "name": "stdout",
     "output_type": "stream",
     "text": [
      "\n"
     ]
    },
    {
     "data": {
      "application/vnd.jupyter.widget-view+json": {
       "model_id": "5e1504dfaaa8463b844ed932063b75b5",
       "version_major": 2,
       "version_minor": 0
      },
      "text/plain": [
       "HBox(children=(FloatProgress(value=0.0, max=115377.0), HTML(value='')))"
      ]
     },
     "metadata": {},
     "output_type": "display_data"
    },
    {
     "name": "stdout",
     "output_type": "stream",
     "text": [
      "\n"
     ]
    },
    {
     "data": {
      "application/vnd.jupyter.widget-view+json": {
       "model_id": "a42030e6f31c472bbef3e409ef8d5e9d",
       "version_major": 2,
       "version_minor": 0
      },
      "text/plain": [
       "HBox(children=(FloatProgress(value=0.0, max=115523.0), HTML(value='')))"
      ]
     },
     "metadata": {},
     "output_type": "display_data"
    },
    {
     "name": "stdout",
     "output_type": "stream",
     "text": [
      "\n"
     ]
    },
    {
     "data": {
      "application/vnd.jupyter.widget-view+json": {
       "model_id": "af0f9adc21f940e3988a125cef7890c0",
       "version_major": 2,
       "version_minor": 0
      },
      "text/plain": [
       "HBox(children=(FloatProgress(value=0.0, max=115573.0), HTML(value='')))"
      ]
     },
     "metadata": {},
     "output_type": "display_data"
    },
    {
     "name": "stdout",
     "output_type": "stream",
     "text": [
      "\n"
     ]
    },
    {
     "data": {
      "application/vnd.jupyter.widget-view+json": {
       "model_id": "6f9ae5fa96aa4257aabcbdc36ed19776",
       "version_major": 2,
       "version_minor": 0
      },
      "text/plain": [
       "HBox(children=(FloatProgress(value=0.0, max=115670.0), HTML(value='')))"
      ]
     },
     "metadata": {},
     "output_type": "display_data"
    },
    {
     "name": "stdout",
     "output_type": "stream",
     "text": [
      "\n"
     ]
    },
    {
     "data": {
      "application/vnd.jupyter.widget-view+json": {
       "model_id": "6c33ec378c2c41b9ac50d8a0f34ae653",
       "version_major": 2,
       "version_minor": 0
      },
      "text/plain": [
       "HBox(children=(FloatProgress(value=0.0, max=115838.0), HTML(value='')))"
      ]
     },
     "metadata": {},
     "output_type": "display_data"
    },
    {
     "name": "stdout",
     "output_type": "stream",
     "text": [
      "\n"
     ]
    },
    {
     "data": {
      "application/vnd.jupyter.widget-view+json": {
       "model_id": "cb41a89d6b894bfda1e01c823f6ad027",
       "version_major": 2,
       "version_minor": 0
      },
      "text/plain": [
       "HBox(children=(FloatProgress(value=0.0, max=115480.0), HTML(value='')))"
      ]
     },
     "metadata": {},
     "output_type": "display_data"
    },
    {
     "name": "stdout",
     "output_type": "stream",
     "text": [
      "\n"
     ]
    },
    {
     "data": {
      "application/vnd.jupyter.widget-view+json": {
       "model_id": "16d04119a58e4685baf4241b8c68c765",
       "version_major": 2,
       "version_minor": 0
      },
      "text/plain": [
       "HBox(children=(FloatProgress(value=0.0, max=115629.0), HTML(value='')))"
      ]
     },
     "metadata": {},
     "output_type": "display_data"
    },
    {
     "name": "stdout",
     "output_type": "stream",
     "text": [
      "\n"
     ]
    },
    {
     "data": {
      "application/vnd.jupyter.widget-view+json": {
       "model_id": "6efeb1e159c140eea2f83dfcab7b6cda",
       "version_major": 2,
       "version_minor": 0
      },
      "text/plain": [
       "HBox(children=(FloatProgress(value=0.0, max=115609.0), HTML(value='')))"
      ]
     },
     "metadata": {},
     "output_type": "display_data"
    },
    {
     "name": "stdout",
     "output_type": "stream",
     "text": [
      "\n"
     ]
    },
    {
     "data": {
      "application/vnd.jupyter.widget-view+json": {
       "model_id": "117850f9ce3848a2ad367fc133a2929c",
       "version_major": 2,
       "version_minor": 0
      },
      "text/plain": [
       "HBox(children=(FloatProgress(value=0.0, max=116378.0), HTML(value='')))"
      ]
     },
     "metadata": {},
     "output_type": "display_data"
    },
    {
     "name": "stdout",
     "output_type": "stream",
     "text": [
      "\n"
     ]
    },
    {
     "data": {
      "application/vnd.jupyter.widget-view+json": {
       "model_id": "7275b7abe236493fa7dc28b82a201b4e",
       "version_major": 2,
       "version_minor": 0
      },
      "text/plain": [
       "HBox(children=(FloatProgress(value=0.0, max=115987.0), HTML(value='')))"
      ]
     },
     "metadata": {},
     "output_type": "display_data"
    },
    {
     "name": "stdout",
     "output_type": "stream",
     "text": [
      "\n"
     ]
    }
   ],
   "source": [
    "pictures = []\n",
    "ts = []\n",
    "true_peaks = []\n",
    "\n",
    "data = read_test_csv(f'../data/plasticc/plasticc_train_lightcurves.csv.gz', objects_set)\n",
    "for object_id in tqdm.notebook.tqdm(data.object_id.unique()):\n",
    "    anobject = get_object(data, object_id)\n",
    "    true_peak = metadata[metadata.object_id == object_id]['true_peakmjd'].values[0]\n",
    "    if not is_good(anobject, true_peak):\n",
    "        continue\n",
    "    picture, t = GP_prepare_picture(anobject)\n",
    "    pictures.append(picture)\n",
    "    ts.append(t)\n",
    "    true_peaks.append(true_peak)\n",
    "\n",
    "for number in range(1, 12):\n",
    "    data = read_test_csv(f'../data/plasticc/plasticc_test_lightcurves_{number:02}.csv.gz', objects_set)\n",
    "    for object_id in tqdm.notebook.tqdm(data.object_id.unique()):\n",
    "        anobject = get_object(data, object_id)\n",
    "        true_peak = metadata[metadata.object_id == object_id]['true_peakmjd'].values[0]\n",
    "        if not is_good(anobject, true_peak):\n",
    "            continue\n",
    "        picture, t = GP_prepare_picture(anobject)\n",
    "        pictures.append(picture)\n",
    "        ts.append(t)\n",
    "        true_peaks.append(true_peak)"
   ]
  },
  {
   "cell_type": "code",
   "execution_count": 37,
   "metadata": {},
   "outputs": [],
   "source": [
    "!mkdir cnn_cls_data"
   ]
  },
  {
   "cell_type": "code",
   "execution_count": 38,
   "metadata": {},
   "outputs": [],
   "source": [
    "np.save('cnn_cls_data/pictures.npy', np.array(pictures))\n",
    "np.save('cnn_cls_data/timestamps.npy', np.array(ts))\n",
    "np.save('cnn_cls_data/true_peaks.npy', np.array(true_peaks))"
   ]
  },
  {
   "cell_type": "code",
   "execution_count": 39,
   "metadata": {
    "scrolled": true
   },
   "outputs": [
    {
     "data": {
      "text/plain": [
       "((11078, 6, 1000), (11078, 1000), (11078,))"
      ]
     },
     "execution_count": 39,
     "metadata": {},
     "output_type": "execute_result"
    }
   ],
   "source": [
    "np.array(pictures).shape, np.array(ts).shape, np.array(true_peaks).shape"
   ]
  },
  {
   "cell_type": "code",
   "execution_count": 44,
   "metadata": {},
   "outputs": [
    {
     "data": {
      "text/plain": [
       "True"
      ]
     },
     "execution_count": 44,
     "metadata": {},
     "output_type": "execute_result"
    }
   ],
   "source": [
    "((np.array(true_peaks) < np.array(ts)[:, -1]) & (np.array(true_peaks) > np.array(ts)[:, 0])).all()"
   ]
  }
 ],
 "metadata": {
  "kernelspec": {
   "display_name": "Python 3",
   "language": "python",
   "name": "python3"
  },
  "language_info": {
   "codemirror_mode": {
    "name": "ipython",
    "version": 3
   },
   "file_extension": ".py",
   "mimetype": "text/x-python",
   "name": "python",
   "nbconvert_exporter": "python",
   "pygments_lexer": "ipython3",
   "version": "3.8.3"
  }
 },
 "nbformat": 4,
 "nbformat_minor": 4
}
