{
 "cells": [
  {
   "cell_type": "code",
   "execution_count": null,
   "metadata": {},
   "outputs": [],
   "source": [
    "%matplotlib inline\n",
    "import matplotlib.pyplot as plt\n",
    "import numpy as np\n",
    "import pandas as pd\n",
    "import h5py\n",
    "import time\n",
    "from sklearn.preprocessing import StandardScaler"
   ]
  },
  {
   "cell_type": "code",
   "execution_count": null,
   "metadata": {},
   "outputs": [],
   "source": [
    "import XGB_aug\n",
    "import utils"
   ]
  },
  {
   "cell_type": "code",
   "execution_count": null,
   "metadata": {},
   "outputs": [],
   "source": [
    "import warnings\n",
    "warnings.filterwarnings(\"ignore\")"
   ]
  },
  {
   "cell_type": "markdown",
   "metadata": {},
   "source": [
    "# Read data"
   ]
  },
  {
   "cell_type": "code",
   "execution_count": null,
   "metadata": {},
   "outputs": [],
   "source": [
    "metadata = pd.read_csv('../data/plasticc/plasticc_train_metadata.csv.gz')\n",
    "data = pd.read_csv('../data/plasticc/plasticc_train_lightcurves.csv.gz')\n",
    "\n",
    "data = data[data.detected_bool == 1]"
   ]
  },
  {
   "cell_type": "code",
   "execution_count": null,
   "metadata": {},
   "outputs": [],
   "source": [
    "metadata.head()"
   ]
  },
  {
   "cell_type": "code",
   "execution_count": null,
   "metadata": {},
   "outputs": [],
   "source": [
    "data.head()"
   ]
  },
  {
   "cell_type": "code",
   "execution_count": null,
   "metadata": {},
   "outputs": [],
   "source": [
    "object_ids = np.unique(data.object_id)"
   ]
  },
  {
   "cell_type": "code",
   "execution_count": null,
   "metadata": {},
   "outputs": [],
   "source": [
    "passband2name = {0: 'u', 1: 'g', 2: 'r', 3: 'i', 4: 'z', 5: 'y'}\n",
    "passband2lam  = {0: np.log10(3751.36), 1: np.log10(4741.64), 2: np.log10(6173.23), \n",
    "                 3: np.log10(7501.62), 4: np.log10(8679.19), 5: np.log10(9711.53)}"
   ]
  },
  {
   "cell_type": "code",
   "execution_count": null,
   "metadata": {},
   "outputs": [],
   "source": [
    "ss = StandardScaler()"
   ]
  },
  {
   "cell_type": "markdown",
   "metadata": {},
   "source": [
    "# Visual analysis"
   ]
  },
  {
   "cell_type": "code",
   "execution_count": null,
   "metadata": {},
   "outputs": [],
   "source": [
    "def get_object(data, object_id):\n",
    "    anobject = data[data.object_id == object_id]\n",
    "    return anobject"
   ]
  },
  {
   "cell_type": "code",
   "execution_count": null,
   "metadata": {},
   "outputs": [],
   "source": [
    "def get_passband(anobject, passband):\n",
    "    light_curve = anobject[anobject.passband == passband]\n",
    "    return light_curve"
   ]
  },
  {
   "cell_type": "code",
   "execution_count": null,
   "metadata": {},
   "outputs": [],
   "source": [
    "def add_log_lam(anobject):\n",
    "    passbands = anobject.passband.values\n",
    "    log_lam = [passband2lam[i] for i in passbands]\n",
    "    anobject['log_lam'] = log_lam\n",
    "    return anobject"
   ]
  },
  {
   "cell_type": "code",
   "execution_count": null,
   "metadata": {},
   "outputs": [],
   "source": [
    "def create_approx_object(anobject, n=1000):\n",
    "    mjd = anobject['mjd'].values\n",
    "    dfs = []\n",
    "    for passband in range(6):\n",
    "        df = pd.DataFrame()\n",
    "        df['mjd'] = np.linspace(mjd.min(), mjd.max(), n)\n",
    "        df['object_id'] = 0\n",
    "        df['passband'] = passband\n",
    "        df['flux'] = 0\n",
    "        df['flux_err'] = 0\n",
    "        df['detected_bool'] = 1\n",
    "        dfs.append(df)\n",
    "    new_object = pd.concat(dfs, axis=0)\n",
    "    new_object = add_log_lam(new_object)\n",
    "    return new_object"
   ]
  },
  {
   "cell_type": "code",
   "execution_count": null,
   "metadata": {},
   "outputs": [],
   "source": [
    "def is_good(anobject):\n",
    "    good = 1\n",
    "    \n",
    "    # remove all objects with negative flux values\n",
    "    if anobject['flux'].values.min() < 0:\n",
    "        good = 0\n",
    "    \n",
    "    # keep only objects with at least 10 observations in at least 3 passbands\n",
    "    count = 0\n",
    "    for passband in range(6):\n",
    "        if len(get_passband(anobject, passband)) < 10:\n",
    "            count += 1\n",
    "    if count > 3:\n",
    "        good = 0\n",
    "        \n",
    "    # keep only objects without large breaks in observations\n",
    "    anobject = anobject.sort_values('mjd')\n",
    "    mjd = anobject['mjd'].values\n",
    "    if np.diff(mjd, 1).max() > 50:\n",
    "        good = 0\n",
    "    \n",
    "    return good"
   ]
  },
  {
   "cell_type": "code",
   "execution_count": null,
   "metadata": {},
   "outputs": [],
   "source": [
    "def plot_light_curves(anobject, title=\"\"):\n",
    "    anobject = anobject.sort_values('mjd')\n",
    "    plt.figure(figsize=(9, 4))\n",
    "    for passband in range(6):\n",
    "        light_curve = get_passband(anobject, passband)\n",
    "        plt.plot(light_curve['mjd'].values, light_curve['flux'].values, linewidth=0.5)\n",
    "        plt.scatter(light_curve['mjd'].values, light_curve['flux'].values, label=passband2name[passband], linewidth=1)\n",
    "    plt.xlabel('Modified Julian Date', size=14)\n",
    "    plt.xticks(size=14)\n",
    "    plt.ylabel('Flux', size=14)\n",
    "    plt.yticks(size=14)\n",
    "    plt.legend(loc='best', ncol=3, fontsize=14)\n",
    "    plt.title(title, size=14)\n",
    "    plt.show()"
   ]
  },
  {
   "cell_type": "code",
   "execution_count": null,
   "metadata": {},
   "outputs": [],
   "source": [
    "def compile_obj(t, flux, flux_err, passband):\n",
    "    obj = pd.DataFrame()\n",
    "    obj['mjd']      = t\n",
    "    obj['flux']     = flux\n",
    "    obj['flux_err'] = flux_err\n",
    "    obj['passband'] = passband\n",
    "    return obj"
   ]
  },
  {
   "cell_type": "code",
   "execution_count": null,
   "metadata": {},
   "outputs": [],
   "source": [
    "for i in object_ids[::50]:\n",
    "    anobject = get_object(data, i)\n",
    "    \n",
    "    if not is_good(anobject): continue\n",
    "    print(i)\n",
    "    \n",
    "    plot_light_curves(anobject)"
   ]
  },
  {
   "cell_type": "markdown",
   "metadata": {},
   "source": [
    "# One object test Test"
   ]
  },
  {
   "cell_type": "code",
   "execution_count": null,
   "metadata": {},
   "outputs": [],
   "source": [
    "anobject = get_object(data, 34299)\n",
    "anobject = add_log_lam(anobject)\n",
    "\n",
    "plot_light_curves(anobject)\n",
    "plt.savefig('light_curve_34299.pdf', format='pdf')"
   ]
  },
  {
   "cell_type": "code",
   "execution_count": null,
   "metadata": {},
   "outputs": [],
   "source": [
    "from sklearn.model_selection import train_test_split\n",
    "anobject_train, anobject_test = train_test_split(anobject, test_size=0.5, random_state=11)"
   ]
  },
  {
   "cell_type": "code",
   "execution_count": null,
   "metadata": {},
   "outputs": [],
   "source": [
    "model = XGB_aug.XGBRegressionAugmentation(passband2lam)\n",
    "model.fit(anobject_train['mjd'].values, anobject_train['flux'].values, \n",
    "          anobject_train['flux_err'].values, anobject_train['passband'].values)\n",
    "\n",
    "flux_pred, flux_err_pred = model.predict(anobject_test['mjd'].values, anobject_test['passband'].values)\n",
    "\n",
    "t_aug, flux_aug, flux_err_aug, passband_aug = model.augmentation(anobject['mjd'].min(), anobject['mjd'].max(), \n",
    "                                                                 n_obs=1000)"
   ]
  },
  {
   "cell_type": "code",
   "execution_count": null,
   "metadata": {},
   "outputs": [],
   "source": [
    "anobject_test_pred = compile_obj(anobject_test['mjd'].values, flux_pred, \n",
    "                                 flux_err_pred, anobject_test['passband'].values)\n",
    "anobject_aug = compile_obj(t_aug, flux_aug, flux_err_aug, passband_aug)"
   ]
  },
  {
   "cell_type": "code",
   "execution_count": null,
   "metadata": {},
   "outputs": [],
   "source": [
    "plot_light_curves(anobject_test, \"Test observations\")\n",
    "plot_light_curves(anobject_test_pred, \"Predictions on test\")"
   ]
  },
  {
   "cell_type": "code",
   "execution_count": null,
   "metadata": {},
   "outputs": [],
   "source": [
    "plot_light_curves(anobject_aug, \"Approximation\")"
   ]
  },
  {
   "cell_type": "code",
   "execution_count": null,
   "metadata": {},
   "outputs": [],
   "source": [
    "# calculate quality metrics\n",
    "[rmse, mae, rse, rae, mape] = utils.regression_quality_metrics_report(anobject_test['flux'].values, \n",
    "                                                                      anobject_test_pred['flux'].values)\n",
    "print(\"RMSE: \", rmse)\n",
    "print(\"MAE: \", mae)\n",
    "print(\"RSE: \", rse)\n",
    "print(\"RAE: \", rae)\n",
    "print(\"MAPE: \", mape)"
   ]
  },
  {
   "cell_type": "markdown",
   "metadata": {},
   "source": [
    "# Test on many objects"
   ]
  },
  {
   "cell_type": "code",
   "execution_count": null,
   "metadata": {
    "scrolled": true
   },
   "outputs": [],
   "source": [
    "report = pd.DataFrame(columns=[\"ID\", 'RMSE', 'MAE', 'RSE', 'RAE', 'MAPE'])\n",
    "\n",
    "for i in object_ids: \n",
    "    \n",
    "    # get an object\n",
    "    anobject = get_object(data, i)\n",
    "    anobject = add_log_lam(anobject)\n",
    "    \n",
    "    if not is_good(anobject): continue\n",
    "    \n",
    "    print(\"Object \", i, \" with \", len(anobject), \" observations\")\n",
    "    \n",
    "    # train / test split\n",
    "    anobject_train, anobject_test = train_test_split(anobject, test_size=0.5, random_state=11)\n",
    "    \n",
    "    \n",
    "    model = XGB_aug.XGBRegressionAugmentation(passband2lam)\n",
    "    model.fit(anobject_train['mjd'].values, anobject_train['flux'].values, \n",
    "          anobject_train['flux_err'].values, anobject_train['passband'].values)\n",
    "\n",
    "    flux_pred, flux_err_pred = model.predict(anobject_test['mjd'].values, anobject_test['passband'].values)\n",
    "\n",
    "    t_aug, flux_aug, flux_err_aug, passband_aug = model.augmentation(anobject['mjd'].min(), anobject['mjd'].max(), n_obs=1000)\n",
    "    \n",
    "    anobject_test_pred = compile_obj(anobject_test['mjd'].values, flux_pred, flux_err_pred, anobject_test['passband'].values)\n",
    "    \n",
    "    metrics = utils.regression_quality_metrics_report(anobject_test['flux'].values, anobject_test_pred['flux'].values)\n",
    "    report.loc[len(report), :] = [i] + list(metrics)\n",
    "    "
   ]
  },
  {
   "cell_type": "code",
   "execution_count": null,
   "metadata": {},
   "outputs": [],
   "source": [
    "np.round(report.mean(), 2)"
   ]
  },
  {
   "cell_type": "code",
   "execution_count": null,
   "metadata": {},
   "outputs": [],
   "source": [
    "report"
   ]
  },
  {
   "cell_type": "code",
   "execution_count": null,
   "metadata": {},
   "outputs": [],
   "source": []
  }
 ],
 "metadata": {
  "kernelspec": {
   "display_name": "Python 3",
   "language": "python",
   "name": "python3"
  },
  "language_info": {
   "codemirror_mode": {
    "name": "ipython",
    "version": 3
   },
   "file_extension": ".py",
   "mimetype": "text/x-python",
   "name": "python",
   "nbconvert_exporter": "python",
   "pygments_lexer": "ipython3",
   "version": "3.8.5"
  }
 },
 "nbformat": 4,
 "nbformat_minor": 4
}
