{
 "cells": [
  {
   "cell_type": "code",
   "execution_count": 1,
   "metadata": {},
   "outputs": [],
   "source": [
    "%matplotlib inline\n",
    "import numpy as np\n",
    "import pandas as pd\n",
    "\n",
    "import warnings\n",
    "warnings.filterwarnings(\"ignore\")\n",
    "\n",
    "N_PASSBANDS = 6"
   ]
  },
  {
   "cell_type": "code",
   "execution_count": 2,
   "metadata": {},
   "outputs": [],
   "source": [
    "passband2lam  = {0: np.log10(3751.36), 1: np.log10(4741.64), 2: np.log10(6173.23), \n",
    "                 3: np.log10(7501.62), 4: np.log10(8679.19), 5: np.log10(9711.53)}"
   ]
  },
  {
   "cell_type": "code",
   "execution_count": 3,
   "metadata": {},
   "outputs": [],
   "source": [
    "def get_object(data, object_id):\n",
    "    anobject = data[data.object_id == object_id]\n",
    "    return anobject"
   ]
  },
  {
   "cell_type": "code",
   "execution_count": 4,
   "metadata": {},
   "outputs": [],
   "source": [
    "def get_passband(anobject, passband):\n",
    "    light_curve = anobject[anobject.passband == passband]\n",
    "    return light_curve"
   ]
  },
  {
   "cell_type": "code",
   "execution_count": 5,
   "metadata": {},
   "outputs": [],
   "source": [
    "def is_good(anobject):\n",
    "    # remove all objects with negative flux values\n",
    "    if anobject['flux'].values.min() < 0:\n",
    "        return False\n",
    "    \n",
    "    # keep only objects with at least 3 observations in at least 3 passbands\n",
    "    count = 0\n",
    "    for passband in range(N_PASSBANDS):\n",
    "        if len(get_passband(anobject, passband)) < 3:\n",
    "            count += 1\n",
    "    if count > 3:\n",
    "        return False\n",
    "        \n",
    "    # keep only objects without large breaks in observations\n",
    "    anobject = anobject.sort_values('mjd')\n",
    "    mjd = anobject['mjd'].values\n",
    "    if np.diff(mjd, 1).max() > 50:\n",
    "        return False\n",
    "    \n",
    "    return True"
   ]
  },
  {
   "cell_type": "code",
   "execution_count": 6,
   "metadata": {},
   "outputs": [],
   "source": [
    "from tqdm import tqdm_notebook"
   ]
  },
  {
   "cell_type": "code",
   "execution_count": 7,
   "metadata": {},
   "outputs": [
    {
     "name": "stdout",
     "output_type": "stream",
     "text": [
      "(7848,)\n"
     ]
    },
    {
     "data": {
      "application/vnd.jupyter.widget-view+json": {
       "model_id": "f064cc8fa93841789dde659fd7ad90c4",
       "version_major": 2,
       "version_minor": 0
      },
      "text/plain": [
       "HBox(children=(FloatProgress(value=0.0, max=7848.0), HTML(value='')))"
      ]
     },
     "metadata": {},
     "output_type": "display_data"
    },
    {
     "name": "stdout",
     "output_type": "stream",
     "text": [
      "\n",
      "1957\n"
     ]
    }
   ],
   "source": [
    "meta_file = '../data/plasticc/PLAsTiCC-2018/plasticc_train_metadata.csv.gz'\n",
    "metadata = pd.read_csv(meta_file)\n",
    "\n",
    "file = \"../data/plasticc/PLAsTiCC-2018/plasticc_train_lightcurves.csv.gz\"\n",
    "data = pd.read_csv(file)\n",
    "\n",
    "data = data[data.detected_bool == 1]\n",
    "object_ids = np.unique(data.object_id)\n",
    "print(object_ids.shape)\n",
    "    \n",
    "data[\"log_lam\"] = data.apply(lambda x: passband2lam[x.passband], axis=1)\n",
    "    \n",
    "good_objects_df = pd.DataFrame(columns=data.columns)\n",
    "\n",
    "good_object_ids = []\n",
    "for i in tqdm_notebook(object_ids):\n",
    "    anobject = get_object(data, i)\n",
    "\n",
    "    if is_good(anobject):\n",
    "        good_object_ids.append(i)\n",
    "        good_objects_df = pd.concat([good_objects_df, anobject])\n",
    "    \n",
    "print(len(good_object_ids))\n",
    "good_objects_df[\"class\"] = good_objects_df.apply(lambda x: \n",
    "       1 if int(metadata[metadata.object_id == x.object_id].target.to_numpy()[0]) \n",
    "                                             in (90, 67, 52) else 0, axis=1)\n",
    "\n",
    "good_objects_df[\"true_peakmjd\"] = good_objects_df.apply(lambda x: \n",
    "       int(metadata[metadata.object_id == x.object_id].true_peakmjd.to_numpy()[0]), axis=1)\n",
    "                                                        \n",
    "good_objects_df[\"true_target\"] = good_objects_df.apply(lambda x: \n",
    "       int(metadata[metadata.object_id == x.object_id].true_target.to_numpy()[0]), axis=1)\n",
    "\n",
    "good_objects_df.to_csv('../data/plasticc/good_objects_peak.csv')\n",
    "\n",
    "del data\n",
    "del object_ids\n",
    "del good_object_ids\n",
    "del good_objects_df"
   ]
  },
  {
   "cell_type": "code",
   "execution_count": null,
   "metadata": {},
   "outputs": [
    {
     "name": "stdout",
     "output_type": "stream",
     "text": [
      "../data/plasticc/PLAsTiCC-2018/plasticc_test_lightcurves_01.csv.gz\n",
      "01 (32926,)\n"
     ]
    },
    {
     "data": {
      "application/vnd.jupyter.widget-view+json": {
       "model_id": "3fe4549ef8614b478eb5bf1a63653dd9",
       "version_major": 2,
       "version_minor": 0
      },
      "text/plain": [
       "HBox(children=(FloatProgress(value=0.0, max=32926.0), HTML(value='')))"
      ]
     },
     "metadata": {},
     "output_type": "display_data"
    },
    {
     "name": "stdout",
     "output_type": "stream",
     "text": [
      "\n",
      "01 11886\n",
      "../data/plasticc/PLAsTiCC-2018/plasticc_test_lightcurves_02.csv.gz\n",
      "02 (345997,)\n"
     ]
    },
    {
     "data": {
      "application/vnd.jupyter.widget-view+json": {
       "model_id": "5771abe0f9de42ca848de06079c3f909",
       "version_major": 2,
       "version_minor": 0
      },
      "text/plain": [
       "HBox(children=(FloatProgress(value=0.0, max=345997.0), HTML(value='')))"
      ]
     },
     "metadata": {},
     "output_type": "display_data"
    },
    {
     "name": "stderr",
     "output_type": "stream",
     "text": [
      "IOPub message rate exceeded.\n",
      "The notebook server will temporarily stop sending output\n",
      "to the client in order to avoid crashing it.\n",
      "To change this limit, set the config variable\n",
      "`--NotebookApp.iopub_msg_rate_limit`.\n",
      "\n",
      "Current values:\n",
      "NotebookApp.iopub_msg_rate_limit=1000.0 (msgs/sec)\n",
      "NotebookApp.rate_limit_window=3.0 (secs)\n",
      "\n"
     ]
    },
    {
     "name": "stdout",
     "output_type": "stream",
     "text": [
      "\n",
      "02 18669\n",
      "../data/plasticc/PLAsTiCC-2018/plasticc_test_lightcurves_03.csv.gz\n",
      "03 (345997,)\n"
     ]
    },
    {
     "data": {
      "application/vnd.jupyter.widget-view+json": {
       "model_id": "f90005323f43442ebb5f57fd2566189d",
       "version_major": 2,
       "version_minor": 0
      },
      "text/plain": [
       "HBox(children=(FloatProgress(value=0.0, max=345997.0), HTML(value='')))"
      ]
     },
     "metadata": {},
     "output_type": "display_data"
    }
   ],
   "source": [
    "from tqdm import tqdm_notebook\n",
    "\n",
    "meta_file_test = '../data/plasticc/PLAsTiCC-2018/plasticc_test_metadata.csv.gz'\n",
    "metadata = pd.read_csv(meta_file_test)\n",
    "\n",
    "for batch_number in ['01', '02', '03', '04', '05', '06', '07', '08', '09', '10', '11']:\n",
    "    file = \"../data/plasticc/PLAsTiCC-2018/plasticc_test_lightcurves_{}.csv.gz\".format(batch_number)\n",
    "    print(file)\n",
    "    data = pd.read_csv(file)\n",
    "\n",
    "    data = data[data.detected_bool == 1]\n",
    "    object_ids = np.unique(data.object_id)\n",
    "    print(batch_number, object_ids.shape)\n",
    "    \n",
    "    data[\"log_lam\"] = data.apply(lambda x: passband2lam[x.passband], axis=1)\n",
    "    \n",
    "    good_objects_df = pd.DataFrame(columns=data.columns)\n",
    "\n",
    "    good_object_ids = []\n",
    "    for i in tqdm_notebook(object_ids):\n",
    "        anobject = get_object(data, i)\n",
    "    \n",
    "        if is_good(anobject):\n",
    "            good_object_ids.append(i)\n",
    "            good_objects_df = pd.concat([good_objects_df, anobject])\n",
    "    \n",
    "    print(batch_number, len(good_object_ids))\n",
    "    good_objects_df[\"class\"] = good_objects_df.apply(lambda x: \n",
    "            1 if int(metadata[metadata.object_id == x.object_id].true_target.to_numpy()[0]) \n",
    "                                                 in (90, 67, 52) else 0, axis=1)\n",
    "    \n",
    "    good_objects_df[\"true_peakmjd\"] = good_objects_df.apply(lambda x: \n",
    "           int(metadata[metadata.object_id == x.object_id].true_peakmjd.to_numpy()[0]), axis=1)\n",
    "                                                        \n",
    "    good_objects_df[\"true_target\"] = good_objects_df.apply(lambda x: \n",
    "           int(metadata[metadata.object_id == x.object_id].true_target.to_numpy()[0]), axis=1)\n",
    "    \n",
    "    \n",
    "    good_objects_df.to_csv('../data/plasticc/good_objects_peak.csv', mode='a', header=False)  \n",
    "        \n",
    "    del data\n",
    "    del object_ids\n",
    "    del good_object_ids\n",
    "    del good_objects_df"
   ]
  },
  {
   "cell_type": "code",
   "execution_count": null,
   "metadata": {},
   "outputs": [],
   "source": [
    "good_objects = pd.read_csv('../data/plasticc/good_objects_peak.csv', index_col=0)\n",
    "print(np.unique(good_objects.object_id).shape)\n",
    "good_objects.sample(10)"
   ]
  },
  {
   "cell_type": "code",
   "execution_count": 12,
   "metadata": {},
   "outputs": [
    {
     "data": {
      "text/html": [
       "<div>\n",
       "<style scoped>\n",
       "    .dataframe tbody tr th:only-of-type {\n",
       "        vertical-align: middle;\n",
       "    }\n",
       "\n",
       "    .dataframe tbody tr th {\n",
       "        vertical-align: top;\n",
       "    }\n",
       "\n",
       "    .dataframe thead th {\n",
       "        text-align: right;\n",
       "    }\n",
       "</style>\n",
       "<table border=\"1\" class=\"dataframe\">\n",
       "  <thead>\n",
       "    <tr style=\"text-align: right;\">\n",
       "      <th></th>\n",
       "      <th>object_id</th>\n",
       "      <th>mjd</th>\n",
       "      <th>passband</th>\n",
       "      <th>flux</th>\n",
       "      <th>flux_err</th>\n",
       "      <th>detected_bool</th>\n",
       "      <th>log_lam</th>\n",
       "      <th>class</th>\n",
       "      <th>true_peakmjd</th>\n",
       "      <th>true_target</th>\n",
       "    </tr>\n",
       "  </thead>\n",
       "  <tbody>\n",
       "    <tr>\n",
       "      <th>1311643</th>\n",
       "      <td>42151</td>\n",
       "      <td>59770.3817</td>\n",
       "      <td>3</td>\n",
       "      <td>33.752380</td>\n",
       "      <td>1.093348</td>\n",
       "      <td>1</td>\n",
       "      <td>3.875155</td>\n",
       "      <td>1</td>\n",
       "      <td>59784</td>\n",
       "      <td>90</td>\n",
       "    </tr>\n",
       "    <tr>\n",
       "      <th>7229566</th>\n",
       "      <td>16072528</td>\n",
       "      <td>60141.4117</td>\n",
       "      <td>1</td>\n",
       "      <td>71.908791</td>\n",
       "      <td>2.538478</td>\n",
       "      <td>1</td>\n",
       "      <td>3.675929</td>\n",
       "      <td>0</td>\n",
       "      <td>60109</td>\n",
       "      <td>62</td>\n",
       "    </tr>\n",
       "    <tr>\n",
       "      <th>12470802</th>\n",
       "      <td>69561529</td>\n",
       "      <td>60556.1907</td>\n",
       "      <td>3</td>\n",
       "      <td>283.323975</td>\n",
       "      <td>4.345737</td>\n",
       "      <td>1</td>\n",
       "      <td>3.875155</td>\n",
       "      <td>0</td>\n",
       "      <td>60564</td>\n",
       "      <td>62</td>\n",
       "    </tr>\n",
       "    <tr>\n",
       "      <th>40100879</th>\n",
       "      <td>51701058</td>\n",
       "      <td>60019.4032</td>\n",
       "      <td>4</td>\n",
       "      <td>106.552505</td>\n",
       "      <td>16.839195</td>\n",
       "      <td>1</td>\n",
       "      <td>3.938479</td>\n",
       "      <td>1</td>\n",
       "      <td>60005</td>\n",
       "      <td>90</td>\n",
       "    </tr>\n",
       "    <tr>\n",
       "      <th>13264726</th>\n",
       "      <td>95761922</td>\n",
       "      <td>59869.2393</td>\n",
       "      <td>2</td>\n",
       "      <td>255.299530</td>\n",
       "      <td>4.166808</td>\n",
       "      <td>1</td>\n",
       "      <td>3.790512</td>\n",
       "      <td>1</td>\n",
       "      <td>59846</td>\n",
       "      <td>90</td>\n",
       "    </tr>\n",
       "    <tr>\n",
       "      <th>4951854</th>\n",
       "      <td>93336136</td>\n",
       "      <td>59724.4279</td>\n",
       "      <td>4</td>\n",
       "      <td>215.345810</td>\n",
       "      <td>11.226151</td>\n",
       "      <td>1</td>\n",
       "      <td>3.938479</td>\n",
       "      <td>0</td>\n",
       "      <td>59636</td>\n",
       "      <td>95</td>\n",
       "    </tr>\n",
       "    <tr>\n",
       "      <th>8025800</th>\n",
       "      <td>42291986</td>\n",
       "      <td>60633.3445</td>\n",
       "      <td>4</td>\n",
       "      <td>135.532608</td>\n",
       "      <td>25.922781</td>\n",
       "      <td>1</td>\n",
       "      <td>3.938479</td>\n",
       "      <td>1</td>\n",
       "      <td>60594</td>\n",
       "      <td>90</td>\n",
       "    </tr>\n",
       "    <tr>\n",
       "      <th>2244713</th>\n",
       "      <td>79537686</td>\n",
       "      <td>60502.3461</td>\n",
       "      <td>2</td>\n",
       "      <td>37.399220</td>\n",
       "      <td>2.990577</td>\n",
       "      <td>1</td>\n",
       "      <td>3.790512</td>\n",
       "      <td>0</td>\n",
       "      <td>60369</td>\n",
       "      <td>42</td>\n",
       "    </tr>\n",
       "    <tr>\n",
       "      <th>36085417</th>\n",
       "      <td>11565132</td>\n",
       "      <td>60371.0089</td>\n",
       "      <td>5</td>\n",
       "      <td>452.764557</td>\n",
       "      <td>45.201180</td>\n",
       "      <td>1</td>\n",
       "      <td>3.987288</td>\n",
       "      <td>1</td>\n",
       "      <td>60326</td>\n",
       "      <td>90</td>\n",
       "    </tr>\n",
       "    <tr>\n",
       "      <th>19827028</th>\n",
       "      <td>71727822</td>\n",
       "      <td>60545.2610</td>\n",
       "      <td>3</td>\n",
       "      <td>73.606499</td>\n",
       "      <td>4.480795</td>\n",
       "      <td>1</td>\n",
       "      <td>3.875155</td>\n",
       "      <td>0</td>\n",
       "      <td>60512</td>\n",
       "      <td>42</td>\n",
       "    </tr>\n",
       "  </tbody>\n",
       "</table>\n",
       "</div>"
      ],
      "text/plain": [
       "          object_id         mjd  passband        flux   flux_err  \\\n",
       "1311643       42151  59770.3817         3   33.752380   1.093348   \n",
       "7229566    16072528  60141.4117         1   71.908791   2.538478   \n",
       "12470802   69561529  60556.1907         3  283.323975   4.345737   \n",
       "40100879   51701058  60019.4032         4  106.552505  16.839195   \n",
       "13264726   95761922  59869.2393         2  255.299530   4.166808   \n",
       "4951854    93336136  59724.4279         4  215.345810  11.226151   \n",
       "8025800    42291986  60633.3445         4  135.532608  25.922781   \n",
       "2244713    79537686  60502.3461         2   37.399220   2.990577   \n",
       "36085417   11565132  60371.0089         5  452.764557  45.201180   \n",
       "19827028   71727822  60545.2610         3   73.606499   4.480795   \n",
       "\n",
       "          detected_bool   log_lam  class  true_peakmjd  true_target  \n",
       "1311643               1  3.875155      1         59784           90  \n",
       "7229566               1  3.675929      0         60109           62  \n",
       "12470802              1  3.875155      0         60564           62  \n",
       "40100879              1  3.938479      1         60005           90  \n",
       "13264726              1  3.790512      1         59846           90  \n",
       "4951854               1  3.938479      0         59636           95  \n",
       "8025800               1  3.938479      1         60594           90  \n",
       "2244713               1  3.790512      0         60369           42  \n",
       "36085417              1  3.987288      1         60326           90  \n",
       "19827028              1  3.875155      0         60512           42  "
      ]
     },
     "execution_count": 12,
     "metadata": {},
     "output_type": "execute_result"
    }
   ],
   "source": [
    "good_objects.sample(10)"
   ]
  },
  {
   "cell_type": "code",
   "execution_count": null,
   "metadata": {},
   "outputs": [],
   "source": []
  }
 ],
 "metadata": {
  "kernelspec": {
   "display_name": "Python 3",
   "language": "python",
   "name": "python3"
  },
  "language_info": {
   "codemirror_mode": {
    "name": "ipython",
    "version": 3
   },
   "file_extension": ".py",
   "mimetype": "text/x-python",
   "name": "python",
   "nbconvert_exporter": "python",
   "pygments_lexer": "ipython3",
   "version": "3.8.3"
  }
 },
 "nbformat": 4,
 "nbformat_minor": 4
}
