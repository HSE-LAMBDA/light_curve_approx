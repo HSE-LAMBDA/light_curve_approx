{
 "cells": [
  {
   "cell_type": "code",
   "execution_count": 1,
   "metadata": {},
   "outputs": [],
   "source": [
    "%matplotlib inline\n",
    "import numpy as np\n",
    "import pandas as pd\n",
    "\n",
    "import warnings\n",
    "warnings.filterwarnings(\"ignore\")\n",
    "\n",
    "N_PASSBANDS = 6"
   ]
  },
  {
   "cell_type": "code",
   "execution_count": 2,
   "metadata": {},
   "outputs": [],
   "source": [
    "passband2lam  = {0: np.log10(3751.36), 1: np.log10(4741.64), 2: np.log10(6173.23), \n",
    "                 3: np.log10(7501.62), 4: np.log10(8679.19), 5: np.log10(9711.53)}"
   ]
  },
  {
   "cell_type": "code",
   "execution_count": 3,
   "metadata": {},
   "outputs": [],
   "source": [
    "def get_object(data, object_id):\n",
    "    anobject = data[data.object_id == object_id]\n",
    "    return anobject"
   ]
  },
  {
   "cell_type": "code",
   "execution_count": 4,
   "metadata": {},
   "outputs": [],
   "source": [
    "def get_passband(anobject, passband):\n",
    "    light_curve = anobject[anobject.passband == passband]\n",
    "    return light_curve"
   ]
  },
  {
   "cell_type": "code",
   "execution_count": 5,
   "metadata": {},
   "outputs": [],
   "source": [
    "def is_good(anobject):\n",
    "    # remove all objects with negative flux values\n",
    "    if anobject['flux'].values.min() < 0:\n",
    "        return False\n",
    "    \n",
    "    # keep only objects with at least 10 observations in at least 3 passbands\n",
    "    count = 0\n",
    "    for passband in range(N_PASSBANDS):\n",
    "        if len(get_passband(anobject, passband)) < 10:\n",
    "            count += 1\n",
    "    if count > 3:\n",
    "        return False\n",
    "        \n",
    "    # keep only objects without large breaks in observations\n",
    "    anobject = anobject.sort_values('mjd')\n",
    "    mjd = anobject['mjd'].values\n",
    "    if np.diff(mjd, 1).max() > 50:\n",
    "        return False\n",
    "    \n",
    "    return True"
   ]
  },
  {
   "cell_type": "code",
   "execution_count": 12,
   "metadata": {},
   "outputs": [
    {
     "name": "stdout",
     "output_type": "stream",
     "text": [
      "(7848,)\n"
     ]
    },
    {
     "data": {
      "application/vnd.jupyter.widget-view+json": {
       "model_id": "c8615cbef1864b0a812c2f1f4d3cea86",
       "version_major": 2,
       "version_minor": 0
      },
      "text/plain": [
       "HBox(children=(HTML(value=''), FloatProgress(value=0.0, max=7848.0), HTML(value='')))"
      ]
     },
     "metadata": {},
     "output_type": "display_data"
    },
    {
     "name": "stdout",
     "output_type": "stream",
     "text": [
      "\n",
      "516\n"
     ]
    }
   ],
   "source": [
    "meta_file = '../data/plasticc/PLAsTiCC-2018/training_set_metadata.csv'\n",
    "metadata = pd.read_csv(meta_file)\n",
    "\n",
    "file = \"../data/plasticc/PLAsTiCC-2018/training_set.csv\"\n",
    "data = pd.read_csv(file)\n",
    "\n",
    "data = data[data.detected == 1]\n",
    "object_ids = np.unique(data.object_id)\n",
    "print(object_ids.shape)\n",
    "    \n",
    "data[\"log_lam\"] = data.apply(lambda x: passband2lam[x.passband], axis=1)\n",
    "    \n",
    "good_objects_df = pd.DataFrame(columns=data.columns)\n",
    "\n",
    "good_object_ids = []\n",
    "for i in tqdm_notebook(object_ids):\n",
    "    anobject = get_object(data, i)\n",
    "\n",
    "    if is_good(anobject):\n",
    "        good_object_ids.append(i)\n",
    "        good_objects_df = pd.concat([good_objects_df, anobject])\n",
    "    \n",
    "print(len(good_object_ids))\n",
    "good_objects_df[\"class\"] = good_objects_df.apply(lambda x: \n",
    "       1 if int(metadata[metadata.object_id == x.object_id].target.to_numpy()[0]) \n",
    "                                             in (90, 67, 52) else 0, axis=1)\n",
    "\n",
    "good_objects_df.to_csv('../data/plasticc/good_objects.csv')\n",
    "\n",
    "del data\n",
    "del object_ids\n",
    "del good_object_ids\n",
    "del good_objects_df"
   ]
  },
  {
   "cell_type": "code",
   "execution_count": 6,
   "metadata": {},
   "outputs": [
    {
     "name": "stdout",
     "output_type": "stream",
     "text": [
      "1 (32926,)\n"
     ]
    },
    {
     "data": {
      "application/vnd.jupyter.widget-view+json": {
       "model_id": "313813dce47546acb6dd990dba0c10a8",
       "version_major": 2,
       "version_minor": 0
      },
      "text/plain": [
       "HBox(children=(HTML(value=''), FloatProgress(value=0.0, max=32926.0), HTML(value='')))"
      ]
     },
     "metadata": {},
     "output_type": "display_data"
    },
    {
     "name": "stdout",
     "output_type": "stream",
     "text": [
      "\n",
      "1 1854\n",
      "2 (345997,)\n"
     ]
    },
    {
     "data": {
      "application/vnd.jupyter.widget-view+json": {
       "model_id": "c5887f3f78d041828b787bdb8021b3e7",
       "version_major": 2,
       "version_minor": 0
      },
      "text/plain": [
       "HBox(children=(HTML(value=''), FloatProgress(value=0.0, max=345997.0), HTML(value='')))"
      ]
     },
     "metadata": {},
     "output_type": "display_data"
    },
    {
     "name": "stdout",
     "output_type": "stream",
     "text": [
      "\n",
      "2 19\n",
      "3 (345997,)\n"
     ]
    },
    {
     "data": {
      "application/vnd.jupyter.widget-view+json": {
       "model_id": "bfe7b6fa3fa14affa0e0301b479ff59e",
       "version_major": 2,
       "version_minor": 0
      },
      "text/plain": [
       "HBox(children=(HTML(value=''), FloatProgress(value=0.0, max=345997.0), HTML(value='')))"
      ]
     },
     "metadata": {},
     "output_type": "display_data"
    },
    {
     "name": "stdout",
     "output_type": "stream",
     "text": [
      "\n",
      "3 7\n",
      "4 (345997,)\n"
     ]
    },
    {
     "data": {
      "application/vnd.jupyter.widget-view+json": {
       "model_id": "d0ed2cb78d6d4bcc867f0a4316fd25f9",
       "version_major": 2,
       "version_minor": 0
      },
      "text/plain": [
       "HBox(children=(HTML(value=''), FloatProgress(value=0.0, max=345997.0), HTML(value='')))"
      ]
     },
     "metadata": {},
     "output_type": "display_data"
    },
    {
     "name": "stdout",
     "output_type": "stream",
     "text": [
      "\n",
      "4 20\n",
      "5 (345997,)\n"
     ]
    },
    {
     "data": {
      "application/vnd.jupyter.widget-view+json": {
       "model_id": "e473c70d4b4147218a50d42f445b3020",
       "version_major": 2,
       "version_minor": 0
      },
      "text/plain": [
       "HBox(children=(HTML(value=''), FloatProgress(value=0.0, max=345997.0), HTML(value='')))"
      ]
     },
     "metadata": {},
     "output_type": "display_data"
    },
    {
     "name": "stdout",
     "output_type": "stream",
     "text": [
      "\n",
      "5 10\n",
      "6 (345996,)\n"
     ]
    },
    {
     "data": {
      "application/vnd.jupyter.widget-view+json": {
       "model_id": "f9f2d4411c11483ebf71506eae7049a2",
       "version_major": 2,
       "version_minor": 0
      },
      "text/plain": [
       "HBox(children=(HTML(value=''), FloatProgress(value=0.0, max=345996.0), HTML(value='')))"
      ]
     },
     "metadata": {},
     "output_type": "display_data"
    },
    {
     "name": "stdout",
     "output_type": "stream",
     "text": [
      "\n",
      "6 18\n",
      "7 (345996,)\n"
     ]
    },
    {
     "data": {
      "application/vnd.jupyter.widget-view+json": {
       "model_id": "aac53ef6f9c8489e9d41366b85933b20",
       "version_major": 2,
       "version_minor": 0
      },
      "text/plain": [
       "HBox(children=(HTML(value=''), FloatProgress(value=0.0, max=345996.0), HTML(value='')))"
      ]
     },
     "metadata": {},
     "output_type": "display_data"
    },
    {
     "name": "stdout",
     "output_type": "stream",
     "text": [
      "\n",
      "7 18\n",
      "8 (345996,)\n"
     ]
    },
    {
     "data": {
      "application/vnd.jupyter.widget-view+json": {
       "model_id": "b44b48dd0be24ed1830eb319b74bddfc",
       "version_major": 2,
       "version_minor": 0
      },
      "text/plain": [
       "HBox(children=(HTML(value=''), FloatProgress(value=0.0, max=345996.0), HTML(value='')))"
      ]
     },
     "metadata": {},
     "output_type": "display_data"
    },
    {
     "name": "stdout",
     "output_type": "stream",
     "text": [
      "\n",
      "8 9\n",
      "9 (345996,)\n"
     ]
    },
    {
     "data": {
      "application/vnd.jupyter.widget-view+json": {
       "model_id": "5b50685e4d69480290a737020f31d9b3",
       "version_major": 2,
       "version_minor": 0
      },
      "text/plain": [
       "HBox(children=(HTML(value=''), FloatProgress(value=0.0, max=345996.0), HTML(value='')))"
      ]
     },
     "metadata": {},
     "output_type": "display_data"
    },
    {
     "name": "stdout",
     "output_type": "stream",
     "text": [
      "\n",
      "9 13\n",
      "10 (345996,)\n"
     ]
    },
    {
     "data": {
      "application/vnd.jupyter.widget-view+json": {
       "model_id": "dd8c040d4fe5480a8e1c9a924d12dd66",
       "version_major": 2,
       "version_minor": 0
      },
      "text/plain": [
       "HBox(children=(HTML(value=''), FloatProgress(value=0.0, max=345996.0), HTML(value='')))"
      ]
     },
     "metadata": {},
     "output_type": "display_data"
    },
    {
     "name": "stdout",
     "output_type": "stream",
     "text": [
      "\n",
      "10 9\n",
      "11 (345996,)\n"
     ]
    },
    {
     "data": {
      "application/vnd.jupyter.widget-view+json": {
       "model_id": "733c12b59a804dc8b84725a6fe9ded12",
       "version_major": 2,
       "version_minor": 0
      },
      "text/plain": [
       "HBox(children=(HTML(value=''), FloatProgress(value=0.0, max=345996.0), HTML(value='')))"
      ]
     },
     "metadata": {},
     "output_type": "display_data"
    },
    {
     "name": "stdout",
     "output_type": "stream",
     "text": [
      "\n",
      "11 15\n"
     ]
    }
   ],
   "source": [
    "from tqdm import tqdm_notebook\n",
    "\n",
    "meta_file_test = '../data/plasticc/plasticc_test_metadata.csv.gz'\n",
    "metadata = pd.read_csv(meta_file_test)\n",
    "\n",
    "for batch_number in range(1, 12):\n",
    "    file = \"../data/plasticc/PLAsTiCC-2018/test_set_batch{}.csv\".format(batch_number)\n",
    "    data = pd.read_csv(file)\n",
    "\n",
    "    data = data[data.detected == 1]\n",
    "    object_ids = np.unique(data.object_id)\n",
    "    print(batch_number, object_ids.shape)\n",
    "    \n",
    "    data[\"log_lam\"] = data.apply(lambda x: passband2lam[x.passband], axis=1)\n",
    "    \n",
    "    good_objects_df = pd.DataFrame(columns=data.columns)\n",
    "\n",
    "    good_object_ids = []\n",
    "    for i in tqdm_notebook(object_ids):\n",
    "        anobject = get_object(data, i)\n",
    "    \n",
    "        if is_good(anobject):\n",
    "            good_object_ids.append(i)\n",
    "            good_objects_df = pd.concat([good_objects_df, anobject])\n",
    "    \n",
    "    print(batch_number, len(good_object_ids))\n",
    "    good_objects_df[\"class\"] = good_objects_df.apply(lambda x: \n",
    "            1 if int(metadata[metadata.object_id == x.object_id].true_target.to_numpy()[0]) \n",
    "                                                 in (90, 67, 52) else 0, axis=1)\n",
    "    \n",
    "    \n",
    "    good_objects_df.to_csv('../data/plasticc/good_objects.csv', mode='a', header=False)  \n",
    "        \n",
    "    del data\n",
    "    del object_ids\n",
    "    del good_object_ids\n",
    "    del good_objects_df"
   ]
  },
  {
   "cell_type": "code",
   "execution_count": 8,
   "metadata": {},
   "outputs": [
    {
     "name": "stdout",
     "output_type": "stream",
     "text": [
      "(1992,)\n"
     ]
    },
    {
     "data": {
      "text/html": [
       "<div>\n",
       "<style scoped>\n",
       "    .dataframe tbody tr th:only-of-type {\n",
       "        vertical-align: middle;\n",
       "    }\n",
       "\n",
       "    .dataframe tbody tr th {\n",
       "        vertical-align: top;\n",
       "    }\n",
       "\n",
       "    .dataframe thead th {\n",
       "        text-align: right;\n",
       "    }\n",
       "</style>\n",
       "<table border=\"1\" class=\"dataframe\">\n",
       "  <thead>\n",
       "    <tr style=\"text-align: right;\">\n",
       "      <th></th>\n",
       "      <th>object_id</th>\n",
       "      <th>mjd</th>\n",
       "      <th>passband</th>\n",
       "      <th>flux</th>\n",
       "      <th>flux_err</th>\n",
       "      <th>detected</th>\n",
       "      <th>log_lam</th>\n",
       "      <th>class</th>\n",
       "    </tr>\n",
       "  </thead>\n",
       "  <tbody>\n",
       "    <tr>\n",
       "      <th>537281</th>\n",
       "      <td>16917</td>\n",
       "      <td>60593.1287</td>\n",
       "      <td>1</td>\n",
       "      <td>46.911980</td>\n",
       "      <td>1.370294</td>\n",
       "      <td>1</td>\n",
       "      <td>3.675929</td>\n",
       "      <td>0</td>\n",
       "    </tr>\n",
       "    <tr>\n",
       "      <th>6629072</th>\n",
       "      <td>209931</td>\n",
       "      <td>59870.0459</td>\n",
       "      <td>4</td>\n",
       "      <td>107.189636</td>\n",
       "      <td>2.627374</td>\n",
       "      <td>1</td>\n",
       "      <td>3.938479</td>\n",
       "      <td>1</td>\n",
       "    </tr>\n",
       "    <tr>\n",
       "      <th>6947512</th>\n",
       "      <td>219870</td>\n",
       "      <td>60434.0115</td>\n",
       "      <td>4</td>\n",
       "      <td>32.411114</td>\n",
       "      <td>1.982084</td>\n",
       "      <td>1</td>\n",
       "      <td>3.938479</td>\n",
       "      <td>0</td>\n",
       "    </tr>\n",
       "    <tr>\n",
       "      <th>7719805</th>\n",
       "      <td>244335</td>\n",
       "      <td>60250.1708</td>\n",
       "      <td>2</td>\n",
       "      <td>12.785584</td>\n",
       "      <td>2.124709</td>\n",
       "      <td>1</td>\n",
       "      <td>3.790512</td>\n",
       "      <td>1</td>\n",
       "    </tr>\n",
       "    <tr>\n",
       "      <th>3505470</th>\n",
       "      <td>112444</td>\n",
       "      <td>59866.0438</td>\n",
       "      <td>4</td>\n",
       "      <td>36.240757</td>\n",
       "      <td>2.020582</td>\n",
       "      <td>1</td>\n",
       "      <td>3.938479</td>\n",
       "      <td>0</td>\n",
       "    </tr>\n",
       "    <tr>\n",
       "      <th>4976018</th>\n",
       "      <td>158318</td>\n",
       "      <td>60588.1666</td>\n",
       "      <td>0</td>\n",
       "      <td>19.051743</td>\n",
       "      <td>1.758840</td>\n",
       "      <td>1</td>\n",
       "      <td>3.574189</td>\n",
       "      <td>0</td>\n",
       "    </tr>\n",
       "    <tr>\n",
       "      <th>7429819</th>\n",
       "      <td>235172</td>\n",
       "      <td>60640.0656</td>\n",
       "      <td>3</td>\n",
       "      <td>586.982239</td>\n",
       "      <td>3.227352</td>\n",
       "      <td>1</td>\n",
       "      <td>3.875155</td>\n",
       "      <td>1</td>\n",
       "    </tr>\n",
       "    <tr>\n",
       "      <th>1348807</th>\n",
       "      <td>43398</td>\n",
       "      <td>60168.3157</td>\n",
       "      <td>4</td>\n",
       "      <td>188.441711</td>\n",
       "      <td>2.334626</td>\n",
       "      <td>1</td>\n",
       "      <td>3.938479</td>\n",
       "      <td>1</td>\n",
       "    </tr>\n",
       "    <tr>\n",
       "      <th>7961196</th>\n",
       "      <td>251965</td>\n",
       "      <td>59857.0931</td>\n",
       "      <td>2</td>\n",
       "      <td>146.236984</td>\n",
       "      <td>1.928173</td>\n",
       "      <td>1</td>\n",
       "      <td>3.790512</td>\n",
       "      <td>1</td>\n",
       "    </tr>\n",
       "    <tr>\n",
       "      <th>1342813</th>\n",
       "      <td>43208</td>\n",
       "      <td>59945.1032</td>\n",
       "      <td>4</td>\n",
       "      <td>32.090500</td>\n",
       "      <td>2.006571</td>\n",
       "      <td>1</td>\n",
       "      <td>3.938479</td>\n",
       "      <td>0</td>\n",
       "    </tr>\n",
       "  </tbody>\n",
       "</table>\n",
       "</div>"
      ],
      "text/plain": [
       "         object_id         mjd  passband        flux  flux_err  detected  \\\n",
       "537281       16917  60593.1287         1   46.911980  1.370294         1   \n",
       "6629072     209931  59870.0459         4  107.189636  2.627374         1   \n",
       "6947512     219870  60434.0115         4   32.411114  1.982084         1   \n",
       "7719805     244335  60250.1708         2   12.785584  2.124709         1   \n",
       "3505470     112444  59866.0438         4   36.240757  2.020582         1   \n",
       "4976018     158318  60588.1666         0   19.051743  1.758840         1   \n",
       "7429819     235172  60640.0656         3  586.982239  3.227352         1   \n",
       "1348807      43398  60168.3157         4  188.441711  2.334626         1   \n",
       "7961196     251965  59857.0931         2  146.236984  1.928173         1   \n",
       "1342813      43208  59945.1032         4   32.090500  2.006571         1   \n",
       "\n",
       "          log_lam  class  \n",
       "537281   3.675929      0  \n",
       "6629072  3.938479      1  \n",
       "6947512  3.938479      0  \n",
       "7719805  3.790512      1  \n",
       "3505470  3.938479      0  \n",
       "4976018  3.574189      0  \n",
       "7429819  3.875155      1  \n",
       "1348807  3.938479      1  \n",
       "7961196  3.790512      1  \n",
       "1342813  3.938479      0  "
      ]
     },
     "execution_count": 8,
     "metadata": {},
     "output_type": "execute_result"
    }
   ],
   "source": [
    "good_objects = pd.read_csv('../data/plasticc/good_objects.csv', index_col=0)\n",
    "print(np.unique(good_objects.object_id).shape)\n",
    "good_objects.sample(10)"
   ]
  },
  {
   "cell_type": "code",
   "execution_count": null,
   "metadata": {},
   "outputs": [],
   "source": []
  }
 ],
 "metadata": {
  "kernelspec": {
   "display_name": "Python 3",
   "language": "python",
   "name": "python3"
  },
  "language_info": {
   "codemirror_mode": {
    "name": "ipython",
    "version": 3
   },
   "file_extension": ".py",
   "mimetype": "text/x-python",
   "name": "python",
   "nbconvert_exporter": "python",
   "pygments_lexer": "ipython3",
   "version": "3.6.12"
  }
 },
 "nbformat": 4,
 "nbformat_minor": 4
}
