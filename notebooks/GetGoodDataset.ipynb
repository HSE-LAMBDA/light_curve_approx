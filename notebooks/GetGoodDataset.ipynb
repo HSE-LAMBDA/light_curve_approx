{
 "cells": [
  {
   "cell_type": "code",
   "execution_count": 1,
   "metadata": {},
   "outputs": [],
   "source": [
    "%matplotlib inline\n",
    "import numpy as np\n",
    "import pandas as pd\n",
    "\n",
    "import warnings\n",
    "warnings.filterwarnings(\"ignore\")\n",
    "\n",
    "N_PASSBANDS = 6"
   ]
  },
  {
   "cell_type": "code",
   "execution_count": 2,
   "metadata": {},
   "outputs": [],
   "source": [
    "passband2lam  = {0: np.log10(3751.36), 1: np.log10(4741.64), 2: np.log10(6173.23), \n",
    "                 3: np.log10(7501.62), 4: np.log10(8679.19), 5: np.log10(9711.53)}"
   ]
  },
  {
   "cell_type": "code",
   "execution_count": 3,
   "metadata": {},
   "outputs": [],
   "source": [
    "def get_object(data, object_id):\n",
    "    anobject = data[data.object_id == object_id]\n",
    "    return anobject"
   ]
  },
  {
   "cell_type": "code",
   "execution_count": 4,
   "metadata": {},
   "outputs": [],
   "source": [
    "def get_passband(anobject, passband):\n",
    "    light_curve = anobject[anobject.passband == passband]\n",
    "    return light_curve"
   ]
  },
  {
   "cell_type": "code",
   "execution_count": 5,
   "metadata": {},
   "outputs": [],
   "source": [
    "def is_good(anobject):\n",
    "    # remove all objects with negative flux values\n",
    "    if anobject['flux'].values.min() < 0:\n",
    "        return False\n",
    "    \n",
    "    # keep only objects with at least 3 observations in at least 3 passbands\n",
    "    count = 0\n",
    "    for passband in range(N_PASSBANDS):\n",
    "        if len(get_passband(anobject, passband)) < 3:\n",
    "            count += 1\n",
    "    if count > 3:\n",
    "        return False\n",
    "        \n",
    "    # keep only objects without large breaks in observations\n",
    "    anobject = anobject.sort_values('mjd')\n",
    "    mjd = anobject['mjd'].values\n",
    "    if np.diff(mjd, 1).max() > 50:\n",
    "        return False\n",
    "    \n",
    "    return True"
   ]
  },
  {
   "cell_type": "code",
   "execution_count": 6,
   "metadata": {},
   "outputs": [],
   "source": [
    "from tqdm import tqdm_notebook"
   ]
  },
  {
   "cell_type": "code",
   "execution_count": 7,
   "metadata": {},
   "outputs": [
    {
     "name": "stdout",
     "output_type": "stream",
     "text": [
      "(7848,)\n"
     ]
    },
    {
     "data": {
      "application/vnd.jupyter.widget-view+json": {
       "model_id": "35a3f245356441c6b081922023a4aa67",
       "version_major": 2,
       "version_minor": 0
      },
      "text/plain": [
       "HBox(children=(FloatProgress(value=0.0, max=7848.0), HTML(value='')))"
      ]
     },
     "metadata": {},
     "output_type": "display_data"
    },
    {
     "name": "stdout",
     "output_type": "stream",
     "text": [
      "\n",
      "1957\n"
     ]
    }
   ],
   "source": [
    "meta_file = '../data/plasticc/PLAsTiCC-2018/plasticc_train_metadata.csv.gz'\n",
    "metadata = pd.read_csv(meta_file)\n",
    "\n",
    "file = \"../data/plasticc/PLAsTiCC-2018/plasticc_train_lightcurves.csv.gz\"\n",
    "data = pd.read_csv(file)\n",
    "\n",
    "data = data[data.detected_bool == 1]\n",
    "object_ids = np.unique(data.object_id)\n",
    "print(object_ids.shape)\n",
    "    \n",
    "data[\"log_lam\"] = data.apply(lambda x: passband2lam[x.passband], axis=1)\n",
    "    \n",
    "good_objects_df = pd.DataFrame(columns=data.columns)\n",
    "\n",
    "good_object_ids = []\n",
    "for i in tqdm_notebook(object_ids):\n",
    "    anobject = get_object(data, i)\n",
    "\n",
    "    if is_good(anobject):\n",
    "        good_object_ids.append(i)\n",
    "        good_objects_df = pd.concat([good_objects_df, anobject])\n",
    "    \n",
    "print(len(good_object_ids))\n",
    "good_objects_df[\"class\"] = good_objects_df.apply(lambda x: \n",
    "       1 if int(metadata[metadata.object_id == x.object_id].target.to_numpy()[0]) \n",
    "                                             in (90, 67, 52) else 0, axis=1)\n",
    "\n",
    "good_objects_df.to_csv('../data/plasticc/good_objects.csv')\n",
    "\n",
    "del data\n",
    "del object_ids\n",
    "del good_object_ids\n",
    "del good_objects_df"
   ]
  },
  {
   "cell_type": "code",
   "execution_count": null,
   "metadata": {},
   "outputs": [
    {
     "name": "stdout",
     "output_type": "stream",
     "text": [
      "../data/plasticc/PLAsTiCC-2018/plasticc_test_lightcurves_01.csv.gz\n",
      "01 (32926,)\n"
     ]
    },
    {
     "data": {
      "application/vnd.jupyter.widget-view+json": {
       "model_id": "76dfbbe8b7674b5da8360971ad1f37fe",
       "version_major": 2,
       "version_minor": 0
      },
      "text/plain": [
       "HBox(children=(FloatProgress(value=0.0, max=32926.0), HTML(value='')))"
      ]
     },
     "metadata": {},
     "output_type": "display_data"
    },
    {
     "name": "stdout",
     "output_type": "stream",
     "text": [
      "\n",
      "01 11886\n",
      "../data/plasticc/PLAsTiCC-2018/plasticc_test_lightcurves_02.csv.gz\n",
      "02 (345997,)\n"
     ]
    },
    {
     "data": {
      "application/vnd.jupyter.widget-view+json": {
       "model_id": "6ebfc82ecbfa4dcfb7e972381016842b",
       "version_major": 2,
       "version_minor": 0
      },
      "text/plain": [
       "HBox(children=(FloatProgress(value=0.0, max=345997.0), HTML(value='')))"
      ]
     },
     "metadata": {},
     "output_type": "display_data"
    },
    {
     "name": "stdout",
     "output_type": "stream",
     "text": [
      "\n",
      "02 18669\n"
     ]
    }
   ],
   "source": [
    "from tqdm import tqdm_notebook\n",
    "\n",
    "meta_file_test = '../data/plasticc/PLAsTiCC-2018/plasticc_test_metadata.csv.gz'\n",
    "metadata = pd.read_csv(meta_file_test)\n",
    "\n",
    "for batch_number in ['01', '02', '03', '04', '05', '06', '07', '08', '09', '10', '11']:\n",
    "    file = \"../data/plasticc/PLAsTiCC-2018/plasticc_test_lightcurves_{}.csv.gz\".format(batch_number)\n",
    "    print(file)\n",
    "    data = pd.read_csv(file)\n",
    "\n",
    "    data = data[data.detected_bool == 1]\n",
    "    object_ids = np.unique(data.object_id)\n",
    "    print(batch_number, object_ids.shape)\n",
    "    \n",
    "    data[\"log_lam\"] = data.apply(lambda x: passband2lam[x.passband], axis=1)\n",
    "    \n",
    "    good_objects_df = pd.DataFrame(columns=data.columns)\n",
    "\n",
    "    good_object_ids = []\n",
    "    for i in tqdm_notebook(object_ids):\n",
    "        anobject = get_object(data, i)\n",
    "    \n",
    "        if is_good(anobject):\n",
    "            good_object_ids.append(i)\n",
    "            good_objects_df = pd.concat([good_objects_df, anobject])\n",
    "    \n",
    "    print(batch_number, len(good_object_ids))\n",
    "    good_objects_df[\"class\"] = good_objects_df.apply(lambda x: \n",
    "            1 if int(metadata[metadata.object_id == x.object_id].true_target.to_numpy()[0]) \n",
    "                                                 in (90, 67, 52) else 0, axis=1)\n",
    "    \n",
    "    \n",
    "    good_objects_df.to_csv('../data/plasticc/good_objects.csv', mode='a', header=False)  \n",
    "        \n",
    "    del data\n",
    "    del object_ids\n",
    "    del good_object_ids\n",
    "    del good_objects_df"
   ]
  },
  {
   "cell_type": "code",
   "execution_count": null,
   "metadata": {},
   "outputs": [],
   "source": [
    "good_objects = pd.read_csv('../data/plasticc/good_objects.csv', index_col=0)\n",
    "print(np.unique(good_objects.object_id).shape)\n",
    "good_objects.sample(10)"
   ]
  },
  {
   "cell_type": "code",
   "execution_count": 11,
   "metadata": {},
   "outputs": [
    {
     "data": {
      "text/html": [
       "<div>\n",
       "<style scoped>\n",
       "    .dataframe tbody tr th:only-of-type {\n",
       "        vertical-align: middle;\n",
       "    }\n",
       "\n",
       "    .dataframe tbody tr th {\n",
       "        vertical-align: top;\n",
       "    }\n",
       "\n",
       "    .dataframe thead th {\n",
       "        text-align: right;\n",
       "    }\n",
       "</style>\n",
       "<table border=\"1\" class=\"dataframe\">\n",
       "  <thead>\n",
       "    <tr style=\"text-align: right;\">\n",
       "      <th></th>\n",
       "      <th>object_id</th>\n",
       "      <th>mjd</th>\n",
       "      <th>passband</th>\n",
       "      <th>flux</th>\n",
       "      <th>flux_err</th>\n",
       "      <th>detected_bool</th>\n",
       "      <th>log_lam</th>\n",
       "      <th>class</th>\n",
       "    </tr>\n",
       "  </thead>\n",
       "  <tbody>\n",
       "    <tr>\n",
       "      <th>1568900</th>\n",
       "      <td>14416509</td>\n",
       "      <td>60400.0535</td>\n",
       "      <td>1</td>\n",
       "      <td>33.934093</td>\n",
       "      <td>5.306179</td>\n",
       "      <td>1</td>\n",
       "      <td>3.675929</td>\n",
       "      <td>1</td>\n",
       "    </tr>\n",
       "    <tr>\n",
       "      <th>8547057</th>\n",
       "      <td>270325</td>\n",
       "      <td>59679.0225</td>\n",
       "      <td>3</td>\n",
       "      <td>8.042412</td>\n",
       "      <td>1.939021</td>\n",
       "      <td>1</td>\n",
       "      <td>3.875155</td>\n",
       "      <td>0</td>\n",
       "    </tr>\n",
       "    <tr>\n",
       "      <th>7377496</th>\n",
       "      <td>233300</td>\n",
       "      <td>60403.0334</td>\n",
       "      <td>3</td>\n",
       "      <td>32.112743</td>\n",
       "      <td>2.306313</td>\n",
       "      <td>1</td>\n",
       "      <td>3.875155</td>\n",
       "      <td>1</td>\n",
       "    </tr>\n",
       "    <tr>\n",
       "      <th>24881055</th>\n",
       "      <td>99173179</td>\n",
       "      <td>60493.0856</td>\n",
       "      <td>2</td>\n",
       "      <td>51.211929</td>\n",
       "      <td>3.750323</td>\n",
       "      <td>1</td>\n",
       "      <td>3.790512</td>\n",
       "      <td>0</td>\n",
       "    </tr>\n",
       "    <tr>\n",
       "      <th>5912236</th>\n",
       "      <td>54672603</td>\n",
       "      <td>60029.2406</td>\n",
       "      <td>3</td>\n",
       "      <td>124.341766</td>\n",
       "      <td>3.898028</td>\n",
       "      <td>1</td>\n",
       "      <td>3.875155</td>\n",
       "      <td>0</td>\n",
       "    </tr>\n",
       "    <tr>\n",
       "      <th>16535645</th>\n",
       "      <td>70754240</td>\n",
       "      <td>60040.9894</td>\n",
       "      <td>4</td>\n",
       "      <td>110.979774</td>\n",
       "      <td>14.936048</td>\n",
       "      <td>1</td>\n",
       "      <td>3.938479</td>\n",
       "      <td>0</td>\n",
       "    </tr>\n",
       "    <tr>\n",
       "      <th>15183157</th>\n",
       "      <td>5443126</td>\n",
       "      <td>59788.4338</td>\n",
       "      <td>4</td>\n",
       "      <td>619.810852</td>\n",
       "      <td>16.085686</td>\n",
       "      <td>1</td>\n",
       "      <td>3.938479</td>\n",
       "      <td>0</td>\n",
       "    </tr>\n",
       "    <tr>\n",
       "      <th>34082543</th>\n",
       "      <td>10979587</td>\n",
       "      <td>59824.1221</td>\n",
       "      <td>3</td>\n",
       "      <td>107.776382</td>\n",
       "      <td>4.972433</td>\n",
       "      <td>1</td>\n",
       "      <td>3.875155</td>\n",
       "      <td>1</td>\n",
       "    </tr>\n",
       "    <tr>\n",
       "      <th>29843408</th>\n",
       "      <td>74676692</td>\n",
       "      <td>60591.0780</td>\n",
       "      <td>3</td>\n",
       "      <td>28.291510</td>\n",
       "      <td>4.219119</td>\n",
       "      <td>1</td>\n",
       "      <td>3.875155</td>\n",
       "      <td>0</td>\n",
       "    </tr>\n",
       "    <tr>\n",
       "      <th>22095237</th>\n",
       "      <td>20454996</td>\n",
       "      <td>60593.2945</td>\n",
       "      <td>2</td>\n",
       "      <td>59.950615</td>\n",
       "      <td>2.136940</td>\n",
       "      <td>1</td>\n",
       "      <td>3.790512</td>\n",
       "      <td>0</td>\n",
       "    </tr>\n",
       "  </tbody>\n",
       "</table>\n",
       "</div>"
      ],
      "text/plain": [
       "          object_id         mjd  passband        flux   flux_err  \\\n",
       "1568900    14416509  60400.0535         1   33.934093   5.306179   \n",
       "8547057      270325  59679.0225         3    8.042412   1.939021   \n",
       "7377496      233300  60403.0334         3   32.112743   2.306313   \n",
       "24881055   99173179  60493.0856         2   51.211929   3.750323   \n",
       "5912236    54672603  60029.2406         3  124.341766   3.898028   \n",
       "16535645   70754240  60040.9894         4  110.979774  14.936048   \n",
       "15183157    5443126  59788.4338         4  619.810852  16.085686   \n",
       "34082543   10979587  59824.1221         3  107.776382   4.972433   \n",
       "29843408   74676692  60591.0780         3   28.291510   4.219119   \n",
       "22095237   20454996  60593.2945         2   59.950615   2.136940   \n",
       "\n",
       "          detected_bool   log_lam  class  \n",
       "1568900               1  3.675929      1  \n",
       "8547057               1  3.875155      0  \n",
       "7377496               1  3.875155      1  \n",
       "24881055              1  3.790512      0  \n",
       "5912236               1  3.875155      0  \n",
       "16535645              1  3.938479      0  \n",
       "15183157              1  3.938479      0  \n",
       "34082543              1  3.875155      1  \n",
       "29843408              1  3.875155      0  \n",
       "22095237              1  3.790512      0  "
      ]
     },
     "execution_count": 11,
     "metadata": {},
     "output_type": "execute_result"
    }
   ],
   "source": [
    "good_objects.sample(10)"
   ]
  },
  {
   "cell_type": "code",
   "execution_count": null,
   "metadata": {},
   "outputs": [],
   "source": []
  }
 ],
 "metadata": {
  "kernelspec": {
   "display_name": "Python 3",
   "language": "python",
   "name": "python3"
  },
  "language_info": {
   "codemirror_mode": {
    "name": "ipython",
    "version": 3
   },
   "file_extension": ".py",
   "mimetype": "text/x-python",
   "name": "python",
   "nbconvert_exporter": "python",
   "pygments_lexer": "ipython3",
   "version": "3.8.3"
  }
 },
 "nbformat": 4,
 "nbformat_minor": 4
}
