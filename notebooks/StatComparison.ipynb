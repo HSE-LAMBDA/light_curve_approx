{
 "cells": [
  {
   "cell_type": "code",
   "execution_count": 1,
   "metadata": {},
   "outputs": [],
   "source": [
    "%matplotlib inline\n",
    "import matplotlib.pyplot as plt\n",
    "import numpy as np\n",
    "import pandas as pd\n",
    "import h5py\n",
    "import tqdm\n",
    "\n",
    "import warnings\n",
    "warnings.filterwarnings(\"ignore\")\n",
    "\n",
    "import regressor, rbfnet_aug\n",
    "import utils"
   ]
  },
  {
   "cell_type": "code",
   "execution_count": 2,
   "metadata": {},
   "outputs": [],
   "source": [
    "metadata = pd.read_csv('../data/plasticc/plasticc_train_metadata.csv.gz')\n",
    "data = pd.read_csv('../data/plasticc/plasticc_train_lightcurves.csv.gz')\n",
    "\n",
    "data = data[data.detected_bool == 1]\n",
    "\n",
    "object_ids = np.unique(data.object_id)\n",
    "\n",
    "passband2name = {0: 'u', 1: 'g', 2: 'r', 3: 'i', 4: 'z', 5: 'y'}\n",
    "passband2lam  = {0: np.log10(3751.36), 1: np.log10(4741.64), 2: np.log10(6173.23), \n",
    "                 3: np.log10(7501.62), 4: np.log10(8679.19), 5: np.log10(9711.53)}"
   ]
  },
  {
   "cell_type": "code",
   "execution_count": 3,
   "metadata": {},
   "outputs": [],
   "source": [
    "def get_object(data, object_id):\n",
    "    anobject = data[data.object_id == object_id]\n",
    "    return anobject\n",
    "\n",
    "def get_passband(anobject, passband):\n",
    "    light_curve = anobject[anobject.passband == passband]\n",
    "    return light_curve\n",
    "\n",
    "def add_log_lam(anobject):\n",
    "    passbands = anobject.passband.values\n",
    "    log_lam = [passband2lam[i] for i in passbands]\n",
    "    anobject['log_lam'] = log_lam\n",
    "    return anobject\n",
    "\n",
    "def compile_obj(t, flux, flux_err, passband):\n",
    "    obj = pd.DataFrame()\n",
    "    obj['mjd']      = t\n",
    "    obj['flux']     = flux\n",
    "    obj['flux_err'] = flux_err\n",
    "    obj['passband'] = passband\n",
    "    return obj\n",
    "\n",
    "def create_approx_object(anobject, n=1000):\n",
    "    mjd = anobject['mjd'].values\n",
    "    dfs = []\n",
    "    for passband in range(6):\n",
    "        df = pd.DataFrame()\n",
    "        df['mjd'] = np.linspace(mjd.min(), mjd.max(), n)\n",
    "        df['object_id'] = 0\n",
    "        df['passband'] = passband\n",
    "        df['flux'] = 0\n",
    "        df['flux_err'] = 0\n",
    "        df['detected_bool'] = 1\n",
    "        dfs.append(df)\n",
    "    new_object = pd.concat(dfs, axis=0)\n",
    "    new_object = add_log_lam(new_object)\n",
    "    return new_object\n",
    "\n",
    "def is_good(anobject):\n",
    "    good = 1\n",
    "    \n",
    "    # remove all objects with negative flux values\n",
    "    if anobject['flux'].values.min() < 0:\n",
    "        good = 0\n",
    "    \n",
    "    # keep only objects with at least 10 observations in at least 3 passbands\n",
    "    count = 0\n",
    "    for passband in range(6):\n",
    "        if len(get_passband(anobject, passband)) < 10:\n",
    "            count += 1\n",
    "    if count > 3:\n",
    "        good = 0\n",
    "        \n",
    "    # keep only objects without large breaks in observations\n",
    "    anobject = anobject.sort_values('mjd')\n",
    "    mjd = anobject['mjd'].values\n",
    "    if np.diff(mjd, 1).max() > 50:\n",
    "        good = 0\n",
    "    \n",
    "    return good\n",
    "\n",
    "def plot_light_curves(anobject, title=\"\"):\n",
    "    anobject = anobject.sort_values('mjd')\n",
    "    plt.figure(figsize=(9, 4))\n",
    "    for passband in range(6):\n",
    "        light_curve = get_passband(anobject, passband)\n",
    "        plt.plot(light_curve['mjd'].values, light_curve['flux'].values, linewidth=0.5)\n",
    "        plt.scatter(light_curve['mjd'].values, light_curve['flux'].values, label=passband2name[passband], linewidth=1)\n",
    "    plt.xlabel('Modified Julian Date', size=14)\n",
    "    plt.xticks(size=14)\n",
    "    plt.ylabel('Flux', size=14)\n",
    "    plt.yticks(size=14)\n",
    "    plt.grid()\n",
    "    plt.legend(loc='best', ncol=3, fontsize=14)\n",
    "    plt.title(title, size=14)"
   ]
  },
  {
   "cell_type": "code",
   "execution_count": 4,
   "metadata": {},
   "outputs": [],
   "source": [
    "from sklearn.model_selection import train_test_split\n",
    "good_object_ids = [idx for idx in object_ids if is_good(get_object(data, idx))]"
   ]
  },
  {
   "cell_type": "code",
   "execution_count": 5,
   "metadata": {},
   "outputs": [
    {
     "data": {
      "application/vnd.jupyter.widget-view+json": {
       "model_id": "f43d3fc917cf432aa2c565dcbeb3f494",
       "version_major": 2,
       "version_minor": 0
      },
      "text/plain": [
       "HBox(children=(FloatProgress(value=0.0, max=516.0), HTML(value='')))"
      ]
     },
     "metadata": {},
     "output_type": "display_data"
    },
    {
     "name": "stdout",
     "output_type": "stream",
     "text": [
      "\n"
     ]
    },
    {
     "data": {
      "text/plain": [
       "ID      340898.23\n",
       "RMSE        25.63\n",
       "MAE         14.25\n",
       "RSE          0.24\n",
       "RAE          0.20\n",
       "MAPE        24.05\n",
       "dtype: float64"
      ]
     },
     "execution_count": 5,
     "metadata": {},
     "output_type": "execute_result"
    }
   ],
   "source": [
    "MODEL = 'GP'\n",
    "gp_report = pd.DataFrame(columns=[\"ID\", 'RMSE', 'MAE', 'RSE', 'RAE', 'MAPE'])\n",
    "\n",
    "for i in tqdm.tqdm_notebook(good_object_ids):\n",
    "    \n",
    "    # get an object\n",
    "    anobject = get_object(data, i)\n",
    "    anobject = add_log_lam(anobject)\n",
    "    \n",
    "    # train / test split\n",
    "    anobject_train, anobject_test = train_test_split(anobject, test_size=0.5, random_state=11)\n",
    "    \n",
    "    X_train = anobject_train[['mjd', 'log_lam']].values\n",
    "    X_test  = anobject_test[['mjd', 'log_lam']].values\n",
    "\n",
    "    y_train = anobject_train['flux'].values\n",
    "    y_test  = anobject_test['flux'].values\n",
    "\n",
    "    from sklearn.preprocessing import StandardScaler\n",
    "    ss = StandardScaler()\n",
    "    X_train_ss = ss.fit_transform(X_train)\n",
    "    X_test_ss = ss.transform(X_test)\n",
    "\n",
    "    # fit a regression model to approximate light curves\n",
    "    if MODEL == \"XGB\":\n",
    "        from xgboost import XGBRegressor\n",
    "        reg = XGBRegressor(n_estimators=100, learning_rate=0.1, max_depth=6, objective='reg:squarederror')\n",
    "    elif MODEL == \"NN\":\n",
    "        reg = regressor.FitNNRegressor(n_hidden=100, n_epochs=100, batch_size=1, lr=0.01, lam=0.01, optimizer='Adam')\n",
    "    elif MODEL == \"Linear\":\n",
    "        from sklearn.linear_model import LinearRegression\n",
    "        reg = LinearRegression()\n",
    "    elif MODEL == \"GP\":\n",
    "        from sklearn.gaussian_process import GaussianProcessRegressor\n",
    "        from sklearn.gaussian_process.kernels import RBF, Matern, RationalQuadratic, WhiteKernel, ConstantKernel as C\n",
    "        kernel = C(1.0) * RBF([1.0, 1.0]) + WhiteKernel()\n",
    "        reg = GaussianProcessRegressor(kernel=kernel, normalize_y=True, n_restarts_optimizer=0, optimizer=\"fmin_l_bfgs_b\", random_state=42)\n",
    "\n",
    "    reg.fit(X_train_ss, y_train)\n",
    "\n",
    "    \n",
    "    # predict flux for unseen observations\n",
    "    anobject_test_pred = anobject_test.copy()\n",
    "    anobject_test_pred['flux'] = np.maximum(reg.predict(X_test_ss), 0)\n",
    "    \n",
    "    metrics = utils.regression_quality_metrics_report(anobject_test['flux'].values, anobject_test_pred['flux'].values)\n",
    "    gp_report.loc[len(gp_report), :] = [i] + list(metrics)\n",
    "np.round(gp_report.mean(), 2)"
   ]
  },
  {
   "cell_type": "code",
   "execution_count": 6,
   "metadata": {},
   "outputs": [
    {
     "data": {
      "application/vnd.jupyter.widget-view+json": {
       "model_id": "c54b315b80de4311a7d0c5b074d16049",
       "version_major": 2,
       "version_minor": 0
      },
      "text/plain": [
       "HBox(children=(FloatProgress(value=0.0, max=516.0), HTML(value='')))"
      ]
     },
     "metadata": {},
     "output_type": "display_data"
    },
    {
     "name": "stdout",
     "output_type": "stream",
     "text": [
      "\n"
     ]
    },
    {
     "data": {
      "text/plain": [
       "ID      340898.23\n",
       "RMSE        21.21\n",
       "MAE         12.41\n",
       "RSE          0.25\n",
       "RAE          0.20\n",
       "MAPE        17.33\n",
       "dtype: float64"
      ]
     },
     "execution_count": 6,
     "metadata": {},
     "output_type": "execute_result"
    }
   ],
   "source": [
    "nn_report = pd.DataFrame(columns=[\"ID\", 'RMSE', 'MAE', 'RSE', 'RAE', 'MAPE'])\n",
    "\n",
    "for i in tqdm.tqdm_notebook(good_object_ids):\n",
    "    \n",
    "    # get an object\n",
    "    anobject = get_object(data, i)\n",
    "    anobject = add_log_lam(anobject)\n",
    "    \n",
    "    # train / test split\n",
    "    anobject_train, anobject_test = train_test_split(anobject, test_size=0.5, random_state=11)\n",
    "    \n",
    "    X_train = anobject_train[['mjd', 'log_lam']].values\n",
    "    X_test  = anobject_test[['mjd', 'log_lam']].values\n",
    "\n",
    "    y_train = anobject_train['flux'].values\n",
    "    y_test  = anobject_test['flux'].values\n",
    "\n",
    "    from sklearn.pipeline import make_pipeline\n",
    "    from sklearn.preprocessing import StandardScaler, PolynomialFeatures\n",
    "\n",
    "    ss = StandardScaler()\n",
    "    X_train_ss = ss.fit_transform(X_train)\n",
    "    X_test_ss = ss.transform(X_test)\n",
    "\n",
    "    # fit a regression model to approximate light curves\n",
    "    reg = regressor.FitNNRegressor(n_hidden=300, n_epochs=200, batch_size=200, lr=0.1, lam=0.1, optimizer='Adam', debug=0)\n",
    "\n",
    "    reg.fit(X_train_ss, y_train)\n",
    "\n",
    "    \n",
    "    # predict flux for unseen observations\n",
    "    anobject_test_pred = anobject_test.copy()\n",
    "    anobject_test_pred['flux'] = np.maximum(reg.predict(X_test_ss), 0)\n",
    "    \n",
    "    metrics = utils.regression_quality_metrics_report(anobject_test['flux'].values, anobject_test_pred['flux'].values)\n",
    "    nn_report.loc[len(nn_report), :] = [i] + list(metrics)\n",
    "np.round(nn_report.mean(), 2)"
   ]
  },
  {
   "cell_type": "code",
   "execution_count": 7,
   "metadata": {},
   "outputs": [
    {
     "data": {
      "application/vnd.jupyter.widget-view+json": {
       "model_id": "2eaf521577824d2fa9207b80d08a1e8c",
       "version_major": 2,
       "version_minor": 0
      },
      "text/plain": [
       "HBox(children=(FloatProgress(value=0.0, max=516.0), HTML(value='')))"
      ]
     },
     "metadata": {},
     "output_type": "display_data"
    },
    {
     "name": "stdout",
     "output_type": "stream",
     "text": [
      "\n"
     ]
    },
    {
     "data": {
      "text/plain": [
       "ID      340898.23\n",
       "RMSE        24.05\n",
       "MAE         13.20\n",
       "RSE          0.26\n",
       "RAE          0.20\n",
       "MAPE        21.50\n",
       "dtype: float64"
      ]
     },
     "execution_count": 7,
     "metadata": {},
     "output_type": "execute_result"
    }
   ],
   "source": [
    "rbf_report = pd.DataFrame(columns=[\"ID\", 'RMSE', 'MAE', 'RSE', 'RAE', 'MAPE'])\n",
    "\n",
    "for i in tqdm.notebook.tqdm(good_object_ids):\n",
    "    \n",
    "    # get an object\n",
    "    anobject = get_object(data, i)\n",
    "    \n",
    "    # train / test split\n",
    "    anobject_train, anobject_test = train_test_split(anobject, test_size=0.5, random_state=11)    \n",
    "    \n",
    "    # fit augmentation model\n",
    "    model = rbfnet_aug.RBFNetAugmentation(passband2lam, n_hidden=300, lam=0., n_epochs=300, lr=0.01, batch_size=100)\n",
    "    model.fit(anobject_train['mjd'].values, anobject_train['flux'].values, \n",
    "              anobject_train['flux_err'].values, anobject_train['passband'].values)\n",
    "    \n",
    "    # predict flux for unseen observations\n",
    "    flux_pred, flux_err_pred = model.predict(anobject_test['mjd'].values, anobject_test['passband'].values, copy=True)\n",
    "    anobject_test_pred = compile_obj(anobject_test['mjd'].values, flux_pred, \n",
    "                                     flux_err_pred, anobject_test['passband'].values)\n",
    "    metrics = utils.regression_quality_metrics_report(anobject_test['flux'].values, \n",
    "                                                      anobject_test_pred['flux'].values)\n",
    "    rbf_report.loc[len(rbf_report), :] = [i] + list(metrics)\n",
    "np.round(rbf_report.mean(), 2)"
   ]
  },
  {
   "cell_type": "code",
   "execution_count": 8,
   "metadata": {},
   "outputs": [],
   "source": [
    "from scipy.stats import wilcoxon\n",
    "\n",
    "def bootstrap_estimate_mean_stddev(arr, n_samples=10000):\n",
    "    arr = np.array(arr)\n",
    "    bs_samples = np.random.randint(0, len(arr), size=(n_samples, len(arr)))\n",
    "    bs_samples = arr[bs_samples].mean(axis=1)\n",
    "    sigma = np.sqrt(np.sum((bs_samples - bs_samples.mean())**2) / (n_samples - 1))\n",
    "    return sigma\n",
    "\n",
    "def wilcoxon_pvalue(arr1, arr2):\n",
    "    return wilcoxon(arr1, arr2).pvalue"
   ]
  },
  {
   "cell_type": "code",
   "execution_count": 9,
   "metadata": {},
   "outputs": [
    {
     "name": "stdout",
     "output_type": "stream",
     "text": [
      "Metrics for GP:\n",
      "RMSE 25.634116604170423 7.1947785501488575\n",
      "MAE 14.251705022145114 2.8571275425041107\n",
      "RSE 0.24219130298576624 0.0065613634281743724\n",
      "RAE 0.19893157397694908 0.004838990906652575\n",
      "MAPE 24.046133457430784 0.8938127174865704\n",
      "\n",
      "Metrics for NN:\n",
      "RMSE 21.205725934744326 2.0011275920135323\n",
      "MAE 12.414494605048738 0.9879031474419907\n",
      "RSE 0.24596566403507372 0.006186012954201068\n",
      "RAE 0.19589340179161066 0.004422449915219753\n",
      "MAPE 17.33137969500921 0.5554812260187847\n",
      "\n",
      "Metrics for RBF-NN:\n",
      "RMSE 24.05000184900654 4.434749462580905\n",
      "MAE 13.196447699363711 2.2772838830344124\n",
      "RSE 0.26159485162812607 0.00721724338645648\n",
      "RAE 0.20122066839035116 0.005203010341891302\n",
      "MAPE 21.498071616272448 0.881985642713811\n",
      "\n",
      "p-values for GP and NN:\n",
      "RMSE 0.02886710264518012\n",
      "MAE 0.6223375170117899\n",
      "RSE 0.23455500723305767\n",
      "RAE 0.21946322240155725\n",
      "MAPE 3.616705834635243e-27\n",
      "\n",
      "p-values for GP and RBF-NN:\n",
      "RMSE 0.0023317232104010694\n",
      "MAE 0.5072573365515203\n",
      "RSE 0.00011487867416114932\n",
      "RAE 0.7425650192486195\n",
      "MAPE 8.727055407764948e-09\n",
      "\n",
      "p-values for NN and RBF-NN:\n",
      "RMSE 0.3418316419934049\n",
      "MAE 0.3317375702220745\n",
      "RSE 0.0024177833867104126\n",
      "RAE 0.12766797061506502\n",
      "MAPE 1.6584496996928296e-10\n",
      "\n"
     ]
    }
   ],
   "source": [
    "reports = [gp_report.drop('ID', axis=1),\n",
    "           nn_report.drop('ID', axis=1),\n",
    "           rbf_report.drop('ID', axis=1)]\n",
    "\n",
    "names = ['GP', 'NN', 'RBF-NN']\n",
    "columns = ['RMSE', 'MAE', 'RSE', 'RAE', 'MAPE']\n",
    "\n",
    "for i in range(3):\n",
    "    print(f'Metrics for {names[i]}:')\n",
    "    for col in columns:\n",
    "        print(\n",
    "            col, reports[i][col].values.mean(),\n",
    "            bootstrap_estimate_mean_stddev(reports[i][col].values)\n",
    "        )\n",
    "    print()\n",
    "\n",
    "for i in range(3):\n",
    "    for j in range(3):\n",
    "        if i >= j:\n",
    "            continue\n",
    "        print(f'p-values for {names[i]} and {names[j]}:')\n",
    "        for col in columns:\n",
    "            pval = wilcoxon_pvalue(reports[i][col], reports[j][col])\n",
    "            print(col, pval)\n",
    "        print()"
   ]
  },
  {
   "cell_type": "code",
   "execution_count": null,
   "metadata": {},
   "outputs": [],
   "source": []
  }
 ],
 "metadata": {
  "kernelspec": {
   "display_name": "Python 3",
   "language": "python",
   "name": "python3"
  },
  "language_info": {
   "codemirror_mode": {
    "name": "ipython",
    "version": 3
   },
   "file_extension": ".py",
   "mimetype": "text/x-python",
   "name": "python",
   "nbconvert_exporter": "python",
   "pygments_lexer": "ipython3",
   "version": "3.8.3"
  }
 },
 "nbformat": 4,
 "nbformat_minor": 4
}
